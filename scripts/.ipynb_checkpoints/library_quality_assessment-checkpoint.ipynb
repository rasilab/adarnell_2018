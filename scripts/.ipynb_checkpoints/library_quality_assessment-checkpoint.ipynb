{
 "cells": [
  {
   "cell_type": "markdown",
   "metadata": {},
   "source": [
    "# Raw sequencing data quality assessment : ribosome profiling libraries\n",
    " <p><div class=\"lev1 toc-item\"><a href=\"#Calculate-coverage-for-igv\" ><span class=\"toc-item-num\">1&nbsp;&nbsp;</span>Calculate coverage for igv</a></div><div class=\"lev1 toc-item\"><a href=\"#Extract-ribosome-profiling-library-stats\"><span class=\"toc-item-num\">2&nbsp;&nbsp;</span>Extract ribosome profiling library stats</a></div><div class=\"lev1 toc-item\"><a href=\"#Calculate-start/stop-codon-density\" ><span class=\"toc-item-num\">3&nbsp;&nbsp;</span>Calculate start/stop codon density</a></div><div class=\"lev1 toc-item\"><a href=\"#Plot-library-quality-stats-(supp.-fig.-1e-g)\" ><span class=\"toc-item-num\">4&nbsp;&nbsp;</span>Plot library quality stats (supp. fig. 1e-g)</a></div>"
   ]
  },
  {
   "cell_type": "markdown",
   "metadata": {},
   "source": [
    "# Calculate coverage for igv"
   ]
  },
  {
   "cell_type": "code",
   "execution_count": null,
   "metadata": {
    "collapsed": true
   },
   "outputs": [],
   "source": [
    "# for handling htseq alignments\n",
    "library(GenomicAlignments)\n",
    "# for string concatenation\n",
    "library(glue)\n",
    "# for string analysis\n",
    "library(stringr)\n",
    "# for tab data manipulation\n",
    "library(tidyverse)\n",
    "# for converting bioC to tidy objects\n",
    "library(biobroom)\n",
    "\n",
    "## 'parallel=TRUE' runs the MAP step in parallel and is currently\n",
    "## implemented for Unix/Mac only.\n",
    "register(MulticoreParam(8))\n",
    "\n",
    "setwd(\"scripts/\")\n",
    "\n",
    "args <- commandArgs(trailingOnly=TRUE)\n",
    "sample <- args[1]\n",
    "reference <- args[2]\n",
    "coord <- args[3]\n",
    "inputstrand <- args[4]\n",
    "\n",
    "# sample <- \"hct116_rich_3h\"\n",
    "# reference <- \"gencode\"\n",
    "# coord <- \"genome\"\n",
    "# strand <- \"plus\"\n",
    "outputdir <- \"../coverage/\"\n",
    "\n",
    "min_read_length <- 25\n",
    "max_read_length <- 40\n",
    "# set read length dependent trimming from 5' end of read\n",
    "left.trim  <- c(rep(12, 8), rep(13, 8))\n",
    "names(left.trim) <- as.character(seq(min_read_length, max_read_length))\n",
    "# set read length dependent trimming from 3' end of read\n",
    "right.trim <- c(rep(12, 8), rep(13, 8))\n",
    "names(right.trim) <- as.character(seq(min_read_length, max_read_length))\n",
    "\n",
    "# open alignments file\n",
    "bamfile <- BamFile(glue('../processeddata/{sample}/',\n",
    "                  '{reference}.{coord}.sorted.bam'))\n",
    "\n",
    "if (inputstrand == \"plus\") {\n",
    "  flag = scanBamFlag(isMinusStrand = F)\n",
    "} \n",
    "if (inputstrand == \"minus\") {\n",
    "  flag = scanBamFlag(isMinusStrand = T)\n",
    "} \n",
    "# retrieve alignments along with the RSEM posterior probability\n",
    "alns <- readGAlignments(bamfile, param = ScanBamParam(tag = 'ZW', flag = flag))\n",
    "# keep only alignments with ZW > 0\n",
    "alns <- alns[mcols(alns)$ZW > 0.01]\n",
    "\n",
    "# length of query\n",
    "alnLength <- qwidth(alns)\n",
    "# how much to trim on left side, used only for 5' trimming or both side trimming\n",
    "# alnLeftTrim <- left.trim[as.character(alnLength)]\n",
    "# how much to trim on right side, used only for 3' trimming or both side trimming\n",
    "alnRightTrim <- right.trim[as.character(alnLength)]\n",
    "# uncomment this if you want to trim from 5' side\n",
    "# alnRightTrim <- alnLength - alnLeftTrim - 1\n",
    "# uncomment this if you want to trim from 3' side\n",
    "alnLeftTrim <- alnLength - alnRightTrim - 1\n",
    "# Width of remaining alignment\n",
    "alnWidth <- alnLength - alnLeftTrim - alnRightTrim\n",
    "# Subset to alignments that have positive trimmed length\n",
    "alnGood <- alnWidth > 0 & alnLength >= min_read_length & alnLength <= max_read_length\n",
    "if (length(alns[alnGood]) > 0) {\n",
    "  alnStart <- ifelse(\n",
    "    strand(alns[alnGood]) == \"+\",\n",
    "    # trim by left.trim if aln is on + strand\n",
    "    alnLeftTrim[alnGood] + 1,\n",
    "    # trim by right.trim if aln is on - strand\n",
    "    alnRightTrim[alnGood] + 1)\n",
    "  psites <- qnarrow(alns[alnGood],\n",
    "                    start = alnStart,\n",
    "                    width = alnWidth[alnGood])\n",
    "} else {\n",
    "  # return empty range if no aln pass the above checks\n",
    "  psites <- GRanges()\n",
    "}\n",
    "\n",
    "mcols(psites)$weighted_ZW <- mcols(psites)$ZW / qwidth(psites)\n",
    "\n",
    "# calculate coverage weighted by ZW score from rsem\n",
    "cvg <- coverage(psites, weight = mcols(psites)$weighted_ZW)\n",
    "  \n",
    "cvg %>% \n",
    "  GRanges() %>% \n",
    "  tidy() %>% \n",
    "  mutate(strand = if_else(inputstrand == \"plus\", \"+\", \"-\")) %>% \n",
    "  mutate(score = round(score, 3)) %>% \n",
    "  select(-width) %>% \n",
    "  write_tsv(glue(\"{outputdir}/{reference}/\",\n",
    "                 \"{sample}.{reference}.{inputstrand}.{coord}.tsv\"))\n",
    "\n",
    "message(glue(\"exported {sample} {reference} {coord} {inputstrand}.\\n\"))"
   ]
  },
  {
   "cell_type": "markdown",
   "metadata": {},
   "source": [
    "# Extract ribosome profiling library stats"
   ]
  },
  {
   "cell_type": "markdown",
   "metadata": {},
   "source": [
    "## Import libraries"
   ]
  },
  {
   "cell_type": "code",
   "execution_count": null,
   "metadata": {
    "collapsed": true
   },
   "outputs": [],
   "source": [
    "# for string concatenation\n",
    "library(glue)\n",
    "# for string analysis\n",
    "library(stringr)\n",
    "# for reading annotation and coverage file formats\n",
    "library(rtracklayer)\n",
    "# for handling htseq alignments\n",
    "library(GenomicAlignments)\n",
    "# for handling genomic annotations\n",
    "library(GenomicFeatures)\n",
    "# for sampling from alignment files\n",
    "library(GenomicFiles)\n",
    "# for converting between bioconductor aGnd tidyverse\n",
    "library(biobroom)\n",
    "# for biconductor tidyverse interface\n",
    "library(plyranges)\n",
    "# for munging data\n",
    "library(tidyverse)"
   ]
  },
  {
   "cell_type": "markdown",
   "metadata": {},
   "source": [
    "## Plotting defaults"
   ]
  },
  {
   "cell_type": "code",
   "execution_count": null,
   "metadata": {
    "collapsed": true
   },
   "outputs": [],
   "source": [
    "cellline <- \"hct116\" \n",
    "\n",
    "# color blind palette\n",
    "# http://www.cookbook-r.com/Graphs/Colors_(ggplot2)/#a-colorblind-friendly-palette\n",
    "cbPalette <- c(\"#666666\", \"#E69F00\", \"#56B4E9\", \"#009E73\", \"#CC79A7\", \"#0072B2\", \n",
    "    \"#D55E00\", \"#F0E442\")\n",
    "\n",
    "theme_set(theme_classic(base_family = \"Helvetica\", base_size = 8) +\n",
    "theme(          \n",
    "  strip.background = element_blank(),\n",
    "  legend.text = element_text(size = 8),\n",
    "  strip.text.x = element_text(size = 8),\n",
    "  axis.line = element_line(size=.25),\n",
    "  plot.title = element_text(size = 8, hjust = 0.5)\n",
    "))\n",
    "\n",
    "min_read_length_cutoff <- 20\n",
    "\n",
    "sample_selection_strings <- c(\n",
    "  \"hela\" = \"(hela.*_(arg|leu|rich)_.*mono)\",\n",
    "  \"293t\" = \"293t_wt_(arg|leu|rich)_3h\",\n",
    "  \"hct116\"  = \"hct116\"\n",
    ")\n",
    "\n",
    "celllinenames <- c(\n",
    "  '293t' = '293T',\n",
    "  'hct116' = 'HCT116',\n",
    "  'hela' = 'HeLa'\n",
    ")\n",
    "\n",
    "starvnames <- c(\n",
    "  'arg' = '–Arg',\n",
    "  'leu' = \"–Leu\",\n",
    "  'rich' = \"Rich\"\n",
    ")"
   ]
  },
  {
   "cell_type": "markdown",
   "metadata": {},
   "source": [
    "## Extract trimming statistics"
   ]
  },
  {
   "cell_type": "code",
   "execution_count": null,
   "metadata": {
    "collapsed": true
   },
   "outputs": [],
   "source": [
    "trim_stats <- list.files(\"../processeddata/\", recursive = T,\n",
    "                   full.names = T) %>% \n",
    "  # get log files \n",
    "  str_subset(\"trim.fq.log\") %>% \n",
    "  # extract samplename from filename\n",
    "  setNames(str_extract(., \"(?<=processeddata/{1,2})[^/]+\")) %>% \n",
    "  # read file contents\n",
    "  map(read_file) %>% \n",
    "  # convert listcol to stringcol\n",
    "  unlist() %>% \n",
    "  # convert to tibble with nice col names\n",
    "  enframe(\"sample\", \"data\") %>% \n",
    "  # extract input reads \n",
    "  mutate(input_reads = str_extract(data, \"(?<=Total reads processed:\\\\s{1,20})[^\\\\s]+\")) %>% \n",
    "  # extract reads with adapters that pass length filter\n",
    "  mutate(trimmed_reads = str_extract(data, \"(?<=filters\\\\):\\\\s{1,20})[^\\\\s]+\")) %>% \n",
    "  # convert extracted columns to numbers\n",
    "  type_convert() %>% \n",
    "  mutate(trimmed_read_fraction = trimmed_reads / input_reads * 100) %>% \n",
    "  # get rid of unwanted cols\n",
    "  select(-data, -trimmed_reads) %>% \n",
    "  print()\n",
    "  \n",
    "trim_stats %>% \n",
    "  gather(read_type, counts, -sample) %>% \n",
    "  ggplot(aes(x = sample, y = counts)) +\n",
    "  facet_wrap(~ read_type, scales = \"free_x\") +\n",
    "  theme(strip.placement = \"outside\") +\n",
    "  geom_point() +\n",
    "  coord_flip() +\n",
    "  scale_y_continuous(position = \"top\", limits = c(0, NA)) \n",
    "\n",
    "ggsave(\"../figures/read_trimming_stats.pdf\")"
   ]
  },
  {
   "cell_type": "markdown",
   "metadata": {},
   "source": [
    "## Extract rRNA subtraction statistics"
   ]
  },
  {
   "cell_type": "code",
   "execution_count": null,
   "metadata": {
    "collapsed": true
   },
   "outputs": [],
   "source": [
    "rrna_stats <- list.files(\"../processeddata/\", recursive = T,\n",
    "                   full.names = T) %>% \n",
    "  # get log files \n",
    "  str_subset(\"norrna.fq.log\") %>% \n",
    "  # extract samplename from filename\n",
    "  setNames(str_extract(., \"(?<=processeddata/{1,2})[^/]+\")) %>% \n",
    "  # read file contents\n",
    "  map(read_file) %>% \n",
    "  # convert listcol to stringcol\n",
    "  unlist() %>% \n",
    "  # convert to tibble with nice col names\n",
    "  enframe(\"sample\", \"data\") %>% \n",
    "  # extract total reads \n",
    "  mutate(input_reads = str_extract(data, \"(?<=reads processed:\\\\s{1,20})[^\\\\s]+\")) %>% \n",
    "  # extract reads with adapters that pass length filter\n",
    "  mutate(rrna_reads = str_extract(data, \"(?<=at least one reported alignment:\\\\s{1,20})[^\\\\s]+\")) %>% \n",
    "  # convert extracted columns to numbers\n",
    "  type_convert() %>% \n",
    "  mutate(rrna_read_fraction = rrna_reads / input_reads * 100) %>% \n",
    "  # get rid of unwanted cols\n",
    "  select(-data, -rrna_reads) %>% \n",
    "  print()\n",
    "  \n",
    "rrna_stats %>% \n",
    "  gather(read_type, counts, -sample) %>% \n",
    "  ggplot(aes(x = sample, y = counts)) +\n",
    "  facet_wrap(~ read_type, scales = \"free_x\") +\n",
    "  theme(strip.placement = \"outside\") +\n",
    "  geom_point() +\n",
    "  coord_flip() +\n",
    "  scale_y_continuous(position = \"top\", limits = c(0, NA)) \n",
    "\n",
    "ggsave(\"../figures/rrna_subtraction_stats.pdf\")"
   ]
  },
  {
   "cell_type": "markdown",
   "metadata": {},
   "source": [
    "## Extract gencode alignment statistics"
   ]
  },
  {
   "cell_type": "code",
   "execution_count": null,
   "metadata": {
    "collapsed": true
   },
   "outputs": [],
   "source": [
    "gencode_stats <- list.files(\"../processeddata/\", recursive = T,\n",
    "                   full.names = T) %>% \n",
    "  # get log files \n",
    "  str_subset(\"gencode.log\") %>% \n",
    "  # extract samplename from filename\n",
    "  setNames(str_extract(., \"(?<=processeddata/{1,2})[^/]+\")) %>% \n",
    "  # read file contents\n",
    "  map(read_file) %>% \n",
    "  # convert listcol to stringcol\n",
    "  unlist() %>% \n",
    "  # convert to tibble with nice col names\n",
    "  enframe(\"sample\", \"data\") %>% \n",
    "  # extract total reads\n",
    "  mutate(input_reads = str_extract(data, \"(?<=reads processed:\\\\s{1,20})[^\\\\s]+\")) %>%\n",
    "  # extract reads with adapters that pass length filter\n",
    "  mutate(gencode_reads = str_extract(data, \"(?<=at least one reported alignment:\\\\s{1,20})[^\\\\s]+\")) %>%\n",
    "  # convert extracted columns to numbers\n",
    "  type_convert() %>% \n",
    "  mutate(gencode_read_fraction = gencode_reads / input_reads * 100) %>% \n",
    "  # get rid of unwanted cols\n",
    "  select(-data, -gencode_reads) %>% \n",
    "  print()\n",
    "  \n",
    "gencode_stats %>% \n",
    "  gather(read_type, counts, -sample) %>% \n",
    "  ggplot(aes(x = sample, y = counts)) +\n",
    "  facet_wrap(~ read_type, scales = \"free_x\") +\n",
    "  theme(strip.placement = \"outside\") +\n",
    "  geom_point() +\n",
    "  coord_flip() +\n",
    "  scale_y_continuous(position = \"top\", limits = c(0, NA)) \n",
    "\n",
    "ggsave(\"../figures/gencode_alignment_stats.pdf\")"
   ]
  },
  {
   "cell_type": "markdown",
   "metadata": {},
   "source": [
    "## Extract a subset of alignments for plotting alignment length distribution"
   ]
  },
  {
   "cell_type": "code",
   "execution_count": null,
   "metadata": {
    "collapsed": true
   },
   "outputs": [],
   "source": [
    "aln <- list.files(\"../processeddata/\", recursive = T,\n",
    "                   full.names = T) %>% \n",
    "  # get log files \n",
    "  str_subset(\"gencode.genome.sorted.bam$\") %>% \n",
    "  # extract samplename from filename\n",
    "  setNames(str_extract(., \"(?<=processeddata/{1,2})[^/]+\")) %>% \n",
    "  enframe(\"sample\", \"file\") %>% \n",
    "  filter(str_detect(sample, sample_selection_strings[cellline])) %>% \n",
    "  mutate(bamfile = map(file, function(x) BamFile(x, yieldSize = 1e7))) %>%\n",
    "  mutate(reads = map(bamfile, function(x) readGAlignments(x, param = ScanBamParam(tag = \"ZW\")))) %>%\n",
    "  print()"
   ]
  },
  {
   "cell_type": "markdown",
   "metadata": {},
   "source": [
    "## Plot distribution of alignment lengths"
   ]
  },
  {
   "cell_type": "code",
   "execution_count": null,
   "metadata": {
    "collapsed": true
   },
   "outputs": [],
   "source": [
    "plot_data <- aln %>% \n",
    "  mutate(read_length = map(reads, qwidth)) %>% \n",
    "  select(sample, read_length) %>% \n",
    "  unnest(read_length) %>% \n",
    "  filter(read_length >= min_read_length_cutoff) %>% \n",
    "  group_by(sample, read_length) %>% \n",
    "  summarize(read_counts = n()) %>% \n",
    "  ungroup() %>% \n",
    "  group_by(sample) %>% \n",
    "  mutate(read_fraction = read_counts / sum(read_counts) * 100) %>%\n",
    "  ungroup() %>% \n",
    "  write_tsv(glue(\"../tables/gencode_alignment_length_{cellline}.tsv\"))\n",
    "\n",
    "plot_data %>% \n",
    "  ggplot(aes(x = read_length, y = read_fraction, color = sample)) +\n",
    "  annotate(\"rect\", xmin = 25, xmax = 40, ymin = 0, ymax = 12, alpha = 0.2) +\n",
    "  geom_point() + geom_line() +\n",
    "  scale_color_manual(values = cbPalette) + \n",
    "  labs(x = \"alignment length\", y = \"fraction of aligned reads (%)\") +\n",
    "  scale_y_continuous(limits = c(0, NA)) +\n",
    "  theme(legend.position = \"top\", legend.direction = \"vertical\")\n",
    "\n",
    "ggsave(glue(\"../figures/gencode_alignment_length_{cellline}.pdf\"))"
   ]
  },
  {
   "cell_type": "markdown",
   "metadata": {},
   "source": [
    "# Calculate start/stop codon density"
   ]
  },
  {
   "cell_type": "markdown",
   "metadata": {},
   "source": [
    "## Import additional required libraries"
   ]
  },
  {
   "cell_type": "code",
   "execution_count": null,
   "metadata": {
    "collapsed": true
   },
   "outputs": [],
   "source": [
    "# genome sequence\n",
    "library(BSgenome.Hsapiens.UCSC.hg38)"
   ]
  },
  {
   "cell_type": "markdown",
   "metadata": {},
   "source": [
    "## Analysis specific parameters"
   ]
  },
  {
   "cell_type": "code",
   "execution_count": null,
   "metadata": {
    "collapsed": true
   },
   "outputs": [],
   "source": [
    "cellline <- params$cellline\n",
    "min.read.density <- 0.33  # reads / nt, only cds above this used for codon density\n",
    "left_overhang_for_start_profile <- 50\n",
    "right_overhang_for_start_profile <- 100\n",
    "\n",
    "left_overhang_for_stop_profile <- 100\n",
    "right_overhang_for_stop_profile <- 50\n",
    "\n",
    "sample_selection_strings <- c(\n",
    "  \"hela\" = \"(hela.*_(arg|leu|rich)_.*mono)\",\n",
    "  \"293t\" = \"293t_wt_(arg|leu|rich)_3h\",\n",
    "  \"hct116\"  = \"hct116\"\n",
    ")"
   ]
  },
  {
   "cell_type": "markdown",
   "metadata": {},
   "source": [
    "## Plotting defaults"
   ]
  },
  {
   "cell_type": "code",
   "execution_count": null,
   "metadata": {
    "collapsed": true
   },
   "outputs": [],
   "source": [
    "# color blind palette\n",
    "# http://www.cookbook-r.com/Graphs/Colors_(ggplot2)/#a-colorblind-friendly-palette\n",
    "cbPalette <- c(\"#666666\", \"#E69F00\", \"#56B4E9\", \"#009E73\", \"#CC79A7\", \"#0072B2\", \n",
    "    \"#D55E00\", \"#F0E442\")\n",
    "\n",
    "theme_set(theme_classic(base_family = \"Helvetica\", base_size = 8) +\n",
    "theme(          \n",
    "  strip.background = element_blank(),\n",
    "  legend.text = element_text(size = 8),\n",
    "  strip.text.x = element_text(size = 8),\n",
    "  axis.line = element_line(size=.25),\n",
    "  plot.title = element_text(size = 8, hjust = 0.5)\n",
    "))"
   ]
  },
  {
   "cell_type": "markdown",
   "metadata": {},
   "source": [
    "## Read in genome and annotations"
   ]
  },
  {
   "cell_type": "code",
   "execution_count": null,
   "metadata": {
    "collapsed": true
   },
   "outputs": [],
   "source": [
    "genome <- BSgenome.Hsapiens.UCSC.hg38\n",
    "canonical <- import.gff3(glue(\n",
    "  '../sequence_annotation_files/',\n",
    "  'gencode.v24.canonical_ccds_transcripts.20170315.gff3'))\n",
    "\n",
    "tx <- canonical %>% \n",
    "  filter(type == \"exon\") %>% \n",
    "  split(.$transcript_id) \n",
    "\n",
    "cds <- canonical %>% \n",
    "  filter(type == \"CDS\") %>% \n",
    "  split(.$transcript_id) \n",
    "\n",
    "tx_annotations <- tx %>% \n",
    "  unlist() %>% \n",
    "  tidy() %>% \n",
    "  group_by(transcript_id) %>% \n",
    "  summarize(tx_length = sum(width)) \n",
    "\n",
    "cds_annotations <- canonical[canonical$type == \"CDS\"] %>% \n",
    "  tidy() %>% \n",
    "  group_by(transcript_id) %>% \n",
    "  summarize(cds_length = sum(width), gene_id = first(gene_id), gene_name = first(gene_name)) %>% \n",
    "  left_join(tx_annotations, by = \"transcript_id\") %>% \n",
    "  print()"
   ]
  },
  {
   "cell_type": "markdown",
   "metadata": {},
   "source": [
    "## Get list of all annotated starts"
   ]
  },
  {
   "cell_type": "code",
   "execution_count": null,
   "metadata": {
    "collapsed": true
   },
   "outputs": [],
   "source": [
    "starts <- canonical %>% \n",
    "  filter(type == \"start_codon\") %>% \n",
    "  # map to transcriptomic coordinates\n",
    "  GenomicFeatures::mapToTranscripts(tx) %>% \n",
    "  # set strand to be positive since we are in transcript coords\n",
    "  mutate(strand = \"+\")\n",
    "\n",
    "\n",
    "starts <- starts %>% \n",
    "  # extend to either side for plotting profile\n",
    "  # note that regions outside of transcript boundaries will be automatically\n",
    "  # discarded at the inner join with the read density below\n",
    "  promoters(upstream = left_overhang_for_start_profile, \n",
    "            downstream = right_overhang_for_start_profile) %>% \n",
    "  tidy() %>%\n",
    "  # create a sequence from start to stop for each range\n",
    "  mutate(pos = map2(start, end, function(x, y) seq(from = x, to = y))) %>%\n",
    "  # expand each range to equal its length\n",
    "  unnest()  %>%\n",
    "  mutate(loc = pos - start) %>%\n",
    "  # mutate and unnest to create a single pos for each location\n",
    "  mutate(start = pos, end = pos) %>%\n",
    "  select(start, end, seqname, loc) %>%\n",
    "  left_join(select(cds_annotations, transcript_id, gene_name), by = c(\"seqname\" = \"transcript_id\")) %>% \n",
    "  print()"
   ]
  },
  {
   "cell_type": "markdown",
   "metadata": {},
   "source": [
    "## Get list of all annotated stops"
   ]
  },
  {
   "cell_type": "code",
   "execution_count": null,
   "metadata": {
    "collapsed": true
   },
   "outputs": [],
   "source": [
    "stops <- canonical %>% \n",
    "  filter(type == \"stop_codon\") %>% \n",
    "  # map to transcriptomic coordinates\n",
    "  GenomicFeatures::mapToTranscripts(tx)\n",
    "\n",
    "# set strand to be + since we are now in tx space\n",
    "strand(stops) <- \"+\"\n",
    "\n",
    "stops <- stops %>% \n",
    "  # extend to either side for plotting profile\n",
    "  # note that regions outside of transcript boundaries will be automatically\n",
    "  # discarded at the inner join with the read density below\n",
    "  promoters(upstream = left_overhang_for_stop_profile, \n",
    "            downstream = right_overhang_for_stop_profile) %>% \n",
    "  tidy() %>% \n",
    "  # create a sequence from start to stop for each range\n",
    "  mutate(pos = map2(start, end, function(x, y) seq(from = x, to = y))) %>% \n",
    "  # expand each range to equal its length\n",
    "  unnest()  %>% \n",
    "  mutate(loc = pos - start) %>% \n",
    "  # mutate and unnest to create a single pos for each location\n",
    "  mutate(start = pos, end = pos) %>% \n",
    "  select(start, end, seqname, loc) %>% \n",
    "  print()"
   ]
  },
  {
   "cell_type": "markdown",
   "metadata": {},
   "source": [
    "## Read in coverage"
   ]
  },
  {
   "cell_type": "code",
   "execution_count": null,
   "metadata": {
    "collapsed": true
   },
   "outputs": [],
   "source": [
    "cvg <- list.files(\"../coverage\", full.names = T, recursive = T) %>% \n",
    "  # get covearge file\n",
    "  str_subset(\"gencode.+tsv$\") %>% \n",
    "  # extract samplename from filename\n",
    "  setNames(str_extract(., \"(?<=coverage/gencode/{1,2})[^\\\\.]+\")) %>% \n",
    "  enframe(\"sample\", \"file\") %>% \n",
    "  filter(str_detect(sample, sample_selection_strings[cellline])) %>% \n",
    "  mutate(data = map(file, function(x) suppressMessages(read_tsv(x)))) %>%\n",
    "  select(-file) %>% \n",
    "  unnest() %>% \n",
    "  mutate(sample = as.factor(sample)) %>% \n",
    "  GRanges() %>% \n",
    "  print()"
   ]
  },
  {
   "cell_type": "code",
   "execution_count": null,
   "metadata": {
    "collapsed": true
   },
   "outputs": [],
   "source": [
    "cds_counts <- mapToTranscripts(cvg, cds) %>% \n",
    "  mutate(score = cvg$score[xHits], sample = cvg$sample[xHits]) %>% \n",
    "  tidy() %>% \n",
    "  group_by(sample, seqname) %>%\n",
    "  summarize(cds_counts = sum(score * width)) %>% \n",
    "  ungroup() %>%\n",
    "  left_join(select(cds_annotations, transcript_id, cds_length),\n",
    "            by = c(\"seqname\" = \"transcript_id\")) %>% \n",
    "  mutate(avg_read_density = cds_counts / cds_length) %>% \n",
    "  # select(sample, seqname, avg_read_density) %>% \n",
    "  arrange(desc(avg_read_density)) %>% \n",
    "  print()"
   ]
  },
  {
   "cell_type": "markdown",
   "metadata": {},
   "source": [
    "## Convert coverage to transcriptome coordinates and normalize by mean ORF density"
   ]
  },
  {
   "cell_type": "code",
   "execution_count": null,
   "metadata": {
    "collapsed": true
   },
   "outputs": [],
   "source": [
    "# go to tx coords\n",
    "cvg_tx <- mapToTranscripts(cvg, tx)\n",
    "cvg_tx$score  <- cvg$score[cvg_tx$xHits]\n",
    "cvg_tx$sample <- cvg$sample[cvg_tx$xHits]\n",
    "\n",
    "### Thresolding and normalization\n",
    "# normalize each read by the average read density / nt in the cds region of each transcript\n",
    "normalized_density <- cvg_tx %>% \n",
    "  tidy() %>% \n",
    "  filter(score > 0) %>% \n",
    "  left_join(cds_counts, by = c(\"seqname\", \"sample\")) %>% \n",
    "  mutate(norm_density = score / avg_read_density)  %>% \n",
    "  filter(avg_read_density > min.read.density) %>% \n",
    "  # convert each range of length > 1 to a sequence of ranges of length 1\n",
    "  mutate(pos = map2(start, end, function(x, y) seq(x, y)))  %>% \n",
    "  unnest() %>% \n",
    "  mutate(start = pos, end = pos) %>% \n",
    "  select(-pos) %>% \n",
    "  print()"
   ]
  },
  {
   "cell_type": "markdown",
   "metadata": {},
   "source": [
    "## Plot profile around start codon"
   ]
  },
  {
   "cell_type": "code",
   "execution_count": null,
   "metadata": {
    "collapsed": true
   },
   "outputs": [],
   "source": [
    "plot_data <- normalized_density %>% \n",
    "  right_join(starts, by = c(\"seqname\", \"start\", \"end\")) %>% \n",
    "  # gets rid of positions outside tx boundary\n",
    "  filter(start > 0) %>%\n",
    "  select(sample, seqname, loc, norm_density) %>%\n",
    "  complete(sample, nesting(seqname, loc), fill = list(norm_density = 0)) %>%\n",
    "  # at least one position in the window must be greater than 0 in a given sample\n",
    "  # (this gets rid of NA sample created in the right_join above)\n",
    "  group_by(sample, seqname) %>%\n",
    "  filter(sum(norm_density) > 0) %>%\n",
    "  ungroup() %>%\n",
    "  # adjust location to account for overhang\n",
    "  mutate(loc = loc - left_overhang_for_start_profile) %>% \n",
    "  group_by(sample, loc) %>% \n",
    "  # average each location across all genes in each sample\n",
    "  summarize(norm_density = mean(norm_density)) %>%\n",
    "  ungroup() %>% \n",
    "  write_tsv(glue('../tables/start_codon_profile_{cellline}.tsv'))\n",
    "\n",
    "plot_data %>% \n",
    "  # filter(loc %in% seq(-10, 20)) %>% \n",
    "  ggplot(aes(x = loc, y = norm_density, color = sample)) +\n",
    "  # facet_wrap(~ sample, ncol = 1, scales = \"free\") + \n",
    "  geom_line(size = 0.5) + \n",
    "  labs(x = \"distance from start codon (nt)\", \n",
    "       y = \"normalized read density\",\n",
    "       color = \"\") +\n",
    "  scale_color_manual(values = cbPalette) +\n",
    "  scale_y_continuous(limits = c(0, NA)) +\n",
    "  theme(legend.position = \"top\", legend.direction = \"vertical\")\n",
    "\n",
    "ggsave(glue('../figures/start_codon_profile_{cellline}.pdf'))"
   ]
  },
  {
   "cell_type": "markdown",
   "metadata": {},
   "source": [
    "## Plot profile around stop codon"
   ]
  },
  {
   "cell_type": "code",
   "execution_count": null,
   "metadata": {
    "collapsed": true
   },
   "outputs": [],
   "source": [
    "plot_data <- normalized_density %>% \n",
    "  right_join(stops, by = c(\"seqname\", \"start\", \"end\")) %>% \n",
    "  # gets rid of positions outside tx boundary\n",
    "  filter(start > 0) %>%\n",
    "  select(sample, seqname, loc, norm_density) %>%\n",
    "  complete(sample, nesting(seqname, loc), fill = list(norm_density = 0)) %>%\n",
    "  # at least one position in the window must be greater than 0 in a given sample\n",
    "  # (this gets rid of NA sample created in the right_join above)\n",
    "  group_by(sample, seqname) %>%\n",
    "  filter(sum(norm_density) > 0) %>%\n",
    "  ungroup() %>%\n",
    "  # adjust location to account for overhang\n",
    "  mutate(loc = loc - left_overhang_for_stop_profile) %>% \n",
    "  group_by(sample, loc) %>% \n",
    "  # average each location across all genes in each sample\n",
    "  summarize(norm_density = mean(norm_density)) %>%\n",
    "  ungroup() %>% \n",
    "  write_tsv(glue('../tables/stop_codon_profile_{cellline}.tsv'))\n",
    "\n",
    "plot_data %>% \n",
    "  # filter(loc %in% seq(-10, 20)) %>% \n",
    "  ggplot(aes(x = loc, y = norm_density, color = sample)) +\n",
    "  # facet_wrap(~ sample, ncol = 1, scales = \"free\") + \n",
    "  geom_line(size = 0.5) + \n",
    "  labs(x = \"distance from stop codon (nt)\", \n",
    "       y = \"normalized read density\",\n",
    "       color = \"\") +\n",
    "  scale_color_manual(values = cbPalette) +\n",
    "  scale_y_continuous(limits = c(0, NA)) +\n",
    "  theme(legend.position = \"top\", legend.direction = \"vertical\")\n",
    "\n",
    "ggsave(glue('../figures/stop_codon_profile_{cellline}.pdf'))"
   ]
  },
  {
   "cell_type": "markdown",
   "metadata": {},
   "source": [
    "# Plot library quality stats (supp. fig. 1e-g)"
   ]
  },
  {
   "cell_type": "markdown",
   "metadata": {},
   "source": [
    "## Read in 3 cell line data for start codon profile, stop codon profile, alignment length"
   ]
  },
  {
   "cell_type": "code",
   "execution_count": null,
   "metadata": {
    "collapsed": true
   },
   "outputs": [],
   "source": [
    "plot_data <- list.files(\"../tables/\", full.names = T) %>% \n",
    "  str_subset(\"start_codon_profile|stop_codon_profile|gencode_alignment_length\") %>% \n",
    "  enframe(\"num\", \"file\") %>% \n",
    "  mutate(plottype = str_extract(file, \"start|stop|length\")) %>% \n",
    "  mutate(data = map(file, function(x) suppressMessages(read_tsv(x)))) %>%\n",
    "  select(-num, -file) %>% \n",
    "  unnest() %>% \n",
    "  mutate(cellline = str_extract(sample, \"293t|hela|hct116\")) %>% \n",
    "  mutate(starvation = str_extract(sample, \"rich|arg|leu\")) %>% \n",
    "  mutate(cellline = celllinenames[cellline]) %>% \n",
    "  mutate(starvation = forcats::fct_rev(starvnames[starvation]))"
   ]
  },
  {
   "cell_type": "markdown",
   "metadata": {},
   "source": [
    "## Plot alignment length distribution for 3 cell lines"
   ]
  },
  {
   "cell_type": "code",
   "execution_count": null,
   "metadata": {
    "collapsed": true
   },
   "outputs": [],
   "source": [
    "plot_data %>%\n",
    "  filter(plottype == \"length\") %>% \n",
    "  ggplot(aes(x = read_length, y = read_fraction, color = starvation)) +\n",
    "  facet_wrap(~ cellline, ncol = 3, scales = \"free_y\") +\n",
    "  annotate(\"rect\", xmin = 25, xmax = 40, ymin = 0, ymax = 10, alpha = 0.2) +\n",
    "  geom_line() +\n",
    "  scale_color_manual(values = cbPalette) +\n",
    "  labs(x = \"alignment length\", y = \"fraction of aligned reads (%)\",\n",
    "       color = \"\") +\n",
    "  scale_y_continuous(limits = c(0, NA), breaks = scales::pretty_breaks(n = 3)) +\n",
    "  theme(panel.spacing = unit(10, \"pt\"))\n",
    "\n",
    "ggsave(\"../figures/gencode_alignment_lengths_3cellines.pdf\")"
   ]
  },
  {
   "cell_type": "markdown",
   "metadata": {},
   "source": [
    "## Plot start profile for 3 cell lines"
   ]
  },
  {
   "cell_type": "code",
   "execution_count": null,
   "metadata": {
    "collapsed": true
   },
   "outputs": [],
   "source": [
    "plot_data %>%\n",
    "  filter(plottype == \"start\") %>%\n",
    "  ggplot(aes(x = loc, y = norm_density, color = starvation)) +\n",
    "  facet_wrap(~ cellline, ncol = 3, scales = \"free_y\") +\n",
    "  geom_line() +\n",
    "  scale_color_manual(values = cbPalette) +\n",
    "  labs(x = \"distance from start codon (nt)\", y = \"normalized read density\",\n",
    "       color = \"\") +\n",
    "  scale_y_continuous(limits = c(0, NA), breaks = scales::pretty_breaks(n = 3)) +\n",
    "  theme(panel.spacing = unit(10, \"pt\"))\n",
    "\n",
    "ggsave(\"../figures/start_codon_profile_3cellines.pdf\")"
   ]
  },
  {
   "cell_type": "markdown",
   "metadata": {},
   "source": [
    "## Plot stop profile for 3 cell lines"
   ]
  },
  {
   "cell_type": "code",
   "execution_count": null,
   "metadata": {
    "collapsed": true
   },
   "outputs": [],
   "source": [
    "plot_data %>%\n",
    "  filter(plottype == \"stop\") %>%\n",
    "  ggplot(aes(x = loc, y = norm_density, color = starvation)) +\n",
    "  facet_wrap(~ cellline, ncol = 3, scales = \"free_y\") +\n",
    "  geom_line() +\n",
    "  scale_color_manual(values = cbPalette) +\n",
    "  labs(x = \"distance from stop codon (nt)\", y = \"normalized read density\",\n",
    "       color = \"\") +\n",
    "  scale_y_continuous(limits = c(0, NA), breaks = scales::pretty_breaks(n = 3)) +\n",
    "  theme(panel.spacing = unit(10, \"pt\"))\n",
    "\n",
    "ggsave(\"../figures/stop_codon_profile_3cellines.pdf\")"
   ]
  },
  {
   "cell_type": "markdown",
   "metadata": {},
   "source": [
    "## Same plot as above but expanded to show 3 nt periodicity"
   ]
  },
  {
   "cell_type": "code",
   "execution_count": null,
   "metadata": {
    "collapsed": true
   },
   "outputs": [],
   "source": [
    "plot_data %>%\n",
    "  filter(loc %in% seq(-80, -30)) %>% \n",
    "  filter(plottype == \"stop\") %>%\n",
    "  ggplot(aes(x = loc, y = norm_density, color = starvation)) +\n",
    "  facet_wrap(~ cellline, ncol = 3, scales = \"free_y\") +\n",
    "  geom_line() +\n",
    "  scale_color_manual(values = cbPalette) +\n",
    "  labs(x = \"distance from stop codon (nt)\", y = \"normalized read density\",\n",
    "       color = \"\") +\n",
    "  scale_y_continuous(limits = c(0, NA), breaks = scales::pretty_breaks(n = 3)) +\n",
    "  theme(panel.spacing = unit(10, \"pt\"))\n",
    "\n",
    "ggsave(\"../figures/stop_codon_profile_3cellines_3nt_periodicity.pdf\")"
   ]
  }
 ],
 "metadata": {
  "kernelspec": {
   "display_name": "R",
   "language": "R",
   "name": "ir"
  },
  "language_info": {
   "codemirror_mode": "r",
   "file_extension": ".r",
   "mimetype": "text/x-r-source",
   "name": "R",
   "pygments_lexer": "r",
   "version": "3.4.0"
  }
 },
 "nbformat": 4,
 "nbformat_minor": 2
}
