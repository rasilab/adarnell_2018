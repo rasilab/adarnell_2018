{
 "cells": [
  {
   "cell_type": "markdown",
   "metadata": {
    "toc": "true"
   },
   "source": [
    "# Table of Contents for example analysis (Fig. 3B)\n",
    " <p><div class=\"lev1 toc-item\"><a href=\"#Import-libraries\" ><span class=\"toc-item-num\">1&nbsp;&nbsp;</span>Import libraries</a></div><div class=\"lev1 toc-item\"><a href=\"#Load-HEK293T-eIF2a~P-time-course-data-&-calculate-relative-eIF2a~P\" ><span class=\"toc-item-num\">2&nbsp;&nbsp;</span>Load HEK293T eIF2a~P time course data & calculate relative eIF2a~P</a></div><div class=\"lev1 toc-item\"><a href=\"#Plot-data\" ><span class=\"toc-item-num\">3&nbsp;&nbsp;</span>Plot data</a></div>\n",
    " \n",
    "* analysis is repeated for all measurements of phosphorylation levels of mTORC1 or GCN2 targets proteins below: Fig. 3A; Supp. Fig. 3A,B; Fig. 4A,C-E; Supp. Fig. 4A"
   ]
  },
  {
   "cell_type": "markdown",
   "metadata": {},
   "source": [
    "# Import libraries"
   ]
  },
  {
   "cell_type": "code",
   "execution_count": 1,
   "metadata": {},
   "outputs": [
    {
     "name": "stderr",
     "output_type": "stream",
     "text": [
      "Loading tidyverse: ggplot2\n",
      "Loading tidyverse: tibble\n",
      "Loading tidyverse: tidyr\n",
      "Loading tidyverse: readr\n",
      "Loading tidyverse: purrr\n",
      "Loading tidyverse: dplyr\n",
      "Warning message:\n",
      "“package ‘purrr’ was built under R version 3.4.1”Warning message:\n",
      "“package ‘dplyr’ was built under R version 3.4.1”Conflicts with tidy packages ---------------------------------------------------\n",
      "filter(): dplyr, stats\n",
      "lag():    dplyr, stats\n"
     ]
    }
   ],
   "source": [
    "library(tidyverse)\n",
    "library(Cairo)\n",
    "options(warn=-1)\n",
    "\n",
    "# color blind palette\n",
    "# http://www.cookbook-r.com/Graphs/Colors_(ggplot2)/#a-colorblind-friendly-palette\n",
    "cbPalette <- c(\"#666666\", \"#E69F00\", \"#56B4E9\", \n",
    "               \"#009E73\", \"#CC79A7\", \"#0072B2\", \"#D55E00\", \"#F0E442\")\n",
    "\n",
    "theme_set(theme_classic(base_family = \"Helvetica\", base_size = 8) +\n",
    "theme(          \n",
    "  strip.background = element_blank(),\n",
    "  strip.text.x = element_text(size = 8),\n",
    "  axis.line = element_line(size = .25),\n",
    "  axis.ticks = element_line(size = .25),\n",
    "  axis.text.x = element_text(size = 8, color = 'black'),\n",
    "  axis.text.y = element_text(size = 8, color = 'black'),\n",
    "  legend.text = element_text(size = 8),\n",
    "    \n",
    "))"
   ]
  },
  {
   "cell_type": "markdown",
   "metadata": {},
   "source": [
    "# Load HEK293T eIF2a~P time course data & calculate relative eIF2a~P"
   ]
  },
  {
   "cell_type": "code",
   "execution_count": 2,
   "metadata": {},
   "outputs": [
    {
     "name": "stdout",
     "output_type": "stream",
     "text": [
      "# A tibble: 7 x 6\n",
      "         samplelabel mean_relativephosindex      sterr  time xlabel sampleorder\n",
      "              <fctr>                  <dbl>      <dbl> <chr>  <chr>       <dbl>\n",
      "1               Rich              0.1293474 0.05444536     0   Rich           1\n",
      "2   –Leucine 3 hours              0.7425827 0.19440199     3   –Leu           2\n",
      "3  –Arginine 3 hours              0.7951276 0.18329959     3   –Arg           3\n",
      "4   –Leucine 6 hours              0.7213491 0.10459640     6   –Leu           4\n",
      "5  –Arginine 6 hours              0.7883660 0.11320020     6   –Arg           5\n",
      "6  –Leucine 12 hours              0.7990019 0.09347002    12   –Leu           6\n",
      "7 –Arginine 12 hours              0.9394425 0.06055746    12   –Arg           7\n"
     ]
    }
   ],
   "source": [
    "rawdata <- read_csv('../rawdata/western_blots/fig3/293t_eif2aphospho_3612h/processeddata/20140626_3repsrelativeeif2aphosindex_richleuarg_3612h_rawdata.csv',\n",
    "         col_types = c(col_character()))\n",
    "\n",
    "xlabelorder = c('Rich', '-Arg', '-Leu')\n",
    "timeorder = c('0', '3', '6', '12')\n",
    "\n",
    "data <- rawdata %>% \n",
    "  select(replicate, samplelabel, eif2a_total, eif2a_s51_phospho) %>% \n",
    "  mutate(samplelabel = stringr::str_replace(samplelabel, '-','\\u2013')) %>% \n",
    "  mutate(phosindex = eif2a_s51_phospho / eif2a_total) %>% \n",
    "  group_by(replicate) %>% \n",
    "  mutate(relativephosindex = phosindex / max(phosindex)) %>% \n",
    "  ungroup() %>% \n",
    "  group_by(samplelabel) %>% \n",
    "  summarize(mean_relativephosindex = mean(relativephosindex),\n",
    "         sterr = sd(relativephosindex) / sqrt(3)) %>% \n",
    "  mutate(time = stringr::str_extract(samplelabel, \"\\\\d+\")) %>% \n",
    "  mutate(time = ifelse(is.na(time), \"0\", time)) %>% \n",
    "  mutate(xlabel = substr(samplelabel, 1, 4)) %>% \n",
    "  mutate(sampleorder = c(7, 3, 5, 6, 2, 4, 1)) %>% \n",
    "  mutate(samplelabel = forcats::fct_reorder(samplelabel, sampleorder)) %>% \n",
    "  arrange(sampleorder) %>% \n",
    "  print"
   ]
  },
  {
   "cell_type": "markdown",
   "metadata": {},
   "source": [
    "# Plot data"
   ]
  },
  {
   "cell_type": "code",
   "execution_count": null,
   "metadata": {
    "collapsed": true
   },
   "outputs": [],
   "source": [
    "options(repr.plot.width = 1.8, repr.plot.height = 1.5)\n",
    "\n",
    "\n",
    "test <- Vectorize(function(x) {\n",
    "  data %>% select(xlabel)\n",
    "})\n",
    "\n",
    "p  <- data %>% \n",
    "  ggplot(aes(x = samplelabel, y = mean_relativephosindex * 100)) +\n",
    "  geom_col() +\n",
    "  geom_errorbar(aes(ymin = (mean_relativephosindex - sterr)*100,\n",
    "                    ymax = (mean_relativephosindex + sterr)*100), \n",
    "                width = 0.2, size = 0.25)  +\n",
    "  theme(axis.text.x = element_text(angle = 45, hjust = 1)) +\n",
    "  scale_y_continuous(breaks= scales::pretty_breaks(n=3), limits = c(0, 120)) +\n",
    "  scale_x_discrete(labels = test) +\n",
    "  xlab(\"\") + ylab(\"P~eIF2α fraction\\n(% of max)\") +\n",
    "  annotate(\"segment\", x = 1.6, xend = 3.4, y = 108, yend = 108, size = 0.25) +\n",
    "  annotate(\"text\", x = 2.5, y = 114, label = \"3h\", vjust = 0, size = 3) +\n",
    "  annotate(\"segment\", x = 3.6, xend = 5.4, y = 108, yend = 108, size = 0.25) +\n",
    "  annotate(\"text\", x = 4.5, y = 114, label = \"6h\", vjust = 0, size = 3) +\n",
    "  annotate(\"segment\", x = 5.6, xend = 7.4, y = 108, yend = 108, size = 0.25) +\n",
    "  annotate(\"text\", x = 6.5, y = 114, label = \"12h\", vjust = 0, size = 3)\n",
    "\n",
    "p\n",
    "\n",
    "ggsave(\"../figures/fig3b.pdf\", width = 1.8, height = 1.5, device = cairo_pdf)"
   ]
  },
  {
   "cell_type": "markdown",
   "metadata": {},
   "source": [
    "# repeat for HEK293T, relative S6K~P time course (fig. 3a)"
   ]
  },
  {
   "cell_type": "code",
   "execution_count": 3,
   "metadata": {},
   "outputs": [
    {
     "name": "stdout",
     "output_type": "stream",
     "text": [
      "# A tibble: 7 x 7\n",
      "   time samplelabel mean_relativephosindex      stdev      sterr  xlabel\n",
      "  <int>      <fctr>                  <dbl>      <dbl>      <dbl>  <fctr>\n",
      "1     0        Rich              1.0000000 0.16389679 0.09462585  0_Rich\n",
      "2     3        –Leu              0.2453566 0.05990475 0.03458602  3_–Leu\n",
      "3     3        –Arg              0.5859623 0.19619327 0.11327224  3_–Arg\n",
      "4     6        –Leu              0.1832111 0.07740550 0.04469009  6_–Leu\n",
      "5     6        –Arg              0.5669695 0.17746222 0.10245786  6_–Arg\n",
      "6    12        –Leu              0.2124701 0.06489106 0.03746487 12_–Leu\n",
      "7    12        –Arg              0.6997964 0.10179918 0.05877379 12_–Arg\n",
      "# ... with 1 more variables: sampleorder <dbl>\n"
     ]
    }
   ],
   "source": [
    "file <- \"../rawdata/western_blots/fig3/293t_s6kphospho_3612h/processeddata/20140625_3repsrelatives6kphosindex_richleuarg_3612h.csv\"\n",
    "data <- read_csv(file, col_types = c(col_integer())) %>% \n",
    "  mutate(samplelabel = forcats::fct_reorder(factor(\n",
    "          stringr::str_replace(samplelabel, '-','\\u2013')), time)) %>% \n",
    "  mutate(xlabel = paste(time, samplelabel, sep = \"_\")) %>% \n",
    "  mutate(xlabel = forcats::fct_reorder(xlabel, time)) %>% \n",
    "  mutate(sampleorder = c(1,2,3,4,5,6,7)) %>% \n",
    "  mutate(xlabel = forcats::fct_reorder(xlabel, sampleorder)) %>% \n",
    "  arrange(xlabel) %>% \n",
    "  print"
   ]
  },
  {
   "cell_type": "code",
   "execution_count": 4,
   "metadata": {},
   "outputs": [
    {
     "data": {},
     "metadata": {},
     "output_type": "display_data"
    },
    {
     "data": {
      "image/png": "[encoded data removed]",
      "text/plain": [
       "plot without title"
      ]
     },
     "metadata": {},
     "output_type": "display_data"
    }
   ],
   "source": [
    "options(repr.plot.width = 1.8, repr.plot.height = 1.5)\n",
    "\n",
    "\n",
    "test <- Vectorize(function(x) {\n",
    "  data %>% select(samplelabel)\n",
    "})\n",
    "\n",
    "p  <- data %>% \n",
    "  ggplot(aes(x = xlabel, y = mean_relativephosindex * 100)) +\n",
    "  geom_col() +\n",
    "  geom_errorbar(aes(ymin = (mean_relativephosindex - sterr)*100,\n",
    "                    ymax = (mean_relativephosindex + sterr)*100), \n",
    "                width = 0.2, size = 0.25)  +\n",
    "  theme(axis.text.x = element_text(angle = 45, hjust = 1)) +\n",
    "  scale_y_continuous(breaks= scales::pretty_breaks(n=3), limits = c(0, 120)) +\n",
    "  scale_x_discrete(labels = test) +\n",
    "  xlab(\"\") + ylab(\"P~S6K fraction\\n(% of max)\") +\n",
    "  annotate(\"segment\", x = 1.6, xend = 3.4, y = 108, yend = 108, size = 0.25) +\n",
    "  annotate(\"text\", x = 2.5, y = 114, label = \"3h\", vjust = 0, size = 3) +\n",
    "  annotate(\"segment\", x = 3.6, xend = 5.4, y = 108, yend = 108, size = 0.25) +\n",
    "  annotate(\"text\", x = 4.5, y = 114, label = \"6h\", vjust = 0, size = 3) +\n",
    "  annotate(\"segment\", x = 5.6, xend = 7.4, y = 108, yend = 108, size = 0.25) +\n",
    "  annotate(\"text\", x = 6.5, y = 114, label = \"12h\", vjust = 0, size = 3)\n",
    "\n",
    "p\n",
    "\n",
    "ggsave(\"../figures/fig3a.pdf\", width = 1.8, height = 1.5, device = cairo_pdf)"
   ]
  },
  {
   "cell_type": "markdown",
   "metadata": {},
   "source": [
    "# repeat for HEK293T, relative RPS6~P time course (supp. fig. 3b)"
   ]
  },
  {
   "cell_type": "code",
   "execution_count": 3,
   "metadata": {},
   "outputs": [
    {
     "name": "stdout",
     "output_type": "stream",
     "text": [
      "# A tibble: 7 x 7\n",
      "   time samplelabel mean_relativephosindex       stdev       sterr  xlabel\n",
      "  <int>      <fctr>                  <dbl>       <dbl>       <dbl>  <fctr>\n",
      "1     0        Rich             1.00000000 0.216425314 0.124953213  0_Rich\n",
      "2     3        –Leu             0.24721620 0.052994819 0.030596573  3_–Leu\n",
      "3     3        –Arg             0.37186489 0.057650164 0.033284338  3_–Arg\n",
      "4     6        –Leu             0.07299834 0.033960280 0.019606977  6_–Leu\n",
      "5     6        –Arg             0.16212888 0.029537709 0.017053604  6_–Arg\n",
      "6    12        –Leu             0.04770860 0.008908783 0.005143488 12_–Leu\n",
      "7    12        –Arg             0.19720236 0.039256867 0.022664963 12_–Arg\n",
      "# ... with 1 more variables: sampleorder <dbl>\n"
     ]
    }
   ],
   "source": [
    "file <- \"../rawdata/western_blots/suppfig3/293t_rps6phospho_3612h/processeddata/20140625_3repsrelativerps6phosindex_richleuarg_3612h.csv\"\n",
    "data <- read_csv(file, col_types = c(col_integer())) %>% \n",
    "  mutate(samplelabel = forcats::fct_reorder(factor(\n",
    "          stringr::str_replace(samplelabel, '-','\\u2013')), time)) %>% \n",
    "  mutate(xlabel = paste(time, samplelabel, sep = \"_\")) %>% \n",
    "  mutate(xlabel = forcats::fct_reorder(xlabel, time)) %>% \n",
    "  mutate(sampleorder = c(1,2,3,4,5,6,7)) %>% \n",
    "  mutate(xlabel = forcats::fct_reorder(xlabel, sampleorder)) %>% \n",
    "  arrange(xlabel) %>% \n",
    "  print"
   ]
  },
  {
   "cell_type": "code",
   "execution_count": 4,
   "metadata": {},
   "outputs": [
    {
     "data": {},
     "metadata": {},
     "output_type": "display_data"
    },
    {
     "data": {
      "image/png": "[encoded data removed]",
      "text/plain": [
       "plot without title"
      ]
     },
     "metadata": {},
     "output_type": "display_data"
    }
   ],
   "source": [
    "options(repr.plot.width = 1.8, repr.plot.height = 1.5)\n",
    "\n",
    "\n",
    "test <- Vectorize(function(x) {\n",
    "  data %>% select(samplelabel)\n",
    "})\n",
    "\n",
    "p  <- data %>% \n",
    "  ggplot(aes(x = xlabel, y = mean_relativephosindex * 100)) +\n",
    "  geom_col() +\n",
    "  geom_errorbar(aes(ymin = (mean_relativephosindex - sterr)*100,\n",
    "                    ymax = (mean_relativephosindex + sterr)*100), \n",
    "                width = 0.2, size = 0.25)  +\n",
    "  theme(axis.text.x = element_text(angle = 45, hjust = 1)) +\n",
    "  scale_y_continuous(breaks= scales::pretty_breaks(n=3), limits = c(0, 120)) +\n",
    "  scale_x_discrete(labels = test) +\n",
    "  xlab(\"\") + ylab(\"P~RPS6 fraction\\n(% of max)\") +\n",
    "  annotate(\"segment\", x = 1.6, xend = 3.4, y = 108, yend = 108, size = 0.25) +\n",
    "  annotate(\"text\", x = 2.5, y = 114, label = \"3h\", vjust = 0, size = 3) +\n",
    "  annotate(\"segment\", x = 3.6, xend = 5.4, y = 108, yend = 108, size = 0.25) +\n",
    "  annotate(\"text\", x = 4.5, y = 114, label = \"6h\", vjust = 0, size = 3) +\n",
    "  annotate(\"segment\", x = 5.6, xend = 7.4, y = 108, yend = 108, size = 0.25) +\n",
    "  annotate(\"text\", x = 6.5, y = 114, label = \"12h\", vjust = 0, size = 3)\n",
    "\n",
    "p\n",
    "\n",
    "ggsave(\"../figures/suppfig3_rps6.pdf\", width = 1.8, height = 1.5, device = cairo_pdf)"
   ]
  },
  {
   "cell_type": "markdown",
   "metadata": {},
   "source": [
    "# repeat for HEK293T, relative S6K~P +/- Torin1 (supp. fig. 4a)"
   ]
  },
  {
   "cell_type": "code",
   "execution_count": 2,
   "metadata": {},
   "outputs": [
    {
     "name": "stdout",
     "output_type": "stream",
     "text": [
      "# A tibble: 6 x 8\n",
      "    samplelabel mean_relativephosindex      stdev       sterr  time\n",
      "         <fctr>                  <dbl>      <dbl>       <dbl> <int>\n",
      "1          Rich            1.000000000 0.08185511 0.047259069     3\n",
      "2          –Leu            0.113365420 0.02151798 0.012423412     3\n",
      "3          –Arg            0.289299032 0.01742930 0.010062813     3\n",
      "4 Rich + Torin1            0.014746760 0.02277960 0.013151809     3\n",
      "5 –Leu + Torin1            0.012651663 0.01969585 0.011371402     3\n",
      "6 –Arg + Torin1            0.009041723 0.01333292 0.007697765     3\n",
      "# ... with 3 more variables: xlabel <fctr>, sampleorder <dbl>, condition <chr>\n"
     ]
    }
   ],
   "source": [
    "file <- \"../rawdata/western_blots/fig4/293t_torin1_s6kphospho_rps6phospho_3h/processeddata/20150514_293t_tc12_ps6k_plusminustorin1_3hours_richleuarg.csv\"\n",
    "data <- read_csv(file, col_types = c(col_integer())) %>% \n",
    "  mutate(samplelabel = forcats::fct_reorder(factor(\n",
    "          stringr::str_replace(samplelabel, '-','\\u2013')), time)) %>% \n",
    "  mutate(xlabel = paste(time, samplelabel, sep = \"_\")) %>% \n",
    "  mutate(xlabel = forcats::fct_reorder(xlabel, time)) %>% \n",
    "  mutate(sampleorder = c(1,2,3,4,5,6)) %>% \n",
    "  mutate(xlabel = forcats::fct_reorder(xlabel, sampleorder)) %>% \n",
    "  arrange(xlabel) %>% \n",
    "  mutate(condition = c('Rich','–Leu','–Arg','Rich','–Leu','–Arg')) %>%\n",
    "  print"
   ]
  },
  {
   "cell_type": "code",
   "execution_count": 6,
   "metadata": {},
   "outputs": [
    {
     "data": {},
     "metadata": {},
     "output_type": "display_data"
    },
    {
     "data": {
      "image/png": "[encoded data removed]",
      "text/plain": [
       "plot without title"
      ]
     },
     "metadata": {},
     "output_type": "display_data"
    }
   ],
   "source": [
    "options(repr.plot.width = 1.7, repr.plot.height = 1.5)\n",
    "\n",
    "test <- Vectorize(function(x) {\n",
    "  data %>% select(condition)\n",
    "})\n",
    "\n",
    "p  <- data %>% \n",
    "  ggplot(aes(x = xlabel, y = mean_relativephosindex * 100)) +\n",
    "  geom_col() +\n",
    "  geom_errorbar(aes(ymin = (mean_relativephosindex - sterr)*100,\n",
    "                    ymax = (mean_relativephosindex + sterr)*100), \n",
    "                width = 0.2, size = 0.25)  +\n",
    "  theme(axis.text.x = element_text(angle = 45, hjust = 1)) +\n",
    "  scale_y_continuous(breaks= scales::pretty_breaks(n=3), limits = c(0, 130)) +\n",
    "  scale_x_discrete(labels = test) +\n",
    "  xlab(\"\") + ylab(\"P~S6K fraction\\n(% of max)\") +\n",
    "  annotate(\"segment\", x = 0.6, xend = 3.6, y = 118, yend = 118, size = 0.25) +\n",
    "  annotate(\"text\", x = 2, y = 123, label = \"n.t.\", vjust = 0, size = 3) +\n",
    "  annotate(\"segment\", x = 3.8, xend = 6.8, y = 118, yend = 118, size = 0.25) +\n",
    "  annotate(\"text\", x = 5, y = 123, label = \"+ Torin1\", vjust = 0, size = 3) \n",
    "  \n",
    "\n",
    "p\n",
    "\n",
    "ggsave(\"../figures/suppfig4a_s6k.pdf\", width = 1.7, height = 1.5, device = cairo_pdf)"
   ]
  },
  {
   "cell_type": "markdown",
   "metadata": {},
   "source": [
    "# repeat for HEK293T, relative RPS6~P +/- Torin1 (supp. fig. 3a)"
   ]
  },
  {
   "cell_type": "code",
   "execution_count": 7,
   "metadata": {},
   "outputs": [
    {
     "name": "stdout",
     "output_type": "stream",
     "text": [
      "# A tibble: 6 x 8\n",
      "    samplelabel mean_relativephosindex       stdev       sterr  time\n",
      "         <fctr>                  <dbl>       <dbl>       <dbl> <int>\n",
      "1          Rich            1.000000000 0.237338112 0.137027223     3\n",
      "2          –Leu            0.046629558 0.017423490 0.010059457     3\n",
      "3          –Arg            0.217899408 0.041914045 0.024199085     3\n",
      "4 Rich + Torin1            0.000584740 0.000549972 0.000317527     3\n",
      "5 –Leu + Torin1            0.001405305 0.000512133 0.000295680     3\n",
      "6 –Arg + Torin1            0.000924962 0.000262607 0.000151616     3\n",
      "# ... with 3 more variables: xlabel <fctr>, sampleorder <dbl>, condition <chr>\n"
     ]
    }
   ],
   "source": [
    "file <- \"../rawdata/western_blots/fig4/293t_torin1_s6kphospho_rps6phospho_3h/processeddata/20150517_293t_tc12_prps6_plusminustorin1_3hours_richleuarg.csv\"\n",
    "data <- read_csv(file, col_types = c(col_integer())) %>% \n",
    "  mutate(samplelabel = forcats::fct_reorder(factor(\n",
    "          stringr::str_replace(samplelabel, '-','\\u2013')), time)) %>% \n",
    "  mutate(xlabel = paste(time, samplelabel, sep = \"_\")) %>% \n",
    "  mutate(xlabel = forcats::fct_reorder(xlabel, time)) %>% \n",
    "  mutate(sampleorder = c(1,2,3,4,5,6)) %>% \n",
    "  mutate(xlabel = forcats::fct_reorder(xlabel, sampleorder)) %>% \n",
    "  arrange(xlabel) %>% \n",
    "  mutate(condition = c('Rich','–Leu','–Arg','Rich','–Leu','–Arg')) %>%\n",
    "  print"
   ]
  },
  {
   "cell_type": "code",
   "execution_count": 8,
   "metadata": {},
   "outputs": [
    {
     "data": {},
     "metadata": {},
     "output_type": "display_data"
    },
    {
     "data": {
      "image/png": "[encoded data removed]",
      "text/plain": [
       "plot without title"
      ]
     },
     "metadata": {},
     "output_type": "display_data"
    }
   ],
   "source": [
    "options(repr.plot.width = 1.7, repr.plot.height = 1.5)\n",
    "\n",
    "test <- Vectorize(function(x) {\n",
    "  data %>% select(condition)\n",
    "})\n",
    "\n",
    "p  <- data %>% \n",
    "  ggplot(aes(x = xlabel, y = mean_relativephosindex * 100)) +\n",
    "  geom_col() +\n",
    "  geom_errorbar(aes(ymin = (mean_relativephosindex - sterr)*100,\n",
    "                    ymax = (mean_relativephosindex + sterr)*100), \n",
    "                width = 0.2, size = 0.25)  +\n",
    "  theme(axis.text.x = element_text(angle = 45, hjust = 1)) +\n",
    "  scale_y_continuous(breaks= scales::pretty_breaks(n=3), limits = c(0, 130)) +\n",
    "  scale_x_discrete(labels = test) +\n",
    "  xlab(\"\") + ylab(\"P~RPS6 fraction\\n(% of max)\") +\n",
    "  annotate(\"segment\", x = 0.6, xend = 3.6, y = 118, yend = 118, size = 0.25) +\n",
    "  annotate(\"text\", x = 2, y = 123, label = \"n.t.\", vjust = 0, size = 3) +\n",
    "  annotate(\"segment\", x = 3.8, xend = 6.8, y = 118, yend = 118, size = 0.25) +\n",
    "  annotate(\"text\", x = 5, y = 123, label = \"+ Torin1\", vjust = 0, size = 3) \n",
    "  \n",
    "\n",
    "p\n",
    "\n",
    "ggsave(\"../figures/suppfig3a_rps6.pdf\", width = 1.7, height = 1.5, device = cairo_pdf)"
   ]
  },
  {
   "cell_type": "markdown",
   "metadata": {},
   "source": [
    "# repeat for HEK293T +hrGFP, +RagB-WT, +RagB-Q99L, relative S6K~P (fig. 4c)"
   ]
  },
  {
   "cell_type": "code",
   "execution_count": 29,
   "metadata": {},
   "outputs": [
    {
     "name": "stdout",
     "output_type": "stream",
     "text": [
      "# A tibble: 9 x 8\n",
      "   time       cellline samplelabel mean_relativephosindex     stdev      sterr\n",
      "  <int>          <chr>      <fctr>                  <dbl>     <dbl>      <dbl>\n",
      "1     3          hrGFP        Rich              1.2817184 0.8667869 0.50043966\n",
      "2     3          hrGFP        –Leu              0.1816267 0.1656120 0.09561614\n",
      "3     3          hrGFP        –Arg              0.4251914 0.2565267 0.14810574\n",
      "4     3   Flag-RagB-WT        Rich              1.0125650 0.4514978 0.26067236\n",
      "5     3   Flag-RagB-WT        –Leu              0.5223088 0.2486584 0.14356297\n",
      "6     3   Flag-RagB-WT        –Arg              0.6793691 0.2881184 0.16634523\n",
      "7     3 Flag-RagB-Q99L        Rich              1.0000000 0.5832623 0.33674664\n",
      "8     3 Flag-RagB-Q99L        –Leu              0.8212331 0.4952387 0.28592618\n",
      "9     3 Flag-RagB-Q99L        –Arg              0.8839051 0.5809856 0.33543219\n",
      "# ... with 2 more variables: xlabel <fctr>, sampleorder <dbl>\n"
     ]
    }
   ],
   "source": [
    "file <- \"../rawdata/western_blots/fig4/293tAAVS1crispr_hrGFPragbWTragbQ99L_s6kphospho_flag_3h/processeddata/20160425_csv_s6kph_293tcrispraavs1_hrgfpragbwtq99l_rilr_3h_3rep.csv\"\n",
    "data <- read_csv(file, col_types = c(col_integer())) %>% \n",
    "  mutate(samplelabel = forcats::fct_reorder(factor(\n",
    "          stringr::str_replace(samplelabel, '-','\\u2013')), time)) %>% \n",
    "  mutate(xlabel = paste(time, cellline, samplelabel, sep = \"_\")) %>% \n",
    "  mutate(xlabel = forcats::fct_reorder(xlabel, time)) %>% \n",
    "  mutate(sampleorder = c(1,2,3,4,5,6,7,8,9)) %>% \n",
    "  mutate(xlabel = forcats::fct_reorder(xlabel, sampleorder)) %>% \n",
    "  arrange(xlabel) %>% \n",
    "  print"
   ]
  },
  {
   "cell_type": "code",
   "execution_count": 37,
   "metadata": {},
   "outputs": [
    {
     "data": {},
     "metadata": {},
     "output_type": "display_data"
    },
    {
     "data": {
      "image/png": "[encoded data removed]",
      "text/plain": [
       "plot without title"
      ]
     },
     "metadata": {},
     "output_type": "display_data"
    }
   ],
   "source": [
    "options(repr.plot.width = 2.1, repr.plot.height = 1.5)\n",
    "\n",
    "test <- Vectorize(function(x) {\n",
    "  data %>% select(samplelabel)\n",
    "})\n",
    "\n",
    "p  <- data %>%\n",
    "  ggplot(aes(x = xlabel, y = mean_relativephosindex * 100)) +\n",
    "  geom_col() +\n",
    "  geom_errorbar(aes(ymin = (mean_relativephosindex - sterr)*100,\n",
    "                    ymax = (mean_relativephosindex + sterr)*100), \n",
    "                width = 0.2, size = 0.25)  +\n",
    "  theme(axis.text.x = element_text(angle = 45, hjust = 1)) +\n",
    "  scale_y_continuous(breaks= scales::pretty_breaks(n=3), limits = c(0, 220)) +\n",
    "  scale_x_discrete(labels = test) +\n",
    "  xlab(\"\") + ylab(\"P~S6K fraction\\n(% of Q99L max)\") +\n",
    "  annotate(\"segment\", x = 0.6, xend = 3.4, y = 200, yend = 200, size = 0.25) +\n",
    "  annotate(\"text\", x = 2, y = 206, label = \"+hrGFP\", vjust = 0, size = 3) +\n",
    "  annotate(\"segment\", x = 3.6, xend = 6.4, y = 200, yend = 200, size = 0.25) +\n",
    "  annotate(\"text\", x = 5, y = 206, label = \"+WT\", vjust = 0, size = 3) +\n",
    "  annotate(\"segment\", x = 6.6, xend = 9.4, y = 200, yend = 200, size = 0.25) +\n",
    "  annotate(\"text\", x = 8, y = 206, label = \"+Q99L\", vjust = 0, size = 3) \n",
    "  \n",
    "\n",
    "p\n",
    "\n",
    "ggsave(\"../figures/fig4c.pdf\", width = 2.1, height = 1.5, device = cairo_pdf)"
   ]
  },
  {
   "cell_type": "markdown",
   "metadata": {},
   "source": [
    "# repeat for HEK293T WT versus GCN2 KO, relative eIF2a~P (fig. 4d)"
   ]
  },
  {
   "cell_type": "code",
   "execution_count": 24,
   "metadata": {},
   "outputs": [
    {
     "name": "stdout",
     "output_type": "stream",
     "text": [
      "# A tibble: 6 x 8\n",
      "   time cellline samplelabel mean_relativephosindex      stdev      sterr\n",
      "  <int>    <chr>      <fctr>                  <dbl>      <dbl>      <dbl>\n",
      "1     3     293T        Rich              0.1376353 0.05218018 0.03012624\n",
      "2     3     293T        –Leu              1.0000000 0.23659962 0.13660085\n",
      "3     3     293T        –Arg              0.8565754 0.17034411 0.09834822\n",
      "4     3  GCN2 KO        Rich              0.1393111 0.08276320 0.04778336\n",
      "5     3  GCN2 KO        –Leu              0.1811214 0.12673748 0.07317192\n",
      "6     3  GCN2 KO        –Arg              0.1440249 0.05962384 0.03442384\n",
      "# ... with 2 more variables: xlabel <fctr>, sampleorder <dbl>\n"
     ]
    }
   ],
   "source": [
    "file <- \"../rawdata/western_blots/fig4/293tgcn2KO_eIF2aphospho_S6Kphospho_3h/processeddata/20161214_gcn2KO_peif2a_quant2_3biorepsaveraged.csv\"\n",
    "data <- read_csv(file, col_types = c(col_integer())) %>% \n",
    "  mutate(samplelabel = forcats::fct_reorder(factor(\n",
    "          stringr::str_replace(samplelabel, '-','\\u2013')), time)) %>% \n",
    "  mutate(xlabel = paste(time, cellline, samplelabel, sep = \"_\")) %>% \n",
    "  mutate(xlabel = forcats::fct_reorder(xlabel, time)) %>% \n",
    "  mutate(sampleorder = c(1,2,3,4,5,6)) %>% \n",
    "  mutate(xlabel = forcats::fct_reorder(xlabel, sampleorder)) %>% \n",
    "  arrange(xlabel) %>% \n",
    "  print"
   ]
  },
  {
   "cell_type": "code",
   "execution_count": 27,
   "metadata": {},
   "outputs": [
    {
     "data": {},
     "metadata": {},
     "output_type": "display_data"
    },
    {
     "data": {
      "image/png": "[encoded data removed]",
      "text/plain": [
       "plot without title"
      ]
     },
     "metadata": {},
     "output_type": "display_data"
    }
   ],
   "source": [
    "options(repr.plot.width = 1.7, repr.plot.height = 1.5)\n",
    "\n",
    "test <- Vectorize(function(x) {\n",
    "  data %>% select(samplelabel)\n",
    "})\n",
    "\n",
    "p  <- data %>% \n",
    "  ggplot(aes(x = xlabel, y = mean_relativephosindex * 100)) +\n",
    "  geom_col() +\n",
    "  geom_errorbar(aes(ymin = (mean_relativephosindex - sterr)*100,\n",
    "                    ymax = (mean_relativephosindex + sterr)*100), \n",
    "                width = 0.2, size = 0.25)  +\n",
    "  theme(axis.text.x = element_text(angle = 45, hjust = 1)) +\n",
    "  scale_y_continuous(breaks= scales::pretty_breaks(n=3), limits = c(0, 130)) +\n",
    "  scale_x_discrete(labels = test) +\n",
    "  xlab(\"\") + ylab(\"P~eIF2α fraction\\n(% of WT max)\") +\n",
    "  annotate(\"segment\", x = 0.6, xend = 3.6, y = 118.2, yend = 118.2, size = 0.25) +\n",
    "  annotate(\"text\", x = 2.1, y = 121.8, label = \"WT\", vjust = 0, size = 3) +\n",
    "  annotate(\"segment\", x = 3.8, xend = 6.8, y = 118.2, yend = 118.2, size = 0.25) +\n",
    "  annotate(\"text\", x = 5.3, y = 121.8, label = \"GCN2 KO\", vjust = 0, size = 3)  \n",
    "  \n",
    "\n",
    "p\n",
    "\n",
    "ggsave(\"../figures/fig4d.pdf\", width = 1.7, height = 1.5, device = cairo_pdf)"
   ]
  },
  {
   "cell_type": "markdown",
   "metadata": {},
   "source": [
    "# repeat for HEK293T WT versus GCN2 KO, relative S6K~P (fig. 4e)"
   ]
  },
  {
   "cell_type": "code",
   "execution_count": 20,
   "metadata": {},
   "outputs": [
    {
     "name": "stdout",
     "output_type": "stream",
     "text": [
      "# A tibble: 6 x 8\n",
      "   time cellline samplelabel mean_relativephosindex     stdev      sterr\n",
      "  <int>    <chr>      <fctr>                  <dbl>     <dbl>      <dbl>\n",
      "1     3     293T        Rich               1.000000 0.3855282 0.15739121\n",
      "2     3     293T        –Leu               0.167937 0.0659647 0.02692998\n",
      "3     3     293T        –Arg               0.308467 0.1070503 0.04370311\n",
      "4     3  GCN2 KO        Rich               1.457420 0.1373497 0.07929891\n",
      "5     3  GCN2 KO        –Leu               1.126422 0.2210394 0.12761716\n",
      "6     3  GCN2 KO        –Arg               1.833538 0.1428851 0.08249473\n",
      "# ... with 2 more variables: xlabel <fctr>, sampleorder <dbl>\n"
     ]
    }
   ],
   "source": [
    "file <- \"../rawdata/western_blots/fig4/293tgcn2KO_eIF2aphospho_S6Kphospho_3h/processeddata/20161214_gcn2KO_ps6k_quant2_3biorepsaveraged.csv\"\n",
    "data <- read_csv(file, col_types = c(col_integer())) %>% \n",
    "  mutate(samplelabel = forcats::fct_reorder(factor(\n",
    "          stringr::str_replace(samplelabel, '-','\\u2013')), time)) %>% \n",
    "  mutate(xlabel = paste(time, cellline, samplelabel, sep = \"_\")) %>% \n",
    "  mutate(xlabel = forcats::fct_reorder(xlabel, time)) %>% \n",
    "  mutate(sampleorder = c(1,2,3,4,5,6)) %>% \n",
    "  mutate(xlabel = forcats::fct_reorder(xlabel, sampleorder)) %>% \n",
    "  arrange(xlabel) %>% \n",
    "  print"
   ]
  },
  {
   "cell_type": "code",
   "execution_count": 22,
   "metadata": {},
   "outputs": [
    {
     "data": {},
     "metadata": {},
     "output_type": "display_data"
    },
    {
     "data": {
      "image/png": "[encoded data removed]",
      "text/plain": [
       "plot without title"
      ]
     },
     "metadata": {},
     "output_type": "display_data"
    }
   ],
   "source": [
    "options(repr.plot.width = 1.7, repr.plot.height = 1.5)\n",
    "\n",
    "test <- Vectorize(function(x) {\n",
    "  data %>% select(samplelabel)\n",
    "})\n",
    "\n",
    "p  <- data %>% \n",
    "  ggplot(aes(x = xlabel, y = mean_relativephosindex * 100)) +\n",
    "  geom_col() +\n",
    "  geom_errorbar(aes(ymin = (mean_relativephosindex - sterr)*100,\n",
    "                    ymax = (mean_relativephosindex + sterr)*100), \n",
    "                width = 0.2, size = 0.25)  +\n",
    "  theme(axis.text.x = element_text(angle = 45, hjust = 1)) +\n",
    "  scale_y_continuous(breaks= scales::pretty_breaks(n=3), limits = c(0, 220)) +\n",
    "  scale_x_discrete(labels = test) +\n",
    "  xlab(\"\") + ylab(\"P~S6K fraction\\n(% of WT max)\") +\n",
    "  annotate(\"segment\", x = 0.6, xend = 3.6, y = 200, yend = 200, size = 0.25) +\n",
    "  annotate(\"text\", x = 2.1, y = 206, label = \"WT\", vjust = 0, size = 3) +\n",
    "  annotate(\"segment\", x = 3.8, xend = 6.8, y = 200, yend = 200, size = 0.25) +\n",
    "  annotate(\"text\", x = 5.3, y = 206, label = \"GCN2 KO\", vjust = 0, size = 3)  \n",
    "  \n",
    "\n",
    "p\n",
    "\n",
    "ggsave(\"../figures/fig4e.pdf\", width = 1.7, height = 1.5, device = cairo_pdf)"
   ]
  }
 ],
 "metadata": {
  "kernelspec": {
   "display_name": "R",
   "language": "R",
   "name": "ir"
  },
  "language_info": {
   "codemirror_mode": "r",
   "file_extension": ".r",
   "mimetype": "text/x-r-source",
   "name": "R",
   "pygments_lexer": "r",
   "version": "3.4.0"
  },
  "toc": {
   "colors": {
    "hover_highlight": "#DAA520",
    "navigate_num": "#000000",
    "navigate_text": "#333333",
    "running_highlight": "#FF0000",
    "selected_highlight": "#FFD700",
    "sidebar_border": "#EEEEEE",
    "wrapper_background": "#FFFFFF"
   },
   "moveMenuLeft": true,
   "nav_menu": {
    "height": "12px",
    "width": "252px"
   },
   "navigate_menu": true,
   "number_sections": true,
   "sideBar": true,
   "threshold": 4,
   "toc_cell": true,
   "toc_position": {
    "height": "875px",
    "left": "0px",
    "right": "1533.47px",
    "top": "111px",
    "width": "212px"
   },
   "toc_section_display": "block",
   "toc_window_display": true,
   "widenNotebook": false
  }
 },
 "nbformat": 4,
 "nbformat_minor": 2
}
