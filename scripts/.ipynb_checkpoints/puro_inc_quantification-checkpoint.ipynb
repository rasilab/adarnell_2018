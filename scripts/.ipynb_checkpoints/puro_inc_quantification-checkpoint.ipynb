{
 "cells": [
  {
   "cell_type": "markdown",
   "metadata": {
    "toc": "true"
   },
   "source": [
    "# Table of Contents for example analysis (Fig. 5A)\n",
    " <p><div class=\"lev1 toc-item\"><a href=\"#Import-libraries\" data-toc-modified-id=\"Import-libraries-1\"><span class=\"toc-item-num\">1&nbsp;&nbsp;</span>Import libraries</a></div><div class=\"lev1 toc-item\"><a href=\"#Load-HEK293T-data-3-hours\" ><span class=\"toc-item-num\">2&nbsp;&nbsp;</span>Load HEK293T data 3 hours</a></div><div class=\"lev1 toc-item\"><a href=\"#Plot-data\"><span class=\"toc-item-num\">3&nbsp;&nbsp;</span>Plot data</a></div>\n",
    " \n",
    "* analysis is repeated for all measurements of puromycin incorporation below: Fig. 5B,D; Supp. Fig. 5A,B,F"
   ]
  },
  {
   "cell_type": "markdown",
   "metadata": {},
   "source": [
    "# Import libraries"
   ]
  },
  {
   "cell_type": "code",
   "execution_count": 2,
   "metadata": {},
   "outputs": [
    {
     "name": "stderr",
     "output_type": "stream",
     "text": [
      "Loading tidyverse: ggplot2\n",
      "Loading tidyverse: tibble\n",
      "Loading tidyverse: tidyr\n",
      "Loading tidyverse: readr\n",
      "Loading tidyverse: purrr\n",
      "Loading tidyverse: dplyr\n",
      "Warning message:\n",
      "“package ‘purrr’ was built under R version 3.4.1”Warning message:\n",
      "“package ‘dplyr’ was built under R version 3.4.1”Conflicts with tidy packages ---------------------------------------------------\n",
      "filter(): dplyr, stats\n",
      "lag():    dplyr, stats\n"
     ]
    }
   ],
   "source": [
    "library(tidyverse)\n",
    "library(Cairo)\n",
    "options(warn=-1)\n",
    "\n",
    "# color blind palette\n",
    "# http://www.cookbook-r.com/Graphs/Colors_(ggplot2)/#a-colorblind-friendly-palette\n",
    "cbPalette <- c(\"#666666\", \"#E69F00\", \"#56B4E9\", \n",
    "               \"#009E73\", \"#CC79A7\", \"#0072B2\", \"#D55E00\", \"#F0E442\")\n",
    "\n",
    "theme_set(theme_classic(base_family = \"Helvetica\", base_size = 8) +\n",
    "theme(          \n",
    "  strip.background = element_blank(),\n",
    "  strip.text.x = element_text(size = 8),\n",
    "  axis.line = element_line(size = .25),\n",
    "  axis.ticks = element_line(size = .25),\n",
    "  axis.text.x = element_text(size = 8, color = 'black'),\n",
    "  axis.text.y = element_text(size = 8, color = 'black'),\n",
    "  legend.text = element_text(size = 8),\n",
    "    \n",
    "))"
   ]
  },
  {
   "cell_type": "markdown",
   "metadata": {},
   "source": [
    "# Load HEK293T data 3 hours"
   ]
  },
  {
   "cell_type": "code",
   "execution_count": 13,
   "metadata": {},
   "outputs": [
    {
     "name": "stdout",
     "output_type": "stream",
     "text": [
      "# A tibble: 4 x 7\n",
      "  samplelabel mean_relativepuroincorporation      stdev      sterr  time\n",
      "       <fctr>                          <dbl>      <dbl>      <dbl> <int>\n",
      "1        Rich                      1.0000000         NA         NA     3\n",
      "2        –Leu                      0.6354840 0.02297899 0.01326693     3\n",
      "3        –Arg                      0.5206784 0.05875152 0.03392021     3\n",
      "4     +Torin1                      0.4023239 0.02011617 0.01161408     3\n",
      "# ... with 2 more variables: xlabel <fctr>, sampleorder <dbl>\n"
     ]
    }
   ],
   "source": [
    "file <- \"../rawdata/puromycin_inc_assays/fig5/293t_puromycinpulse_3reps_3hours_richleuargtorin1/processeddata/20160405_hek293t_puroincorporation_3reps_richleuargtorin1.csv\"\n",
    "data <- read_csv(file, col_types = c(col_integer())) %>% \n",
    "  mutate(samplelabel = forcats::fct_reorder(factor(\n",
    "          stringr::str_replace(samplelabel, '-','\\u2013')), time)) %>% \n",
    "  mutate(xlabel = paste(time, samplelabel, sep = \"_\")) %>% \n",
    "  mutate(xlabel = forcats::fct_reorder(xlabel, time)) %>% \n",
    "  mutate(sampleorder = c(1,2,3,4)) %>% \n",
    "  mutate(xlabel = forcats::fct_reorder(xlabel, sampleorder)) %>% \n",
    "  arrange(xlabel) %>% \n",
    "  print"
   ]
  },
  {
   "cell_type": "markdown",
   "metadata": {},
   "source": [
    "# Plot data"
   ]
  },
  {
   "cell_type": "code",
   "execution_count": 16,
   "metadata": {},
   "outputs": [
    {
     "data": {},
     "metadata": {},
     "output_type": "display_data"
    },
    {
     "data": {
      "image/png": "[encoded data removed]",
      "text/plain": [
       "plot without title"
      ]
     },
     "metadata": {},
     "output_type": "display_data"
    }
   ],
   "source": [
    "options(repr.plot.width = 1.35, repr.plot.height = 1.5)\n",
    "\n",
    "test <- Vectorize(function(x) {\n",
    "  data %>% select(samplelabel)\n",
    "})\n",
    "\n",
    "p  <- data %>% \n",
    "  ggplot(aes(x = xlabel, y = mean_relativepuroincorporation * 100)) +\n",
    "  geom_col() +\n",
    "  geom_errorbar(aes(ymin = (mean_relativepuroincorporation - sterr)*100,\n",
    "                    ymax = (mean_relativepuroincorporation + sterr)*100), \n",
    "                width = 0.2, size = 0.25)  +\n",
    "  theme(axis.text.x = element_text(angle = 45, hjust = 1)) +\n",
    "  scale_y_continuous(breaks= scales::pretty_breaks(n=3), limits = c(0, 116)) +\n",
    "  scale_x_discrete(labels = test) +\n",
    "  xlab(\"\") + ylab(\"puromycin inc.\\n(% of max)\") \n",
    "\n",
    "p\n",
    "\n",
    "ggsave(\"../figures/fig5a.pdf\", width = 1.35, height = 1.5, device = cairo_pdf)"
   ]
  },
  {
   "cell_type": "markdown",
   "metadata": {},
   "source": [
    "# repeat for HCT116 data 3 hours (supp. fig. 5a)"
   ]
  },
  {
   "cell_type": "code",
   "execution_count": 18,
   "metadata": {},
   "outputs": [
    {
     "name": "stdout",
     "output_type": "stream",
     "text": [
      "# A tibble: 3 x 7\n",
      "  samplelabel mean_relativepuroincorporation      stdev      sterr  time xlabel\n",
      "       <fctr>                          <dbl>      <dbl>      <dbl> <int> <fctr>\n",
      "1        Rich                      1.0000000         NA         NA     3 3_Rich\n",
      "2        –Leu                      0.6662303 0.08905214 0.05141428     3 3_–Leu\n",
      "3        –Arg                      0.4916668 0.11286406 0.06516210     3 3_–Arg\n",
      "# ... with 1 more variables: sampleorder <dbl>\n"
     ]
    }
   ],
   "source": [
    "file <- \"../rawdata/puromycin_inc_assays/suppfig5/hct116_puromycinpulse_3reps_3hours_richleuarg/processeddata/20160405_hct116_puroincorporation_3reps_richleuarg.csv\"\n",
    "data <- read_csv(file, col_types = c(col_integer())) %>% \n",
    "  mutate(samplelabel = forcats::fct_reorder(factor(\n",
    "          stringr::str_replace(samplelabel, '-','\\u2013')), time)) %>% \n",
    "  mutate(xlabel = paste(time, samplelabel, sep = \"_\")) %>% \n",
    "  mutate(xlabel = forcats::fct_reorder(xlabel, time)) %>% \n",
    "  mutate(sampleorder = c(1,2,3)) %>% \n",
    "  mutate(xlabel = forcats::fct_reorder(xlabel, sampleorder)) %>% \n",
    "  arrange(xlabel) %>% \n",
    "  print"
   ]
  },
  {
   "cell_type": "code",
   "execution_count": 19,
   "metadata": {},
   "outputs": [
    {
     "data": {},
     "metadata": {},
     "output_type": "display_data"
    },
    {
     "data": {
      "image/png": "[encoded data removed]",
      "text/plain": [
       "plot without title"
      ]
     },
     "metadata": {},
     "output_type": "display_data"
    }
   ],
   "source": [
    "options(repr.plot.width = 1.2, repr.plot.height = 1.5)\n",
    "\n",
    "test <- Vectorize(function(x) {\n",
    "  data %>% select(samplelabel)\n",
    "})\n",
    "\n",
    "p  <- data %>% \n",
    "  ggplot(aes(x = xlabel, y = mean_relativepuroincorporation * 100)) +\n",
    "  geom_col() +\n",
    "  geom_errorbar(aes(ymin = (mean_relativepuroincorporation - sterr)*100,\n",
    "                    ymax = (mean_relativepuroincorporation + sterr)*100), \n",
    "                width = 0.2, size = 0.25)  +\n",
    "  theme(axis.text.x = element_text(angle = 45, hjust = 1)) +\n",
    "  scale_y_continuous(breaks= scales::pretty_breaks(n=3), limits = c(0, 116)) +\n",
    "  scale_x_discrete(labels = test) +\n",
    "  xlab(\"\") + ylab(\"puromycin inc.\\n(% of max)\") \n",
    "\n",
    "p\n",
    "\n",
    "ggsave(\"../figures/suppfig5a.pdf\", width = 1.2, height = 1.5, device = cairo_pdf)"
   ]
  },
  {
   "cell_type": "markdown",
   "metadata": {},
   "source": [
    "# repeat for HEK293T time course data (fig. 5b)"
   ]
  },
  {
   "cell_type": "code",
   "execution_count": 77,
   "metadata": {},
   "outputs": [
    {
     "name": "stdout",
     "output_type": "stream",
     "text": [
      "# A tibble: 12 x 7\n",
      "   pulselength_min  time cellline samplelabel relative_puroincorporation\n",
      "             <int> <dbl>    <chr>      <fctr>                      <dbl>\n",
      " 1               5   1.5  293T WT        Rich                  1.0000000\n",
      " 2               5   3.0  293T WT        Rich                  1.0000000\n",
      " 3               5   6.0  293T WT        Rich                  1.0000000\n",
      " 4               5  12.0  293T WT        Rich                  1.0000000\n",
      " 5               5   1.5  293T WT        –Leu                  0.7942041\n",
      " 6               5   3.0  293T WT        –Leu                  0.5817490\n",
      " 7               5   6.0  293T WT        –Leu                  0.4475674\n",
      " 8               5  12.0  293T WT        –Leu                  0.4896104\n",
      " 9               5   1.5  293T WT        –Arg                  0.5456580\n",
      "10               5   3.0  293T WT        –Arg                  0.4081954\n",
      "11               5   6.0  293T WT        –Arg                  0.2795631\n",
      "12               5  12.0  293T WT        –Arg                  0.2838483\n",
      "# ... with 2 more variables: xlabel <fctr>, sampleorder <dbl>\n"
     ]
    }
   ],
   "source": [
    "file <- \"../rawdata/puromycin_inc_assays/fig5/293t_timecourse153612h_1rep_5minpulse/processeddata/20161207_purovergapdh_quant.csv\"\n",
    "data <- read_csv(file, col_types = c(col_integer())) %>% \n",
    "  mutate(samplelabel = forcats::fct_reorder(factor(\n",
    "          stringr::str_replace(samplelabel, '-','\\u2013')), time)) %>% \n",
    "  mutate(xlabel = paste(time, samplelabel, sep = \"_\")) %>% \n",
    "  mutate(xlabel = forcats::fct_reorder(xlabel, time)) %>% \n",
    "  mutate(sampleorder = c(1,2,3,4,5,6,7,8,9,10,11,12)) %>% \n",
    "  mutate(xlabel = forcats::fct_reorder(xlabel, sampleorder)) %>% \n",
    "  arrange(xlabel) %>% \n",
    "  print"
   ]
  },
  {
   "cell_type": "code",
   "execution_count": 78,
   "metadata": {},
   "outputs": [
    {
     "data": {},
     "metadata": {},
     "output_type": "display_data"
    },
    {
     "data": {
      "image/png": "[encoded data removed]",
      "text/plain": [
       "plot without title"
      ]
     },
     "metadata": {},
     "output_type": "display_data"
    }
   ],
   "source": [
    "options(repr.plot.width = 2.75, repr.plot.height = 1.5)\n",
    "\n",
    "p  <- data %>%\n",
    "  ggplot(aes(x = time, y = relative_puroincorporation * 100, color = samplelabel)) +\n",
    "  geom_line(size=.5, alpha=1) + geom_point(size=.5) +\n",
    "  theme(axis.text.x = element_text(hjust = .5)) +\n",
    "  scale_y_continuous(breaks= scales::pretty_breaks(n=3), limits = c(0, 116)) +\n",
    "  scale_x_continuous(breaks= scales::pretty_breaks(n=5)) +\n",
    "  scale_color_manual(values = cbPalette[3:1]) +\n",
    "  xlab(\"time (hours)\") + ylab(\"puromycin inc.\\n(% of max)\") +\n",
    "  theme(legend.title=element_blank()) \n",
    "p\n",
    "\n",
    "ggsave(\"../figures/fig5b.pdf\", width = 2.75, height = 1.5, device = cairo_pdf)"
   ]
  },
  {
   "cell_type": "markdown",
   "metadata": {},
   "source": [
    "# repeat for HEK293T WT versus GCN2 KO data 3 hours (fig. 5d)"
   ]
  },
  {
   "cell_type": "code",
   "execution_count": 16,
   "metadata": {},
   "outputs": [
    {
     "name": "stdout",
     "output_type": "stream",
     "text": [
      "# A tibble: 6 x 9\n",
      "  pulselength_min  time cellines samplelabel relative_puroincorporation\n",
      "            <int> <int>    <chr>      <fctr>                      <dbl>\n",
      "1               5     3  293T WT        Rich                  1.0000000\n",
      "2               5     3  293T WT        –Leu                  0.6572214\n",
      "3               5     3  293T WT        –Arg                  0.4801399\n",
      "4               5     3  GCN2 KO        Rich                  1.0000000\n",
      "5               5     3  GCN2 KO        –Leu                  1.0659195\n",
      "6               5     3  GCN2 KO        –Arg                  0.7618066\n",
      "# ... with 4 more variables: stdev <dbl>, sem <dbl>, xlabel <fctr>,\n",
      "#   sampleorder <dbl>\n"
     ]
    }
   ],
   "source": [
    "file <- \"../rawdata/puromycin_inc_assays/fig5/wtgcn2ko_3h3rep_rileuarg_5minpulse/processeddata/wtgcn2KO.csv\"\n",
    "data <- read_csv(file, col_types = c(col_integer())) %>% \n",
    "  mutate(samplelabel = forcats::fct_reorder(factor(\n",
    "          stringr::str_replace(samplelabel, '-','\\u2013')), time)) %>% \n",
    "  mutate(xlabel = paste(time, cellines, samplelabel, sep = \"_\")) %>% \n",
    "  mutate(xlabel = forcats::fct_reorder(xlabel, time)) %>% \n",
    "  mutate(sampleorder = c(1,2,3,4,5,6)) %>% \n",
    "  mutate(xlabel = forcats::fct_reorder(xlabel, sampleorder)) %>% \n",
    "  arrange(xlabel) %>% \n",
    "  print"
   ]
  },
  {
   "cell_type": "code",
   "execution_count": 17,
   "metadata": {},
   "outputs": [
    {
     "data": {},
     "metadata": {},
     "output_type": "display_data"
    },
    {
     "data": {
      "image/png": "[encoded data removed]",
      "text/plain": [
       "plot without title"
      ]
     },
     "metadata": {},
     "output_type": "display_data"
    }
   ],
   "source": [
    "options(repr.plot.width = 1.7, repr.plot.height = 1.5)\n",
    "\n",
    "test <- Vectorize(function(x) {\n",
    "  data %>% select(samplelabel)\n",
    "})\n",
    "\n",
    "p  <- data %>%\n",
    "  ggplot(aes(x = xlabel, y = relative_puroincorporation * 100)) +\n",
    "  geom_col() +\n",
    "  geom_errorbar(aes(ymin = (relative_puroincorporation - sem)*100,\n",
    "                    ymax = (relative_puroincorporation + sem)*100), \n",
    "                width = 0.2, size = 0.25)  +\n",
    "  theme(axis.text.x = element_text(angle = 45, hjust = 1)) +\n",
    "  scale_y_continuous(breaks= scales::pretty_breaks(n=3), limits = c(0, 140)) +\n",
    "  scale_x_discrete(labels = test) +\n",
    "  xlab(\"\") + ylab(\"% puromycin inc.\\n(% of WT max)\") +\n",
    "  annotate(\"segment\", x = 0.6, xend = 3.6, y = 120, yend = 120, size = 0.25) +\n",
    "  annotate(\"text\", x = 2.1, y = 126, label = \"WT\", vjust = 0, size = 3) +\n",
    "  annotate(\"segment\", x = 3.8, xend = 6.8, y = 120, yend = 120, size = 0.25) +\n",
    "  annotate(\"text\", x = 5.3, y = 126, label = \"GCN2 KO\", vjust = 0, size = 3)  \n",
    "\n",
    "p\n",
    "\n",
    "ggsave(\"../figures/fig5d.pdf\", width = 1.7, height = 1.5, device = cairo_pdf)"
   ]
  },
  {
   "cell_type": "markdown",
   "metadata": {},
   "source": [
    "# repeat for 35-S methionine pulse data (supp. fig. 5b)"
   ]
  },
  {
   "cell_type": "code",
   "execution_count": 5,
   "metadata": {},
   "outputs": [
    {
     "name": "stdout",
     "output_type": "stream",
     "text": [
      "# A tibble: 3 x 7\n",
      "  samplelabel relative_s35met      stdev         sem  time xlabel sampleorder\n",
      "       <fctr>           <dbl>      <dbl>       <dbl> <int> <fctr>       <dbl>\n",
      "1        Rich       1.0000000 0.01027841 0.005934245     3 3_Rich           1\n",
      "2        –Leu       1.1433917 0.07164433 0.041363871     3 3_–Leu           2\n",
      "3        –Arg       0.6207011 0.02916245 0.016836947     3 3_–Arg           3\n"
     ]
    }
   ],
   "source": [
    "file <- \"../rawdata/puromycin_inc_assays/suppfig5/s35_hrGFP_rilr_3reps/processeddata/hrgfp_richleuarg.csv\"\n",
    "data <- read_csv(file, col_types = c(col_integer())) %>% \n",
    "  mutate(samplelabel = forcats::fct_reorder(factor(\n",
    "          stringr::str_replace(samplelabel, '-','\\u2013')), time)) %>% \n",
    "  mutate(xlabel = paste(time, samplelabel, sep = \"_\")) %>% \n",
    "  mutate(xlabel = forcats::fct_reorder(xlabel, time)) %>% \n",
    "  mutate(sampleorder = c(1,2,3)) %>% \n",
    "  mutate(xlabel = forcats::fct_reorder(xlabel, sampleorder)) %>% \n",
    "  arrange(xlabel) %>% \n",
    "  print"
   ]
  },
  {
   "cell_type": "code",
   "execution_count": 12,
   "metadata": {},
   "outputs": [
    {
     "data": {},
     "metadata": {},
     "output_type": "display_data"
    },
    {
     "data": {
      "image/png": "[encoded data removed]",
      "text/plain": [
       "plot without title"
      ]
     },
     "metadata": {},
     "output_type": "display_data"
    }
   ],
   "source": [
    "options(repr.plot.width = 1.05, repr.plot.height = 1.5)\n",
    "\n",
    "test <- Vectorize(function(x) {\n",
    "  data %>% select(samplelabel)\n",
    "})\n",
    "\n",
    "p  <- data %>% \n",
    "  ggplot(aes(x = xlabel, y = relative_s35met * 100)) +\n",
    "  geom_col() +\n",
    "  geom_errorbar(aes(ymin = (relative_s35met - sem)*100,\n",
    "                    ymax = (relative_s35met + sem)*100), \n",
    "                width = 0.2, size = 0.25)  +\n",
    "  theme(axis.text.x = element_text(angle = 45, hjust = 1)) +\n",
    "  scale_y_continuous(breaks= scales::pretty_breaks(n=3), limits = c(0, 125)) +\n",
    "  scale_x_discrete(labels = test) +\n",
    "  xlab(\"\") + ylab(\"% S35-Met inc.\") \n",
    "\n",
    "p\n",
    "\n",
    "ggsave(\"../figures/suppfig5b.pdf\", width = 1.05, height = 1.5, device = cairo_pdf)"
   ]
  },
  {
   "cell_type": "markdown",
   "metadata": {},
   "source": [
    "# repeat for HEK293T WT versus EEF2K KO data 3 hours (supp. fig. 5f)"
   ]
  },
  {
   "cell_type": "code",
   "execution_count": 19,
   "metadata": {},
   "outputs": [
    {
     "name": "stdout",
     "output_type": "stream",
     "text": [
      "# A tibble: 6 x 9\n",
      "  pulselength_min  time cellines samplelabel relative_puroincorporation\n",
      "            <int> <int>    <chr>      <fctr>                      <dbl>\n",
      "1               5     3  293T WT        Rich                  1.0000000\n",
      "2               5     3  293T WT        –Leu                  0.6572214\n",
      "3               5     3  293T WT        –Arg                  0.4801399\n",
      "4               5     3 EEF2K KO        Rich                  1.0000000\n",
      "5               5     3 EEF2K KO        –Leu                  0.8082131\n",
      "6               5     3 EEF2K KO        –Arg                  0.6002717\n",
      "# ... with 4 more variables: stdev <dbl>, sem <dbl>, xlabel <fctr>,\n",
      "#   sampleorder <dbl>\n"
     ]
    }
   ],
   "source": [
    "file <- \"../rawdata/puromycin_inc_assays/fig5/wtgcn2ko_3h3rep_rileuarg_5minpulse/processeddata/wteef2kko.csv\"\n",
    "data <- read_csv(file, col_types = c(col_integer())) %>% \n",
    "  mutate(samplelabel = forcats::fct_reorder(factor(\n",
    "          stringr::str_replace(samplelabel, '-','\\u2013')), time)) %>% \n",
    "  mutate(xlabel = paste(time, cellines, samplelabel, sep = \"_\")) %>% \n",
    "  mutate(xlabel = forcats::fct_reorder(xlabel, time)) %>% \n",
    "  mutate(sampleorder = c(1,2,3,4,5,6)) %>% \n",
    "  mutate(xlabel = forcats::fct_reorder(xlabel, sampleorder)) %>% \n",
    "  arrange(xlabel) %>% \n",
    "  print"
   ]
  },
  {
   "cell_type": "code",
   "execution_count": 20,
   "metadata": {},
   "outputs": [
    {
     "data": {},
     "metadata": {},
     "output_type": "display_data"
    },
    {
     "data": {
      "image/png": "[encoded data removed]",
      "text/plain": [
       "plot without title"
      ]
     },
     "metadata": {},
     "output_type": "display_data"
    }
   ],
   "source": [
    "options(repr.plot.width = 1.7, repr.plot.height = 1.5)\n",
    "\n",
    "test <- Vectorize(function(x) {\n",
    "  data %>% select(samplelabel)\n",
    "})\n",
    "\n",
    "p  <- data %>%\n",
    "  ggplot(aes(x = xlabel, y = relative_puroincorporation * 100)) +\n",
    "  geom_col() +\n",
    "  geom_errorbar(aes(ymin = (relative_puroincorporation - sem)*100,\n",
    "                    ymax = (relative_puroincorporation + sem)*100), \n",
    "                width = 0.2, size = 0.25)  +\n",
    "  theme(axis.text.x = element_text(angle = 45, hjust = 1)) +\n",
    "  scale_y_continuous(breaks= scales::pretty_breaks(n=3), limits = c(0, 140)) +\n",
    "  scale_x_discrete(labels = test) +\n",
    "  xlab(\"\") + ylab(\"puromycin inc.\\n(% of WT max)\") +\n",
    "  annotate(\"segment\", x = 0.6, xend = 3.6, y = 120, yend = 120, size = 0.25) +\n",
    "  annotate(\"text\", x = 2.1, y = 126, label = \"WT\", vjust = 0, size = 3) +\n",
    "  annotate(\"segment\", x = 3.8, xend = 6.8, y = 120, yend = 120, size = 0.25) +\n",
    "  annotate(\"text\", x = 5.3, y = 126, label = \"EEF2K KO\", vjust = 0, size = 3)  \n",
    "\n",
    "p\n",
    "\n",
    "ggsave(\"../figures/suppfig5f.pdf\", width = 1.7, height = 1.5, device = cairo_pdf)"
   ]
  }
 ],
 "metadata": {
  "kernelspec": {
   "display_name": "R",
   "language": "R",
   "name": "ir"
  },
  "language_info": {
   "codemirror_mode": "r",
   "file_extension": ".r",
   "mimetype": "text/x-r-source",
   "name": "R",
   "pygments_lexer": "r",
   "version": "3.4.0"
  },
  "toc": {
   "colors": {
    "hover_highlight": "#DAA520",
    "navigate_num": "#000000",
    "navigate_text": "#333333",
    "running_highlight": "#FF0000",
    "selected_highlight": "#FFD700",
    "sidebar_border": "#EEEEEE",
    "wrapper_background": "#FFFFFF"
   },
   "moveMenuLeft": true,
   "nav_menu": {
    "height": "12px",
    "width": "252px"
   },
   "navigate_menu": true,
   "number_sections": true,
   "sideBar": true,
   "threshold": 4,
   "toc_cell": true,
   "toc_position": {
    "height": "875px",
    "left": "0px",
    "right": "1533.47px",
    "top": "111px",
    "width": "212px"
   },
   "toc_section_display": "block",
   "toc_window_display": true,
   "widenNotebook": false
  }
 },
 "nbformat": 4,
 "nbformat_minor": 2
}
