{
 "cells": [
  {
   "cell_type": "markdown",
   "metadata": {
    "toc": "true"
   },
   "source": [
    "# Table of Contents for example analysis (Supp. Fig. 1C)\n",
    " <p><div class=\"lev1 toc-item\"><a href=\"#Import-libraries\" ><span class=\"toc-item-num\">1&nbsp;&nbsp;</span>Import libraries</a></div><div class=\"lev1 toc-item\"><a href=\"#Load-example-sucrose-density-gradient-data-:-+/--MNase,-HEK293T-+RagB-Q99L-lysate--Leu,-3-hours\" ><span class=\"toc-item-num\">2&nbsp;&nbsp;</span>Load example sucrose density gradient data : +/- MNase, HEK293T +RagB-Q99L lysate -Leu, 3 hours</a></div><div class=\"lev1 toc-item\"><a href=\"#Plot-data\" ><span class=\"toc-item-num\">3&nbsp;&nbsp;</span>Plot data</a></div>\n",
    " \n",
    "* this analysis is repeated for all sucrose density gradient profiles below : Supp. Fig. 1A,B"
   ]
  },
  {
   "cell_type": "markdown",
   "metadata": {},
   "source": [
    "# Import libraries"
   ]
  },
  {
   "cell_type": "code",
   "execution_count": 1,
   "metadata": {},
   "outputs": [
    {
     "name": "stderr",
     "output_type": "stream",
     "text": [
      "Loading tidyverse: ggplot2\n",
      "Loading tidyverse: tibble\n",
      "Loading tidyverse: tidyr\n",
      "Loading tidyverse: readr\n",
      "Loading tidyverse: purrr\n",
      "Loading tidyverse: dplyr\n",
      "Warning message:\n",
      "“package ‘purrr’ was built under R version 3.4.1”Warning message:\n",
      "“package ‘dplyr’ was built under R version 3.4.1”Conflicts with tidy packages ---------------------------------------------------\n",
      "filter(): dplyr, stats\n",
      "lag():    dplyr, stats\n"
     ]
    }
   ],
   "source": [
    "library(tidyverse)\n",
    "library(Cairo)\n",
    "options(warn=-1)\n",
    "\n",
    "# color blind palette\n",
    "# http://www.cookbook-r.com/Graphs/Colors_(ggplot2)/#a-colorblind-friendly-palette\n",
    "cbPalette <- c(\"#666666\", \"#E69F00\", \"#56B4E9\", \n",
    "               \"#009E73\", \"#CC79A7\", \"#0072B2\", \"#D55E00\", \"#F0E442\")\n",
    "\n",
    "theme_set(theme_classic(base_family = \"Helvetica\", base_size = 8) +\n",
    "theme(          \n",
    "  strip.background = element_blank(),\n",
    "  strip.text.x = element_text(size = 8),\n",
    "  axis.line = element_line(size = .25),\n",
    "  axis.ticks = element_line(size = .25),\n",
    "  axis.text.x = element_text(size = 8, color = 'black'),\n",
    "  axis.text.y = element_text(size = 8, color = 'black'),\n",
    "  legend.text = element_text(size = 8),\n",
    "    \n",
    "))"
   ]
  },
  {
   "cell_type": "markdown",
   "metadata": {},
   "source": [
    "# Load example sucrose density gradient data : +/- MNase, HEK293T +RagB-Q99L lysate -Leu, 3 hours"
   ]
  },
  {
   "cell_type": "code",
   "execution_count": 3,
   "metadata": {},
   "outputs": [
    {
     "name": "stdout",
     "output_type": "stream",
     "text": [
      "# A tibble: 2,868 x 5\n",
      "   sample Distance Absorbance peakdistance absorbancefactor\n",
      "   <fctr>    <dbl>      <dbl>        <dbl>            <dbl>\n",
      " 1 +MNase    -6.74   0.064606         6.78          0.73808\n",
      " 2 +MNase    -6.70   0.064407         6.78          0.73808\n",
      " 3 +MNase    -6.67   0.064344         6.78          0.73808\n",
      " 4 +MNase    -6.63   0.064248         6.78          0.73808\n",
      " 5 +MNase    -6.59   0.064151         6.78          0.73808\n",
      " 6 +MNase    -6.56   0.064104         6.78          0.73808\n",
      " 7 +MNase    -6.52   0.064060         6.78          0.73808\n",
      " 8 +MNase    -6.48   0.064087         6.78          0.73808\n",
      " 9 +MNase    -6.45   0.064030         6.78          0.73808\n",
      "10 +MNase    -6.41   0.064088         6.78          0.73808\n",
      "# ... with 2,858 more rows\n"
     ]
    }
   ],
   "source": [
    "datafiles <- '../rawdata/sdg_traces/rp_A'  %>% \n",
    "  list.files(pattern = c(\"ragbq99l\"), full.names = T)\n",
    "samplenames <- datafiles %>% \n",
    "  stringr::str_match(\"([^_/.]+)[^/_]+$\") %>% \n",
    "  magrittr::extract(,2)\n",
    "newnames = c(\"digested\" = \"+MNase\", \"undigested\" = \"untreated\")\n",
    "\n",
    "data <- datafiles %>% \n",
    "      lapply(. %>% read_csv(col_types = cols_only('Distance'='n', 'Absorbance'='n'), skip=32)) %>% \n",
    "  magrittr::set_names(samplenames) %>% \n",
    "  bind_rows(.id = 'sample') %>% \n",
    "  mutate(sample = as.factor(newnames[sample])) %>% \n",
    "  mutate(sample = forcats::fct_rev(sample))\n",
    "\n",
    "peak <- data %>% \n",
    "  group_by(sample) %>% \n",
    "  # skip supernatant peak\n",
    "  filter(Distance > 20) %>% \n",
    "  # find monosome peak\n",
    "  filter(Absorbance == max(Absorbance)) %>% \n",
    "  ungroup() %>% \n",
    "  mutate(peakdistance = Distance - mean(Distance)) %>% \n",
    "  mutate(absorbancefactor = Absorbance / max(Absorbance)) %>% \n",
    "  select(sample, peakdistance, absorbancefactor)\n",
    "\n",
    "data <- data %>% \n",
    "  left_join(peak, by = \"sample\") %>% \n",
    "  # shift along x-axis\n",
    "  mutate(Distance = Distance - peakdistance) %>% \n",
    "  print"
   ]
  },
  {
   "cell_type": "markdown",
   "metadata": {},
   "source": [
    "# Plot data"
   ]
  },
  {
   "cell_type": "code",
   "execution_count": 5,
   "metadata": {},
   "outputs": [
    {
     "data": {},
     "metadata": {},
     "output_type": "display_data"
    },
    {
     "data": {
      "image/png": "[encoded data removed]",
      "text/plain": [
       "plot without title"
      ]
     },
     "metadata": {},
     "output_type": "display_data"
    }
   ],
   "source": [
    "options(repr.plot.width = 2.75, repr.plot.height = 1.5)\n",
    "\n",
    "p  <- data %>%\n",
    "  ggplot(aes(x = Distance, y = Absorbance, color = sample)) +\n",
    "  geom_line(size=.5, alpha=1)  +\n",
    "  theme(axis.text.x = element_text(hjust = 0.5)) +\n",
    "  scale_y_continuous(breaks= scales::pretty_breaks(n=4), limits = c(0.04, 0.85)) +\n",
    "  scale_x_continuous(breaks= scales::pretty_breaks(n=3), limits = c(7,80)) +\n",
    "  scale_color_manual(values = cbPalette[2:1]) +\n",
    "  xlab(\"distance (mm)\") + ylab(expression(\"A\"[260])) +\n",
    "  theme(legend.title=element_blank()) \n",
    "  \n",
    "p\n",
    "\n",
    "ggsave(\"../figures/supp0_plusminusMNase_ragbq99lleurpA.pdf\", width = 2.75, height = 1.5, device = cairo_pdf)"
   ]
  },
  {
   "cell_type": "markdown",
   "metadata": {},
   "source": [
    "# repeat for +/-RNaseI data, HEK293T Rich cell lysate in Andreev or Ingolia buffers (supp. fig. 1A)"
   ]
  },
  {
   "cell_type": "code",
   "execution_count": 8,
   "metadata": {},
   "outputs": [
    {
     "name": "stdout",
     "output_type": "stream",
     "text": [
      "# A tibble: 2,799 x 5\n",
      "      sample Distance Absorbance peakdistance absorbancefactor\n",
      "      <fctr>    <dbl>      <dbl>        <dbl>            <dbl>\n",
      " 1 untreated     0.47   0.052222        -0.41                1\n",
      " 2 untreated     0.52   0.052185        -0.41                1\n",
      " 3 untreated     0.58   0.052154        -0.41                1\n",
      " 4 untreated     0.63   0.052133        -0.41                1\n",
      " 5 untreated     0.69   0.052109        -0.41                1\n",
      " 6 untreated     0.74   0.052089        -0.41                1\n",
      " 7 untreated     0.80   0.052081        -0.41                1\n",
      " 8 untreated     0.85   0.052069        -0.41                1\n",
      " 9 untreated     0.91   0.052043        -0.41                1\n",
      "10 untreated     0.96   0.052031        -0.41                1\n",
      "# ... with 2,789 more rows\n"
     ]
    }
   ],
   "source": [
    "datafiles <- '../rawdata/sdg_traces/rnaseI_titration/titration1'  %>% \n",
    "  list.files(pattern = c(\"andreev\"), full.names = T)\n",
    "samplenames <- datafiles %>% \n",
    "  stringr::str_match(\"([^_/.]+)[^/_]+$\") %>% \n",
    "  magrittr::extract(,2)\n",
    "newnames = c(\"minusrnase\" = \"untreated\", \"plusrnase\" = \"+RNaseI\")\n",
    "\n",
    "data <- datafiles %>% \n",
    "      lapply(. %>% read_csv(col_types = cols_only('Distance'='n', 'Absorbance'='n'), skip=32)) %>% \n",
    "  magrittr::set_names(samplenames) %>% \n",
    "  bind_rows(.id = 'sample') %>% \n",
    "  mutate(sample = as.factor(newnames[sample])) %>% \n",
    "  mutate(sample = forcats::fct_rev(sample))\n",
    "\n",
    "peak <- data %>% \n",
    "  group_by(sample) %>% \n",
    "  # skip supernatant peak\n",
    "  filter(Distance > 30) %>% \n",
    "  # find monosome peak\n",
    "  filter(Absorbance == max(Absorbance)) %>% \n",
    "  ungroup() %>% \n",
    "  mutate(peakdistance = Distance - mean(Distance)) %>% \n",
    "  mutate(absorbancefactor = Absorbance / max(Absorbance)) %>% \n",
    "  select(sample, peakdistance, absorbancefactor)\n",
    "\n",
    "data <- data %>% \n",
    "  left_join(peak, by = \"sample\") %>% \n",
    "  # shift along x-axis\n",
    "  mutate(Distance = Distance - peakdistance) %>% \n",
    "  print"
   ]
  },
  {
   "cell_type": "code",
   "execution_count": 9,
   "metadata": {},
   "outputs": [
    {
     "data": {},
     "metadata": {},
     "output_type": "display_data"
    },
    {
     "data": {
      "image/png": "[encoded data removed]",
      "text/plain": [
       "plot without title"
      ]
     },
     "metadata": {},
     "output_type": "display_data"
    }
   ],
   "source": [
    "options(repr.plot.width = 2.75, repr.plot.height = 1.5)\n",
    "\n",
    "p  <- data %>%\n",
    "  ggplot(aes(x = Distance, y = Absorbance, color = sample)) +\n",
    "  geom_line(size=.5, alpha=1)  +\n",
    "  theme(axis.text.x = element_text(hjust = 0.5)) +\n",
    "  scale_y_continuous(breaks= scales::pretty_breaks(n=4), limits = c(0.02, 0.27)) +\n",
    "  scale_x_continuous(breaks= scales::pretty_breaks(n=3), limits = c(9,80)) +\n",
    "  scale_color_manual(values = cbPalette[2:1]) +\n",
    "  xlab(\"distance (mm)\") + ylab(expression(\"A\"[260])) +\n",
    "  theme(legend.title=element_blank()) \n",
    "  \n",
    "p\n",
    "\n",
    "ggsave(\"../figures/supp0_RNaseI_titration1_andreev_293t.pdf\", width = 2.75, height = 1.5, device = cairo_pdf)"
   ]
  },
  {
   "cell_type": "code",
   "execution_count": 2,
   "metadata": {},
   "outputs": [
    {
     "name": "stdout",
     "output_type": "stream",
     "text": [
      "# A tibble: 4,026 x 5\n",
      "      sample  Distance Absorbance peakdistance absorbancefactor\n",
      "      <fctr>     <dbl>      <dbl>        <dbl>            <dbl>\n",
      " 1 untreated -1.786667   0.053280     1.846667                1\n",
      " 2 untreated -1.736667   0.053286     1.846667                1\n",
      " 3 untreated -1.676667   0.053273     1.846667                1\n",
      " 4 untreated -1.626667   0.053278     1.846667                1\n",
      " 5 untreated -1.566667   0.053272     1.846667                1\n",
      " 6 untreated -1.516667   0.053281     1.846667                1\n",
      " 7 untreated -1.456667   0.053282     1.846667                1\n",
      " 8 untreated -1.406667   0.053270     1.846667                1\n",
      " 9 untreated -1.346667   0.053276     1.846667                1\n",
      "10 untreated -1.296667   0.053280     1.846667                1\n",
      "# ... with 4,016 more rows\n"
     ]
    }
   ],
   "source": [
    "datafiles <- '../rawdata/sdg_traces/rnaseI_titration/titration1'  %>% \n",
    "  list.files(pattern = c(\"ingolia\"), full.names = T)\n",
    "samplenames <- datafiles %>% \n",
    "  stringr::str_match(\"([^_/.]+)[^/_]+$\") %>% \n",
    "  magrittr::extract(,2)\n",
    "newnames = c(\"minusrnase\" = \"untreated\", \"plusrnase\" = \"+RNaseI\")\n",
    "\n",
    "data <- datafiles %>% \n",
    "      lapply(. %>% read_csv(col_types = cols_only('Distance'='n', 'Absorbance'='n'), skip=32)) %>% \n",
    "  magrittr::set_names(samplenames) %>% \n",
    "  bind_rows(.id = 'sample') %>% \n",
    "  mutate(sample = as.factor(newnames[sample])) %>% \n",
    "  mutate(sample = forcats::fct_rev(sample))\n",
    "\n",
    "peak <- data %>% \n",
    "  group_by(sample) %>% \n",
    "  # skip supernatant peak\n",
    "  filter(Distance > 30) %>% \n",
    "  # find monosome peak\n",
    "  filter(Absorbance == max(Absorbance)) %>% \n",
    "  ungroup() %>% \n",
    "  mutate(peakdistance = Distance - mean(Distance)) %>% \n",
    "  mutate(absorbancefactor = Absorbance / max(Absorbance)) %>% \n",
    "  select(sample, peakdistance, absorbancefactor)\n",
    "\n",
    "data <- data %>% \n",
    "  left_join(peak, by = \"sample\") %>% \n",
    "  # shift along x-axis\n",
    "  mutate(Distance = Distance - peakdistance) %>% \n",
    "  print"
   ]
  },
  {
   "cell_type": "code",
   "execution_count": 3,
   "metadata": {},
   "outputs": [
    {
     "data": {},
     "metadata": {},
     "output_type": "display_data"
    },
    {
     "data": {
      "image/png": "[encoded data removed]",
      "text/plain": [
       "plot without title"
      ]
     },
     "metadata": {},
     "output_type": "display_data"
    }
   ],
   "source": [
    "options(repr.plot.width = 2.75, repr.plot.height = 1.5)\n",
    "\n",
    "p  <- data %>%\n",
    "  ggplot(aes(x = Distance, y = Absorbance, color = sample)) +\n",
    "  geom_line(size=.5, alpha=1)  +\n",
    "  theme(axis.text.x = element_text(hjust = 0.5)) +\n",
    "  scale_y_continuous(breaks= scales::pretty_breaks(n=4), limits = c(0.02, 0.27)) +\n",
    "  scale_x_continuous(breaks= scales::pretty_breaks(n=3), limits = c(9,80)) +\n",
    "  scale_color_manual(values = cbPalette[2:1]) +\n",
    "  xlab(\"distance (mm)\") + ylab(expression(\"A\"[260])) +\n",
    "  theme(legend.title=element_blank()) \n",
    "  \n",
    "p\n",
    "\n",
    "ggsave(\"../figures/supp0_RNaseI_titration1_ingolia_293t.pdf\", width = 2.75, height = 1.5, device = cairo_pdf)"
   ]
  },
  {
   "cell_type": "markdown",
   "metadata": {},
   "source": [
    "# repeat for RNaseI titration data, HEK293T Rich cell lysate in Andreev buffer (supp. fig. 1B)"
   ]
  },
  {
   "cell_type": "code",
   "execution_count": 5,
   "metadata": {},
   "outputs": [
    {
     "name": "stdout",
     "output_type": "stream",
     "text": [
      "# A tibble: 25,406 x 5\n",
      "   sample    Distance Absorbance peakdistance absorbancefactor\n",
      "   <fctr>       <dbl>      <dbl>        <dbl>            <dbl>\n",
      " 1   10 U -0.34888889   0.030757    0.3788889        0.3293766\n",
      " 2   10 U -0.31888889   0.030749    0.3788889        0.3293766\n",
      " 3   10 U -0.29888889   0.030767    0.3788889        0.3293766\n",
      " 4   10 U -0.26888889   0.030753    0.3788889        0.3293766\n",
      " 5   10 U -0.23888889   0.030751    0.3788889        0.3293766\n",
      " 6   10 U -0.20888889   0.030762    0.3788889        0.3293766\n",
      " 7   10 U -0.18888889   0.030760    0.3788889        0.3293766\n",
      " 8   10 U -0.15888889   0.030749    0.3788889        0.3293766\n",
      " 9   10 U -0.12888889   0.030753    0.3788889        0.3293766\n",
      "10   10 U -0.09888889   0.030750    0.3788889        0.3293766\n",
      "# ... with 25,396 more rows\n"
     ]
    }
   ],
   "source": [
    "datafiles <- '../rawdata/sdg_traces/rnaseI_titration/titration2'  %>% \n",
    "  list.files(pattern = c(\"Andreev\"), full.names = T)\n",
    "samplenames <- datafiles %>% \n",
    "  stringr::str_match(\"([^_/.]+)[^/_]+$\") %>% \n",
    "  magrittr::extract(,2)\n",
    "newnames = c(\"minusrnase\" = \"untreated\", \"1ulrnase\" = \"100 U\", \"25ulrnase\" = \"250 U\", \"5ulrnase\" = \"500 U\",\n",
    "            \"75ulrnase\" = \"750 U\", \"10ulrnase\" = \"1,000 U\",'110'='10 U','1100'='1 U')\n",
    "\n",
    "data <- datafiles %>% \n",
    "      lapply(. %>% read_csv(col_types = cols_only('Distance'='n', 'Absorbance'='n'), skip=32)) %>% \n",
    "  magrittr::set_names(samplenames) %>% \n",
    "  bind_rows(.id = 'sample') %>% \n",
    "  mutate(sample = as.factor(newnames[sample])) %>% \n",
    "  mutate(sample = forcats::fct_rev(sample))\n",
    "\n",
    "peak <- data %>% \n",
    "  group_by(sample) %>% \n",
    "  # skip supernatant peak\n",
    "  filter(Distance > 30) %>% \n",
    "  # find monosome peak\n",
    "  filter(Absorbance == max(Absorbance)) %>% \n",
    "  ungroup() %>% \n",
    "  mutate(peakdistance = Distance - mean(Distance)) %>% \n",
    "  mutate(absorbancefactor = Absorbance / max(Absorbance)) %>% \n",
    "  select(sample, peakdistance, absorbancefactor)\n",
    "\n",
    "data <- data %>% \n",
    "  left_join(peak, by = \"sample\") %>% \n",
    "  # shift along x-axis\n",
    "  mutate(Distance = Distance - peakdistance) %>% \n",
    "  print"
   ]
  },
  {
   "cell_type": "code",
   "execution_count": 6,
   "metadata": {},
   "outputs": [
    {
     "data": {},
     "metadata": {},
     "output_type": "display_data"
    },
    {
     "data": {
      "image/png": "[encoded data removed]",
      "text/plain": [
       "plot without title"
      ]
     },
     "metadata": {},
     "output_type": "display_data"
    }
   ],
   "source": [
    "options(repr.plot.width = 2.75, repr.plot.height = 1.5)\n",
    "\n",
    "p  <- data %>%\n",
    "  ggplot(aes(x = Distance, y = Absorbance, color = sample)) +\n",
    "  geom_line(size=.5, alpha=1)  +\n",
    "  theme(axis.text.x = element_text(hjust = 0.5)) +\n",
    "  scale_y_continuous(breaks= scales::pretty_breaks(n=4), limits = c(0.02, 0.25)) +\n",
    "  scale_x_continuous(breaks= scales::pretty_breaks(n=3), limits = c(9,80)) +\n",
    "  scale_color_manual(values = c(cbPalette[2],cbPalette[8:3],cbPalette[1])) +\n",
    "  xlab(\"distance (mm)\") + ylab(expression(\"A\"[260])) +\n",
    "  theme(legend.title=element_blank()) \n",
    "  \n",
    "p\n",
    "\n",
    "ggsave(\"../figures/supp0_RNaseI_titration2_andreev_293t.pdf\", width = 2.75, height = 1.5, device = cairo_pdf)"
   ]
  }
 ],
 "metadata": {
  "kernelspec": {
   "display_name": "R",
   "language": "R",
   "name": "ir"
  },
  "language_info": {
   "codemirror_mode": "r",
   "file_extension": ".r",
   "mimetype": "text/x-r-source",
   "name": "R",
   "pygments_lexer": "r",
   "version": "3.4.0"
  },
  "toc": {
   "colors": {
    "hover_highlight": "#DAA520",
    "navigate_num": "#000000",
    "navigate_text": "#333333",
    "running_highlight": "#FF0000",
    "selected_highlight": "#FFD700",
    "sidebar_border": "#EEEEEE",
    "wrapper_background": "#FFFFFF"
   },
   "moveMenuLeft": true,
   "nav_menu": {
    "height": "12px",
    "width": "252px"
   },
   "navigate_menu": true,
   "number_sections": true,
   "sideBar": true,
   "threshold": 4,
   "toc_cell": true,
   "toc_position": {
    "height": "875px",
    "left": "0px",
    "right": "1533.47px",
    "top": "111px",
    "width": "212px"
   },
   "toc_section_display": "block",
   "toc_window_display": true,
   "widenNotebook": false
  }
 },
 "nbformat": 4,
 "nbformat_minor": 2
}
