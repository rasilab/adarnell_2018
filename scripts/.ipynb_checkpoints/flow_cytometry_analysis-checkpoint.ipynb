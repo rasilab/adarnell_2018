{
 "cells": [
  {
   "cell_type": "markdown",
   "metadata": {
    "toc": "true"
   },
   "source": [
    "# Table of Contents for example analysis (Fig. 6B)\n",
    " <p><div class=\"lev1 toc-item\"><a href=\"#Import-libraries\" data-toc-modified-id=\"Import-libraries-1\"><span class=\"toc-item-num\">1&nbsp;&nbsp;</span>Import libraries</a></div><div class=\"lev1 toc-item\"><a href=\"#Read-data-:-HEK293T-Arg-codon-variants\" data-toc-modified-id=\"Read-data-:-HEK293T-Arg-codon-variants-2\"><span class=\"toc-item-num\">2&nbsp;&nbsp;</span>Read data : HEK293T Arg codon variants</a></div><div class=\"lev1 toc-item\"><a href=\"#Read-annotations\" data-toc-modified-id=\"Read-annotations-3\"><span class=\"toc-item-num\">3&nbsp;&nbsp;</span>Read annotations</a></div><div class=\"lev1 toc-item\"><a href=\"#Calucate-FITC-mean\" data-toc-modified-id=\"Calucate-FITC-mean-4\"><span class=\"toc-item-num\">4&nbsp;&nbsp;</span>Calucate FITC mean</a></div><div class=\"lev1 toc-item\"><a href=\"#Normalize-by-Rich-sample-for-each-time-point\" data-toc-modified-id=\"Normalize-by-Rich-sample-for-each-time-point-5\"><span class=\"toc-item-num\">5&nbsp;&nbsp;</span>Normalize by Rich sample for each time point</a></div><div class=\"lev1 toc-item\"><a href=\"#Plot-data\" data-toc-modified-id=\"Plot-data-6\"><span class=\"toc-item-num\">6&nbsp;&nbsp;</span>Plot data</a></div>\n",
    " \n",
    "* this analysis is repeated for all other flow cytometry experiments below : Fig. 6C-E,G,I; Supp. Fig. 6A-C"
   ]
  },
  {
   "cell_type": "markdown",
   "metadata": {},
   "source": [
    "# Import libraries"
   ]
  },
  {
   "cell_type": "code",
   "execution_count": 3,
   "metadata": {},
   "outputs": [
    {
     "name": "stderr",
     "output_type": "stream",
     "text": [
      "Loading tidyverse: ggplot2\n",
      "Loading tidyverse: tibble\n",
      "Loading tidyverse: tidyr\n",
      "Loading tidyverse: readr\n",
      "Loading tidyverse: purrr\n",
      "Loading tidyverse: dplyr\n",
      "Warning message:\n",
      "“package ‘purrr’ was built under R version 3.4.1”Warning message:\n",
      "“package ‘dplyr’ was built under R version 3.4.1”Conflicts with tidy packages ---------------------------------------------------\n",
      "filter(): dplyr, stats\n",
      "lag():    dplyr, stats\n",
      "\n",
      "Attaching package: ‘magrittr’\n",
      "\n",
      "The following object is masked from ‘package:purrr’:\n",
      "\n",
      "    set_names\n",
      "\n",
      "The following object is masked from ‘package:tidyr’:\n",
      "\n",
      "    extract\n",
      "\n"
     ]
    }
   ],
   "source": [
    "library(tidyverse)\n",
    "library(magrittr)\n",
    "library(Cairo)\n",
    "options(warn=-1)\n",
    "\n",
    "# color blind palette\n",
    "# http://www.cookbook-r.com/Graphs/Colors_(ggplot2)/#a-colorblind-friendly-palette\n",
    "cbPalette <- c(\"#666666\", \"#E69F00\", \"#56B4E9\", \n",
    "               \"#009E73\", \"#CC79A7\", \"#0072B2\", \"#D55E00\", \"#F0E442\")\n",
    "\n",
    "theme_set(theme_classic(base_family = \"Helvetica\", base_size = 8) +\n",
    "theme(          \n",
    "  strip.background = element_blank(),\n",
    "  strip.text.x = element_text(size = 8),\n",
    "  axis.line = element_line(size = .25),\n",
    "  axis.ticks = element_line(size = .25),\n",
    "  axis.text.x = element_text(size = 8, color = 'black'),\n",
    "  axis.text.y = element_text(size = 8, color = 'black'),\n",
    "  legend.text = element_text(size = 8),\n",
    "    \n",
    "))"
   ]
  },
  {
   "cell_type": "markdown",
   "metadata": {},
   "source": [
    "# Read data : HEK293T Arg codon variants"
   ]
  },
  {
   "cell_type": "code",
   "execution_count": 2,
   "metadata": {},
   "outputs": [
    {
     "name": "stdout",
     "output_type": "stream",
     "text": [
      "# A tibble: 570,058 x 14\n",
      "                    file     FSC.A     SSC.A     APC.A APC.Cy7.A  FITC.A\n",
      "                   <chr>     <dbl>     <dbl>     <dbl>     <dbl>   <dbl>\n",
      " 1 Specimen_001_Tube_001 173775.05  58353.58 237.76999     35.40 6567.82\n",
      " 2 Specimen_001_Tube_001  84840.60  47419.54 168.73999     17.70 2168.06\n",
      " 3 Specimen_001_Tube_001 132375.28  57618.28 194.10999      4.72 9568.36\n",
      " 4 Specimen_001_Tube_001 138018.19  66356.74 174.04999     65.49 1555.74\n",
      " 5 Specimen_001_Tube_001  76408.38  28594.14  64.89999     25.96 1166.16\n",
      " 6 Specimen_001_Tube_001 262143.00 113630.08 594.71997      5.31 6658.12\n",
      " 7 Specimen_001_Tube_001 107458.20  39519.58  59.00000     34.81 2912.82\n",
      " 8 Specimen_001_Tube_001  97739.70  31794.20 146.90999     25.96 4261.30\n",
      " 9 Specimen_001_Tube_001  15080.34  16763.12  71.98000      3.54  202.96\n",
      "10 Specimen_001_Tube_001  76043.38  30968.60 227.73999     21.83  971.80\n",
      "# ... with 570,048 more rows, and 8 more variables: PerCP.A <dbl>,\n",
      "#   mCFP.A <dbl>, Chromomycin.A3.A <dbl>, PE.A <dbl>, PE.Texas.Red.A <dbl>,\n",
      "#   PE.Cy5.A <dbl>, PE.Cy7.A <dbl>, Time <dbl>\n"
     ]
    }
   ],
   "source": [
    "# look for files ending in .fcs\n",
    "fcsfiles <- '../rawdata/flow_cytometry/fig6/WT_arg_codonvariants_122448/fcs_files/' %>% \n",
    "    list.files(full.names = T, pattern = '.fcs$')\n",
    "\n",
    "flowdata  <- fcsfiles %>% \n",
    "    lapply(. %>%\n",
    "           # read FCS file without any transformations\n",
    "           flowCore::read.FCS(transformation = F, alter.names = T) %>% \n",
    "           # extract counts alone\n",
    "           flowCore::exprs() %>% \n",
    "           # convert to dplyr tibble\n",
    "           as_tibble() \n",
    "          )\n",
    "\n",
    "names(flowdata) <- fcsfiles %>% \n",
    "    # extract file name without .fcs extension and parent folders\n",
    "    lapply(. %>% \n",
    "           stringr::str_match('([^/]+).fcs$') %>% \n",
    "           extract2(2))\n",
    "\n",
    "# join all samples by 'file'\n",
    "flowdata %<>% bind_rows(.id = 'file') %>% \n",
    "  filter_if(is.numeric,all_vars(. >= 0))\n",
    "print(flowdata)\n"
   ]
  },
  {
   "cell_type": "markdown",
   "metadata": {},
   "source": [
    "# Read annotations"
   ]
  },
  {
   "cell_type": "code",
   "execution_count": 3,
   "metadata": {},
   "outputs": [
    {
     "name": "stdout",
     "output_type": "stream",
     "text": [
      "# A tibble: 54 x 5\n",
      "                    file codonmutation samplelabel  time replicate\n",
      "                   <chr>         <chr>       <chr> <int>     <int>\n",
      " 1 Specimen_001_Tube_001            WT        Rich    12         1\n",
      " 2 Specimen_001_Tube_002            WT        -Leu    12         1\n",
      " 3 Specimen_001_Tube_003            WT        -Arg    12         1\n",
      " 4 Specimen_001_Tube_004           CGG        Rich    12         1\n",
      " 5 Specimen_001_Tube_005           CGG        -Leu    12         1\n",
      " 6 Specimen_001_Tube_006           CGG        -Arg    12         1\n",
      " 7 Specimen_001_Tube_007           CGA        Rich    12         1\n",
      " 8 Specimen_001_Tube_008           CGA        -Leu    12         1\n",
      " 9 Specimen_001_Tube_009           CGA        -Arg    12         1\n",
      "10 Specimen_001_Tube_010           CGT        Rich    12         1\n",
      "# ... with 44 more rows\n"
     ]
    }
   ],
   "source": [
    "annotations <- read_tsv('../rawdata/flow_cytometry/fig6/WT_arg_codonvariants_122448/sampleannotations.tsv', \n",
    "                        col_types = list('plate' = col_integer())) %>% \n",
    "  # replace all 'na' ny NA\n",
    "  mutate_all(funs(ifelse(. == 'na', NA, .))) %>% \n",
    "print(annotations)"
   ]
  },
  {
   "cell_type": "markdown",
   "metadata": {},
   "source": [
    "# Calucate FITC mean"
   ]
  },
  {
   "cell_type": "code",
   "execution_count": 4,
   "metadata": {},
   "outputs": [
    {
     "name": "stderr",
     "output_type": "stream",
     "text": [
      "Adding missing grouping variables: `file`\n"
     ]
    },
    {
     "name": "stdout",
     "output_type": "stream",
     "text": [
      "# A tibble: 54 x 6\n",
      "                    file      yfp codonmutation samplelabel  time replicate\n",
      "                   <chr>    <dbl>         <chr>       <chr> <int>     <int>\n",
      " 1 Specimen_001_Tube_001 5652.695            WT        Rich    12         1\n",
      " 2 Specimen_001_Tube_002 4473.843            WT        -Leu    12         1\n",
      " 3 Specimen_001_Tube_003 2160.199            WT        -Arg    12         1\n",
      " 4 Specimen_001_Tube_004 2209.259           CGG        Rich    12         1\n",
      " 5 Specimen_001_Tube_005 1573.470           CGG        -Leu    12         1\n",
      " 6 Specimen_001_Tube_006 1238.151           CGG        -Arg    12         1\n",
      " 7 Specimen_001_Tube_007 1895.023           CGA        Rich    12         1\n",
      " 8 Specimen_001_Tube_008 1465.629           CGA        -Leu    12         1\n",
      " 9 Specimen_001_Tube_009 1059.962           CGA        -Arg    12         1\n",
      "10 Specimen_001_Tube_010 2172.404           CGT        Rich    12         1\n",
      "# ... with 44 more rows\n"
     ]
    }
   ],
   "source": [
    "data <- flowdata  %>% \n",
    "    # group by  each file (tube)\n",
    "    group_by(file) %>% \n",
    "    select(FITC.A) %>% \n",
    "    # calculate mean\n",
    "    summarise_all(mean) %>% \n",
    "    # ratios\n",
    "    rename('yfp' = FITC.A) %>% \n",
    "    # join annotations\n",
    "    left_join(annotations, by = 'file')\n",
    "print(data)"
   ]
  },
  {
   "cell_type": "markdown",
   "metadata": {},
   "source": [
    "# Normalize by Rich sample for each time point"
   ]
  },
  {
   "cell_type": "code",
   "execution_count": 6,
   "metadata": {},
   "outputs": [
    {
     "name": "stdout",
     "output_type": "stream",
     "text": [
      "# A tibble: 36 x 6\n",
      "         yfp codonmutation samplelabel   time replicate relative_yfp\n",
      "       <dbl>        <fctr>      <fctr> <fctr>     <int>        <dbl>\n",
      " 1 4473.8432           CGC        –Leu     12         1    0.7914531\n",
      " 2 2160.1987           CGC        –Arg     12         1    0.3821538\n",
      " 3 1573.4696           CGG        –Leu     12         1    0.7122161\n",
      " 4 1238.1506           CGG        –Arg     12         1    0.5604371\n",
      " 5 1465.6290           CGA        –Leu     12         1    0.7734094\n",
      " 6 1059.9622           CGA        –Arg     12         1    0.5593399\n",
      " 7 1733.3637           CGU        –Leu     12         1    0.7979010\n",
      " 8  983.7402           CGU        –Arg     12         1    0.4528347\n",
      " 9 1019.5558           AGA        –Leu     12         1    0.8062116\n",
      "10  565.3547           AGA        –Arg     12         1    0.4470531\n",
      "# ... with 26 more rows\n"
     ]
    }
   ],
   "source": [
    "norm.data <- data %>% \n",
    "  group_by(codonmutation,time) %>%\n",
    "  mutate(relative_yfp = yfp / yfp[samplelabel == \"Rich\"]) %>%\n",
    "  ungroup() %>% \n",
    "  select(-file) %>% \n",
    "  filter(samplelabel != \"Rich\") %>% \n",
    "  mutate(samplelabel = stringr::str_replace(samplelabel, \"-\", \"–\")) %>% \n",
    "  mutate(codonmutation = stringr::str_replace(codonmutation, \"WT\", \"CGC\")) %>% \n",
    "  mutate(codonmutation = stringr::str_replace(codonmutation, \"T\", \"U\")) %>%\n",
    "  mutate_if(is.character, as.factor) %>% \n",
    "  mutate(time = as.factor(time)) %>% \n",
    "  print"
   ]
  },
  {
   "cell_type": "markdown",
   "metadata": {},
   "source": [
    "# Plot data"
   ]
  },
  {
   "cell_type": "code",
   "execution_count": 11,
   "metadata": {},
   "outputs": [
    {
     "data": {},
     "metadata": {},
     "output_type": "display_data"
    },
    {
     "data": {
      "image/png": "[encoded data removed]",
      "text/plain": [
       "plot without title"
      ]
     },
     "metadata": {},
     "output_type": "display_data"
    }
   ],
   "source": [
    "options(repr.plot.width = 4, repr.plot.height = 1.5)\n",
    "\n",
    "norm.data %>% \n",
    "  ggplot(aes(x = time, y = relative_yfp, color = codonmutation,\n",
    "             group = codonmutation)) +\n",
    "  geom_point(size=0.5) + geom_line(size=0.5) +\n",
    "  facet_wrap(~ samplelabel, ncol = 2) +\n",
    "  # set colors manually\n",
    "  scale_colour_manual(values=rep(cbPalette[2:7], 2)) +\n",
    "  scale_y_continuous(breaks = scales::pretty_breaks(n=3), limits=c(.3,1.05)) +\n",
    "  xlab('time (hr)') + \n",
    "  ylab('fluorescence\\n(relative to rich)') +\n",
    "  labs(color = \"\") +\n",
    "  theme(legend.key.size = unit(1, 'lines'))\n",
    "ggsave('../figures/fig6b.pdf',\n",
    "       width = 4, height = 1.5, units = 'in', device = cairo_pdf)"
   ]
  },
  {
   "cell_type": "markdown",
   "metadata": {},
   "source": [
    "# repeat for HEK293T Leu codon variants (fig. 6d)"
   ]
  },
  {
   "cell_type": "code",
   "execution_count": 18,
   "metadata": {
    "collapsed": true
   },
   "outputs": [],
   "source": [
    "# look for files ending in .fcs\n",
    "fcsfiles <- '../rawdata/flow_cytometry/fig6/WT_leu_codonvariants_122448/fcs_files/' %>% \n",
    "    list.files(full.names = T, pattern = '.fcs$')\n",
    "\n",
    "flowdata  <- fcsfiles %>% \n",
    "    lapply(. %>%\n",
    "           # read FCS file without any transformations\n",
    "           flowCore::read.FCS(transformation = F, alter.names = T) %>% \n",
    "           # extract counts alone\n",
    "           flowCore::exprs() %>% \n",
    "           # convert to dplyr tibble\n",
    "           as_tibble() \n",
    "          )\n",
    "\n",
    "names(flowdata) <- fcsfiles %>% \n",
    "    # extract file name without .fcs extension and parent folders\n",
    "    lapply(. %>% \n",
    "           stringr::str_match('([^/]+).fcs$') %>% \n",
    "           extract2(2))\n",
    "\n",
    "# join all samples by 'file'\n",
    "flowdata %<>% bind_rows(.id = 'file') %>% \n",
    "  filter_if(is.numeric,all_vars(. >= 0))\n",
    "#print(flowdata)\n",
    "\n"
   ]
  },
  {
   "cell_type": "code",
   "execution_count": 19,
   "metadata": {
    "collapsed": true
   },
   "outputs": [],
   "source": [
    "annotations <- read_tsv('../rawdata/flow_cytometry/fig6/WT_leu_codonvariants_122448/sampleannotations.tsv', \n",
    "                        col_types = list('plate' = col_integer())) %>% \n",
    "  # replace all 'na' ny NA\n",
    "  mutate_all(funs(ifelse(. == 'na', NA, .))) #%>% \n",
    "#print(annotations)"
   ]
  },
  {
   "cell_type": "code",
   "execution_count": 20,
   "metadata": {},
   "outputs": [
    {
     "name": "stderr",
     "output_type": "stream",
     "text": [
      "Adding missing grouping variables: `file`\n"
     ]
    }
   ],
   "source": [
    "data <- flowdata  %>% \n",
    "    # group by  each file (tube)\n",
    "    group_by(file) %>% \n",
    "    select(FITC.A) %>% \n",
    "    # calculate mean\n",
    "    summarise_all(mean) %>% \n",
    "    # ratios\n",
    "    rename('yfp' = FITC.A) %>% \n",
    "    # join annotations\n",
    "    left_join(annotations, by = 'file')\n",
    "#print(data)\n"
   ]
  },
  {
   "cell_type": "code",
   "execution_count": 21,
   "metadata": {
    "collapsed": true
   },
   "outputs": [],
   "source": [
    "norm.data <- data %>% \n",
    "  group_by(codonmutation,time) %>%\n",
    "  mutate(relative_yfp = yfp / yfp[samplelabel == \"Rich\"]) %>%\n",
    "  ungroup() %>% \n",
    "  select(-file) %>% \n",
    "  filter(samplelabel != \"Rich\") %>% \n",
    "  mutate(samplelabel = stringr::str_replace(samplelabel, \"-\", \"–\")) %>% \n",
    "  mutate(codonmutation = stringr::str_replace(codonmutation, \"WT\", \"CUG\")) %>% \n",
    "  mutate(codonmutation = stringr::str_replace(codonmutation, \"T\", \"U\")) %>%\n",
    "  mutate(codonmutation = stringr::str_replace(codonmutation, \"T\", \"U\")) %>%\n",
    "  mutate_if(is.character, as.factor) %>% \n",
    "  mutate(time = as.factor(time)) #%>% \n",
    "  #print"
   ]
  },
  {
   "cell_type": "code",
   "execution_count": 22,
   "metadata": {},
   "outputs": [
    {
     "data": {},
     "metadata": {},
     "output_type": "display_data"
    },
    {
     "data": {
      "image/png": "[encoded data removed]",
      "text/plain": [
       "plot without title"
      ]
     },
     "metadata": {},
     "output_type": "display_data"
    }
   ],
   "source": [
    "options(repr.plot.width = 4, repr.plot.height = 1.5)\n",
    "\n",
    "norm.data %>% \n",
    "  ggplot(aes(x = time, y = relative_yfp, color = codonmutation,\n",
    "             group = codonmutation)) +\n",
    "  geom_point(size=0.5) + geom_line(size=0.5) +\n",
    "  facet_wrap(~ samplelabel, ncol = 2) +\n",
    "  # set colors manually\n",
    "  scale_colour_manual(values=rep(cbPalette[2:7], 2)) +\n",
    "  scale_y_continuous(breaks = scales::pretty_breaks(n=3), limits=c(.3,1.05)) +\n",
    "  xlab('time (hr)') + \n",
    "  ylab('fluorescence\\n(relative to rich)') +\n",
    "  labs(color = \"\") +\n",
    "  theme(legend.key.size = unit(1, 'lines'))\n",
    "\n",
    "ggsave('../figures/fig6d.pdf',\n",
    "       width = 4, height = 1.5, units = 'in', device = cairo_pdf)"
   ]
  },
  {
   "cell_type": "markdown",
   "metadata": {},
   "source": [
    "# repeat for HEK293T GCN2 KO Arg codon variants (fig. 6c)"
   ]
  },
  {
   "cell_type": "code",
   "execution_count": 49,
   "metadata": {},
   "outputs": [
    {
     "name": "stdout",
     "output_type": "stream",
     "text": [
      "# A tibble: 583,850 x 14\n",
      "                    file     FSC.A    SSC.A  APC.A APC.Cy7.A  FITC.A PerCP.A\n",
      "                   <chr>     <dbl>    <dbl>  <dbl>     <dbl>   <dbl>   <dbl>\n",
      " 1 Specimen_001_Tube_001 114441.38 41118.00  76.56     12.76 2006.76 2241.12\n",
      " 2 Specimen_001_Tube_001 110154.81 46641.84  80.04     31.90 6069.84 5756.52\n",
      " 3 Specimen_001_Tube_001  46831.69 32855.76 110.78     17.98 1467.48 1349.04\n",
      " 4 Specimen_001_Tube_001 104181.23 45553.20 278.40     30.16 3636.36 3704.40\n",
      " 5 Specimen_001_Tube_001  81402.30 38120.04 121.80     25.52 8132.88 9076.20\n",
      " 6 Specimen_001_Tube_001  71689.65 44279.76 116.58     12.76 4495.68 4269.72\n",
      " 7 Specimen_001_Tube_001 110527.11 42745.92 350.90     81.78   53.76  973.56\n",
      " 8 Specimen_001_Tube_001 109529.93 40943.28 247.66      0.00  498.12  769.44\n",
      " 9 Specimen_001_Tube_001  34377.89 23326.80 215.76     22.04 1164.24 1864.80\n",
      "10 Specimen_001_Tube_001 132105.91 51675.96 345.68     51.04 2488.92 2892.12\n",
      "# ... with 583,840 more rows, and 7 more variables: mCFP.A <dbl>,\n",
      "#   Chromomycin.A3.A <dbl>, PE.A <dbl>, PE.Texas.Red.A <dbl>, PE.Cy5.A <dbl>,\n",
      "#   PE.Cy7.A <dbl>, Time <dbl>\n"
     ]
    }
   ],
   "source": [
    "# look for files ending in .fcs\n",
    "fcsfiles <- '../rawdata/flow_cytometry/fig6/GCN2KO_arg_codonvariants_122448/fcs_files/' %>% \n",
    "    list.files(full.names = T, pattern = '.fcs$')\n",
    "\n",
    "flowdata  <- fcsfiles %>% \n",
    "    lapply(. %>%\n",
    "           # read FCS file without any transformations\n",
    "           flowCore::read.FCS(transformation = F, alter.names = T) %>% \n",
    "           # extract counts alone\n",
    "           flowCore::exprs() %>% \n",
    "           # convert to dplyr tibble\n",
    "           as_tibble() \n",
    "          )\n",
    "\n",
    "names(flowdata) <- fcsfiles %>% \n",
    "    # extract file name without .fcs extension and parent folders\n",
    "    lapply(. %>% \n",
    "           stringr::str_match('([^/]+).fcs$') %>% \n",
    "           extract2(2))\n",
    "\n",
    "# join all samples by 'file'\n",
    "flowdata %<>% bind_rows(.id = 'file') %>% \n",
    "  filter_if(is.numeric,all_vars(. >= 0))\n",
    "print(flowdata)\n",
    "\n"
   ]
  },
  {
   "cell_type": "code",
   "execution_count": 50,
   "metadata": {},
   "outputs": [
    {
     "name": "stdout",
     "output_type": "stream",
     "text": [
      "# A tibble: 54 x 5\n",
      "                    file codonmutation samplelabel  time replicate\n",
      "                   <chr>         <chr>       <chr> <int>     <int>\n",
      " 1 Specimen_001_Tube_001            WT        Rich    12         1\n",
      " 2 Specimen_001_Tube_002            WT        -Leu    12         1\n",
      " 3 Specimen_001_Tube_003            WT        -Arg    12         1\n",
      " 4 Specimen_001_Tube_004           CGG        Rich    12         1\n",
      " 5 Specimen_001_Tube_005           CGG        -Leu    12         1\n",
      " 6 Specimen_001_Tube_006           CGG        -Arg    12         1\n",
      " 7 Specimen_001_Tube_007           CGA        Rich    12         1\n",
      " 8 Specimen_001_Tube_008           CGA        -Leu    12         1\n",
      " 9 Specimen_001_Tube_009           CGA        -Arg    12         1\n",
      "10 Specimen_001_Tube_010           CGT        Rich    12         1\n",
      "# ... with 44 more rows\n"
     ]
    }
   ],
   "source": [
    "annotations <- read_tsv('../rawdata/flow_cytometry/fig6/GCN2KO_arg_codonvariants_122448/sampleannotations.tsv', \n",
    "                        col_types = list('plate' = col_integer())) %>% \n",
    "  # replace all 'na' ny NA\n",
    "  mutate_all(funs(ifelse(. == 'na', NA, .))) %>% \n",
    "print(annotations)"
   ]
  },
  {
   "cell_type": "code",
   "execution_count": 51,
   "metadata": {},
   "outputs": [
    {
     "name": "stderr",
     "output_type": "stream",
     "text": [
      "Adding missing grouping variables: `file`\n"
     ]
    },
    {
     "name": "stdout",
     "output_type": "stream",
     "text": [
      "# A tibble: 54 x 6\n",
      "                    file      yfp codonmutation samplelabel  time replicate\n",
      "                   <chr>    <dbl>         <chr>       <chr> <int>     <int>\n",
      " 1 Specimen_001_Tube_001 3505.561            WT        Rich    12         1\n",
      " 2 Specimen_001_Tube_002 3956.154            WT        -Leu    12         1\n",
      " 3 Specimen_001_Tube_003 2648.259            WT        -Arg    12         1\n",
      " 4 Specimen_001_Tube_004 2176.462           CGG        Rich    12         1\n",
      " 5 Specimen_001_Tube_005 2602.308           CGG        -Leu    12         1\n",
      " 6 Specimen_001_Tube_006 2784.508           CGG        -Arg    12         1\n",
      " 7 Specimen_001_Tube_007 2082.972           CGA        Rich    12         1\n",
      " 8 Specimen_001_Tube_008 2654.232           CGA        -Leu    12         1\n",
      " 9 Specimen_001_Tube_009 2060.622           CGA        -Arg    12         1\n",
      "10 Specimen_001_Tube_010 2499.568           CGT        Rich    12         1\n",
      "# ... with 44 more rows\n"
     ]
    }
   ],
   "source": [
    "data <- flowdata  %>% \n",
    "    # group by  each file (tube)\n",
    "    group_by(file) %>% \n",
    "    select(FITC.A) %>% \n",
    "    # calculate mean\n",
    "    summarise_all(mean) %>% \n",
    "    # ratios\n",
    "    rename('yfp' = FITC.A) %>% \n",
    "    # join annotations\n",
    "    left_join(annotations, by = 'file')\n",
    "print(data)"
   ]
  },
  {
   "cell_type": "code",
   "execution_count": 52,
   "metadata": {},
   "outputs": [
    {
     "name": "stdout",
     "output_type": "stream",
     "text": [
      "# A tibble: 36 x 6\n",
      "        yfp codonmutation samplelabel   time replicate relative_yfp\n",
      "      <dbl>        <fctr>      <fctr> <fctr>     <int>        <dbl>\n",
      " 1 3956.154           CGC        –Leu     12         1    1.1285368\n",
      " 2 2648.259           CGC        –Arg     12         1    0.7554452\n",
      " 3 2602.308           CGG        –Leu     12         1    1.1956595\n",
      " 4 2784.508           CGG        –Arg     12         1    1.2793733\n",
      " 5 2654.232           CGA        –Leu     12         1    1.2742522\n",
      " 6 2060.622           CGA        –Arg     12         1    0.9892701\n",
      " 7 2738.958           CGU        –Leu     12         1    1.0957729\n",
      " 8 2088.801           CGU        –Arg     12         1    0.8356647\n",
      " 9 1735.815           AGA        –Leu     12         1    1.0759306\n",
      "10 1369.843           AGA        –Arg     12         1    0.8490860\n",
      "# ... with 26 more rows\n"
     ]
    }
   ],
   "source": [
    "norm.data <- data %>% \n",
    "  group_by(codonmutation,time) %>%\n",
    "  mutate(relative_yfp = yfp / yfp[samplelabel == \"Rich\"]) %>%\n",
    "  ungroup() %>% \n",
    "  select(-file) %>% \n",
    "  filter(samplelabel != \"Rich\") %>% \n",
    "  mutate(samplelabel = stringr::str_replace(samplelabel, \"-\", \"–\")) %>% \n",
    "  mutate(codonmutation = stringr::str_replace(codonmutation, \"WT\", \"CGC\")) %>% \n",
    "  mutate(codonmutation = stringr::str_replace(codonmutation, \"T\", \"U\")) %>%\n",
    "  mutate_if(is.character, as.factor) %>% \n",
    "  mutate(time = as.factor(time)) %>% \n",
    "  print"
   ]
  },
  {
   "cell_type": "code",
   "execution_count": 53,
   "metadata": {},
   "outputs": [
    {
     "data": {},
     "metadata": {},
     "output_type": "display_data"
    },
    {
     "data": {
      "image/png": "[encoded data removed]",
      "text/plain": [
       "plot without title"
      ]
     },
     "metadata": {},
     "output_type": "display_data"
    }
   ],
   "source": [
    "options(repr.plot.width = 4, repr.plot.height = 1.5)\n",
    "\n",
    "scaleFUN <- function(x) sprintf(\"%.1f\", x)\n",
    "\n",
    "norm.data %>% \n",
    "  ggplot(aes(x = time, y = relative_yfp, color = codonmutation,\n",
    "             group = codonmutation)) +\n",
    "  geom_point(size=0.5) + geom_line(size=0.5) +\n",
    "  facet_wrap(~ samplelabel, ncol = 2) +\n",
    "  # set colors manually\n",
    "  scale_colour_manual(values=rep(cbPalette[2:7], 2)) +\n",
    "  scale_y_continuous(breaks = scales::pretty_breaks(n=3), limits=c(.5,3.2),\n",
    "                     label = scaleFUN) +\n",
    "  xlab('time (hr)') + \n",
    "  ylab('fluorescence\\n(relative to rich)') +\n",
    "  labs(color = \"\") +\n",
    "  theme(legend.key.size = unit(1, 'lines'))\n",
    "\n",
    "ggsave('../figures/fig6c.pdf',\n",
    "       width = 4, height = 1.5, units = 'in', device = cairo_pdf)"
   ]
  },
  {
   "cell_type": "markdown",
   "metadata": {},
   "source": [
    "# repeat for HEK293T GCN2 KO Leu codon variants (fig. 6e)"
   ]
  },
  {
   "cell_type": "code",
   "execution_count": 54,
   "metadata": {},
   "outputs": [
    {
     "name": "stdout",
     "output_type": "stream",
     "text": [
      "# A tibble: 622,440 x 14\n",
      "                    file     FSC.A    SSC.A  APC.A APC.Cy7.A   FITC.A\n",
      "                   <chr>     <dbl>    <dbl>  <dbl>     <dbl>    <dbl>\n",
      " 1 Specimen_001_Tube_001  82331.28 34729.80 257.64      2.28  5151.72\n",
      " 2 Specimen_001_Tube_001  95910.48 38316.60  35.34      9.12  6154.68\n",
      " 3 Specimen_001_Tube_001  63893.52 80225.88 363.66     13.68  5374.32\n",
      " 4 Specimen_001_Tube_001  78500.16 22809.36   7.98     60.99   383.04\n",
      " 5 Specimen_001_Tube_001  50770.08 46755.24 173.85      4.56  7814.52\n",
      " 6 Specimen_001_Tube_001 172866.25 88365.48 258.21     26.79  4202.52\n",
      " 7 Specimen_001_Tube_001  97738.56 46868.64 346.56     41.04   105.84\n",
      " 8 Specimen_001_Tube_001  34529.04 31668.00 105.45      6.27  1058.40\n",
      " 9 Specimen_001_Tube_001  34465.68 47907.72 155.61      9.12 11590.32\n",
      "10 Specimen_001_Tube_001  85834.09 30771.72 234.84     30.78  2695.56\n",
      "# ... with 622,430 more rows, and 8 more variables: PerCP.A <dbl>,\n",
      "#   mCFP.A <dbl>, Chromomycin.A3.A <dbl>, PE.A <dbl>, PE.Texas.Red.A <dbl>,\n",
      "#   PE.Cy5.A <dbl>, PE.Cy7.A <dbl>, Time <dbl>\n"
     ]
    }
   ],
   "source": [
    "# look for files ending in .fcs\n",
    "fcsfiles <- '../rawdata/flow_cytometry/fig6/GCN2KO_leu_codonvariants_122448/fcs_files/' %>% \n",
    "    list.files(full.names = T, pattern = '.fcs$')\n",
    "\n",
    "flowdata  <- fcsfiles %>% \n",
    "    lapply(. %>%\n",
    "           # read FCS file without any transformations\n",
    "           flowCore::read.FCS(transformation = F, alter.names = T) %>% \n",
    "           # extract counts alone\n",
    "           flowCore::exprs() %>% \n",
    "           # convert to dplyr tibble\n",
    "           as_tibble() \n",
    "          )\n",
    "\n",
    "names(flowdata) <- fcsfiles %>% \n",
    "    # extract file name without .fcs extension and parent folders\n",
    "    lapply(. %>% \n",
    "           stringr::str_match('([^/]+).fcs$') %>% \n",
    "           extract2(2))\n",
    "\n",
    "# join all samples by 'file'\n",
    "flowdata %<>% bind_rows(.id = 'file') %>% \n",
    "  filter_if(is.numeric,all_vars(. >= 0))\n",
    "print(flowdata)\n",
    "\n",
    "\n"
   ]
  },
  {
   "cell_type": "code",
   "execution_count": 55,
   "metadata": {},
   "outputs": [
    {
     "name": "stdout",
     "output_type": "stream",
     "text": [
      "# A tibble: 54 x 5\n",
      "                    file codonmutation samplelabel  time replicate\n",
      "                   <chr>         <chr>       <chr> <int>     <int>\n",
      " 1 Specimen_001_Tube_001            WT        Rich    12         1\n",
      " 2 Specimen_001_Tube_002            WT        -Leu    12         1\n",
      " 3 Specimen_001_Tube_003            WT        -Arg    12         1\n",
      " 4 Specimen_001_Tube_004           CTA        Rich    12         1\n",
      " 5 Specimen_001_Tube_005           CTA        -Leu    12         1\n",
      " 6 Specimen_001_Tube_006           CTA        -Arg    12         1\n",
      " 7 Specimen_001_Tube_007           CTC        Rich    12         1\n",
      " 8 Specimen_001_Tube_008           CTC        -Leu    12         1\n",
      " 9 Specimen_001_Tube_009           CTC        -Arg    12         1\n",
      "10 Specimen_001_Tube_010           CTT        Rich    12         1\n",
      "# ... with 44 more rows\n"
     ]
    }
   ],
   "source": [
    "annotations <- read_tsv('../rawdata/flow_cytometry/fig6/GCN2KO_leu_codonvariants_122448/sampleannotations.tsv', \n",
    "                        col_types = list('plate' = col_integer())) %>% \n",
    "  # replace all 'na' ny NA\n",
    "  mutate_all(funs(ifelse(. == 'na', NA, .))) %>% \n",
    "print(annotations)"
   ]
  },
  {
   "cell_type": "code",
   "execution_count": 56,
   "metadata": {},
   "outputs": [
    {
     "name": "stderr",
     "output_type": "stream",
     "text": [
      "Adding missing grouping variables: `file`\n"
     ]
    }
   ],
   "source": [
    "data <- flowdata  %>% \n",
    "    # group by  each file (tube)\n",
    "    group_by(file) %>% \n",
    "    select(FITC.A) %>% \n",
    "    # calculate mean\n",
    "    summarise_all(mean) %>% \n",
    "    # ratios\n",
    "    rename('yfp' = FITC.A) %>% \n",
    "    # join annotations\n",
    "    left_join(annotations, by = 'file')\n",
    "#print(data)"
   ]
  },
  {
   "cell_type": "code",
   "execution_count": 57,
   "metadata": {
    "collapsed": true
   },
   "outputs": [],
   "source": [
    "norm.data <- data %>% \n",
    "  group_by(codonmutation,time) %>%\n",
    "  mutate(relative_yfp = yfp / yfp[samplelabel == \"Rich\"]) %>%\n",
    "  ungroup() %>% \n",
    "  select(-file) %>% \n",
    "  filter(samplelabel != \"Rich\") %>% \n",
    "  mutate(samplelabel = stringr::str_replace(samplelabel, \"-\", \"–\")) %>% \n",
    "  mutate(codonmutation = stringr::str_replace(codonmutation, \"WT\", \"CUG\")) %>% \n",
    "  mutate(codonmutation = stringr::str_replace(codonmutation, \"T\", \"U\")) %>%\n",
    "  mutate(codonmutation = stringr::str_replace(codonmutation, \"T\", \"U\")) %>%\n",
    "  mutate_if(is.character, as.factor) %>% \n",
    "  mutate(time = as.factor(time)) #%>% \n",
    "  #print"
   ]
  },
  {
   "cell_type": "code",
   "execution_count": 58,
   "metadata": {},
   "outputs": [
    {
     "data": {},
     "metadata": {},
     "output_type": "display_data"
    },
    {
     "data": {
      "image/png": "[encoded data removed]",
      "text/plain": [
       "plot without title"
      ]
     },
     "metadata": {},
     "output_type": "display_data"
    }
   ],
   "source": [
    "options(repr.plot.width = 4, repr.plot.height = 1.5)\n",
    "\n",
    "scaleFUN <- function(x) sprintf(\"%.1f\", x)\n",
    "\n",
    "norm.data %>% \n",
    "  ggplot(aes(x = time, y = relative_yfp, color = codonmutation,\n",
    "             group = codonmutation)) +\n",
    "  geom_point(size=0.5) + geom_line(size=0.5) +\n",
    "  facet_wrap(~ samplelabel, ncol = 2) +\n",
    "  # set colors manually\n",
    "  scale_colour_manual(values=rep(cbPalette[2:7], 2)) +\n",
    "  scale_y_continuous(breaks = scales::pretty_breaks(n=3), limits=c(.5,3.2),\n",
    "                     label = scaleFUN) +\n",
    "  xlab('time (hr)') + \n",
    "  ylab('fluorescence\\n(relative to rich)') +\n",
    "  labs(color = \"\") +\n",
    "  theme(legend.key.size = unit(1, 'lines'))\n",
    "\n",
    "ggsave('../figures/fig6e.pdf',\n",
    "       width = 4, height = 1.5, units = 'in', device = cairo_pdf)"
   ]
  },
  {
   "cell_type": "markdown",
   "metadata": {},
   "source": [
    "# repeat for HEK293T premature termination reporters uug8, cua8 (fig. 6g)"
   ]
  },
  {
   "cell_type": "code",
   "execution_count": 134,
   "metadata": {},
   "outputs": [
    {
     "name": "stdout",
     "output_type": "stream",
     "text": [
      "# A tibble: 148,301 x 15\n",
      "                        file     FSC.A     SSC.A FITC.A    PE.A PE.Texas.Red.A\n",
      "                       <chr>     <dbl>     <dbl>  <dbl>   <dbl>          <dbl>\n",
      " 1 Specimen_001_Tube_007_007 105464.24  63375.78 285.51 6974.07        7778.52\n",
      " 2 Specimen_001_Tube_007_007  66364.94  52640.79  13.02  795.15         586.83\n",
      " 3 Specimen_001_Tube_007_007 151867.81  62570.40 261.33 6716.46        6247.74\n",
      " 4 Specimen_001_Tube_007_007 113602.29  32791.80   4.65  797.01        1198.77\n",
      " 5 Specimen_001_Tube_007_007 243556.81  98042.46  12.09 2209.68        2554.71\n",
      " 6 Specimen_001_Tube_007_007 262143.00 133930.23 145.08 8316.99       13230.18\n",
      " 7 Specimen_001_Tube_007_007  69442.50  26756.10  32.55  614.73         620.31\n",
      " 8 Specimen_001_Tube_007_007 111710.07  42533.55  78.12 2280.36        2927.64\n",
      " 9 Specimen_001_Tube_007_007 164679.06  45143.13 186.00 3378.69        4189.65\n",
      "10 Specimen_001_Tube_007_007 182364.23  79325.28 125.55 2703.51        3496.80\n",
      "# ... with 148,291 more rows, and 9 more variables: PerCP.Cy5.5.A <dbl>,\n",
      "#   PE.Cy7.A <dbl>, Pacific.Blue.A <dbl>, AmCyan.A <dbl>, APC.A <dbl>,\n",
      "#   APC.Cy7.A <dbl>, DsRed.A <dbl>, mCherry.A <dbl>, Time <dbl>\n"
     ]
    }
   ],
   "source": [
    "# look for files ending in .fcs\n",
    "fcsfiles <- '../rawdata/flow_cytometry/fig6/GCN2KO_WT_8xttg8xcta/fcs_files/' %>% \n",
    "    list.files(full.names = T, pattern = '.fcs$')\n",
    "\n",
    "flowdata  <- fcsfiles %>% \n",
    "    lapply(. %>%\n",
    "           # read FCS file without any transformations\n",
    "           flowCore::read.FCS(transformation = F, alter.names = T) %>% \n",
    "           # extract counts alone\n",
    "           flowCore::exprs() %>% \n",
    "           # convert to dplyr tibble\n",
    "           as_tibble() \n",
    "          )\n",
    "\n",
    "names(flowdata) <- fcsfiles %>% \n",
    "    # extract file name without .fcs extension and parent folders\n",
    "    lapply(. %>% \n",
    "           stringr::str_match('([^/]+).fcs$') %>% \n",
    "           extract2(2))\n",
    "\n",
    "# join all samples by 'file'\n",
    "flowdata %<>% bind_rows(.id = 'file') %>% \n",
    "  filter_if(is.numeric,all_vars(. >= 0))\n",
    "print(flowdata)"
   ]
  },
  {
   "cell_type": "code",
   "execution_count": 135,
   "metadata": {},
   "outputs": [
    {
     "name": "stdout",
     "output_type": "stream",
     "text": [
      "# A tibble: 36 x 7\n",
      "                        file codonmutation samplelabel  time replicate genotype\n",
      "                       <chr>         <chr>       <chr> <int>     <int>    <chr>\n",
      " 1 Specimen_001_Tube_007_007       WT-TTG8        Rich    12         1       WT\n",
      " 2 Specimen_001_Tube_008_008       WT-TTG8        –Leu    12         1       WT\n",
      " 3 Specimen_001_Tube_009_009       WT-TTG8        –Arg    12         1       WT\n",
      " 4 Specimen_001_Tube_010_010   GCN2KO-TTG8        Rich    12         1   GCN2KO\n",
      " 5 Specimen_001_Tube_011_011   GCN2KO-TTG8        –Leu    12         1   GCN2KO\n",
      " 6 Specimen_001_Tube_012_012   GCN2KO-TTG8        –Arg    12         1   GCN2KO\n",
      " 7 Specimen_001_Tube_019_019       WT-CTA8        Rich    12         1       WT\n",
      " 8 Specimen_001_Tube_020_020       WT-CTA8        –Leu    12         1       WT\n",
      " 9 Specimen_001_Tube_021_021       WT-CTA8        –Arg    12         1       WT\n",
      "10 Specimen_001_Tube_022_022   GCN2KO-CTA8        Rich    12         1   GCN2KO\n",
      "# ... with 26 more rows, and 1 more variables: reporter <chr>\n"
     ]
    }
   ],
   "source": [
    "annotations <- read_tsv('../rawdata/flow_cytometry/fig6/GCN2KO_WT_8xttg8xcta/sampleannotations.tsv', \n",
    "                        col_types = list('plate' = col_integer())) %>% \n",
    "  # replace all 'na' ny NA\n",
    "  mutate_all(funs(ifelse(. == 'na', NA, .))) %>% \n",
    "  mutate(genotype = stringr::str_extract(codonmutation, \"^\\\\w+\"))  %>% \n",
    "  mutate(reporter = stringr::str_extract(codonmutation, \"\\\\w+$\"))  %>% \n",
    "  mutate(reporter = stringr::str_replace(reporter, \"TTG\", \"UUG\")) %>%\n",
    "  mutate(reporter = stringr::str_replace(reporter, \"CTA\", \"CUA\")) %>%\n",
    "  mutate(samplelabel = stringr::str_replace(samplelabel, \"-\", \"–\"))\n",
    "print(annotations)"
   ]
  },
  {
   "cell_type": "code",
   "execution_count": 136,
   "metadata": {},
   "outputs": [
    {
     "name": "stderr",
     "output_type": "stream",
     "text": [
      "Adding missing grouping variables: `file`\n"
     ]
    },
    {
     "name": "stdout",
     "output_type": "stream",
     "text": [
      "# A tibble: 36 x 8\n",
      "                        file       yfp codonmutation samplelabel  time\n",
      "                       <chr>     <dbl>         <chr>       <chr> <int>\n",
      " 1 Specimen_001_Tube_007_007  63.22729       WT-TTG8        Rich    12\n",
      " 2 Specimen_001_Tube_008_008  46.29158       WT-TTG8        –Leu    12\n",
      " 3 Specimen_001_Tube_009_009  50.40621       WT-TTG8        –Arg    12\n",
      " 4 Specimen_001_Tube_010_010  56.60506   GCN2KO-TTG8        Rich    12\n",
      " 5 Specimen_001_Tube_011_011 133.02919   GCN2KO-TTG8        –Leu    12\n",
      " 6 Specimen_001_Tube_012_012  93.41942   GCN2KO-TTG8        –Arg    12\n",
      " 7 Specimen_001_Tube_019_019  53.20926       WT-CTA8        Rich    12\n",
      " 8 Specimen_001_Tube_020_020  44.85044       WT-CTA8        –Leu    12\n",
      " 9 Specimen_001_Tube_021_021  46.53642       WT-CTA8        –Arg    12\n",
      "10 Specimen_001_Tube_022_022  55.68308   GCN2KO-CTA8        Rich    12\n",
      "# ... with 26 more rows, and 3 more variables: replicate <int>, genotype <chr>,\n",
      "#   reporter <chr>\n"
     ]
    }
   ],
   "source": [
    "data <- flowdata  %>% \n",
    "    # group by  each file (tube)\n",
    "    group_by(file) %>% \n",
    "    select(FITC.A) %>% \n",
    "    # calculate mean\n",
    "    summarise_all(mean) %>% \n",
    "    # ratios\n",
    "    rename('yfp' = FITC.A) %>% \n",
    "    ungroup() %>% \n",
    "    # join annotations\n",
    "    left_join(annotations, by = 'file') %>% \n",
    "  print()"
   ]
  },
  {
   "cell_type": "code",
   "execution_count": 137,
   "metadata": {},
   "outputs": [
    {
     "data": {},
     "metadata": {},
     "output_type": "display_data"
    },
    {
     "data": {
      "image/png": "[encoded data removed]",
      "text/plain": [
       "plot without title"
      ]
     },
     "metadata": {},
     "output_type": "display_data"
    }
   ],
   "source": [
    "options(repr.plot.width = 4, repr.plot.height = 1.5)\n",
    "\n",
    "data %>% \n",
    "  mutate(reporter = forcats::fct_rev(reporter)) %>% \n",
    "  filter(samplelabel != \"Rich\") %>% \n",
    "  ggplot(aes(x = time, y = yfp, color = reporter, shape = genotype\n",
    "             )) +\n",
    "  geom_point(size=2) + geom_line(size=0.5) +\n",
    "  facet_wrap(~ samplelabel, ncol = 3) +\n",
    "  # set colors manually\n",
    "  scale_colour_manual(values=c('#D55E00', '#E69F00')) +\n",
    "  scale_y_continuous(breaks = scales::pretty_breaks(n=3), limits=c(0,3000)) +\n",
    "  xlab('time (hr)') + \n",
    "  ylab('fluorescence\\n(a.u.)') +\n",
    "  # remove legend\n",
    "  theme(legend.key.size = unit(0.7, 'lines')) \n",
    "\n",
    "ggsave('../figures/fig6g.pdf',\n",
    "       width = 4, height = 1.5, units = 'in', device = cairo_pdf)"
   ]
  },
  {
   "cell_type": "markdown",
   "metadata": {},
   "source": [
    "# repeat for HEK293T premature termination reporters uug8, cua4uug4, cua6uug2, and cua8 (fig. 6I)"
   ]
  },
  {
   "cell_type": "code",
   "execution_count": 138,
   "metadata": {},
   "outputs": [
    {
     "name": "stdout",
     "output_type": "stream",
     "text": [
      "# A tibble: 226,516 x 15\n",
      "                        file     FSC.A     SSC.A FITC.A    PE.A PE.Texas.Red.A\n",
      "                       <chr>     <dbl>     <dbl>  <dbl>   <dbl>          <dbl>\n",
      " 1 Specimen_001_Tube_001_001 159062.02 123989.94  95.58 2260.71        3065.85\n",
      " 2 Specimen_001_Tube_001_001  83181.80  78432.30  46.98 1182.60        1296.81\n",
      " 3 Specimen_001_Tube_001_001  77504.94  53596.08 113.40 2088.99        2073.60\n",
      " 4 Specimen_001_Tube_001_001  75885.74  64386.09  38.07  708.75         788.13\n",
      " 5 Specimen_001_Tube_001_001  93542.38  60006.42  63.18 1918.89        3338.01\n",
      " 6 Specimen_001_Tube_001_001 155994.75 136471.23  42.93 1709.10        2545.83\n",
      " 7 Specimen_001_Tube_001_001 183238.25 110795.85  17.82 1722.06        2535.30\n",
      " 8 Specimen_001_Tube_001_001  98263.82  69031.44 110.16 1227.96        1330.83\n",
      " 9 Specimen_001_Tube_001_001  64763.40  45023.04  68.04 1121.85        1280.61\n",
      "10 Specimen_001_Tube_001_001 138543.27 148698.98 110.16 3338.01        4247.64\n",
      "# ... with 226,506 more rows, and 9 more variables: PerCP.Cy5.5.A <dbl>,\n",
      "#   PE.Cy7.A <dbl>, Pacific.Blue.A <dbl>, AmCyan.A <dbl>, APC.A <dbl>,\n",
      "#   APC.Cy7.A <dbl>, DsRed.A <dbl>, mCherry.A <dbl>, Time <dbl>\n"
     ]
    }
   ],
   "source": [
    "# look for files ending in .fcs\n",
    "fcsfiles <- '../rawdata/flow_cytometry/fig6/GCN2KO_ctainterspersed_ttg4x2x__titration/fcs_files/' %>% \n",
    "    list.files(full.names = T, pattern = '.fcs$')\n",
    "\n",
    "flowdata  <- fcsfiles %>% \n",
    "    lapply(. %>%\n",
    "           # read FCS file without any transformations\n",
    "           flowCore::read.FCS(transformation = F, alter.names = T) %>% \n",
    "           # extract counts alone\n",
    "           flowCore::exprs() %>% \n",
    "           # convert to dplyr tibble\n",
    "           as_tibble() \n",
    "          )\n",
    "\n",
    "names(flowdata) <- fcsfiles %>% \n",
    "    # extract file name without .fcs extension and parent folders\n",
    "    lapply(. %>% \n",
    "           stringr::str_match('([^/]+).fcs$') %>% \n",
    "           extract2(2))\n",
    "\n",
    "# join all samples by 'file'\n",
    "flowdata %<>% bind_rows(.id = 'file') %>% \n",
    "  filter_if(is.numeric,all_vars(. >= 0)) %>% \n",
    "  print"
   ]
  },
  {
   "cell_type": "code",
   "execution_count": 139,
   "metadata": {},
   "outputs": [
    {
     "name": "stdout",
     "output_type": "stream",
     "text": [
      "# A tibble: 48 x 7\n",
      "                        file codonmutation samplelabel  time replicate genotype\n",
      "                       <chr>         <chr>       <chr> <int>     <int>    <chr>\n",
      " 1 Specimen_001_Tube_001_001       WT-CTA8        Rich    12         1       WT\n",
      " 2 Specimen_001_Tube_002_002       WT-CTA8        –Leu    12         1       WT\n",
      " 3 Specimen_001_Tube_003_003   WT-CTA4TTG4        Rich    12         1       WT\n",
      " 4 Specimen_001_Tube_004_004   WT-CTA4TTG4        –Leu    12         1       WT\n",
      " 5 Specimen_001_Tube_005_005   WT-CTA6TTG2        Rich    12         1       WT\n",
      " 6 Specimen_001_Tube_006_006   WT-CTA6TTG2        –Leu    12         1       WT\n",
      " 7 Specimen_001_Tube_009_009       WT-TTG8        Rich    12         1       WT\n",
      " 8 Specimen_001_Tube_010_010       WT-TTG8        –Leu    12         1       WT\n",
      " 9 Specimen_001_Tube_011_011   GCN2KO-CTA8        Rich    12         1   GCN2KO\n",
      "10 Specimen_001_Tube_012_012   GCN2KO-CTA8        –Leu    12         1   GCN2KO\n",
      "# ... with 38 more rows, and 1 more variables: reporter <chr>\n"
     ]
    }
   ],
   "source": [
    "annotations <- read_tsv('../rawdata/flow_cytometry/fig6/GCN2KO_ctainterspersed_ttg4x2x__titration/sampleannotations.tsv', \n",
    "                        col_types = list('plate' = col_integer())) %>% \n",
    "  # replace all 'na' ny NA\n",
    "  mutate_all(funs(ifelse(. == 'na', NA, .))) %>% \n",
    "  mutate(genotype = stringr::str_extract(codonmutation, \"^\\\\w+\"))  %>% \n",
    "  mutate(reporter = stringr::str_extract(codonmutation, \"\\\\w+$\"))  %>% \n",
    "  mutate(reporter = stringr::str_replace(reporter, \"TTG\", \"UUG\")) %>%\n",
    "  mutate(reporter = stringr::str_replace(reporter, \"CTA\", \"CUA\")) %>%\n",
    "  mutate(samplelabel = stringr::str_replace(samplelabel, \"-\", \"–\"))\n",
    "print(annotations)"
   ]
  },
  {
   "cell_type": "code",
   "execution_count": 140,
   "metadata": {},
   "outputs": [
    {
     "name": "stderr",
     "output_type": "stream",
     "text": [
      "Adding missing grouping variables: `file`\n"
     ]
    },
    {
     "name": "stdout",
     "output_type": "stream",
     "text": [
      "# A tibble: 48 x 8\n",
      "                        file       yfp codonmutation samplelabel  time\n",
      "                       <chr>     <dbl>         <chr>       <chr> <int>\n",
      " 1 Specimen_001_Tube_001_001  82.81724       WT-CTA8        Rich    12\n",
      " 2 Specimen_001_Tube_002_002  71.16762       WT-CTA8        –Leu    12\n",
      " 3 Specimen_001_Tube_003_003 110.82478   WT-CTA4TTG4        Rich    12\n",
      " 4 Specimen_001_Tube_004_004  75.24598   WT-CTA4TTG4        –Leu    12\n",
      " 5 Specimen_001_Tube_005_005 114.14369   WT-CTA6TTG2        Rich    12\n",
      " 6 Specimen_001_Tube_006_006  84.84396   WT-CTA6TTG2        –Leu    12\n",
      " 7 Specimen_001_Tube_009_009  96.98823       WT-TTG8        Rich    12\n",
      " 8 Specimen_001_Tube_010_010  58.33268       WT-TTG8        –Leu    12\n",
      " 9 Specimen_001_Tube_011_011  92.35578   GCN2KO-CTA8        Rich    12\n",
      "10 Specimen_001_Tube_012_012 155.94980   GCN2KO-CTA8        –Leu    12\n",
      "# ... with 38 more rows, and 3 more variables: replicate <int>, genotype <chr>,\n",
      "#   reporter <chr>\n"
     ]
    }
   ],
   "source": [
    "data <- flowdata  %>% \n",
    "    # group by  each file (tube)\n",
    "    group_by(file) %>% \n",
    "    select(FITC.A) %>% \n",
    "    # calculate mean\n",
    "    summarise_all(mean) %>% \n",
    "    # ratios\n",
    "    rename('yfp' = FITC.A) %>% \n",
    "    # join annotations\n",
    "    left_join(annotations, by = 'file')\n",
    "print(data)"
   ]
  },
  {
   "cell_type": "code",
   "execution_count": 142,
   "metadata": {},
   "outputs": [
    {
     "data": {},
     "metadata": {},
     "output_type": "display_data"
    },
    {
     "data": {
      "image/png": "[encoded data removed]",
      "text/plain": [
       "plot without title"
      ]
     },
     "metadata": {},
     "output_type": "display_data"
    }
   ],
   "source": [
    "options(repr.plot.width = 2.8, repr.plot.height = 1.5)\n",
    "\n",
    "data %>% \n",
    "  mutate(reporter = forcats::fct_rev(reporter)) %>% \n",
    "  filter(samplelabel != \"Rich\") %>% \n",
    "  ggplot(aes(x = time, y = yfp, color = reporter, shape = genotype\n",
    "             )) +\n",
    "  geom_point(size=2) + geom_line(size=0.5) +\n",
    "  facet_wrap(~forcats::fct_rev(samplelabel), ncol = 1) +\n",
    "  # set colors manually\n",
    "  scale_colour_manual(values=c('#D55E00','#E69F00','#fff200','#ff3f00','#cccccc','#8c8c8c','#545454','black')) +\n",
    "  scale_y_continuous(breaks = scales::pretty_breaks(n=3), limits=c(0,3600)) +\n",
    "  xlab('time (hr)') + \n",
    "  ylab('fluorescence\\n(a.u.)') +\n",
    "  theme(legend.key.size = unit(0.7, 'lines')) \n",
    "\n",
    "ggsave('../figures/fig6h.pdf',\n",
    "       width = 2.8, height = 1.5, units = 'in', device = cairo_pdf)"
   ]
  },
  {
   "cell_type": "markdown",
   "metadata": {
    "collapsed": true
   },
   "source": [
    "# repeat for HEK293T arg codon variants YFP-CGC vs. YFP-CGG, 24-38 hours, 3 replicates (supp fig 6a) "
   ]
  },
  {
   "cell_type": "code",
   "execution_count": 176,
   "metadata": {},
   "outputs": [
    {
     "name": "stdout",
     "output_type": "stream",
     "text": [
      "# A tibble: 1,438,734 x 14\n",
      "                    file     FSC.A    SSC.A  APC.A APC.Cy7.A   FITC.A  PerCP.A\n",
      "                   <chr>     <dbl>    <dbl>  <dbl>     <dbl>    <dbl>    <dbl>\n",
      " 1 Specimen_001_Tube_001  71529.78 39090.51 191.16  21.24000 26586.56 14857.83\n",
      " 2 Specimen_001_Tube_001  43023.28 29829.37 177.59  13.57000  1630.95  1498.98\n",
      " 3 Specimen_001_Tube_001 124988.41 67780.29 582.33  88.49999 16813.31 10986.71\n",
      " 4 Specimen_001_Tube_001  64683.84 32978.39 253.70   7.08000 17517.15  9369.87\n",
      " 5 Specimen_001_Tube_001 103151.20 62227.59 243.67  34.81000 17139.50  9824.71\n",
      " 6 Specimen_001_Tube_001 130038.55 83722.10 562.27  38.35000 33876.45 18953.05\n",
      " 7 Specimen_001_Tube_001  73000.00 29610.25 175.82  25.37000 10347.61  6001.73\n",
      " 8 Specimen_001_Tube_001  65470.05 30980.58 102.66  35.99000  3280.16  2124.80\n",
      " 9 Specimen_001_Tube_001  87788.34 50175.99 330.99  26.55000 11137.77  6546.21\n",
      "10 Specimen_001_Tube_001  67991.47 30818.73 224.79  15.34000  2220.25  1446.69\n",
      "# ... with 1,438,724 more rows, and 7 more variables: mCFP.A <dbl>,\n",
      "#   Chromomycin.A3.A <dbl>, PE.A <dbl>, PE.Texas.Red.A <dbl>, PE.Cy5.A <dbl>,\n",
      "#   PE.Cy7.A <dbl>, Time <dbl>\n"
     ]
    }
   ],
   "source": [
    "# look for files ending in .fcs\n",
    "fcsfiles <- '../rawdata/flow_cytometry/suppfig6/20160413_fcs_hek293t_lentiredo1_flagyfpdhfrwtcgg_richleuarg_plusminustmp_24h38h_3reps/fcs_files/' %>% \n",
    "    list.files(full.names = T, pattern = '.fcs$')\n",
    "\n",
    "flowdata  <- fcsfiles %>% \n",
    "    lapply(. %>%\n",
    "           # read FCS file without any transformations\n",
    "           flowCore::read.FCS(transformation = F, alter.names = T) %>% \n",
    "           # extract counts alone\n",
    "           flowCore::exprs() %>% \n",
    "           # convert to dplyr tibble\n",
    "           as_tibble() \n",
    "          )\n",
    "\n",
    "names(flowdata) <- fcsfiles %>% \n",
    "    # extract file name without .fcs extension and parent folders\n",
    "    lapply(. %>% \n",
    "           stringr::str_match('([^/]+).fcs$') %>% \n",
    "           extract2(2))\n",
    "\n",
    "# join all samples by 'file'\n",
    "flowdata %<>% bind_rows(.id = 'file') %>% \n",
    "  filter_if(is.numeric,all_vars(. >= 0)) %>% \n",
    "  print()"
   ]
  },
  {
   "cell_type": "code",
   "execution_count": 177,
   "metadata": {},
   "outputs": [
    {
     "name": "stdout",
     "output_type": "stream",
     "text": [
      "# A tibble: 72 x 6\n",
      "                    file codonmutation samplelabel  time   tmp replicate\n",
      "                   <chr>         <chr>       <chr> <int> <chr>     <int>\n",
      " 1 Specimen_001_Tube_001            WT        Rich    24  +TMP         1\n",
      " 2 Specimen_001_Tube_002            WT        –Leu    24  +TMP         1\n",
      " 3 Specimen_001_Tube_003            WT        –Arg    24  +TMP         1\n",
      " 4 Specimen_001_Tube_004           CGG        Rich    24  +TMP         1\n",
      " 5 Specimen_001_Tube_005           CGG        –Leu    24  +TMP         1\n",
      " 6 Specimen_001_Tube_006           CGG        –Arg    24  +TMP         1\n",
      " 7 Specimen_001_Tube_007            WT        Rich    24  +TMP         2\n",
      " 8 Specimen_001_Tube_008            WT        –Leu    24  +TMP         2\n",
      " 9 Specimen_001_Tube_009            WT        –Arg    24  +TMP         2\n",
      "10 Specimen_001_Tube_010           CGG        Rich    24  +TMP         2\n",
      "# ... with 62 more rows\n"
     ]
    }
   ],
   "source": [
    "annotations <- read_tsv('../rawdata/flow_cytometry/suppfig6/20160413_fcs_hek293t_lentiredo1_flagyfpdhfrwtcgg_richleuarg_plusminustmp_24h38h_3reps/sampleannotations.tsv', \n",
    "                        col_types = list('plate' = col_integer())) %>% \n",
    "  # replace all 'na' ny NA\n",
    "  mutate_all(funs(ifelse(. == 'na', NA, .))) %>% \n",
    "  mutate(samplelabel = stringr::str_replace(samplelabel, \"-\", \"–\")) %>% \n",
    "  mutate(tmp = ifelse(tmp == \"TMP\", \"+TMP\", \"–TMP\")) %>% \n",
    "print(annotations)"
   ]
  },
  {
   "cell_type": "code",
   "execution_count": 178,
   "metadata": {},
   "outputs": [
    {
     "name": "stderr",
     "output_type": "stream",
     "text": [
      "Adding missing grouping variables: `file`\n"
     ]
    },
    {
     "name": "stdout",
     "output_type": "stream",
     "text": [
      "# A tibble: 72 x 7\n",
      "                    file       yfp codonmutation samplelabel  time   tmp\n",
      "                   <chr>     <dbl>         <chr>       <chr> <int> <chr>\n",
      " 1 Specimen_001_Tube_001 13557.160            WT        Rich    24  +TMP\n",
      " 2 Specimen_001_Tube_002  8421.343            WT        –Leu    24  +TMP\n",
      " 3 Specimen_001_Tube_003  5746.742            WT        –Arg    24  +TMP\n",
      " 4 Specimen_001_Tube_004  7369.466           CGG        Rich    24  +TMP\n",
      " 5 Specimen_001_Tube_005  5610.862           CGG        –Leu    24  +TMP\n",
      " 6 Specimen_001_Tube_006  5617.592           CGG        –Arg    24  +TMP\n",
      " 7 Specimen_001_Tube_007 12394.366            WT        Rich    24  +TMP\n",
      " 8 Specimen_001_Tube_008  8726.633            WT        –Leu    24  +TMP\n",
      " 9 Specimen_001_Tube_009  5836.674            WT        –Arg    24  +TMP\n",
      "10 Specimen_001_Tube_010  7045.122           CGG        Rich    24  +TMP\n",
      "# ... with 62 more rows, and 1 more variables: replicate <int>\n"
     ]
    }
   ],
   "source": [
    "data <- flowdata  %>% \n",
    "    # group by  each file (tube)\n",
    "    group_by(file) %>% \n",
    "    select(FITC.A) %>% \n",
    "    # calculate mean\n",
    "    summarise_all(mean) %>% \n",
    "    # ratios\n",
    "    rename('yfp' = FITC.A) %>% \n",
    "    # join annotations\n",
    "    left_join(annotations, by = 'file')\n",
    "print(data)"
   ]
  },
  {
   "cell_type": "code",
   "execution_count": 179,
   "metadata": {},
   "outputs": [
    {
     "name": "stdout",
     "output_type": "stream",
     "text": [
      "# A tibble: 24 x 10\n",
      "   codonmutation samplelabel  time   tmp  mean.yfp std.dev.yfp std.err.yfp\n",
      "           <chr>       <chr> <int> <chr>     <dbl>       <dbl>       <dbl>\n",
      " 1           CGG        –Arg    24  –TMP  321.7724    5.245931    3.028739\n",
      " 2           CGG        –Arg    24  +TMP 5454.8247  242.816713  140.190294\n",
      " 3           CGG        –Arg    38  –TMP  350.7443   23.498828   13.567055\n",
      " 4           CGG        –Arg    38  +TMP 7605.3144  334.761775  193.274801\n",
      " 5           CGG        –Leu    24  –TMP  366.8675   29.388898   16.967688\n",
      " 6           CGG        –Leu    24  +TMP 5458.9024  155.313799   89.670464\n",
      " 7           CGG        –Leu    38  –TMP  431.5729   19.328187   11.159134\n",
      " 8           CGG        –Leu    38  +TMP 8331.4779   75.193703   43.413105\n",
      " 9           CGG        Rich    24  –TMP  547.1275   97.004792   56.005743\n",
      "10           CGG        Rich    24  +TMP 7382.4572  344.014729  198.616996\n",
      "# ... with 14 more rows, and 3 more variables: mean.yfp.per.hour <dbl>,\n",
      "#   std.dev.yfp.per.hour <dbl>, std.err.yfp.per.hour <dbl>\n"
     ]
    }
   ],
   "source": [
    "avg_data  <- data %>%\n",
    "    mutate(yfp.per.hour = yfp / time) %>%\n",
    "    # group replicates\n",
    "    dplyr::group_by(codonmutation, samplelabel, time, tmp) %>%\n",
    "    # calculate mean and std.err\n",
    "    summarise(mean.yfp = mean(yfp), std.dev.yfp = sd(yfp), std.err.yfp = sd(yfp)/sqrt(3), mean.yfp.per.hour = mean(yfp.per.hour), std.dev.yfp.per.hour = sd(yfp.per.hour), std.err.yfp.per.hour = sd(yfp.per.hour)/sqrt(3)) %>% \n",
    "    # ungroup\n",
    "    ungroup() %>% \n",
    "    mutate(codonmutation = stringr::str_replace(codonmutation, \"WT\", \"CGC\")) %>%\n",
    "    print()"
   ]
  },
  {
   "cell_type": "code",
   "execution_count": 184,
   "metadata": {},
   "outputs": [
    {
     "data": {},
     "metadata": {},
     "output_type": "display_data"
    },
    {
     "data": {
      "image/png": "[encoded data removed]",
      "text/plain": [
       "plot without title"
      ]
     },
     "metadata": {},
     "output_type": "display_data"
    }
   ],
   "source": [
    "options(repr.plot.width = 3, repr.plot.height = 1.5)\n",
    "\n",
    "p  <- avg_data %>% filter(codonmutation == \"CGC\") %>%\n",
    "  ggplot(aes(x = time, y = mean.yfp.per.hour, color = samplelabel, shape = tmp)) +\n",
    "  #facet_wrap(~ forcats::fct_rev(tmp), \n",
    "             #ncol = 2, scales = \"free_x\") +\n",
    "  geom_line(size=.5, alpha=1) + geom_point( size=1.5) +\n",
    "  geom_errorbar(aes(ymin = mean.yfp.per.hour - std.err.yfp.per.hour, \n",
    "                    ymax = mean.yfp.per.hour + std.err.yfp.per.hour), \n",
    "                width = .5, size=.25, color = \"black\") +\n",
    "  theme(axis.text.x = element_text(hjust = .5)) +\n",
    "  scale_y_continuous(breaks= scales::pretty_breaks(n=5), limits = c(0, 550)) +\n",
    "  scale_x_continuous(breaks= scales::pretty_breaks(n=5)) +\n",
    "  scale_color_manual(values = cbPalette[3:1]) +\n",
    "  xlab(\"time (hr)\") + ylab(\"YFP synthesis\\n(a.u. / hr)\") + \n",
    "  theme(legend.title=element_blank(), \n",
    "        panel.spacing.x = unit(1, \"lines\"),\n",
    "        legend.key.size = unit(1, 'lines'),\n",
    "        legend.position = \"right\",\n",
    "        legend.direction = 'vertical'\n",
    "       ) \n",
    "p\n",
    "\n",
    "ggsave(\"../figures/suppfig6a_v3.pdf\", width = 3, height = 1.5, device = cairo_pdf)"
   ]
  },
  {
   "cell_type": "markdown",
   "metadata": {
    "collapsed": true
   },
   "source": [
    "# repeat for HeLa Arg codon variants YFP-CGC vs. YFP-CGG (supp fig 6c)"
   ]
  },
  {
   "cell_type": "code",
   "execution_count": 185,
   "metadata": {},
   "outputs": [
    {
     "name": "stdout",
     "output_type": "stream",
     "text": [
      "# A tibble: 139,348 x 14\n",
      "                    file    FSC.A     SSC.A  APC.A APC.Cy7.A  FITC.A   PerCP.A\n",
      "                   <chr>    <dbl>     <dbl>  <dbl>     <dbl>   <dbl>     <dbl>\n",
      " 1 Specimen_001_Tube_001 165821.4 109409.20 518.52     27.84  493.64  4808.260\n",
      " 2 Specimen_001_Tube_001 151545.3 127390.95 388.60     78.30 1591.00  9318.101\n",
      " 3 Specimen_001_Tube_001 165955.4 124485.86 647.86     54.52 7439.00 33551.180\n",
      " 4 Specimen_001_Tube_001 115371.9 104010.98 254.04     27.26 1863.62  9660.380\n",
      " 5 Specimen_001_Tube_001 161357.0 125412.95 591.02     24.94 5084.32 23528.740\n",
      " 6 Specimen_001_Tube_001 116752.0  84275.70 289.42     82.36 3179.42 15357.021\n",
      " 7 Specimen_001_Tube_001 154702.9  92180.82 458.20     12.18 2014.98 11582.480\n",
      " 8 Specimen_001_Tube_001 116581.1 142951.78 550.42     23.78  520.30  4042.860\n",
      " 9 Specimen_001_Tube_001 115286.1  80309.38 191.40     34.22 6343.36 29074.881\n",
      "10 Specimen_001_Tube_001 108430.7  76305.22 352.06     37.70   47.30  2463.900\n",
      "# ... with 139,338 more rows, and 7 more variables: mCFP.A <dbl>,\n",
      "#   Chromomycin.A3.A <dbl>, PE.A <dbl>, PE.Texas.Red.A <dbl>, PE.Cy5.A <dbl>,\n",
      "#   PE.Cy7.A <dbl>, Time <dbl>\n"
     ]
    }
   ],
   "source": [
    "# look for files ending in .fcs\n",
    "fcsfiles <- '../rawdata/flow_cytometry/suppfig6/20161025_hela_yfpdhfr_LV_all6argvariants_122448h_1rep/fcs_files/' %>% \n",
    "    list.files(full.names = T, pattern = '.fcs$')\n",
    "\n",
    "flowdata  <- fcsfiles %>% \n",
    "    lapply(. %>%\n",
    "           # read FCS file without any transformations\n",
    "           flowCore::read.FCS(transformation = F, alter.names = T) %>% \n",
    "           # extract counts alone\n",
    "           flowCore::exprs() %>% \n",
    "           # convert to dplyr tibble\n",
    "           as_tibble() \n",
    "          )\n",
    "\n",
    "names(flowdata) <- fcsfiles %>% \n",
    "    # extract file name without .fcs extension and parent folders\n",
    "    lapply(. %>% \n",
    "           stringr::str_match('([^/]+).fcs$') %>% \n",
    "           extract2(2))\n",
    "\n",
    "# join all samples by 'file'\n",
    "flowdata %<>% bind_rows(.id = 'file') %>% \n",
    "  filter_if(is.numeric,all_vars(. >= 0))\n",
    "print(flowdata)"
   ]
  },
  {
   "cell_type": "code",
   "execution_count": 186,
   "metadata": {},
   "outputs": [
    {
     "name": "stdout",
     "output_type": "stream",
     "text": [
      "# A tibble: 18 x 5\n",
      "                    file codonmutation samplelabel  time replicate\n",
      "                   <chr>         <chr>       <chr> <int>     <int>\n",
      " 1 Specimen_001_Tube_001            WT        Rich    12         1\n",
      " 2 Specimen_001_Tube_002            WT        -Leu    12         1\n",
      " 3 Specimen_001_Tube_003            WT        -Arg    12         1\n",
      " 4 Specimen_001_Tube_004           CGG        Rich    12         1\n",
      " 5 Specimen_001_Tube_005           CGG        -Leu    12         1\n",
      " 6 Specimen_001_Tube_006           CGG        -Arg    12         1\n",
      " 7 Specimen_002_Tube_001            WT        Rich    24         1\n",
      " 8 Specimen_002_Tube_002            WT        -Leu    24         1\n",
      " 9 Specimen_002_Tube_003            WT        -Arg    24         1\n",
      "10 Specimen_002_Tube_004           CGG        Rich    24         1\n",
      "11 Specimen_002_Tube_005           CGG        -Leu    24         1\n",
      "12 Specimen_002_Tube_006           CGG        -Arg    24         1\n",
      "13 Specimen_003_Tube_001            WT        Rich    48         1\n",
      "14 Specimen_003_Tube_002            WT        -Leu    48         1\n",
      "15 Specimen_003_Tube_003            WT        -Arg    48         1\n",
      "16 Specimen_003_Tube_004           CGG        Rich    48         1\n",
      "17 Specimen_003_Tube_005           CGG        -Leu    48         1\n",
      "18 Specimen_003_Tube_006           CGG        -Arg    48         1\n"
     ]
    }
   ],
   "source": [
    "annotations <- read_tsv('../rawdata/flow_cytometry/suppfig6/20161025_hela_yfpdhfr_LV_all6argvariants_122448h_1rep/sampleannotations.tsv', \n",
    "                        col_types = list('plate' = col_integer())) %>% \n",
    "  # replace all 'na' ny NA\n",
    "  mutate_all(funs(ifelse(. == 'na', NA, .))) %>% \n",
    "print(annotations)"
   ]
  },
  {
   "cell_type": "code",
   "execution_count": 187,
   "metadata": {},
   "outputs": [
    {
     "name": "stderr",
     "output_type": "stream",
     "text": [
      "Adding missing grouping variables: `file`\n"
     ]
    },
    {
     "name": "stdout",
     "output_type": "stream",
     "text": [
      "# A tibble: 18 x 6\n",
      "                    file       yfp codonmutation samplelabel  time replicate\n",
      "                   <chr>     <dbl>         <chr>       <chr> <int>     <int>\n",
      " 1 Specimen_001_Tube_001  981.4036            WT        Rich    12         1\n",
      " 2 Specimen_001_Tube_002 1171.5928            WT        -Leu    12         1\n",
      " 3 Specimen_001_Tube_003  565.6997            WT        -Arg    12         1\n",
      " 4 Specimen_001_Tube_004 1233.8447           CGG        Rich    12         1\n",
      " 5 Specimen_001_Tube_005 1153.7525           CGG        -Leu    12         1\n",
      " 6 Specimen_001_Tube_006 1077.1478           CGG        -Arg    12         1\n",
      " 7 Specimen_002_Tube_001 1989.6533            WT        Rich    24         1\n",
      " 8 Specimen_002_Tube_002 1621.4048            WT        -Leu    24         1\n",
      " 9 Specimen_002_Tube_003  956.2905            WT        -Arg    24         1\n",
      "10 Specimen_002_Tube_004 1704.2269           CGG        Rich    24         1\n",
      "11 Specimen_002_Tube_005 1715.3533           CGG        -Leu    24         1\n",
      "12 Specimen_002_Tube_006 1766.7212           CGG        -Arg    24         1\n",
      "13 Specimen_003_Tube_001 1599.1820            WT        Rich    48         1\n",
      "14 Specimen_003_Tube_002 2027.9222            WT        -Leu    48         1\n",
      "15 Specimen_003_Tube_003 1447.4825            WT        -Arg    48         1\n",
      "16 Specimen_003_Tube_004 1854.0728           CGG        Rich    48         1\n",
      "17 Specimen_003_Tube_005 1537.7362           CGG        -Leu    48         1\n",
      "18 Specimen_003_Tube_006 2771.9000           CGG        -Arg    48         1\n"
     ]
    }
   ],
   "source": [
    "data <- flowdata  %>% \n",
    "    # group by  each file (tube)\n",
    "    group_by(file) %>% \n",
    "    select(FITC.A) %>% \n",
    "    # calculate mean\n",
    "    summarise_all(mean) %>% \n",
    "    # ratios\n",
    "    rename('yfp' = FITC.A) %>% \n",
    "    # join annotations\n",
    "    left_join(annotations, by = 'file')\n",
    "print(data)"
   ]
  },
  {
   "cell_type": "code",
   "execution_count": 188,
   "metadata": {},
   "outputs": [
    {
     "name": "stdout",
     "output_type": "stream",
     "text": [
      "# A tibble: 12 x 6\n",
      "         yfp codonmutation samplelabel   time replicate relative_yfp\n",
      "       <dbl>        <fctr>      <fctr> <fctr>     <int>        <dbl>\n",
      " 1 1171.5928           CGC        –Leu     12         1    1.1937930\n",
      " 2  565.6997           CGC        –Arg     12         1    0.5764190\n",
      " 3 1153.7525           CGG        –Leu     12         1    0.9350873\n",
      " 4 1077.1478           CGG        –Arg     12         1    0.8730011\n",
      " 5 1621.4048           CGC        –Leu     24         1    0.8149183\n",
      " 6  956.2905           CGC        –Arg     24         1    0.4806317\n",
      " 7 1715.3533           CGG        –Leu     24         1    1.0065287\n",
      " 8 1766.7212           CGG        –Arg     24         1    1.0366702\n",
      " 9 2027.9222           CGC        –Leu     48         1    1.2680997\n",
      "10 1447.4825           CGC        –Arg     48         1    0.9051393\n",
      "11 1537.7362           CGG        –Leu     48         1    0.8293829\n",
      "12 2771.9000           CGG        –Arg     48         1    1.4950330\n"
     ]
    }
   ],
   "source": [
    "norm.data <- data %>% \n",
    "  group_by(codonmutation,time) %>%\n",
    "  mutate(relative_yfp = yfp / yfp[samplelabel == \"Rich\"]) %>%\n",
    "  ungroup() %>% \n",
    "  select(-file) %>% \n",
    "  filter(samplelabel != \"Rich\") %>% \n",
    "  mutate(samplelabel = stringr::str_replace(samplelabel, \"-\", \"–\")) %>% \n",
    "  mutate(codonmutation = stringr::str_replace(codonmutation, \"WT\", \"CGC\")) %>%\n",
    "  mutate_if(is.character, as.factor) %>% \n",
    "  mutate(time = as.factor(time)) %>% \n",
    "  print"
   ]
  },
  {
   "cell_type": "code",
   "execution_count": 190,
   "metadata": {},
   "outputs": [
    {
     "data": {},
     "metadata": {},
     "output_type": "display_data"
    },
    {
     "data": {
      "image/png": "[encoded data removed]",
      "text/plain": [
       "plot without title"
      ]
     },
     "metadata": {},
     "output_type": "display_data"
    }
   ],
   "source": [
    "options(repr.plot.width = 3.2, repr.plot.height = 1.5)\n",
    "\n",
    "norm.data %>% \n",
    "  ggplot(aes(x = time, y = relative_yfp, color = codonmutation,\n",
    "             group = codonmutation)) +\n",
    "  geom_point(size=0.5) + geom_line(size=0.5) +\n",
    "  facet_wrap(~ samplelabel, ncol = 2) +\n",
    "  # set colors manually\n",
    "  scale_colour_manual(values=rep(cbPalette[5:6], 2)) +\n",
    "  scale_y_continuous(breaks = scales::pretty_breaks(n=3), limits=c(0,1.5)) +\n",
    "  xlab('time (hr)') + \n",
    "  ylab('fluorescence\\n(relative to rich)') +\n",
    "  # remove legend\n",
    "  labs(color = \"\") +\n",
    "  theme(panel.spacing.x = unit(1, \"lines\"),\n",
    "        legend.key.size = unit(1, 'lines'),\n",
    "        legend.position = \"none\"\n",
    "       ) +\n",
    "  guides(color = guide_legend(ncol = 2, title.hjust = 0.5, keywidth = 0.5,\n",
    "                              byrow = TRUE)) +\n",
    "  ggtitle('HeLa') + theme(plot.title = element_text(hjust = 0.5, size=8))\n",
    "\n",
    "ggsave('../figures/suppfig6b_hela.pdf',\n",
    "       width = 3.2, height = 1.5, units = 'in', device = cairo_pdf)"
   ]
  },
  {
   "cell_type": "markdown",
   "metadata": {},
   "source": [
    "# repeat for HCT116 Arg codon variants YFP-CGC vs. YFP-CGG (supp. fig. 6c)"
   ]
  },
  {
   "cell_type": "code",
   "execution_count": 210,
   "metadata": {},
   "outputs": [
    {
     "name": "stdout",
     "output_type": "stream",
     "text": [
      "# A tibble: 972,098 x 14\n",
      "                    file    FSC.A     SSC.A  APC.A APC.Cy7.A  FITC.A PerCP.A\n",
      "                   <chr>    <dbl>     <dbl>  <dbl>     <dbl>   <dbl>   <dbl>\n",
      " 1 Specimen_001_Tube_001  95909.1  40587.48  83.60     34.10   47.79  165.24\n",
      " 2 Specimen_001_Tube_001 155538.6 153210.69 589.05     37.95 1822.50 1318.68\n",
      " 3 Specimen_001_Tube_001  97395.9  56752.65 239.80     46.20  336.96  337.77\n",
      " 4 Specimen_001_Tube_001  69386.1  56784.24 222.20     35.75   71.28  272.97\n",
      " 5 Specimen_001_Tube_001  79043.3  71348.85 271.15     37.95   84.24  292.41\n",
      " 6 Specimen_001_Tube_001 105811.3  68973.93 207.90     14.30   46.98  305.37\n",
      " 7 Specimen_001_Tube_001 102774.7  68996.61 191.40     20.35   29.97  385.56\n",
      " 8 Specimen_001_Tube_001 100414.3  76810.68 174.90     19.80  102.06  316.71\n",
      " 9 Specimen_001_Tube_001  96874.4  65422.89 209.00     20.90  119.88  336.15\n",
      "10 Specimen_001_Tube_001  76850.9  33887.97 121.00     14.30   53.46  176.58\n",
      "# ... with 972,088 more rows, and 7 more variables: mCFP.A <dbl>,\n",
      "#   Chromomycin.A3.A <dbl>, PE.A <dbl>, PE.Texas.Red.A <dbl>, PE.Cy5.A <dbl>,\n",
      "#   PE.Cy7.A <dbl>, Time <dbl>\n"
     ]
    }
   ],
   "source": [
    "# look for files ending in .fcs\n",
    "fcsfiles <- '../rawdata/flow_cytometry/suppfig6/20160510_fcs_hct116_lentitrial1_flagyfpdhfrwtcgg_richleuarg_timecourse3h6h9h18h25h36h_1rep/fcs_files/' %>% \n",
    "    list.files(full.names = T, pattern = '.fcs$')\n",
    "\n",
    "flowdata  <- fcsfiles %>% \n",
    "    lapply(. %>%\n",
    "           # read FCS file without any transformations\n",
    "           flowCore::read.FCS(transformation = F, alter.names = T) %>% \n",
    "           # extract counts alone\n",
    "           flowCore::exprs() %>% \n",
    "           # convert to dplyr tibble\n",
    "           as_tibble() \n",
    "          )\n",
    "\n",
    "names(flowdata) <- fcsfiles %>% \n",
    "    # extract file name without .fcs extension and parent folders\n",
    "    lapply(. %>% \n",
    "           stringr::str_match('([^/]+).fcs$') %>% \n",
    "           extract2(2))\n",
    "\n",
    "# join all samples by 'file'\n",
    "flowdata %<>% bind_rows(.id = 'file') %>% \n",
    "  filter_if(is.numeric,all_vars(. >= 0))\n",
    "print(flowdata)"
   ]
  },
  {
   "cell_type": "code",
   "execution_count": 211,
   "metadata": {},
   "outputs": [
    {
     "name": "stdout",
     "output_type": "stream",
     "text": [
      "# A tibble: 72 x 6\n",
      "                    file codonmutation samplelabel  time   tmp replicate\n",
      "                   <chr>         <chr>       <chr> <int> <chr>     <int>\n",
      " 1 Specimen_001_Tube_001            WT        Rich     3   TMP         1\n",
      " 2 Specimen_001_Tube_002            WT        -Leu     3   TMP         1\n",
      " 3 Specimen_001_Tube_003            WT        -Arg     3   TMP         1\n",
      " 4 Specimen_001_Tube_004           CGG        Rich     3   TMP         1\n",
      " 5 Specimen_001_Tube_005           CGG        -Leu     3   TMP         1\n",
      " 6 Specimen_001_Tube_006           CGG        -Arg     3   TMP         1\n",
      " 7 Specimen_001_Tube_007            WT        Rich     3 NOTMP         1\n",
      " 8 Specimen_001_Tube_008            WT        -Leu     3 NOTMP         1\n",
      " 9 Specimen_001_Tube_009            WT        -Arg     3 NOTMP         1\n",
      "10 Specimen_001_Tube_010           CGG        Rich     3 NOTMP         1\n",
      "# ... with 62 more rows\n"
     ]
    }
   ],
   "source": [
    "annotations <- read_tsv('../rawdata/flow_cytometry/suppfig6/20160510_fcs_hct116_lentitrial1_flagyfpdhfrwtcgg_richleuarg_timecourse3h6h9h18h25h36h_1rep/sampleannotations.tsv', \n",
    "                        col_types = list('plate' = col_integer())) %>% \n",
    "  # replace all 'na' ny NA\n",
    "  mutate_all(funs(ifelse(. == 'na', NA, .))) %>% \n",
    "print(annotations)"
   ]
  },
  {
   "cell_type": "code",
   "execution_count": 212,
   "metadata": {},
   "outputs": [
    {
     "name": "stderr",
     "output_type": "stream",
     "text": [
      "Adding missing grouping variables: `file`\n"
     ]
    },
    {
     "name": "stdout",
     "output_type": "stream",
     "text": [
      "# A tibble: 72 x 7\n",
      "                    file       yfp codonmutation samplelabel  time   tmp\n",
      "                   <chr>     <dbl>         <chr>       <chr> <int> <chr>\n",
      " 1 Specimen_001_Tube_001 278.61935            WT        Rich     3   TMP\n",
      " 2 Specimen_001_Tube_002 270.24838            WT        -Leu     3   TMP\n",
      " 3 Specimen_001_Tube_003 229.53416            WT        -Arg     3   TMP\n",
      " 4 Specimen_001_Tube_004 253.28907           CGG        Rich     3   TMP\n",
      " 5 Specimen_001_Tube_005 234.79227           CGG        -Leu     3   TMP\n",
      " 6 Specimen_001_Tube_006 236.94505           CGG        -Arg     3   TMP\n",
      " 7 Specimen_001_Tube_007 101.81130            WT        Rich     3 NOTMP\n",
      " 8 Specimen_001_Tube_008 101.60605            WT        -Leu     3 NOTMP\n",
      " 9 Specimen_001_Tube_009  96.35305            WT        -Arg     3 NOTMP\n",
      "10 Specimen_001_Tube_010 100.21234           CGG        Rich     3 NOTMP\n",
      "# ... with 62 more rows, and 1 more variables: replicate <int>\n"
     ]
    }
   ],
   "source": [
    "data <- flowdata  %>% \n",
    "    # group by  each file (tube)\n",
    "    group_by(file) %>% \n",
    "    select(FITC.A) %>% \n",
    "    # calculate mean\n",
    "    summarise_all(mean) %>% \n",
    "    # ratios\n",
    "    rename('yfp' = FITC.A) %>% \n",
    "    # join annotations\n",
    "    left_join(annotations, by = 'file')\n",
    "print(data)"
   ]
  },
  {
   "cell_type": "code",
   "execution_count": 213,
   "metadata": {},
   "outputs": [
    {
     "name": "stdout",
     "output_type": "stream",
     "text": [
      "# A tibble: 24 x 7\n",
      "         yfp codonmutation samplelabel   time    tmp replicate relative_yfp_tmp\n",
      "       <dbl>        <fctr>      <fctr> <fctr> <fctr>     <int>            <dbl>\n",
      " 1  270.2484           CGC        –Leu      3    TMP         1        0.9699555\n",
      " 2  229.5342           CGC        –Arg      3    TMP         1        0.8238270\n",
      " 3  234.7923           CGG        –Leu      3    TMP         1        0.9269736\n",
      " 4  236.9450           CGG        –Arg      3    TMP         1        0.9354729\n",
      " 5  429.9394           CGC        –Leu      6    TMP         1        0.9131413\n",
      " 6  578.0139           CGC        –Arg      6    TMP         1        1.2276344\n",
      " 7  414.6121           CGG        –Leu      6    TMP         1        0.9718056\n",
      " 8  791.2596           CGG        –Arg      6    TMP         1        1.8546265\n",
      " 9  649.7694           CGC        –Leu      9    TMP         1        1.0366710\n",
      "10 1047.6924           CGC        –Arg      9    TMP         1        1.6715350\n",
      "# ... with 14 more rows\n"
     ]
    }
   ],
   "source": [
    "norm.data <- data %>% filter(tmp == \"TMP\") %>% \n",
    "  group_by(codonmutation,time) %>%\n",
    "  mutate(relative_yfp_tmp = yfp / yfp[samplelabel == \"Rich\"]) %>%\n",
    "  ungroup() %>% \n",
    "  select(-file) %>% \n",
    "  filter(samplelabel != \"Rich\") %>% \n",
    "  mutate(samplelabel = stringr::str_replace(samplelabel, \"-\", \"–\")) %>% \n",
    "  mutate(codonmutation = stringr::str_replace(codonmutation, \"WT\", \"CGC\")) %>%\n",
    "  mutate_if(is.character, as.factor) %>% \n",
    "  mutate(time = as.factor(time)) %>% \n",
    "  print"
   ]
  },
  {
   "cell_type": "code",
   "execution_count": 214,
   "metadata": {},
   "outputs": [
    {
     "data": {},
     "metadata": {},
     "output_type": "display_data"
    },
    {
     "data": {
      "image/png": "[encoded data removed]",
      "text/plain": [
       "plot without title"
      ]
     },
     "metadata": {},
     "output_type": "display_data"
    }
   ],
   "source": [
    "options(repr.plot.width = 3.7, repr.plot.height = 1.5)\n",
    "\n",
    "norm.data %>% \n",
    "  ggplot(aes(x = time, y = relative_yfp_tmp, color = codonmutation,\n",
    "             group = codonmutation)) +\n",
    "  geom_point(size=0.5) + geom_line(size=0.5) +\n",
    "  facet_wrap(~ samplelabel, ncol = 2) +\n",
    "  # set colors manually\n",
    "  scale_colour_manual(values=rep(cbPalette[5:6], 2)) +\n",
    "  scale_y_continuous(breaks = scales::pretty_breaks(n=3), limits=c(0,12)) +\n",
    "  xlab('time (hr)') + \n",
    "  ylab('fluorescence\\n(relative to rich)') +\n",
    "  # remove legend\n",
    "  labs(color = \"\") +\n",
    "  theme(panel.spacing.x = unit(1, \"lines\"),\n",
    "        legend.key.size = unit(1, 'lines'),\n",
    "        legend.position = \"none\"\n",
    "       ) +\n",
    "  guides(color = guide_legend(ncol = 2, title.hjust = 0.5, keywidth = 0.5,\n",
    "                              byrow = TRUE)) +\n",
    "  ggtitle('HCT116') + theme(plot.title = element_text(hjust = 0.5, size=8))\n",
    "\n",
    "ggsave('../figures/suppfig6b_hct116_tmp.pdf',\n",
    "       width = 3.7, height = 1.5, units = 'in', device = cairo_pdf)"
   ]
  },
  {
   "cell_type": "markdown",
   "metadata": {},
   "source": [
    "# repeat for HEK293T Arg codon variants YFP-CGC vs. YFP-CGG, CRISPR reporter @ AAVS1 (supp. fig. 6c)"
   ]
  },
  {
   "cell_type": "code",
   "execution_count": 191,
   "metadata": {},
   "outputs": [
    {
     "name": "stdout",
     "output_type": "stream",
     "text": [
      "# A tibble: 678,978 x 14\n",
      "                    file     FSC.A     SSC.A  APC.A APC.Cy7.A  FITC.A PerCP.A\n",
      "                   <chr>     <dbl>     <dbl>  <dbl>     <dbl>   <dbl>   <dbl>\n",
      " 1 Specimen_001_Tube_001  90413.94  74491.48 309.72     29.00  405.06 1653.78\n",
      " 2 Specimen_001_Tube_001  70363.64  50255.82 189.66     41.76  268.32 1212.60\n",
      " 3 Specimen_001_Tube_001  70089.84  61097.84 257.52     14.50  738.74 2463.04\n",
      " 4 Specimen_001_Tube_001  44698.22 124724.09 461.10     36.54  387.86 1892.86\n",
      " 5 Specimen_001_Tube_001  83594.10  95142.66 460.52     67.28 1206.58 4373.10\n",
      " 6 Specimen_001_Tube_001  69791.62  51004.88 229.68     16.24 1120.58 3980.94\n",
      " 7 Specimen_001_Tube_001  99077.86 115663.98 470.96     98.60  611.46 2524.10\n",
      " 8 Specimen_001_Tube_001 102390.10  99749.68 278.40     11.60  541.80 2263.52\n",
      " 9 Specimen_001_Tube_001 101691.54  92017.42 408.32     42.34  606.30 2385.64\n",
      "10 Specimen_001_Tube_001  55096.70  42295.66 191.98      9.28  415.38 1526.50\n",
      "# ... with 678,968 more rows, and 7 more variables: mCFP.A <dbl>,\n",
      "#   Chromomycin.A3.A <dbl>, PE.A <dbl>, PE.Texas.Red.A <dbl>, PE.Cy5.A <dbl>,\n",
      "#   PE.Cy7.A <dbl>, Time <dbl>\n"
     ]
    }
   ],
   "source": [
    "# look for files ending in .fcs\n",
    "fcsfiles <- '../rawdata/flow_cytometry/suppfig6/20160520_fcs_hek293t_crispraavs1_flagyfpdhfrwtcgg_richnoserumleuargplusminustmp_timecourse3h6h25h30h48h72h_1rep/fcs_files/' %>% \n",
    "    list.files(full.names = T, pattern = '.fcs$')\n",
    "\n",
    "flowdata  <- fcsfiles %>% \n",
    "    lapply(. %>%\n",
    "           # read FCS file without any transformations\n",
    "           flowCore::read.FCS(transformation = F, alter.names = T) %>% \n",
    "           # extract counts alone\n",
    "           flowCore::exprs() %>% \n",
    "           # convert to dplyr tibble\n",
    "           as_tibble() \n",
    "          )\n",
    "\n",
    "names(flowdata) <- fcsfiles %>% \n",
    "    # extract file name without .fcs extension and parent folders\n",
    "    lapply(. %>% \n",
    "           stringr::str_match('([^/]+).fcs$') %>% \n",
    "           extract2(2))\n",
    "\n",
    "# join all samples by 'file'\n",
    "flowdata %<>% bind_rows(.id = 'file') %>% \n",
    "  filter_if(is.numeric,all_vars(. >= 0))\n",
    "print(flowdata)"
   ]
  },
  {
   "cell_type": "code",
   "execution_count": 192,
   "metadata": {},
   "outputs": [
    {
     "name": "stdout",
     "output_type": "stream",
     "text": [
      "# A tibble: 96 x 6\n",
      "                    file codonmutation samplelabel  time   tmp replicate\n",
      "                   <chr>         <chr>       <chr> <int> <chr>     <int>\n",
      " 1 Specimen_001_Tube_001            WT        Rich     3   TMP         1\n",
      " 2 Specimen_001_Tube_002            WT      -Serum     3   TMP         1\n",
      " 3 Specimen_001_Tube_003            WT        -Leu     3   TMP         1\n",
      " 4 Specimen_001_Tube_004            WT        -Arg     3   TMP         1\n",
      " 5 Specimen_001_Tube_005           CGG        Rich     3   TMP         1\n",
      " 6 Specimen_001_Tube_006           CGG      -Serum     3   TMP         1\n",
      " 7 Specimen_001_Tube_007           CGG        -Leu     3   TMP         1\n",
      " 8 Specimen_001_Tube_008           CGG        -Arg     3   TMP         1\n",
      " 9 Specimen_001_Tube_009            WT        Rich     3 NOTMP         1\n",
      "10 Specimen_001_Tube_010            WT      -Serum     3 NOTMP         1\n",
      "# ... with 86 more rows\n"
     ]
    }
   ],
   "source": [
    "annotations <- read_tsv('../rawdata/flow_cytometry/suppfig6/20160520_fcs_hek293t_crispraavs1_flagyfpdhfrwtcgg_richnoserumleuargplusminustmp_timecourse3h6h25h30h48h72h_1rep/sampleannotations.tsv', \n",
    "                        col_types = list('plate' = col_integer())) %>% \n",
    "  # replace all 'na' ny NA\n",
    "  mutate_all(funs(ifelse(. == 'na', NA, .))) %>% \n",
    "print(annotations)"
   ]
  },
  {
   "cell_type": "code",
   "execution_count": 193,
   "metadata": {},
   "outputs": [
    {
     "name": "stderr",
     "output_type": "stream",
     "text": [
      "Adding missing grouping variables: `file`\n"
     ]
    },
    {
     "name": "stdout",
     "output_type": "stream",
     "text": [
      "# A tibble: 96 x 7\n",
      "                    file      yfp codonmutation samplelabel  time   tmp\n",
      "                   <chr>    <dbl>         <chr>       <chr> <int> <chr>\n",
      " 1 Specimen_001_Tube_001 804.2824            WT        Rich     3   TMP\n",
      " 2 Specimen_001_Tube_002 378.4364            WT      -Serum     3   TMP\n",
      " 3 Specimen_001_Tube_003 386.3826            WT        -Leu     3   TMP\n",
      " 4 Specimen_001_Tube_004 275.7039            WT        -Arg     3   TMP\n",
      " 5 Specimen_001_Tube_005 226.2584           CGG        Rich     3   TMP\n",
      " 6 Specimen_001_Tube_006 203.2280           CGG      -Serum     3   TMP\n",
      " 7 Specimen_001_Tube_007 213.6346           CGG        -Leu     3   TMP\n",
      " 8 Specimen_001_Tube_008 201.9865           CGG        -Arg     3   TMP\n",
      " 9 Specimen_001_Tube_009 118.9015            WT        Rich     3 NOTMP\n",
      "10 Specimen_001_Tube_010 114.7001            WT      -Serum     3 NOTMP\n",
      "# ... with 86 more rows, and 1 more variables: replicate <int>\n"
     ]
    }
   ],
   "source": [
    "data <- flowdata  %>% \n",
    "    # group by  each file (tube)\n",
    "    group_by(file) %>% \n",
    "    select(FITC.A) %>% \n",
    "    # calculate mean\n",
    "    summarise_all(mean) %>% \n",
    "    # ratios\n",
    "    rename('yfp' = FITC.A) %>% \n",
    "    # join annotations\n",
    "    left_join(annotations, by = 'file')\n",
    "print(data)"
   ]
  },
  {
   "cell_type": "code",
   "execution_count": 194,
   "metadata": {},
   "outputs": [
    {
     "name": "stdout",
     "output_type": "stream",
     "text": [
      "# A tibble: 36 x 7\n",
      "        yfp codonmutation samplelabel   time    tmp replicate relative_yfp_tmp\n",
      "      <dbl>        <fctr>      <fctr> <fctr> <fctr>     <int>            <dbl>\n",
      " 1 378.4364           CGC      –Serum      3    TMP         1        0.4705268\n",
      " 2 386.3826           CGC        –Leu      3    TMP         1        0.4804066\n",
      " 3 275.7039           CGC        –Arg      3    TMP         1        0.3427948\n",
      " 4 203.2280           CGG      –Serum      3    TMP         1        0.8982120\n",
      " 5 213.6346           CGG        –Leu      3    TMP         1        0.9442067\n",
      " 6 201.9865           CGG        –Arg      3    TMP         1        0.8927252\n",
      " 7 435.2542           CGC      –Serum      6    TMP         1        0.7227062\n",
      " 8 641.6167           CGC        –Leu      6    TMP         1        1.0653554\n",
      " 9 412.5227           CGC        –Arg      6    TMP         1        0.6849623\n",
      "10 249.4622           CGG      –Serum      6    TMP         1        0.7485689\n",
      "# ... with 26 more rows\n"
     ]
    }
   ],
   "source": [
    "norm.data <- data %>% filter(tmp == \"TMP\") %>% \n",
    "  group_by(codonmutation,time) %>%\n",
    "  mutate(relative_yfp_tmp = yfp / yfp[samplelabel == \"Rich\"]) %>%\n",
    "  ungroup() %>% \n",
    "  select(-file) %>% \n",
    "  filter(samplelabel != \"Rich\") %>% \n",
    "  mutate(samplelabel = stringr::str_replace(samplelabel, \"-\", \"–\")) %>% \n",
    "  mutate(codonmutation = stringr::str_replace(codonmutation, \"WT\", \"CGC\")) %>%\n",
    "  mutate_if(is.character, as.factor) %>% \n",
    "  mutate(time = as.factor(time)) %>% \n",
    "  print"
   ]
  },
  {
   "cell_type": "code",
   "execution_count": 201,
   "metadata": {},
   "outputs": [
    {
     "data": {},
     "metadata": {},
     "output_type": "display_data"
    },
    {
     "data": {
      "image/png": "[encoded data removed]",
      "text/plain": [
       "plot without title"
      ]
     },
     "metadata": {},
     "output_type": "display_data"
    }
   ],
   "source": [
    "options(repr.plot.width = 4.9, repr.plot.height = 1.5)\n",
    "\n",
    "norm.data %>% \n",
    "  ggplot(aes(x = time, y = relative_yfp_tmp, color = codonmutation,\n",
    "             group = codonmutation)) +\n",
    "  geom_point(size=0.5) + geom_line(size=0.5) +\n",
    "  facet_wrap(~ samplelabel, ncol = 3) +\n",
    "  # set colors manually\n",
    "  scale_colour_manual(values=rep(cbPalette[5:6], 2)) +\n",
    "  scale_y_continuous(breaks = scales::pretty_breaks(n=3), limits=c(0,1.6)) +\n",
    "  xlab('time (hr)') + \n",
    "  ylab('fluorescence\\n(relative to rich)') +\n",
    "  # remove legend\n",
    "  labs(color = \"\") +\n",
    "  theme(panel.spacing.x = unit(1, \"lines\"),\n",
    "        legend.key.size = unit(1, 'lines'), \n",
    "        legend.direction = 'vertical',\n",
    "        legend.position = 'right') +\n",
    "  guides(color = guide_legend(ncol = 1, title.hjust = 0.5, keywidth = 0.5,\n",
    "                              byrow = TRUE)) +\n",
    "  ggtitle('293T, CRISPR-AAVS1 reporter') + theme(plot.title = element_text(hjust = 0.5, size=8))\n",
    "\n",
    "ggsave('../figures/suppfig6b_293t_crispraavs1_tmp.pdf',\n",
    "       width = 4.9, height = 1.5, units = 'in', device = cairo_pdf)"
   ]
  },
  {
   "cell_type": "markdown",
   "metadata": {
    "collapsed": true
   },
   "source": [
    "# repeat for HCT116 Arg codon variants YFP-CGC vs. YFP-CGG, CRISPR reporter @ AAVS1 (supp. fig. 6c)"
   ]
  },
  {
   "cell_type": "code",
   "execution_count": 202,
   "metadata": {},
   "outputs": [
    {
     "name": "stdout",
     "output_type": "stream",
     "text": [
      "# A tibble: 485,377 x 15\n",
      "                        file     FSC.A     SSC.A   FITC.A     PE.A\n",
      "                       <chr>     <dbl>     <dbl>    <dbl>    <dbl>\n",
      " 1 Specimen_001_Tube_001_001  35551.83  84948.84  1743.83 13343.08\n",
      " 2 Specimen_001_Tube_001_001  60840.61  45391.87  1673.28 10829.84\n",
      " 3 Specimen_001_Tube_001_001  43222.67  62514.77  1471.59 10721.11\n",
      " 4 Specimen_001_Tube_001_001  78557.23  52861.87    21.58  1126.31\n",
      " 5 Specimen_001_Tube_001_001  99911.20  64290.14  6133.70 40796.99\n",
      " 6 Specimen_001_Tube_001_001 137988.50 119734.14 12182.74 80388.82\n",
      " 7 Specimen_001_Tube_001_001  40741.93 133249.86  1230.89 11102.08\n",
      " 8 Specimen_001_Tube_001_001  36954.08 199949.48   288.84  6395.15\n",
      " 9 Specimen_001_Tube_001_001  31936.51  47617.93  5169.24 33621.64\n",
      "10 Specimen_001_Tube_001_001 106244.40  58519.15  5759.37 36783.11\n",
      "# ... with 485,367 more rows, and 10 more variables: PE.Texas.Red.A <dbl>,\n",
      "#   PerCP.Cy5.5.A <dbl>, PE.Cy7.A <dbl>, Pacific.Blue.A <dbl>, AmCyan.A <dbl>,\n",
      "#   APC.A <dbl>, APC.Cy7.A <dbl>, DsRed.A <dbl>, mCherry.A <dbl>, Time <dbl>\n"
     ]
    }
   ],
   "source": [
    "# look for files ending in .fcs\n",
    "fcsfiles <- '../rawdata/flow_cytometry/suppfig6/20160615_fcs_hct116_crispraavs1_flagyfpdhfrwtcgg_richleuargplusminustmp_24h_3reps/fcs_files/' %>% \n",
    "    list.files(full.names = T, pattern = '.fcs$')\n",
    "\n",
    "flowdata  <- fcsfiles %>% \n",
    "    lapply(. %>%\n",
    "           # read FCS file without any transformations\n",
    "           flowCore::read.FCS(transformation = F, alter.names = T) %>% \n",
    "           # extract counts alone\n",
    "           flowCore::exprs() %>% \n",
    "           # convert to dplyr tibble\n",
    "           as_tibble() \n",
    "          )\n",
    "\n",
    "names(flowdata) <- fcsfiles %>% \n",
    "    # extract file name without .fcs extension and parent folders\n",
    "    lapply(. %>% \n",
    "           stringr::str_match('([^/]+).fcs$') %>% \n",
    "           extract2(2))\n",
    "\n",
    "# join all samples by 'file'\n",
    "flowdata %<>% bind_rows(.id = 'file') %>% \n",
    "  filter_if(is.numeric,all_vars(. >= 0))\n",
    "print(flowdata)"
   ]
  },
  {
   "cell_type": "code",
   "execution_count": 203,
   "metadata": {},
   "outputs": [
    {
     "name": "stdout",
     "output_type": "stream",
     "text": [
      "# A tibble: 36 x 6\n",
      "                        file codonmutation samplelabel  time   tmp replicate\n",
      "                       <chr>         <chr>       <chr> <int> <chr>     <int>\n",
      " 1 Specimen_001_Tube_001_001            WT        Rich    24  +TMP         1\n",
      " 2 Specimen_001_Tube_002_002            WT        –Leu    24  +TMP         1\n",
      " 3 Specimen_001_Tube_003_003            WT        –Arg    24  +TMP         1\n",
      " 4 Specimen_001_Tube_004_004           CGG        Rich    24  +TMP         1\n",
      " 5 Specimen_001_Tube_005_005           CGG        –Leu    24  +TMP         1\n",
      " 6 Specimen_001_Tube_006_006           CGG        –Arg    24  +TMP         1\n",
      " 7 Specimen_001_Tube_007_007            WT        Rich    24  +TMP         2\n",
      " 8 Specimen_001_Tube_008_008            WT        –Leu    24  +TMP         2\n",
      " 9 Specimen_001_Tube_009_009            WT        –Arg    24  +TMP         2\n",
      "10 Specimen_001_Tube_010_010           CGG        Rich    24  +TMP         2\n",
      "# ... with 26 more rows\n"
     ]
    }
   ],
   "source": [
    "annotations <- read_tsv('../rawdata/flow_cytometry/suppfig6/20160615_fcs_hct116_crispraavs1_flagyfpdhfrwtcgg_richleuargplusminustmp_24h_3reps/sampleannotations.tsv', \n",
    "                        col_types = list('plate' = col_integer())) %>% \n",
    "  # replace all 'na' ny NA\n",
    "  mutate_all(funs(ifelse(. == 'na', NA, .))) %>% \n",
    "  mutate(samplelabel = stringr::str_replace(samplelabel, \"-\", \"–\")) %>% \n",
    "  mutate(tmp = ifelse(tmp == \"TMP\", \"+TMP\", \"–TMP\")) %>% \n",
    "print(annotations)"
   ]
  },
  {
   "cell_type": "code",
   "execution_count": 204,
   "metadata": {},
   "outputs": [
    {
     "name": "stderr",
     "output_type": "stream",
     "text": [
      "Adding missing grouping variables: `file`\n"
     ]
    },
    {
     "name": "stdout",
     "output_type": "stream",
     "text": [
      "# A tibble: 36 x 7\n",
      "                        file       yfp codonmutation samplelabel  time   tmp\n",
      "                       <chr>     <dbl>         <chr>       <chr> <int> <chr>\n",
      " 1 Specimen_001_Tube_001_001  5053.582            WT        Rich    24  +TMP\n",
      " 2 Specimen_001_Tube_002_002  7468.610            WT        –Leu    24  +TMP\n",
      " 3 Specimen_001_Tube_003_003  5587.412            WT        –Arg    24  +TMP\n",
      " 4 Specimen_001_Tube_004_004  3063.357           CGG        Rich    24  +TMP\n",
      " 5 Specimen_001_Tube_005_005  4569.846           CGG        –Leu    24  +TMP\n",
      " 6 Specimen_001_Tube_006_006 10266.593           CGG        –Arg    24  +TMP\n",
      " 7 Specimen_001_Tube_007_007  5201.834            WT        Rich    24  +TMP\n",
      " 8 Specimen_001_Tube_008_008  6830.294            WT        –Leu    24  +TMP\n",
      " 9 Specimen_001_Tube_009_009  4353.929            WT        –Arg    24  +TMP\n",
      "10 Specimen_001_Tube_010_010  3109.971           CGG        Rich    24  +TMP\n",
      "# ... with 26 more rows, and 1 more variables: replicate <int>\n"
     ]
    }
   ],
   "source": [
    "data <- flowdata  %>% \n",
    "    # group by  each file (tube)\n",
    "    group_by(file) %>% \n",
    "    select(FITC.A) %>% \n",
    "    # calculate mean\n",
    "    summarise_all(mean) %>% \n",
    "    # ratios\n",
    "    rename('yfp' = FITC.A) %>% \n",
    "    # join annotations\n",
    "    left_join(annotations, by = 'file')\n",
    "print(data)"
   ]
  },
  {
   "cell_type": "code",
   "execution_count": 205,
   "metadata": {},
   "outputs": [
    {
     "name": "stdout",
     "output_type": "stream",
     "text": [
      "# A tibble: 12 x 7\n",
      "   codonmutation samplelabel  time   tmp  mean.yfp std.dev.yfp std.err.yfp\n",
      "           <chr>       <chr> <int> <chr>     <dbl>       <dbl>       <dbl>\n",
      " 1           CGG        –Arg    24  –TMP  663.1661   33.877953   19.559445\n",
      " 2           CGG        –Arg    24  +TMP 9979.1667  249.259032  143.909769\n",
      " 3           CGG        –Leu    24  –TMP  463.4923   78.974945   45.596206\n",
      " 4           CGG        –Leu    24  +TMP 4933.2930  560.634947  323.682738\n",
      " 5           CGG        Rich    24  –TMP  220.4738    9.051744    5.226027\n",
      " 6           CGG        Rich    24  +TMP 2996.2872  158.262338   91.372804\n",
      " 7           CGC        –Arg    24  –TMP  382.1208   55.090602   31.806574\n",
      " 8           CGC        –Arg    24  +TMP 4974.4662  616.776624  356.096150\n",
      " 9           CGC        –Leu    24  –TMP  757.8662   76.263589   44.030804\n",
      "10           CGC        –Leu    24  +TMP 7566.2386  789.300643  455.702939\n",
      "11           CGC        Rich    24  –TMP  404.3209   47.513469   27.431914\n",
      "12           CGC        Rich    24  +TMP 5418.0303  508.286467  293.459328\n"
     ]
    }
   ],
   "source": [
    "avg_data  <- data %>% \n",
    "    # group replicates\n",
    "    dplyr::group_by(codonmutation, samplelabel, time, tmp) %>% \n",
    "    # calculate mean and std.err\n",
    "    summarise(mean.yfp = mean(yfp), std.dev.yfp = sd(yfp), std.err.yfp = sd(yfp)/sqrt(3)) %>% \n",
    "    # ungroup\n",
    "    ungroup() %>% \n",
    "    mutate(codonmutation = stringr::str_replace(codonmutation, \"WT\", \"CGC\")) %>%\n",
    "    print()"
   ]
  },
  {
   "cell_type": "code",
   "execution_count": 206,
   "metadata": {},
   "outputs": [
    {
     "name": "stdout",
     "output_type": "stream",
     "text": [
      "# A tibble: 4 x 10\n",
      "  codonmutation samplelabel   time    tmp mean.yfp std.dev.yfp std.err.yfp\n",
      "         <fctr>      <fctr> <fctr> <fctr>    <dbl>       <dbl>       <dbl>\n",
      "1           CGG        –Arg     24   +TMP 9979.167    249.2590    143.9098\n",
      "2           CGG        –Leu     24   +TMP 4933.293    560.6349    323.6827\n",
      "3           CGC        –Arg     24   +TMP 4974.466    616.7766    356.0961\n",
      "4           CGC        –Leu     24   +TMP 7566.239    789.3006    455.7029\n",
      "# ... with 3 more variables: relative_yfp_mean <dbl>, relative_yfp_sd <dbl>,\n",
      "#   relative_yfp_sterr <dbl>\n"
     ]
    }
   ],
   "source": [
    "norm.data <- avg_data %>% filter(tmp == \"+TMP\") %>% \n",
    "  group_by(codonmutation) %>%\n",
    "  mutate(relative_yfp_mean = mean.yfp / mean.yfp[samplelabel == \"Rich\"]) %>%\n",
    "  mutate(relative_yfp_sd = relative_yfp_mean*sqrt((std.dev.yfp/mean.yfp)^2 + (std.dev.yfp[samplelabel == 'Rich']/mean.yfp[samplelabel == 'Rich'])^2)) %>%\n",
    "  mutate(relative_yfp_sterr = relative_yfp_sd / sqrt(3)) %>%\n",
    "  ungroup() %>% \n",
    "  filter(samplelabel != \"Rich\") %>% \n",
    "  mutate_if(is.character, as.factor) %>% \n",
    "  mutate(time = as.factor(time)) %>% \n",
    "  print"
   ]
  },
  {
   "cell_type": "code",
   "execution_count": 209,
   "metadata": {},
   "outputs": [
    {
     "data": {},
     "metadata": {},
     "output_type": "display_data"
    },
    {
     "data": {
      "image/png": "[encoded data removed]",
      "text/plain": [
       "plot without title"
      ]
     },
     "metadata": {},
     "output_type": "display_data"
    }
   ],
   "source": [
    "options(repr.plot.width = 3.7, repr.plot.height = 1.5)\n",
    "\n",
    "norm.data %>% filter(tmp == \"+TMP\") %>% \n",
    "  ggplot(aes(x = time, y = relative_yfp_mean, color = codonmutation,\n",
    "             group = codonmutation)) +\n",
    "  geom_errorbar(aes(ymin = relative_yfp_mean - relative_yfp_sterr, \n",
    "                    ymax = relative_yfp_mean + relative_yfp_sterr), \n",
    "                size = .25, width = .08, color = \"black\") + \n",
    "  geom_point(size = 1.5, alpha=.9) +\n",
    " facet_wrap(~ forcats::fct_rev(samplelabel), \n",
    "             ncol = 2, scales = \"free_x\") +\n",
    "  scale_y_continuous(breaks = scales::pretty_breaks(n=3), limits=c(0,3.5)) +\n",
    "  scale_colour_manual(values=rep(cbPalette[5:6], 2)) +  \n",
    "  xlab('time (hr)') + \n",
    "  ylab('fluorescence\\n(relative to rich)') +\n",
    "  # remove legend\n",
    "  labs(color = \"\") +\n",
    "  theme(panel.spacing = unit(2, \"lines\"),\n",
    "        legend.key.size = unit(1, 'lines'),\n",
    "        legend.position = \"right\", legend.direction = 'vertical',\n",
    "        legend.title = element_blank()\n",
    "       ) +\n",
    "  guides(color = guide_legend(ncol = 1, title.hjust = 0.5, keywidth = 0.5,\n",
    "                              byrow = TRUE)) +\n",
    "  ggtitle('HCT116, CRISPR AAVS1 reporter') + theme(plot.title = element_text(hjust = 0.5, size=8))\n",
    "\n",
    "\n",
    "\n",
    "ggsave('../figures/figsupp6b_hct116_crispr.pdf',\n",
    "       width = 3.7, height = 1.5, units = 'in', device = cairo_pdf)"
   ]
  },
  {
   "cell_type": "markdown",
   "metadata": {},
   "source": [
    "# repeat for HEK293T Arg codon variants, 3 replicates @ 24 hours (supp. fig. 6b)"
   ]
  },
  {
   "cell_type": "code",
   "execution_count": 46,
   "metadata": {
    "collapsed": true
   },
   "outputs": [],
   "source": [
    "# look for files ending in .fcs\n",
    "fcsfiles <- '../rawdata/flow_cytometry/suppfig6/20161002_hct116_hek293t_LV_all11variants_3reps_24h/fcs_files/' %>% \n",
    "    list.files(full.names = T, pattern = '.fcs$')\n",
    "\n",
    "flowdata  <- fcsfiles %>% \n",
    "    lapply(. %>%\n",
    "           # read FCS file without any transformations\n",
    "           flowCore::read.FCS(transformation = F, alter.names = T) %>% \n",
    "           # extract counts alone\n",
    "           flowCore::exprs() %>% \n",
    "           # convert to dplyr tibble\n",
    "           as_tibble() \n",
    "          )\n",
    "\n",
    "names(flowdata) <- fcsfiles %>% \n",
    "    # extract file name without .fcs extension and parent folders\n",
    "    lapply(. %>% \n",
    "           stringr::str_match('([^/]+).fcs$') %>% \n",
    "           extract2(2))\n",
    "\n",
    "# join all samples by 'file'\n",
    "flowdata %<>% bind_rows(.id = 'file') %>% \n",
    "  filter_if(is.numeric,all_vars(. >= 0))\n",
    "#print(flowdata)"
   ]
  },
  {
   "cell_type": "code",
   "execution_count": 47,
   "metadata": {
    "collapsed": true
   },
   "outputs": [],
   "source": [
    "annotations <- read_tsv('../rawdata/flow_cytometry/suppfig6/20161002_hct116_hek293t_LV_all11variants_3reps_24h/sampleannotations_293t_arg.tsv', \n",
    "                        col_types = list('plate' = col_integer())) %>% \n",
    "  # replace all 'na' ny NA\n",
    "  mutate_all(funs(ifelse(. == 'na', NA, .))) %>% \n",
    "  mutate(samplelabel = stringr::str_replace(samplelabel, \"-\", \"–\")) %>% \n",
    "  mutate(tmp = ifelse(tmp == \"TMP\", \"+TMP\", \"–TMP\")) #%>% \n",
    "#print(annotations)"
   ]
  },
  {
   "cell_type": "code",
   "execution_count": 48,
   "metadata": {},
   "outputs": [
    {
     "name": "stderr",
     "output_type": "stream",
     "text": [
      "Adding missing grouping variables: `file`\n"
     ]
    }
   ],
   "source": [
    "data <- flowdata  %>% \n",
    "    # group by  each file (tube)\n",
    "    group_by(file) %>% \n",
    "    select(FITC.A) %>% \n",
    "    # calculate mean\n",
    "    summarise_all(mean) %>% \n",
    "    # ratios\n",
    "    rename('yfp' = FITC.A) %>% \n",
    "    # join annotations\n",
    "    left_join(annotations, by = 'file')\n",
    "#print(data)"
   ]
  },
  {
   "cell_type": "code",
   "execution_count": 49,
   "metadata": {
    "collapsed": true
   },
   "outputs": [],
   "source": [
    "avg_data  <- data %>% \n",
    "    # group replicates\n",
    "    dplyr::group_by(codonmutation, samplelabel, time, tmp) %>% \n",
    "    # calculate mean and std.err\n",
    "    summarise(mean.yfp = mean(yfp), std.dev.yfp = sd(yfp), std.err.yfp = sd(yfp)/sqrt(3)) %>% \n",
    "    # ungroup\n",
    "    ungroup() %>% \n",
    "    mutate(codonmutation = stringr::str_replace(codonmutation, \"WT\", \"CGC\")) #%>%\n",
    "    #print()"
   ]
  },
  {
   "cell_type": "code",
   "execution_count": 50,
   "metadata": {
    "collapsed": true
   },
   "outputs": [],
   "source": [
    "norm.data <- avg_data %>% filter(tmp == \"+TMP\") %>% \n",
    "  group_by(codonmutation) %>%\n",
    "  mutate(relative_yfp_mean = mean.yfp / mean.yfp[samplelabel == \"Rich\"]) %>%\n",
    "  mutate(relative_yfp_sd = relative_yfp_mean*sqrt((std.dev.yfp/mean.yfp)^2 + (std.dev.yfp[samplelabel == 'Rich']/mean.yfp[samplelabel == 'Rich'])^2)) %>%\n",
    "  mutate(relative_yfp_sterr = relative_yfp_sd / sqrt(3)) %>%\n",
    "  ungroup() %>% \n",
    "  filter(samplelabel != \"Rich\") %>% \n",
    "  mutate_if(is.character, as.factor) %>% \n",
    "  mutate(time = as.factor(time)) #%>% \n",
    "  #print"
   ]
  },
  {
   "cell_type": "code",
   "execution_count": 51,
   "metadata": {},
   "outputs": [
    {
     "data": {},
     "metadata": {},
     "output_type": "display_data"
    },
    {
     "data": {
      "image/png": "[encoded data removed]",
      "text/plain": [
       "plot without title"
      ]
     },
     "metadata": {},
     "output_type": "display_data"
    }
   ],
   "source": [
    "options(repr.plot.width = 2.8, repr.plot.height = 1.5)\n",
    "library(stringr)\n",
    "norm.data$codonmutation <- str_replace_all(norm.data$codonmutation, \"T\", \"U\") \n",
    "\n",
    "norm.data %>% \n",
    "  ggplot(aes(x = codonmutation, y = relative_yfp_mean, color = codonmutation)) +\n",
    "  geom_col() +\n",
    "  geom_errorbar(aes(ymin = (relative_yfp_mean - relative_yfp_sterr),\n",
    "                    ymax = (relative_yfp_mean + relative_yfp_sterr)), \n",
    "                width = 0.2, size = 0.25, color = 'black') +\n",
    "  facet_wrap(~samplelabel, ncol = 2, scales = \"free_x\") +\n",
    "  scale_x_discrete() + \n",
    "  scale_colour_manual(values=rep(cbPalette[2:7], 2)) +\n",
    "  xlab(\"YFP arg codon variant\") + ylab(\"fluorescence\\n(relative to rich)\") +\n",
    "  theme(panel.spacing = unit(1, \"lines\"),\n",
    "        axis.text.x = element_text(angle = 45, hjust = 1)) + guides(color=FALSE) +\n",
    "  \n",
    "\n",
    "ggsave(\"../figures/suppfig6_hek293t_arg_tbd.pdf\", width = 2.8, height = 1.5, device = cairo_pdf)"
   ]
  },
  {
   "cell_type": "markdown",
   "metadata": {},
   "source": [
    "# repeat for HEK293T Leu codon variants, 3 replicates @ 24 hours (supp. fig. 6b)"
   ]
  },
  {
   "cell_type": "code",
   "execution_count": 52,
   "metadata": {
    "collapsed": true
   },
   "outputs": [],
   "source": [
    "# look for files ending in .fcs\n",
    "fcsfiles <- '../rawdata/flow_cytometry/suppfig6/20161002_hct116_hek293t_LV_all11variants_3reps_24h/fcs_files/' %>% \n",
    "    list.files(full.names = T, pattern = '.fcs$')\n",
    "\n",
    "flowdata  <- fcsfiles %>% \n",
    "    lapply(. %>%\n",
    "           # read FCS file without any transformations\n",
    "           flowCore::read.FCS(transformation = F, alter.names = T) %>% \n",
    "           # extract counts alone\n",
    "           flowCore::exprs() %>% \n",
    "           # convert to dplyr tibble\n",
    "           as_tibble() \n",
    "          )\n",
    "\n",
    "names(flowdata) <- fcsfiles %>% \n",
    "    # extract file name without .fcs extension and parent folders\n",
    "    lapply(. %>% \n",
    "           stringr::str_match('([^/]+).fcs$') %>% \n",
    "           extract2(2))\n",
    "\n",
    "# join all samples by 'file'\n",
    "flowdata %<>% bind_rows(.id = 'file') %>% \n",
    "  filter_if(is.numeric,all_vars(. >= 0))\n",
    "#print(flowdata)"
   ]
  },
  {
   "cell_type": "code",
   "execution_count": 53,
   "metadata": {
    "collapsed": true
   },
   "outputs": [],
   "source": [
    "annotations <- read_tsv('../rawdata/flow_cytometry/suppfig6/20161002_hct116_hek293t_LV_all11variants_3reps_24h/sampleannotations_293t_leu.tsv', \n",
    "                        col_types = list('plate' = col_integer())) %>% \n",
    "  # replace all 'na' ny NA\n",
    "  mutate_all(funs(ifelse(. == 'na', NA, .))) %>% \n",
    "  mutate(samplelabel = stringr::str_replace(samplelabel, \"-\", \"–\")) %>% \n",
    "  mutate(tmp = ifelse(tmp == \"TMP\", \"+TMP\", \"–TMP\")) #%>% \n",
    "#print(annotations)"
   ]
  },
  {
   "cell_type": "code",
   "execution_count": 54,
   "metadata": {},
   "outputs": [
    {
     "name": "stderr",
     "output_type": "stream",
     "text": [
      "Adding missing grouping variables: `file`\n"
     ]
    }
   ],
   "source": [
    "data <- flowdata  %>% \n",
    "    # group by  each file (tube)\n",
    "    group_by(file) %>% \n",
    "    select(FITC.A) %>% \n",
    "    # calculate mean\n",
    "    summarise_all(mean) %>% \n",
    "    # ratios\n",
    "    rename('yfp' = FITC.A) %>% \n",
    "    # join annotations\n",
    "    left_join(annotations, by = 'file')\n",
    "#print(data)"
   ]
  },
  {
   "cell_type": "code",
   "execution_count": 55,
   "metadata": {
    "collapsed": true
   },
   "outputs": [],
   "source": [
    "avg_data  <- data %>% \n",
    "    # group replicates\n",
    "    dplyr::group_by(codonmutation, samplelabel, time, tmp) %>% \n",
    "    # calculate mean and std.err\n",
    "    summarise(mean.yfp = mean(yfp), std.dev.yfp = sd(yfp), std.err.yfp = sd(yfp)/sqrt(3)) %>% \n",
    "    # ungroup\n",
    "    ungroup() %>% \n",
    "    mutate(codonmutation = stringr::str_replace(codonmutation, \"WT\", \"CGC\")) #%>%\n",
    "    #print()"
   ]
  },
  {
   "cell_type": "code",
   "execution_count": 56,
   "metadata": {
    "collapsed": true
   },
   "outputs": [],
   "source": [
    "norm.data <- avg_data %>% filter(tmp == \"+TMP\") %>% \n",
    "  group_by(codonmutation) %>%\n",
    "  mutate(relative_yfp_mean = mean.yfp / mean.yfp[samplelabel == \"Rich\"]) %>%\n",
    "  mutate(relative_yfp_sd = relative_yfp_mean*sqrt((std.dev.yfp/mean.yfp)^2 + (std.dev.yfp[samplelabel == 'Rich']/mean.yfp[samplelabel == 'Rich'])^2)) %>%\n",
    "  mutate(relative_yfp_sterr = relative_yfp_sd / sqrt(3)) %>%\n",
    "  ungroup() %>% \n",
    "  filter(samplelabel != \"Rich\") %>% \n",
    "  mutate_if(is.character, as.factor) %>% \n",
    "  mutate(time = as.factor(time)) #%>% \n",
    "  #print"
   ]
  },
  {
   "cell_type": "code",
   "execution_count": 60,
   "metadata": {},
   "outputs": [
    {
     "data": {},
     "metadata": {},
     "output_type": "display_data"
    },
    {
     "data": {
      "image/png": "[encoded data removed]",
      "text/plain": [
       "plot without title"
      ]
     },
     "metadata": {},
     "output_type": "display_data"
    }
   ],
   "source": [
    "options(repr.plot.width = 2.8, repr.plot.height = 1.5)\n",
    "\n",
    "norm.data$codonmutation <- str_replace_all(norm.data$codonmutation, \"T\", \"U\") \n",
    "norm.data$codonmutation <- str_replace_all(norm.data$codonmutation, \"CGC\", \"CUG\") \n",
    "\n",
    "norm.data %>%\n",
    "  ggplot(aes(x = codonmutation, y = relative_yfp_mean, color = codonmutation)) +\n",
    "  geom_col() +\n",
    "  geom_errorbar(aes(ymin = (relative_yfp_mean - relative_yfp_sterr),\n",
    "                    ymax = (relative_yfp_mean + relative_yfp_sterr)), \n",
    "                width = 0.2, size = 0.25, color = 'black') +\n",
    "  facet_wrap(~samplelabel, ncol = 2, scales = \"free_x\") +\n",
    "  scale_x_discrete() +\n",
    "  scale_colour_manual(values=rep(cbPalette[2:7], 2)) +\n",
    "  xlab(\"YFP leu codon variant\") + ylab(\" \\n\") +\n",
    "  theme(panel.spacing = unit(1, \"lines\"),\n",
    "        axis.text.x = element_text(angle = 45, hjust = 1)) + guides(color=FALSE)+\n",
    "  \n",
    "\n",
    "ggsave(\"../figures/suppfig6_hek293t_leu_tbd.pdf\", width = 2.8, height = 1.5, device = cairo_pdf)"
   ]
  }
 ],
 "metadata": {
  "kernelspec": {
   "display_name": "R",
   "language": "R",
   "name": "ir"
  },
  "language_info": {
   "codemirror_mode": "r",
   "file_extension": ".r",
   "mimetype": "text/x-r-source",
   "name": "R",
   "pygments_lexer": "r",
   "version": "3.4.0"
  },
  "toc": {
   "colors": {
    "hover_highlight": "#DAA520",
    "navigate_num": "#000000",
    "navigate_text": "#333333",
    "running_highlight": "#FF0000",
    "selected_highlight": "#FFD700",
    "sidebar_border": "#EEEEEE",
    "wrapper_background": "#FFFFFF"
   },
   "moveMenuLeft": true,
   "nav_menu": {
    "height": "135px",
    "width": "252px"
   },
   "navigate_menu": true,
   "number_sections": true,
   "sideBar": true,
   "threshold": 4,
   "toc_cell": true,
   "toc_section_display": "block",
   "toc_window_display": false,
   "widenNotebook": false
  }
 },
 "nbformat": 4,
 "nbformat_minor": 2
}
