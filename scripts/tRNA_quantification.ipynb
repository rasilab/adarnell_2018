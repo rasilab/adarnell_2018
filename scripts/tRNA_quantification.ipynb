{
 "cells": [
  {
   "cell_type": "markdown",
   "metadata": {
    "toc": "true"
   },
   "source": [
    "# Table of Contents for example analysis (Fig. 2A)\n",
    " <p><div class=\"lev1 toc-item\"><a href=\"#Import-libraries\" data-toc-modified-id=\"Import-libraries-1\"><span class=\"toc-item-num\">1&nbsp;&nbsp;</span>Import libraries</a></div><div class=\"lev1 toc-item\"><a href=\"#Load-tRNA-charging-data,-HEK293T-3-hours\" data-toc-modified-id=\"Load-tRNA-charging-data-2\"><span class=\"toc-item-num\">2&nbsp;&nbsp;</span>Load tRNA charging data, HEK293T 3 hours</a></div><div class=\"lev1 toc-item\"><a href=\"#Plot-data\" data-toc-modified-id=\"Plot-data-3\"><span class=\"toc-item-num\">3&nbsp;&nbsp;</span>Plot data</a></div>\n",
    " \n",
    "* analysis is repeated for all measurements of tRNA charging below: Supp. Fig. 2C; Supp. Fig. 4A,C,E,H"
   ]
  },
  {
   "cell_type": "markdown",
   "metadata": {},
   "source": [
    "# Import libraries"
   ]
  },
  {
   "cell_type": "code",
   "execution_count": 1,
   "metadata": {},
   "outputs": [
    {
     "name": "stderr",
     "output_type": "stream",
     "text": [
      "Loading tidyverse: ggplot2\n",
      "Loading tidyverse: tibble\n",
      "Loading tidyverse: tidyr\n",
      "Loading tidyverse: readr\n",
      "Loading tidyverse: purrr\n",
      "Loading tidyverse: dplyr\n",
      "Warning message:\n",
      "“package ‘purrr’ was built under R version 3.4.1”Warning message:\n",
      "“package ‘dplyr’ was built under R version 3.4.1”Conflicts with tidy packages ---------------------------------------------------\n",
      "filter(): dplyr, stats\n",
      "lag():    dplyr, stats\n"
     ]
    }
   ],
   "source": [
    "library(tidyverse)\n",
    "library(Cairo)\n",
    "options(warn=-1)\n",
    "\n",
    "# color blind palette\n",
    "# http://www.cookbook-r.com/Graphs/Colors_(ggplot2)/#a-colorblind-friendly-palette\n",
    "cbPalette <- c(\"#666666\", \"#E69F00\", \"#56B4E9\", \n",
    "               \"#009E73\", \"#CC79A7\", \"#0072B2\", \"#D55E00\", \"#F0E442\")\n",
    "\n",
    "theme_set(theme_classic(base_family = \"Helvetica\", base_size = 8) +\n",
    "theme(          \n",
    "  strip.background = element_blank(),\n",
    "  strip.text.x = element_text(size = 8),\n",
    "  axis.line = element_line(size = .25),\n",
    "  axis.ticks = element_line(size = .25),\n",
    "  axis.text.x = element_text(size = 8, color = 'black'),\n",
    "  axis.text.y = element_text(size = 8, color = 'black'),\n",
    "  legend.text = element_text(size = 8),\n",
    "    \n",
    "))"
   ]
  },
  {
   "cell_type": "markdown",
   "metadata": {},
   "source": [
    "# Load tRNA charging data, HEK293T 3 hours"
   ]
  },
  {
   "cell_type": "code",
   "execution_count": 2,
   "metadata": {},
   "outputs": [
    {
     "name": "stdout",
     "output_type": "stream",
     "text": [
      "# A tibble: 21 x 7\n",
      "   aatrna  trna samplelabel mean_chargedfraction      stdev     stderr    aa\n",
      "    <chr> <chr>       <chr>                <dbl>      <dbl>      <dbl> <chr>\n",
      " 1 argacg   ACG        Rich            0.7395623 0.08316640 0.04801615   arg\n",
      " 2 argacg   ACG        –Leu            0.7328162 0.10926492 0.06308413   arg\n",
      " 3 argacg   ACG        –Arg            0.2232467 0.05863257 0.03385153   arg\n",
      " 4 argccg   CCG        Rich            0.8675503 0.06221034 0.03591716   arg\n",
      " 5 argccg   CCG        –Leu            0.7800130 0.06160341 0.03556674   arg\n",
      " 6 argccg   CCG        –Arg            0.4946929 0.06471545 0.03736348   arg\n",
      " 7 argtcg   TCG        Rich            0.8199948 0.01757547 0.01014720   arg\n",
      " 8 argtcg   TCG        –Leu            0.7769213 0.05845568 0.03374940   arg\n",
      " 9 argtcg   TCG        –Arg            0.4694101 0.10764675 0.06214988   arg\n",
      "10 leuaag   AAG        Rich            0.7234322 0.04312285 0.02489699   leu\n",
      "# ... with 11 more rows\n"
     ]
    }
   ],
   "source": [
    "datafiles <- '../rawdata/tRNA_charging_blots/fig2/WT_arg_acgccgtcg_leu_caacagtagaag_3h/processeddata/'  %>% \n",
    "  list.files(pattern = \"csv$\", full.names = T)\n",
    "samplenames <- datafiles %>% \n",
    "  stringr::str_match(\"/([^_/]+)[^/]+$\") %>% \n",
    "  magrittr::extract(,2)\n",
    "data <- datafiles %>% \n",
    "  lapply(. %>% read_csv(col_types = c(col_character()))) %>% \n",
    "  magrittr::set_names(samplenames) %>% \n",
    "  bind_rows(.id = 'aatrna') %>% \n",
    "  mutate(aa = substr(aatrna, 1, 3)) %>% \n",
    "  mutate(samplelabel = stringr::str_replace(samplelabel, '-','\\u2013')) %>% \n",
    "  print"
   ]
  },
  {
   "cell_type": "markdown",
   "metadata": {},
   "source": [
    "# Plot data"
   ]
  },
  {
   "cell_type": "code",
   "execution_count": 4,
   "metadata": {},
   "outputs": [
    {
     "data": {},
     "metadata": {},
     "output_type": "display_data"
    },
    {
     "data": {
      "image/png": "[encoded data removed]",
      "text/plain": [
       "plot without title"
      ]
     },
     "metadata": {},
     "output_type": "display_data"
    }
   ],
   "source": [
    "options(repr.plot.width = 3.25, repr.plot.height = 3.2)\n",
    "\n",
    "data %>% mutate(trna = stringr::str_replace(trna, \"T\", \"U\")) %>%\n",
    "  ggplot(aes(x = forcats::fct_rev(samplelabel), y = mean_chargedfraction * 100)) +\n",
    "  geom_col() +\n",
    "  geom_errorbar(aes(ymin = (mean_chargedfraction - stderr)*100,\n",
    "                    ymax = (mean_chargedfraction + stderr)*100), \n",
    "                width = 0.2, size = 0.25)  +\n",
    "  facet_wrap(forcats::fct_rev(aa)~trna, ncol = 4, scales = \"free_x\") +\n",
    "  xlab(\"\") + ylab(\"% tRNA charged\") +\n",
    "  theme(panel.spacing = unit(1, \"lines\"),\n",
    "        axis.text.x = element_text(angle = 45, hjust = 1)) \n",
    "ggsave(\"../figures/fig2ab.pdf\", width = 3.25, height = 3.2, device = cairo_pdf)"
   ]
  },
  {
   "cell_type": "markdown",
   "metadata": {
    "collapsed": true
   },
   "source": [
    "# repeat for HCT116 data, 3 hours (supp. fig. 2c)"
   ]
  },
  {
   "cell_type": "code",
   "execution_count": 4,
   "metadata": {},
   "outputs": [
    {
     "name": "stdout",
     "output_type": "stream",
     "text": [
      "[1] \"argacg\" \"leucaa\"\n",
      "# A tibble: 6 x 6\n",
      "  aatrna  trna cell_line samplelabel mean_chargedfraction    aa\n",
      "   <chr> <chr>     <chr>       <chr>                <dbl> <chr>\n",
      "1 argacg   ACG    HCT116        Rich            0.7913843   arg\n",
      "2 argacg   ACG    HCT116        –Leu            0.7777006   arg\n",
      "3 argacg   ACG    HCT116        –Arg            0.3316211   arg\n",
      "4 leucaa   CAA    HCT116        Rich            0.8602444   leu\n",
      "5 leucaa   CAA    HCT116        –Leu            0.7755604   leu\n",
      "6 leucaa   CAA    HCT116        –Arg            0.8655643   leu\n"
     ]
    }
   ],
   "source": [
    "datafiles <- '../rawdata/tRNA_charging_blots/suppfig2/HCT116_arg_acg_leu_caa_3h/processeddata/'  %>% \n",
    "  list.files(pattern = \"csv$\", full.names = T)\n",
    "samplenames <- datafiles %>% \n",
    "  stringr::str_match(\"/([^_/]+)[^/]+$\") %>% \n",
    "  magrittr::extract(,2) %>%\n",
    "  print\n",
    "data <- datafiles %>% \n",
    "  lapply(. %>% read_csv(col_types = c(col_character()))) %>% \n",
    "  magrittr::set_names(samplenames) %>% \n",
    "  bind_rows(.id = 'aatrna') %>% \n",
    "  mutate(aa = substr(aatrna, 1, 3)) %>% \n",
    "  mutate(samplelabel = stringr::str_replace(samplelabel, '-','\\u2013')) %>% \n",
    "  print"
   ]
  },
  {
   "cell_type": "code",
   "execution_count": 11,
   "metadata": {},
   "outputs": [
    {
     "data": {},
     "metadata": {},
     "output_type": "display_data"
    },
    {
     "data": {
      "image/png": "[encoded data removed]",
      "text/plain": [
       "plot without title"
      ]
     },
     "metadata": {},
     "output_type": "display_data"
    }
   ],
   "source": [
    "options(repr.plot.width = 1.6, repr.plot.height = 1.5)\n",
    "\n",
    "data %>% \n",
    "  ggplot(aes(x = forcats::fct_rev(samplelabel), y = mean_chargedfraction * 100)) +\n",
    "  geom_col() +\n",
    "  #geom_errorbar(aes(ymin = (mean_chargedfraction - stderr)*100,\n",
    "                    #ymax = (mean_chargedfraction + stderr)*100), \n",
    "                #width = 0.2, size = 0.25)  +\n",
    "  facet_wrap(forcats::fct_rev(aa)~trna, ncol = 4, scales = \"free_x\") +\n",
    "  xlab(\"\") + ylab(\"% tRNA charged\") +\n",
    "  theme(panel.spacing = unit(1, \"lines\"),\n",
    "        axis.text.x = element_text(angle = 45, hjust = 1)) \n",
    "ggsave(\"../figures/suppfig2c.pdf\", width = 1.6, height = 1.5, device = cairo_pdf)"
   ]
  },
  {
   "cell_type": "markdown",
   "metadata": {},
   "source": [
    "# repeat for HEK293T +/- Torin1 data, 3 hours (supp. fig. 4a)"
   ]
  },
  {
   "cell_type": "code",
   "execution_count": 4,
   "metadata": {},
   "outputs": [
    {
     "name": "stdout",
     "output_type": "stream",
     "text": [
      "[1] \"argacg\" \"argccg\" \"leucag\"\n",
      "# A tibble: 18 x 9\n",
      "   aatrna  trna   samplelabel mean_chargedfraction       stdev      stderr\n",
      "    <chr> <chr>         <chr>                <dbl>       <dbl>       <dbl>\n",
      " 1 argacg   ACG          Rich            0.7122704 0.093245086 0.053835075\n",
      " 2 argacg   ACG Rich + Torin1            0.7009632 0.080094163 0.046242387\n",
      " 3 argacg   ACG          –Leu            0.7420600 0.046757291 0.026995335\n",
      " 4 argacg   ACG –Leu + Torin1            0.8169718 0.019164559 0.011064663\n",
      " 5 argacg   ACG          –Arg            0.1798327 0.044126247 0.025476301\n",
      " 6 argacg   ACG –Arg + Torin1            0.6658390 0.050394605 0.029095339\n",
      " 7 argccg   CCG          Rich            0.9142829 0.004799390 0.002770929\n",
      " 8 argccg   CCG Rich + Torin1            0.8789205 0.007913598 0.004568918\n",
      " 9 argccg   CCG          –Leu            0.8801972 0.023183965 0.013385269\n",
      "10 argccg   CCG –Leu + Torin1            0.8757431 0.011157372 0.006441711\n",
      "11 argccg   CCG          –Arg            0.5377826 0.057176861 0.033011076\n",
      "12 argccg   CCG –Arg + Torin1            0.8726648 0.019093771 0.011023794\n",
      "13 leucag   CAG          Rich            0.8236722 0.068611226 0.039612710\n",
      "14 leucag   CAG Rich + Torin1            0.8909131 0.028103158 0.016225366\n",
      "15 leucag   CAG          –Leu            0.6729804 0.019717377 0.011383833\n",
      "16 leucag   CAG –Leu + Torin1            0.8802452 0.013760034 0.007944359\n",
      "17 leucag   CAG          –Arg            0.8734050 0.019373512 0.011185302\n",
      "18 leucag   CAG –Arg + Torin1            0.8665861 0.014984392 0.008651243\n",
      "# ... with 3 more variables: aa <chr>, xlabel <fctr>, sampleorder <dbl>\n"
     ]
    }
   ],
   "source": [
    "datafiles <- '../rawdata/tRNA_charging_blots/suppfig4/293t_torin1_acgccgcaa_3h/processeddata/'  %>% \n",
    "  list.files(pattern = \"csv$\", full.names = T)\n",
    "samplenames <- datafiles %>% \n",
    "  stringr::str_match(\"/([^_/]+)[^/]+$\") %>% \n",
    "  magrittr::extract(,2) %>%\n",
    "  print\n",
    "data <- datafiles %>% \n",
    "  lapply(. %>% read_csv(col_types = c(col_character()))) %>% \n",
    "  magrittr::set_names(samplenames) %>% \n",
    "  bind_rows(.id = 'aatrna') %>% \n",
    "  mutate(aa = substr(aatrna, 1, 3)) %>% \n",
    "  mutate(samplelabel = stringr::str_replace(samplelabel, '-','\\u2013')) %>% \n",
    "  mutate(xlabel = paste(trna, samplelabel, sep = \"_\")) %>% \n",
    "  mutate(sampleorder = c(1,2,3,4,5,6,7,8,9,10,11,12,13,14,15,16,17,18)) %>% \n",
    "  mutate(xlabel = forcats::fct_reorder(xlabel, sampleorder)) %>% \n",
    "  arrange(sampleorder) %>% \n",
    "  print"
   ]
  },
  {
   "cell_type": "code",
   "execution_count": 7,
   "metadata": {},
   "outputs": [
    {
     "data": {},
     "metadata": {},
     "output_type": "display_data"
    },
    {
     "data": {
      "image/png": "[encoded data removed]",
      "text/plain": [
       "plot without title"
      ]
     },
     "metadata": {},
     "output_type": "display_data"
    }
   ],
   "source": [
    "options(repr.plot.width = 3.6, repr.plot.height = 2)\n",
    "\n",
    "test <- Vectorize(function(x) {\n",
    "  data %>% select(samplelabel)\n",
    "})\n",
    "\n",
    "data %>%\n",
    "  ggplot(aes(x = xlabel, y = mean_chargedfraction * 100)) +\n",
    "  geom_col() +\n",
    "  geom_errorbar(aes(ymin = (mean_chargedfraction - stderr)*100,\n",
    "                    ymax = (mean_chargedfraction + stderr)*100), \n",
    "                width = 0.2, size = 0.25) +\n",
    "  facet_wrap(~aa ~trna, ncol = 4, scales = \"free_x\") +\n",
    "  scale_x_discrete(labels = test) +\n",
    "  scale_y_continuous(breaks= scales::pretty_breaks(n=3), limits = c(0, 120)) +\n",
    "  xlab(\"\") + ylab(\"% tRNA charged\") +\n",
    "  theme(panel.spacing = unit(1, \"lines\"),\n",
    "        axis.text.x = element_text(angle = 45, hjust = 1)) +\n",
    "  \n",
    "\n",
    "ggsave(\"../figures/suppfig4ab.pdf\", width = 3.6, height = 2, device = cairo_pdf)"
   ]
  },
  {
   "cell_type": "markdown",
   "metadata": {},
   "source": [
    "# repeat for HEK293T +hrGFP, +RagB-Q99L, GCN KO data, 6 hours (supp. fig. 4e)"
   ]
  },
  {
   "cell_type": "code",
   "execution_count": 51,
   "metadata": {},
   "outputs": [
    {
     "name": "stdout",
     "output_type": "stream",
     "text": [
      "[1] \"argacg\" \"leucaa\"\n",
      "# A tibble: 24 x 10\n",
      "   aatrna  trna cell_line samplelabel mean_chargedfraction stdev sterr    aa\n",
      "    <chr> <chr>     <chr>       <chr>                <dbl> <chr> <chr> <chr>\n",
      " 1 argacg   ACG        WT        Rich            0.8070069  <NA>  <NA>   arg\n",
      " 2 argacg   ACG     hrGFP        Rich            0.7389354  <NA>  <NA>   arg\n",
      " 3 argacg   ACG RagB-Q99L        Rich            0.8063565  <NA>  <NA>   arg\n",
      " 4 argacg   ACG   GCN2-KO        Rich            0.8367921  <NA>  <NA>   arg\n",
      " 5 argacg   ACG        WT        –Leu            0.8466140  <NA>  <NA>   arg\n",
      " 6 argacg   ACG     hrGFP        –Leu            0.8489130  <NA>  <NA>   arg\n",
      " 7 argacg   ACG RagB-Q99L        –Leu            0.8503090  <NA>  <NA>   arg\n",
      " 8 argacg   ACG   GCN2-KO        –Leu            0.8623414  <NA>  <NA>   arg\n",
      " 9 argacg   ACG        WT        –Arg            0.3331593  <NA>  <NA>   arg\n",
      "10 argacg   ACG     hrGFP        –Arg            0.3015906  <NA>  <NA>   arg\n",
      "# ... with 14 more rows, and 2 more variables: xlabel <fctr>, sampleorder <dbl>\n"
     ]
    }
   ],
   "source": [
    "datafiles <- '../rawdata/tRNA_charging_blots/suppfig4/WT_hrGFP_RagBQ99L_GCN2KO_1rep_richleuarg_6h_riboprofB_controls/processeddata'  %>% \n",
    "  list.files(pattern = \"csv$\", full.names = T)\n",
    "samplenames <- datafiles %>% \n",
    "  stringr::str_match(\"/([^_/]+)[^/]+$\") %>% \n",
    "  magrittr::extract(,2) %>%\n",
    "  print\n",
    "data <- datafiles %>% \n",
    "  lapply(. %>% read_csv(col_types = c(col_character()))) %>% \n",
    "  magrittr::set_names(samplenames) %>% \n",
    "  bind_rows(.id = 'aatrna') %>% \n",
    "  mutate(aa = substr(aatrna, 1, 3)) %>% \n",
    "  mutate(samplelabel = stringr::str_replace(samplelabel, '-','\\u2013')) %>% \n",
    "  mutate(xlabel = paste(cell_line, trna, samplelabel, sep = \"_\")) %>% \n",
    "  mutate(sampleorder = c(1,2,3,4,5,6,7,8,9,10,11,12,13,14,15,16,17,18,19,20,21,22,23,24)) %>% \n",
    "  mutate(xlabel = forcats::fct_reorder(xlabel, sampleorder)) %>% \n",
    "  arrange(sampleorder) %>% \n",
    "  print"
   ]
  },
  {
   "cell_type": "code",
   "execution_count": 52,
   "metadata": {},
   "outputs": [
    {
     "data": {},
     "metadata": {},
     "output_type": "display_data"
    },
    {
     "data": {
      "image/png": "[encoded data removed]",
      "text/plain": [
       "plot without title"
      ]
     },
     "metadata": {},
     "output_type": "display_data"
    }
   ],
   "source": [
    "options(repr.plot.width = 2.3, repr.plot.height = 3.5)\n",
    "\n",
    "test <- Vectorize(function(x) {\n",
    "  data %>% select(cell_line)\n",
    "})\n",
    "\n",
    "data %>%\n",
    "  ggplot(aes(x = xlabel, y = mean_chargedfraction * 100)) +\n",
    "  geom_col() +\n",
    "  facet_wrap(~trna, ncol = 1, scales = \"free_x\") +\n",
    "  scale_x_discrete(labels = test) +\n",
    "  scale_y_continuous(breaks= scales::pretty_breaks(n=3), limits = c(0, 120)) +\n",
    "  xlab(\"\") + ylab(\"% tRNA charged\") +\n",
    "  theme(panel.spacing = unit(1, \"lines\"),\n",
    "        axis.text.x = element_text(angle = 45, hjust = 1)) +\n",
    "  annotate(\"segment\", x = .6, xend = 4.4, y = 100, yend = 100, size = 0.25) +\n",
    "  annotate(\"text\", x = 2.5, y = 110, label = \"Rich\", vjust = 0, size = 3) +\n",
    "  annotate(\"segment\", x = 4.6, xend = 8.4, y = 100, yend = 100, size = 0.25) +\n",
    "  annotate(\"text\", x = 6.5, y = 110, label = \"\\u2013Leu\", vjust = 0, size = 3) +\n",
    "  annotate(\"segment\", x = 8.6, xend = 12.4, y = 100, yend = 100, size = 0.25) +\n",
    "  annotate(\"text\", x = 10.5, y = 110, label = \"\\u2013Arg\", vjust = 0, size = 3) \n",
    "\n",
    "\n",
    "ggsave(\"../figures/suppfig4_6hperturb1rep.pdf\", width = 2.3, height = 3.5, device = cairo_pdf)"
   ]
  },
  {
   "cell_type": "markdown",
   "metadata": {
    "collapsed": true
   },
   "source": [
    "# repeat for HEK293T +hrGFP, +RagB-Q99L, +Torin1 data, +/- cycloheximide 3 hours (supp. fig. 4h)"
   ]
  },
  {
   "cell_type": "code",
   "execution_count": 7,
   "metadata": {},
   "outputs": [
    {
     "name": "stdout",
     "output_type": "stream",
     "text": [
      "[1] \"argacg\" \"argacg\" \"leucaa\"\n",
      "# A tibble: 24 x 8\n",
      "   aatrna  trna    cell_line samplelabel mean_chargedfraction    aa\n",
      "    <chr> <chr>        <chr>       <chr>                <dbl> <chr>\n",
      " 1 argacg   ACG        hrGFP        Rich            0.8292052   arg\n",
      " 2 argacg   ACG      RagB-WT        Rich            0.8103393   arg\n",
      " 3 argacg   ACG    RagB-Q99L        Rich            0.7886003   arg\n",
      " 4 argacg   ACG hrGFP+Torin1        Rich            0.8475965   arg\n",
      " 5 argacg   ACG        hrGFP        –Leu            0.8251559   arg\n",
      " 6 argacg   ACG      RagB-WT        –Leu            0.7969334   arg\n",
      " 7 argacg   ACG    RagB-Q99L        –Leu            0.8067210   arg\n",
      " 8 argacg   ACG hrGFP+Torin1        –Leu            0.8372183   arg\n",
      " 9 argacg   ACG        hrGFP        –Arg            0.6787563   arg\n",
      "10 argacg   ACG      RagB-WT        –Arg            0.6884856   arg\n",
      "# ... with 14 more rows, and 2 more variables: xlabel <fctr>, sampleorder <dbl>\n"
     ]
    }
   ],
   "source": [
    "datafiles <- '../rawdata/tRNA_charging_blots/suppfig4/WT_hrGFP_RagBqQ99L_Torin1_cyclohex_3h/processeddata/'  %>% \n",
    "  list.files(pattern = \"csv$\", full.names = T)\n",
    "samplenames <- datafiles %>% \n",
    "  stringr::str_match(\"/([^_/]+)[^/]+$\") %>% \n",
    "  magrittr::extract(,2) %>%\n",
    "  print\n",
    "data <- datafiles %>% \n",
    "  lapply(. %>% read_csv(col_types = c(col_character()))) %>% \n",
    "  magrittr::set_names(samplenames) %>% \n",
    "  bind_rows(.id = 'aatrna') %>% \n",
    "  mutate(aa = substr(aatrna, 1, 3)) %>% \n",
    "  mutate(samplelabel = stringr::str_replace(samplelabel, '-','\\u2013')) %>% \n",
    "  mutate(xlabel = paste(cell_line, trna, samplelabel, sep = \"_\")) %>% \n",
    "  mutate(sampleorder = c(1,2,3,4,5,6,7,8,9,10,11,12,13,14,15,16,17,18,19,20,21,22,23,24)) %>% \n",
    "  mutate(xlabel = forcats::fct_reorder(xlabel, sampleorder)) %>% \n",
    "  arrange(sampleorder) %>% \n",
    "  print"
   ]
  },
  {
   "cell_type": "code",
   "execution_count": 14,
   "metadata": {},
   "outputs": [
    {
     "data": {},
     "metadata": {},
     "output_type": "display_data"
    },
    {
     "data": {
      "image/png": "[encoded data removed]",
      "text/plain": [
       "plot without title"
      ]
     },
     "metadata": {},
     "output_type": "display_data"
    }
   ],
   "source": [
    "options(repr.plot.width = 2.3, repr.plot.height = 3.5)\n",
    "\n",
    "test <- Vectorize(function(x) {\n",
    "  data %>% select(cell_line)\n",
    "})\n",
    "\n",
    "data %>%\n",
    "  ggplot(aes(x = xlabel, y = mean_chargedfraction * 100)) +\n",
    "  geom_col() +\n",
    "  facet_wrap(~trna, ncol = 1, scales = \"free_x\") +\n",
    "  scale_x_discrete(labels = test) +\n",
    "  scale_y_continuous(breaks= scales::pretty_breaks(n=3), limits = c(0, 120)) +\n",
    "  xlab(\"\") + ylab(\"% tRNA charged\") +\n",
    "  theme(panel.spacing = unit(1, \"lines\"),\n",
    "        axis.text.x = element_text(angle = 45, hjust = 1)) +\n",
    "  annotate(\"segment\", x = .6, xend = 4.4, y = 100, yend = 100, size = 0.25) +\n",
    "  annotate(\"text\", x = 2.5, y = 110, label = \"Rich\", vjust = 0, size = 3) +\n",
    "  annotate(\"segment\", x = 4.6, xend = 8.4, y = 100, yend = 100, size = 0.25) +\n",
    "  annotate(\"text\", x = 6.5, y = 110, label = \"\\u2013Leu\", vjust = 0, size = 3) +\n",
    "  annotate(\"segment\", x = 8.6, xend = 12.4, y = 100, yend = 100, size = 0.25) +\n",
    "  annotate(\"text\", x = 10.5, y = 110, label = \"\\u2013Arg\", vjust = 0, size = 3) \n",
    "\n",
    "\n",
    "ggsave(\"../figures/suppfig4i.pdf\", width = 2.3, height = 3.5, device = cairo_pdf)"
   ]
  },
  {
   "cell_type": "markdown",
   "metadata": {
    "collapsed": true
   },
   "source": [
    "# repeat for HEK293T +hrGFP, +RagB-WT, +RagB-Q99L data, 3 hours (supp. fig. 4c)"
   ]
  },
  {
   "cell_type": "code",
   "execution_count": 26,
   "metadata": {},
   "outputs": [
    {
     "name": "stdout",
     "output_type": "stream",
     "text": [
      "[1] \"argacg\" \"argccg\" \"argtcg\"\n",
      "# A tibble: 27 x 10\n",
      "   aatrna  trna cell_line samplelabel mean_chargedfraction      stdev\n",
      "    <chr> <chr>     <chr>       <chr>                <dbl>      <dbl>\n",
      " 1 argacg   ACG     hrGFP        Rich            0.8670868 0.01172267\n",
      " 2 argacg   ACG   RagB-WT        Rich            0.8613701 0.03980591\n",
      " 3 argacg   ACG RagB-Q99L        Rich            0.8709106 0.02801426\n",
      " 4 argacg   ACG     hrGFP        –Leu            0.8885709 0.02522602\n",
      " 5 argacg   ACG   RagB-WT        –Leu            0.8780857 0.02259936\n",
      " 6 argacg   ACG RagB-Q99L        –Leu            0.8806131 0.03151315\n",
      " 7 argacg   ACG     hrGFP        –Arg            0.2504738 0.06566611\n",
      " 8 argacg   ACG   RagB-WT        –Arg            0.3003335 0.13074174\n",
      " 9 argacg   ACG RagB-Q99L        –Arg            0.2641125 0.01694858\n",
      "10 argccg   CCG     hrGFP        Rich            0.9286907 0.03733567\n",
      "# ... with 17 more rows, and 4 more variables: sterr <dbl>, aa <chr>,\n",
      "#   xlabel <fctr>, sampleorder <dbl>\n"
     ]
    },
    {
     "data": {
      "text/html": [
       "<table>\n",
       "<thead><tr><th scope=col>aatrna</th><th scope=col>trna</th><th scope=col>cell_line</th><th scope=col>samplelabel</th><th scope=col>mean_chargedfraction</th><th scope=col>stdev</th><th scope=col>sterr</th><th scope=col>aa</th><th scope=col>xlabel</th><th scope=col>sampleorder</th></tr></thead>\n",
       "<tbody>\n",
       "\t<tr><td>argacg            </td><td>ACG               </td><td>hrGFP             </td><td>Rich              </td><td>0.8670868         </td><td>0.011722668       </td><td>0.006768085       </td><td>arg               </td><td>ACG_hrGFP_Rich    </td><td> 1                </td></tr>\n",
       "\t<tr><td>argacg            </td><td>ACG               </td><td>RagB-WT           </td><td>Rich              </td><td>0.8613701         </td><td>0.039805913       </td><td>0.022981955       </td><td>arg               </td><td>ACG_RagB-WT_Rich  </td><td> 2                </td></tr>\n",
       "\t<tr><td>argacg            </td><td>ACG               </td><td>RagB-Q99L         </td><td>Rich              </td><td>0.8709106         </td><td>0.028014261       </td><td>0.016174041       </td><td>arg               </td><td>ACG_RagB-Q99L_Rich</td><td> 3                </td></tr>\n",
       "\t<tr><td>argacg            </td><td>ACG               </td><td>hrGFP             </td><td>–Leu              </td><td>0.8885709         </td><td>0.025226018       </td><td>0.014564248       </td><td>arg               </td><td>ACG_hrGFP_–Leu    </td><td> 4                </td></tr>\n",
       "\t<tr><td>argacg            </td><td>ACG               </td><td>RagB-WT           </td><td>–Leu              </td><td>0.8780857         </td><td>0.022599358       </td><td>0.013047745       </td><td>arg               </td><td>ACG_RagB-WT_–Leu  </td><td> 5                </td></tr>\n",
       "\t<tr><td>argacg            </td><td>ACG               </td><td>RagB-Q99L         </td><td>–Leu              </td><td>0.8806131         </td><td>0.031513146       </td><td>0.018194123       </td><td>arg               </td><td>ACG_RagB-Q99L_–Leu</td><td> 6                </td></tr>\n",
       "\t<tr><td>argacg            </td><td>ACG               </td><td>hrGFP             </td><td>–Arg              </td><td>0.2504738         </td><td>0.065666112       </td><td>0.037912348       </td><td>arg               </td><td>ACG_hrGFP_–Arg    </td><td> 7                </td></tr>\n",
       "\t<tr><td>argacg            </td><td>ACG               </td><td>RagB-WT           </td><td>–Arg              </td><td>0.3003335         </td><td>0.130741742       </td><td>0.075483780       </td><td>arg               </td><td>ACG_RagB-WT_–Arg  </td><td> 8                </td></tr>\n",
       "\t<tr><td>argacg            </td><td>ACG               </td><td>RagB-Q99L         </td><td>–Arg              </td><td>0.2641125         </td><td>0.016948578       </td><td>0.009785266       </td><td>arg               </td><td>ACG_RagB-Q99L_–Arg</td><td> 9                </td></tr>\n",
       "\t<tr><td>argccg            </td><td>CCG               </td><td>hrGFP             </td><td>Rich              </td><td>0.9286907         </td><td>0.037335667       </td><td>0.021555757       </td><td>arg               </td><td>CCG_hrGFP_Rich    </td><td>10                </td></tr>\n",
       "\t<tr><td>argccg            </td><td>CCG               </td><td>RagB-WT           </td><td>Rich              </td><td>0.9286199         </td><td>0.020878379       </td><td>0.012054138       </td><td>arg               </td><td>CCG_RagB-WT_Rich  </td><td>11                </td></tr>\n",
       "\t<tr><td>argccg            </td><td>CCG               </td><td>RagB-Q99L         </td><td>Rich              </td><td>0.9305334         </td><td>0.029193860       </td><td>0.016855083       </td><td>arg               </td><td>CCG_RagB-Q99L_Rich</td><td>12                </td></tr>\n",
       "\t<tr><td>argccg            </td><td>CCG               </td><td>hrGFP             </td><td>–Leu              </td><td>0.9358071         </td><td>0.025021721       </td><td>0.014446297       </td><td>arg               </td><td>CCG_hrGFP_–Leu    </td><td>13                </td></tr>\n",
       "\t<tr><td>argccg            </td><td>CCG               </td><td>RagB-WT           </td><td>–Leu              </td><td>0.9437023         </td><td>0.027678288       </td><td>0.015980067       </td><td>arg               </td><td>CCG_RagB-WT_–Leu  </td><td>14                </td></tr>\n",
       "\t<tr><td>argccg            </td><td>CCG               </td><td>RagB-Q99L         </td><td>–Leu              </td><td>0.9218139         </td><td>0.040920201       </td><td>0.023625289       </td><td>arg               </td><td>CCG_RagB-Q99L_–Leu</td><td>15                </td></tr>\n",
       "\t<tr><td>argccg            </td><td>CCG               </td><td>hrGFP             </td><td>–Arg              </td><td>0.5209591         </td><td>0.057840532       </td><td>0.033394247       </td><td>arg               </td><td>CCG_hrGFP_–Arg    </td><td>16                </td></tr>\n",
       "\t<tr><td>argccg            </td><td>CCG               </td><td>RagB-WT           </td><td>–Arg              </td><td>0.4777325         </td><td>0.048563536       </td><td>0.028038171       </td><td>arg               </td><td>CCG_RagB-WT_–Arg  </td><td>17                </td></tr>\n",
       "\t<tr><td>argccg            </td><td>CCG               </td><td>RagB-Q99L         </td><td>–Arg              </td><td>0.4982920         </td><td>0.077204178       </td><td>0.044573853       </td><td>arg               </td><td>CCG_RagB-Q99L_–Arg</td><td>18                </td></tr>\n",
       "\t<tr><td>argtcg            </td><td>TCG               </td><td>hrGFP             </td><td>Rich              </td><td>0.9466962         </td><td>0.008686123       </td><td>0.005014935       </td><td>arg               </td><td>TCG_hrGFP_Rich    </td><td>19                </td></tr>\n",
       "\t<tr><td>argtcg            </td><td>TCG               </td><td>RagB-WT           </td><td>Rich              </td><td>0.9439825         </td><td>0.000717352       </td><td>0.000414163       </td><td>arg               </td><td>TCG_RagB-WT_Rich  </td><td>20                </td></tr>\n",
       "\t<tr><td>argtcg            </td><td>TCG               </td><td>RagB-Q99L         </td><td>Rich              </td><td>0.9261051         </td><td>0.009735108       </td><td>0.005620567       </td><td>arg               </td><td>TCG_RagB-Q99L_Rich</td><td>21                </td></tr>\n",
       "\t<tr><td>argtcg            </td><td>TCG               </td><td>hrGFP             </td><td>–Leu              </td><td>0.9362552         </td><td>0.031116246       </td><td>0.017964973       </td><td>arg               </td><td>TCG_hrGFP_–Leu    </td><td>22                </td></tr>\n",
       "\t<tr><td>argtcg            </td><td>TCG               </td><td>RagB-WT           </td><td>–Leu              </td><td>0.9364676         </td><td>0.012553410       </td><td>0.007247715       </td><td>arg               </td><td>TCG_RagB-WT_–Leu  </td><td>23                </td></tr>\n",
       "\t<tr><td>argtcg            </td><td>TCG               </td><td>RagB-Q99L         </td><td>–Leu              </td><td>0.9377738         </td><td>0.016467801       </td><td>0.009507689       </td><td>arg               </td><td>TCG_RagB-Q99L_–Leu</td><td>24                </td></tr>\n",
       "\t<tr><td>argtcg            </td><td>TCG               </td><td>hrGFP             </td><td>–Arg              </td><td>0.5130845         </td><td>0.050286173       </td><td>0.029032736       </td><td>arg               </td><td>TCG_hrGFP_–Arg    </td><td>25                </td></tr>\n",
       "\t<tr><td>argtcg            </td><td>TCG               </td><td>RagB-WT           </td><td>–Arg              </td><td>0.5128835         </td><td>0.053651014       </td><td>0.030975427       </td><td>arg               </td><td>TCG_RagB-WT_–Arg  </td><td>26                </td></tr>\n",
       "\t<tr><td>argtcg            </td><td>TCG               </td><td>RagB-Q99L         </td><td>–Arg              </td><td>0.4412269         </td><td>0.087025415       </td><td>0.050244147       </td><td>arg               </td><td>TCG_RagB-Q99L_–Arg</td><td>27                </td></tr>\n",
       "</tbody>\n",
       "</table>\n"
      ],
      "text/latex": [
       "\\begin{tabular}{r|llllllllll}\n",
       " aatrna & trna & cell\\_line & samplelabel & mean\\_chargedfraction & stdev & sterr & aa & xlabel & sampleorder\\\\\n",
       "\\hline\n",
       "\t argacg                 & ACG                    & hrGFP                  & Rich                   & 0.8670868              & 0.011722668            & 0.006768085            & arg                    & ACG\\_hrGFP\\_Rich     &  1                    \\\\\n",
       "\t argacg                 & ACG                    & RagB-WT                & Rich                   & 0.8613701              & 0.039805913            & 0.022981955            & arg                    & ACG\\_RagB-WT\\_Rich   &  2                    \\\\\n",
       "\t argacg                 & ACG                    & RagB-Q99L              & Rich                   & 0.8709106              & 0.028014261            & 0.016174041            & arg                    & ACG\\_RagB-Q99L\\_Rich &  3                    \\\\\n",
       "\t argacg                 & ACG                    & hrGFP                  & –Leu                   & 0.8885709              & 0.025226018            & 0.014564248            & arg                    & ACG\\_hrGFP\\_–Leu     &  4                    \\\\\n",
       "\t argacg                 & ACG                    & RagB-WT                & –Leu                   & 0.8780857              & 0.022599358            & 0.013047745            & arg                    & ACG\\_RagB-WT\\_–Leu   &  5                    \\\\\n",
       "\t argacg                 & ACG                    & RagB-Q99L              & –Leu                   & 0.8806131              & 0.031513146            & 0.018194123            & arg                    & ACG\\_RagB-Q99L\\_–Leu &  6                    \\\\\n",
       "\t argacg                 & ACG                    & hrGFP                  & –Arg                   & 0.2504738              & 0.065666112            & 0.037912348            & arg                    & ACG\\_hrGFP\\_–Arg     &  7                    \\\\\n",
       "\t argacg                 & ACG                    & RagB-WT                & –Arg                   & 0.3003335              & 0.130741742            & 0.075483780            & arg                    & ACG\\_RagB-WT\\_–Arg   &  8                    \\\\\n",
       "\t argacg                 & ACG                    & RagB-Q99L              & –Arg                   & 0.2641125              & 0.016948578            & 0.009785266            & arg                    & ACG\\_RagB-Q99L\\_–Arg &  9                    \\\\\n",
       "\t argccg                 & CCG                    & hrGFP                  & Rich                   & 0.9286907              & 0.037335667            & 0.021555757            & arg                    & CCG\\_hrGFP\\_Rich     & 10                    \\\\\n",
       "\t argccg                 & CCG                    & RagB-WT                & Rich                   & 0.9286199              & 0.020878379            & 0.012054138            & arg                    & CCG\\_RagB-WT\\_Rich   & 11                    \\\\\n",
       "\t argccg                 & CCG                    & RagB-Q99L              & Rich                   & 0.9305334              & 0.029193860            & 0.016855083            & arg                    & CCG\\_RagB-Q99L\\_Rich & 12                    \\\\\n",
       "\t argccg                 & CCG                    & hrGFP                  & –Leu                   & 0.9358071              & 0.025021721            & 0.014446297            & arg                    & CCG\\_hrGFP\\_–Leu     & 13                    \\\\\n",
       "\t argccg                 & CCG                    & RagB-WT                & –Leu                   & 0.9437023              & 0.027678288            & 0.015980067            & arg                    & CCG\\_RagB-WT\\_–Leu   & 14                    \\\\\n",
       "\t argccg                 & CCG                    & RagB-Q99L              & –Leu                   & 0.9218139              & 0.040920201            & 0.023625289            & arg                    & CCG\\_RagB-Q99L\\_–Leu & 15                    \\\\\n",
       "\t argccg                 & CCG                    & hrGFP                  & –Arg                   & 0.5209591              & 0.057840532            & 0.033394247            & arg                    & CCG\\_hrGFP\\_–Arg     & 16                    \\\\\n",
       "\t argccg                 & CCG                    & RagB-WT                & –Arg                   & 0.4777325              & 0.048563536            & 0.028038171            & arg                    & CCG\\_RagB-WT\\_–Arg   & 17                    \\\\\n",
       "\t argccg                 & CCG                    & RagB-Q99L              & –Arg                   & 0.4982920              & 0.077204178            & 0.044573853            & arg                    & CCG\\_RagB-Q99L\\_–Arg & 18                    \\\\\n",
       "\t argtcg                 & TCG                    & hrGFP                  & Rich                   & 0.9466962              & 0.008686123            & 0.005014935            & arg                    & TCG\\_hrGFP\\_Rich     & 19                    \\\\\n",
       "\t argtcg                 & TCG                    & RagB-WT                & Rich                   & 0.9439825              & 0.000717352            & 0.000414163            & arg                    & TCG\\_RagB-WT\\_Rich   & 20                    \\\\\n",
       "\t argtcg                 & TCG                    & RagB-Q99L              & Rich                   & 0.9261051              & 0.009735108            & 0.005620567            & arg                    & TCG\\_RagB-Q99L\\_Rich & 21                    \\\\\n",
       "\t argtcg                 & TCG                    & hrGFP                  & –Leu                   & 0.9362552              & 0.031116246            & 0.017964973            & arg                    & TCG\\_hrGFP\\_–Leu     & 22                    \\\\\n",
       "\t argtcg                 & TCG                    & RagB-WT                & –Leu                   & 0.9364676              & 0.012553410            & 0.007247715            & arg                    & TCG\\_RagB-WT\\_–Leu   & 23                    \\\\\n",
       "\t argtcg                 & TCG                    & RagB-Q99L              & –Leu                   & 0.9377738              & 0.016467801            & 0.009507689            & arg                    & TCG\\_RagB-Q99L\\_–Leu & 24                    \\\\\n",
       "\t argtcg                 & TCG                    & hrGFP                  & –Arg                   & 0.5130845              & 0.050286173            & 0.029032736            & arg                    & TCG\\_hrGFP\\_–Arg     & 25                    \\\\\n",
       "\t argtcg                 & TCG                    & RagB-WT                & –Arg                   & 0.5128835              & 0.053651014            & 0.030975427            & arg                    & TCG\\_RagB-WT\\_–Arg   & 26                    \\\\\n",
       "\t argtcg                 & TCG                    & RagB-Q99L              & –Arg                   & 0.4412269              & 0.087025415            & 0.050244147            & arg                    & TCG\\_RagB-Q99L\\_–Arg & 27                    \\\\\n",
       "\\end{tabular}\n"
      ],
      "text/markdown": [
       "\n",
       "aatrna | trna | cell_line | samplelabel | mean_chargedfraction | stdev | sterr | aa | xlabel | sampleorder | \n",
       "|---|---|---|---|---|---|---|---|---|---|---|---|---|---|---|---|---|---|---|---|---|---|---|---|---|---|---|\n",
       "| argacg             | ACG                | hrGFP              | Rich               | 0.8670868          | 0.011722668        | 0.006768085        | arg                | ACG_hrGFP_Rich     |  1                 | \n",
       "| argacg             | ACG                | RagB-WT            | Rich               | 0.8613701          | 0.039805913        | 0.022981955        | arg                | ACG_RagB-WT_Rich   |  2                 | \n",
       "| argacg             | ACG                | RagB-Q99L          | Rich               | 0.8709106          | 0.028014261        | 0.016174041        | arg                | ACG_RagB-Q99L_Rich |  3                 | \n",
       "| argacg             | ACG                | hrGFP              | –Leu               | 0.8885709          | 0.025226018        | 0.014564248        | arg                | ACG_hrGFP_–Leu     |  4                 | \n",
       "| argacg             | ACG                | RagB-WT            | –Leu               | 0.8780857          | 0.022599358        | 0.013047745        | arg                | ACG_RagB-WT_–Leu   |  5                 | \n",
       "| argacg             | ACG                | RagB-Q99L          | –Leu               | 0.8806131          | 0.031513146        | 0.018194123        | arg                | ACG_RagB-Q99L_–Leu |  6                 | \n",
       "| argacg             | ACG                | hrGFP              | –Arg               | 0.2504738          | 0.065666112        | 0.037912348        | arg                | ACG_hrGFP_–Arg     |  7                 | \n",
       "| argacg             | ACG                | RagB-WT            | –Arg               | 0.3003335          | 0.130741742        | 0.075483780        | arg                | ACG_RagB-WT_–Arg   |  8                 | \n",
       "| argacg             | ACG                | RagB-Q99L          | –Arg               | 0.2641125          | 0.016948578        | 0.009785266        | arg                | ACG_RagB-Q99L_–Arg |  9                 | \n",
       "| argccg             | CCG                | hrGFP              | Rich               | 0.9286907          | 0.037335667        | 0.021555757        | arg                | CCG_hrGFP_Rich     | 10                 | \n",
       "| argccg             | CCG                | RagB-WT            | Rich               | 0.9286199          | 0.020878379        | 0.012054138        | arg                | CCG_RagB-WT_Rich   | 11                 | \n",
       "| argccg             | CCG                | RagB-Q99L          | Rich               | 0.9305334          | 0.029193860        | 0.016855083        | arg                | CCG_RagB-Q99L_Rich | 12                 | \n",
       "| argccg             | CCG                | hrGFP              | –Leu               | 0.9358071          | 0.025021721        | 0.014446297        | arg                | CCG_hrGFP_–Leu     | 13                 | \n",
       "| argccg             | CCG                | RagB-WT            | –Leu               | 0.9437023          | 0.027678288        | 0.015980067        | arg                | CCG_RagB-WT_–Leu   | 14                 | \n",
       "| argccg             | CCG                | RagB-Q99L          | –Leu               | 0.9218139          | 0.040920201        | 0.023625289        | arg                | CCG_RagB-Q99L_–Leu | 15                 | \n",
       "| argccg             | CCG                | hrGFP              | –Arg               | 0.5209591          | 0.057840532        | 0.033394247        | arg                | CCG_hrGFP_–Arg     | 16                 | \n",
       "| argccg             | CCG                | RagB-WT            | –Arg               | 0.4777325          | 0.048563536        | 0.028038171        | arg                | CCG_RagB-WT_–Arg   | 17                 | \n",
       "| argccg             | CCG                | RagB-Q99L          | –Arg               | 0.4982920          | 0.077204178        | 0.044573853        | arg                | CCG_RagB-Q99L_–Arg | 18                 | \n",
       "| argtcg             | TCG                | hrGFP              | Rich               | 0.9466962          | 0.008686123        | 0.005014935        | arg                | TCG_hrGFP_Rich     | 19                 | \n",
       "| argtcg             | TCG                | RagB-WT            | Rich               | 0.9439825          | 0.000717352        | 0.000414163        | arg                | TCG_RagB-WT_Rich   | 20                 | \n",
       "| argtcg             | TCG                | RagB-Q99L          | Rich               | 0.9261051          | 0.009735108        | 0.005620567        | arg                | TCG_RagB-Q99L_Rich | 21                 | \n",
       "| argtcg             | TCG                | hrGFP              | –Leu               | 0.9362552          | 0.031116246        | 0.017964973        | arg                | TCG_hrGFP_–Leu     | 22                 | \n",
       "| argtcg             | TCG                | RagB-WT            | –Leu               | 0.9364676          | 0.012553410        | 0.007247715        | arg                | TCG_RagB-WT_–Leu   | 23                 | \n",
       "| argtcg             | TCG                | RagB-Q99L          | –Leu               | 0.9377738          | 0.016467801        | 0.009507689        | arg                | TCG_RagB-Q99L_–Leu | 24                 | \n",
       "| argtcg             | TCG                | hrGFP              | –Arg               | 0.5130845          | 0.050286173        | 0.029032736        | arg                | TCG_hrGFP_–Arg     | 25                 | \n",
       "| argtcg             | TCG                | RagB-WT            | –Arg               | 0.5128835          | 0.053651014        | 0.030975427        | arg                | TCG_RagB-WT_–Arg   | 26                 | \n",
       "| argtcg             | TCG                | RagB-Q99L          | –Arg               | 0.4412269          | 0.087025415        | 0.050244147        | arg                | TCG_RagB-Q99L_–Arg | 27                 | \n",
       "\n",
       "\n"
      ],
      "text/plain": [
       "   aatrna trna cell_line samplelabel mean_chargedfraction stdev      \n",
       "1  argacg ACG  hrGFP     Rich        0.8670868            0.011722668\n",
       "2  argacg ACG  RagB-WT   Rich        0.8613701            0.039805913\n",
       "3  argacg ACG  RagB-Q99L Rich        0.8709106            0.028014261\n",
       "4  argacg ACG  hrGFP     –Leu        0.8885709            0.025226018\n",
       "5  argacg ACG  RagB-WT   –Leu        0.8780857            0.022599358\n",
       "6  argacg ACG  RagB-Q99L –Leu        0.8806131            0.031513146\n",
       "7  argacg ACG  hrGFP     –Arg        0.2504738            0.065666112\n",
       "8  argacg ACG  RagB-WT   –Arg        0.3003335            0.130741742\n",
       "9  argacg ACG  RagB-Q99L –Arg        0.2641125            0.016948578\n",
       "10 argccg CCG  hrGFP     Rich        0.9286907            0.037335667\n",
       "11 argccg CCG  RagB-WT   Rich        0.9286199            0.020878379\n",
       "12 argccg CCG  RagB-Q99L Rich        0.9305334            0.029193860\n",
       "13 argccg CCG  hrGFP     –Leu        0.9358071            0.025021721\n",
       "14 argccg CCG  RagB-WT   –Leu        0.9437023            0.027678288\n",
       "15 argccg CCG  RagB-Q99L –Leu        0.9218139            0.040920201\n",
       "16 argccg CCG  hrGFP     –Arg        0.5209591            0.057840532\n",
       "17 argccg CCG  RagB-WT   –Arg        0.4777325            0.048563536\n",
       "18 argccg CCG  RagB-Q99L –Arg        0.4982920            0.077204178\n",
       "19 argtcg TCG  hrGFP     Rich        0.9466962            0.008686123\n",
       "20 argtcg TCG  RagB-WT   Rich        0.9439825            0.000717352\n",
       "21 argtcg TCG  RagB-Q99L Rich        0.9261051            0.009735108\n",
       "22 argtcg TCG  hrGFP     –Leu        0.9362552            0.031116246\n",
       "23 argtcg TCG  RagB-WT   –Leu        0.9364676            0.012553410\n",
       "24 argtcg TCG  RagB-Q99L –Leu        0.9377738            0.016467801\n",
       "25 argtcg TCG  hrGFP     –Arg        0.5130845            0.050286173\n",
       "26 argtcg TCG  RagB-WT   –Arg        0.5128835            0.053651014\n",
       "27 argtcg TCG  RagB-Q99L –Arg        0.4412269            0.087025415\n",
       "   sterr       aa  xlabel             sampleorder\n",
       "1  0.006768085 arg ACG_hrGFP_Rich      1         \n",
       "2  0.022981955 arg ACG_RagB-WT_Rich    2         \n",
       "3  0.016174041 arg ACG_RagB-Q99L_Rich  3         \n",
       "4  0.014564248 arg ACG_hrGFP_–Leu      4         \n",
       "5  0.013047745 arg ACG_RagB-WT_–Leu    5         \n",
       "6  0.018194123 arg ACG_RagB-Q99L_–Leu  6         \n",
       "7  0.037912348 arg ACG_hrGFP_–Arg      7         \n",
       "8  0.075483780 arg ACG_RagB-WT_–Arg    8         \n",
       "9  0.009785266 arg ACG_RagB-Q99L_–Arg  9         \n",
       "10 0.021555757 arg CCG_hrGFP_Rich     10         \n",
       "11 0.012054138 arg CCG_RagB-WT_Rich   11         \n",
       "12 0.016855083 arg CCG_RagB-Q99L_Rich 12         \n",
       "13 0.014446297 arg CCG_hrGFP_–Leu     13         \n",
       "14 0.015980067 arg CCG_RagB-WT_–Leu   14         \n",
       "15 0.023625289 arg CCG_RagB-Q99L_–Leu 15         \n",
       "16 0.033394247 arg CCG_hrGFP_–Arg     16         \n",
       "17 0.028038171 arg CCG_RagB-WT_–Arg   17         \n",
       "18 0.044573853 arg CCG_RagB-Q99L_–Arg 18         \n",
       "19 0.005014935 arg TCG_hrGFP_Rich     19         \n",
       "20 0.000414163 arg TCG_RagB-WT_Rich   20         \n",
       "21 0.005620567 arg TCG_RagB-Q99L_Rich 21         \n",
       "22 0.017964973 arg TCG_hrGFP_–Leu     22         \n",
       "23 0.007247715 arg TCG_RagB-WT_–Leu   23         \n",
       "24 0.009507689 arg TCG_RagB-Q99L_–Leu 24         \n",
       "25 0.029032736 arg TCG_hrGFP_–Arg     25         \n",
       "26 0.030975427 arg TCG_RagB-WT_–Arg   26         \n",
       "27 0.050244147 arg TCG_RagB-Q99L_–Arg 27         "
      ]
     },
     "metadata": {},
     "output_type": "display_data"
    }
   ],
   "source": [
    "datafiles <- '../rawdata/tRNA_charging_blots/suppfig4/20150608_harvest6_hek293t_AAVS1crisprhrGFPRagBWTRagBQ99L_3h_richleuarg/processeddata/'  %>% \n",
    "  list.files(pattern = \"arg\", full.names = T)\n",
    "samplenames <- datafiles %>% \n",
    "  stringr::str_match(\"/([^_/]+)[^/]+$\") %>% \n",
    "  magrittr::extract(,2) %>%\n",
    "  print\n",
    "data <- datafiles %>% \n",
    "  lapply(. %>% read_csv(col_types = c(col_character()))) %>% \n",
    "  magrittr::set_names(samplenames) %>% \n",
    "  bind_rows(.id = 'aatrna') %>% \n",
    "  mutate(aa = substr(aatrna, 1, 3)) %>% \n",
    "  mutate(samplelabel = stringr::str_replace(samplelabel, '-','\\u2013')) %>% \n",
    "  mutate(xlabel = paste(trna, cell_line, samplelabel, sep = \"_\")) %>% \n",
    "  mutate(sampleorder = c(1,2,3,4,5,6,7,8,9,10,11,12,13,14,15,16,17,18,19,20,21,22,23,24,25,26,27)) %>% \n",
    "  mutate(xlabel = forcats::fct_reorder(xlabel, sampleorder)) %>% \n",
    "  arrange(sampleorder) %>% \n",
    "  print\n",
    "\n",
    "data"
   ]
  },
  {
   "cell_type": "code",
   "execution_count": 44,
   "metadata": {},
   "outputs": [
    {
     "data": {},
     "metadata": {},
     "output_type": "display_data"
    },
    {
     "data": {
      "image/png": "[encoded data removed]",
      "text/plain": [
       "plot without title"
      ]
     },
     "metadata": {},
     "output_type": "display_data"
    }
   ],
   "source": [
    "options(repr.plot.width = 4.9, repr.plot.height = 1.75)\n",
    "\n",
    "test <- Vectorize(function(x) {\n",
    "  data %>% select(cell_line)\n",
    "})\n",
    "\n",
    "data %>%\n",
    "  ggplot(aes(x = xlabel, y = mean_chargedfraction * 100)) +\n",
    "  geom_col() + geom_errorbar(aes(ymin = (mean_chargedfraction - sterr)*100,\n",
    "                    ymax = (mean_chargedfraction + sterr)*100), \n",
    "                width = 0.2, size = 0.25) +\n",
    "  facet_wrap(~trna, ncol = 3, scales = \"free_x\") +\n",
    "  scale_x_discrete(labels = test) +\n",
    "  scale_y_continuous(breaks= scales::pretty_breaks(n=3), limits = c(0, 120)) +\n",
    "  xlab(\"\") + ylab(\"% tRNA charged\") +\n",
    "  theme(panel.spacing = unit(1, \"lines\"),\n",
    "        axis.text.x = element_text(angle = 45, hjust = 1)) +\n",
    "  annotate(\"segment\", x = .6, xend = 3.5, y = 100, yend = 100, size = 0.25) +\n",
    "  annotate(\"text\", x = 2.05, y = 110, label = \"Rich\", vjust = 0, size = 3) +\n",
    "  annotate(\"segment\", x = 3.6, xend = 6.5, y = 100, yend = 100, size = 0.25) +\n",
    "  annotate(\"text\", x = 5.05, y = 110, label = \"\\u2013Leu\", vjust = 0, size = 3) +\n",
    "  annotate(\"segment\", x = 6.6, xend = 9.5, y = 100, yend = 100, size = 0.25) +\n",
    "  annotate(\"text\", x = 8.05, y = 110, label = \"\\u2013Arg\", vjust = 0, size = 3) \n",
    "\n",
    "\n",
    "ggsave(\"../figures/suppfig4_trna_tbd.pdf\", width = 4.9, height = 1.75, device = cairo_pdf)"
   ]
  },
  {
   "cell_type": "code",
   "execution_count": 45,
   "metadata": {},
   "outputs": [
    {
     "name": "stdout",
     "output_type": "stream",
     "text": [
      "[1] \"leuaag\" \"leucaa\" \"leucag\" \"leutag\"\n",
      "# A tibble: 36 x 10\n",
      "   aatrna  trna cell_line samplelabel mean_chargedfraction      stdev\n",
      "    <chr> <chr>     <chr>       <chr>                <dbl>      <dbl>\n",
      " 1 leuaag   AAG     hrGFP        Rich            0.7161863 0.04561394\n",
      " 2 leuaag   AAG   RagB-WT        Rich            0.7927008 0.06324721\n",
      " 3 leuaag   AAG RagB-Q99L        Rich            0.8071739 0.01450018\n",
      " 4 leuaag   AAG     hrGFP        –Leu            0.5912405 0.04521480\n",
      " 5 leuaag   AAG   RagB-WT        –Leu            0.5506140 0.05061107\n",
      " 6 leuaag   AAG RagB-Q99L        –Leu            0.3812656 0.07878565\n",
      " 7 leuaag   AAG     hrGFP        –Arg            0.8229787 0.02024475\n",
      " 8 leuaag   AAG   RagB-WT        –Arg            0.8301938 0.03805705\n",
      " 9 leuaag   AAG RagB-Q99L        –Arg            0.8101941 0.02498401\n",
      "10 leucaa   CAA     hrGFP        Rich            0.8364168 0.06759715\n",
      "# ... with 26 more rows, and 4 more variables: sterr <dbl>, aa <chr>,\n",
      "#   xlabel <fctr>, sampleorder <dbl>\n"
     ]
    },
    {
     "data": {
      "text/html": [
       "<table>\n",
       "<thead><tr><th scope=col>aatrna</th><th scope=col>trna</th><th scope=col>cell_line</th><th scope=col>samplelabel</th><th scope=col>mean_chargedfraction</th><th scope=col>stdev</th><th scope=col>sterr</th><th scope=col>aa</th><th scope=col>xlabel</th><th scope=col>sampleorder</th></tr></thead>\n",
       "<tbody>\n",
       "\t<tr><td>leuaag            </td><td>AAG               </td><td>hrGFP             </td><td>Rich              </td><td>0.7161863         </td><td>0.045613941       </td><td>0.026335221       </td><td>leu               </td><td>AAG_hrGFP_Rich    </td><td> 1                </td></tr>\n",
       "\t<tr><td>leuaag            </td><td>AAG               </td><td>RagB-WT           </td><td>Rich              </td><td>0.7927008         </td><td>0.063247214       </td><td>0.036515796       </td><td>leu               </td><td>AAG_RagB-WT_Rich  </td><td> 2                </td></tr>\n",
       "\t<tr><td>leuaag            </td><td>AAG               </td><td>RagB-Q99L         </td><td>Rich              </td><td>0.8071739         </td><td>0.014500184       </td><td>0.008371685       </td><td>leu               </td><td>AAG_RagB-Q99L_Rich</td><td> 3                </td></tr>\n",
       "\t<tr><td>leuaag            </td><td>AAG               </td><td>hrGFP             </td><td>–Leu              </td><td>0.5912405         </td><td>0.045214803       </td><td>0.026104779       </td><td>leu               </td><td>AAG_hrGFP_–Leu    </td><td> 4                </td></tr>\n",
       "\t<tr><td>leuaag            </td><td>AAG               </td><td>RagB-WT           </td><td>–Leu              </td><td>0.5506140         </td><td>0.050611069       </td><td>0.029220314       </td><td>leu               </td><td>AAG_RagB-WT_–Leu  </td><td> 5                </td></tr>\n",
       "\t<tr><td>leuaag            </td><td>AAG               </td><td>RagB-Q99L         </td><td>–Leu              </td><td>0.3812656         </td><td>0.078785649       </td><td>0.045486916       </td><td>leu               </td><td>AAG_RagB-Q99L_–Leu</td><td> 6                </td></tr>\n",
       "\t<tr><td>leuaag            </td><td>AAG               </td><td>hrGFP             </td><td>–Arg              </td><td>0.8229787         </td><td>0.020244749       </td><td>0.011688311       </td><td>leu               </td><td>AAG_hrGFP_–Arg    </td><td> 7                </td></tr>\n",
       "\t<tr><td>leuaag            </td><td>AAG               </td><td>RagB-WT           </td><td>–Arg              </td><td>0.8301938         </td><td>0.038057051       </td><td>0.021972249       </td><td>leu               </td><td>AAG_RagB-WT_–Arg  </td><td> 8                </td></tr>\n",
       "\t<tr><td>leuaag            </td><td>AAG               </td><td>RagB-Q99L         </td><td>–Arg              </td><td>0.8101941         </td><td>0.024984013       </td><td>0.014424527       </td><td>leu               </td><td>AAG_RagB-Q99L_–Arg</td><td> 9                </td></tr>\n",
       "\t<tr><td>leucaa            </td><td>CAA               </td><td>hrGFP             </td><td>Rich              </td><td>0.8364168         </td><td>0.067597150       </td><td>0.039027233       </td><td>leu               </td><td>CAA_hrGFP_Rich    </td><td>10                </td></tr>\n",
       "\t<tr><td>leucaa            </td><td>CAA               </td><td>RagB-WT           </td><td>Rich              </td><td>0.8331416         </td><td>0.050981076       </td><td>0.029433938       </td><td>leu               </td><td>CAA_RagB-WT_Rich  </td><td>11                </td></tr>\n",
       "\t<tr><td>leucaa            </td><td>CAA               </td><td>RagB-Q99L         </td><td>Rich              </td><td>0.8331326         </td><td>0.050846735       </td><td>0.029356376       </td><td>leu               </td><td>CAA_RagB-Q99L_Rich</td><td>12                </td></tr>\n",
       "\t<tr><td>leucaa            </td><td>CAA               </td><td>hrGFP             </td><td>–Leu              </td><td>0.4288409         </td><td>0.021968465       </td><td>0.012683499       </td><td>leu               </td><td>CAA_hrGFP_–Leu    </td><td>13                </td></tr>\n",
       "\t<tr><td>leucaa            </td><td>CAA               </td><td>RagB-WT           </td><td>–Leu              </td><td>0.3633157         </td><td>0.061748628       </td><td>0.035650587       </td><td>leu               </td><td>CAA_RagB-WT_–Leu  </td><td>14                </td></tr>\n",
       "\t<tr><td>leucaa            </td><td>CAA               </td><td>RagB-Q99L         </td><td>–Leu              </td><td>0.2152345         </td><td>0.005574393       </td><td>0.003218377       </td><td>leu               </td><td>CAA_RagB-Q99L_–Leu</td><td>15                </td></tr>\n",
       "\t<tr><td>leucaa            </td><td>CAA               </td><td>hrGFP             </td><td>–Arg              </td><td>0.8633304         </td><td>0.067152655       </td><td>0.038770603       </td><td>leu               </td><td>CAA_hrGFP_–Arg    </td><td>16                </td></tr>\n",
       "\t<tr><td>leucaa            </td><td>CAA               </td><td>RagB-WT           </td><td>–Arg              </td><td>0.8565502         </td><td>0.051437293       </td><td>0.029697335       </td><td>leu               </td><td>CAA_RagB-WT_–Arg  </td><td>17                </td></tr>\n",
       "\t<tr><td>leucaa            </td><td>CAA               </td><td>RagB-Q99L         </td><td>–Arg              </td><td>0.8923424         </td><td>0.013886534       </td><td>0.008017394       </td><td>leu               </td><td>CAA_RagB-Q99L_–Arg</td><td>18                </td></tr>\n",
       "\t<tr><td>leucag            </td><td>CAG               </td><td>hrGFP             </td><td>Rich              </td><td>0.8750646         </td><td>0.012096698       </td><td>0.006984032       </td><td>leu               </td><td>CAG_hrGFP_Rich    </td><td>19                </td></tr>\n",
       "\t<tr><td>leucag            </td><td>CAG               </td><td>RagB-WT           </td><td>Rich              </td><td>0.8578524         </td><td>0.020993052       </td><td>0.012120344       </td><td>leu               </td><td>CAG_RagB-WT_Rich  </td><td>20                </td></tr>\n",
       "\t<tr><td>leucag            </td><td>CAG               </td><td>RagB-Q99L         </td><td>Rich              </td><td>0.8515303         </td><td>0.008819306       </td><td>0.005091829       </td><td>leu               </td><td>CAG_RagB-Q99L_Rich</td><td>21                </td></tr>\n",
       "\t<tr><td>leucag            </td><td>CAG               </td><td>hrGFP             </td><td>–Leu              </td><td>0.6000745         </td><td>0.025736103       </td><td>0.014858746       </td><td>leu               </td><td>CAG_hrGFP_–Leu    </td><td>22                </td></tr>\n",
       "\t<tr><td>leucag            </td><td>CAG               </td><td>RagB-WT           </td><td>–Leu              </td><td>0.5410135         </td><td>0.028073711       </td><td>0.016208365       </td><td>leu               </td><td>CAG_RagB-WT_–Leu  </td><td>23                </td></tr>\n",
       "\t<tr><td>leucag            </td><td>CAG               </td><td>RagB-Q99L         </td><td>–Leu              </td><td>0.4205862         </td><td>0.020472067       </td><td>0.011819553       </td><td>leu               </td><td>CAG_RagB-Q99L_–Leu</td><td>24                </td></tr>\n",
       "\t<tr><td>leucag            </td><td>CAG               </td><td>hrGFP             </td><td>–Arg              </td><td>0.9018605         </td><td>0.017185761       </td><td>0.009922204       </td><td>leu               </td><td>CAG_hrGFP_–Arg    </td><td>25                </td></tr>\n",
       "\t<tr><td>leucag            </td><td>CAG               </td><td>RagB-WT           </td><td>–Arg              </td><td>0.8879467         </td><td>0.015528065       </td><td>0.008965133       </td><td>leu               </td><td>CAG_RagB-WT_–Arg  </td><td>26                </td></tr>\n",
       "\t<tr><td>leucag            </td><td>CAG               </td><td>RagB-Q99L         </td><td>–Arg              </td><td>0.8989782         </td><td>0.010510943       </td><td>0.006068496       </td><td>leu               </td><td>CAG_RagB-Q99L_–Arg</td><td>27                </td></tr>\n",
       "\t<tr><td>leutag            </td><td>TAG               </td><td>hrGFP             </td><td>Rich              </td><td>0.7761746         </td><td>0.012697611       </td><td>0.007330969       </td><td>leu               </td><td>TAG_hrGFP_Rich    </td><td>28                </td></tr>\n",
       "\t<tr><td>leutag            </td><td>TAG               </td><td>RagB-WT           </td><td>Rich              </td><td>0.7745847         </td><td>0.018022886       </td><td>0.010405518       </td><td>leu               </td><td>TAG_RagB-WT_Rich  </td><td>29                </td></tr>\n",
       "\t<tr><td>leutag            </td><td>TAG               </td><td>RagB-Q99L         </td><td>Rich              </td><td>0.7510980         </td><td>0.038546227       </td><td>0.022254675       </td><td>leu               </td><td>TAG_RagB-Q99L_Rich</td><td>30                </td></tr>\n",
       "\t<tr><td>leutag            </td><td>TAG               </td><td>hrGFP             </td><td>–Leu              </td><td>0.6625130         </td><td>0.019202286       </td><td>0.011086445       </td><td>leu               </td><td>TAG_hrGFP_–Leu    </td><td>31                </td></tr>\n",
       "\t<tr><td>leutag            </td><td>TAG               </td><td>RagB-WT           </td><td>–Leu              </td><td>0.6420512         </td><td>0.054355853       </td><td>0.031382366       </td><td>leu               </td><td>TAG_RagB-WT_–Leu  </td><td>32                </td></tr>\n",
       "\t<tr><td>leutag            </td><td>TAG               </td><td>RagB-Q99L         </td><td>–Leu              </td><td>0.5863049         </td><td>0.041882957       </td><td>0.024181136       </td><td>leu               </td><td>TAG_RagB-Q99L_–Leu</td><td>33                </td></tr>\n",
       "\t<tr><td>leutag            </td><td>TAG               </td><td>hrGFP             </td><td>–Arg              </td><td>0.7920344         </td><td>0.031163026       </td><td>0.017991981       </td><td>leu               </td><td>TAG_hrGFP_–Arg    </td><td>34                </td></tr>\n",
       "\t<tr><td>leutag            </td><td>TAG               </td><td>RagB-WT           </td><td>–Arg              </td><td>0.7794518         </td><td>0.020067093       </td><td>0.011585742       </td><td>leu               </td><td>TAG_RagB-WT_–Arg  </td><td>35                </td></tr>\n",
       "\t<tr><td>leutag            </td><td>TAG               </td><td>RagB-Q99L         </td><td>–Arg              </td><td>0.7684234         </td><td>0.021250975       </td><td>0.012269256       </td><td>leu               </td><td>TAG_RagB-Q99L_–Arg</td><td>36                </td></tr>\n",
       "</tbody>\n",
       "</table>\n"
      ],
      "text/latex": [
       "\\begin{tabular}{r|llllllllll}\n",
       " aatrna & trna & cell\\_line & samplelabel & mean\\_chargedfraction & stdev & sterr & aa & xlabel & sampleorder\\\\\n",
       "\\hline\n",
       "\t leuaag                 & AAG                    & hrGFP                  & Rich                   & 0.7161863              & 0.045613941            & 0.026335221            & leu                    & AAG\\_hrGFP\\_Rich     &  1                    \\\\\n",
       "\t leuaag                 & AAG                    & RagB-WT                & Rich                   & 0.7927008              & 0.063247214            & 0.036515796            & leu                    & AAG\\_RagB-WT\\_Rich   &  2                    \\\\\n",
       "\t leuaag                 & AAG                    & RagB-Q99L              & Rich                   & 0.8071739              & 0.014500184            & 0.008371685            & leu                    & AAG\\_RagB-Q99L\\_Rich &  3                    \\\\\n",
       "\t leuaag                 & AAG                    & hrGFP                  & –Leu                   & 0.5912405              & 0.045214803            & 0.026104779            & leu                    & AAG\\_hrGFP\\_–Leu     &  4                    \\\\\n",
       "\t leuaag                 & AAG                    & RagB-WT                & –Leu                   & 0.5506140              & 0.050611069            & 0.029220314            & leu                    & AAG\\_RagB-WT\\_–Leu   &  5                    \\\\\n",
       "\t leuaag                 & AAG                    & RagB-Q99L              & –Leu                   & 0.3812656              & 0.078785649            & 0.045486916            & leu                    & AAG\\_RagB-Q99L\\_–Leu &  6                    \\\\\n",
       "\t leuaag                 & AAG                    & hrGFP                  & –Arg                   & 0.8229787              & 0.020244749            & 0.011688311            & leu                    & AAG\\_hrGFP\\_–Arg     &  7                    \\\\\n",
       "\t leuaag                 & AAG                    & RagB-WT                & –Arg                   & 0.8301938              & 0.038057051            & 0.021972249            & leu                    & AAG\\_RagB-WT\\_–Arg   &  8                    \\\\\n",
       "\t leuaag                 & AAG                    & RagB-Q99L              & –Arg                   & 0.8101941              & 0.024984013            & 0.014424527            & leu                    & AAG\\_RagB-Q99L\\_–Arg &  9                    \\\\\n",
       "\t leucaa                 & CAA                    & hrGFP                  & Rich                   & 0.8364168              & 0.067597150            & 0.039027233            & leu                    & CAA\\_hrGFP\\_Rich     & 10                    \\\\\n",
       "\t leucaa                 & CAA                    & RagB-WT                & Rich                   & 0.8331416              & 0.050981076            & 0.029433938            & leu                    & CAA\\_RagB-WT\\_Rich   & 11                    \\\\\n",
       "\t leucaa                 & CAA                    & RagB-Q99L              & Rich                   & 0.8331326              & 0.050846735            & 0.029356376            & leu                    & CAA\\_RagB-Q99L\\_Rich & 12                    \\\\\n",
       "\t leucaa                 & CAA                    & hrGFP                  & –Leu                   & 0.4288409              & 0.021968465            & 0.012683499            & leu                    & CAA\\_hrGFP\\_–Leu     & 13                    \\\\\n",
       "\t leucaa                 & CAA                    & RagB-WT                & –Leu                   & 0.3633157              & 0.061748628            & 0.035650587            & leu                    & CAA\\_RagB-WT\\_–Leu   & 14                    \\\\\n",
       "\t leucaa                 & CAA                    & RagB-Q99L              & –Leu                   & 0.2152345              & 0.005574393            & 0.003218377            & leu                    & CAA\\_RagB-Q99L\\_–Leu & 15                    \\\\\n",
       "\t leucaa                 & CAA                    & hrGFP                  & –Arg                   & 0.8633304              & 0.067152655            & 0.038770603            & leu                    & CAA\\_hrGFP\\_–Arg     & 16                    \\\\\n",
       "\t leucaa                 & CAA                    & RagB-WT                & –Arg                   & 0.8565502              & 0.051437293            & 0.029697335            & leu                    & CAA\\_RagB-WT\\_–Arg   & 17                    \\\\\n",
       "\t leucaa                 & CAA                    & RagB-Q99L              & –Arg                   & 0.8923424              & 0.013886534            & 0.008017394            & leu                    & CAA\\_RagB-Q99L\\_–Arg & 18                    \\\\\n",
       "\t leucag                 & CAG                    & hrGFP                  & Rich                   & 0.8750646              & 0.012096698            & 0.006984032            & leu                    & CAG\\_hrGFP\\_Rich     & 19                    \\\\\n",
       "\t leucag                 & CAG                    & RagB-WT                & Rich                   & 0.8578524              & 0.020993052            & 0.012120344            & leu                    & CAG\\_RagB-WT\\_Rich   & 20                    \\\\\n",
       "\t leucag                 & CAG                    & RagB-Q99L              & Rich                   & 0.8515303              & 0.008819306            & 0.005091829            & leu                    & CAG\\_RagB-Q99L\\_Rich & 21                    \\\\\n",
       "\t leucag                 & CAG                    & hrGFP                  & –Leu                   & 0.6000745              & 0.025736103            & 0.014858746            & leu                    & CAG\\_hrGFP\\_–Leu     & 22                    \\\\\n",
       "\t leucag                 & CAG                    & RagB-WT                & –Leu                   & 0.5410135              & 0.028073711            & 0.016208365            & leu                    & CAG\\_RagB-WT\\_–Leu   & 23                    \\\\\n",
       "\t leucag                 & CAG                    & RagB-Q99L              & –Leu                   & 0.4205862              & 0.020472067            & 0.011819553            & leu                    & CAG\\_RagB-Q99L\\_–Leu & 24                    \\\\\n",
       "\t leucag                 & CAG                    & hrGFP                  & –Arg                   & 0.9018605              & 0.017185761            & 0.009922204            & leu                    & CAG\\_hrGFP\\_–Arg     & 25                    \\\\\n",
       "\t leucag                 & CAG                    & RagB-WT                & –Arg                   & 0.8879467              & 0.015528065            & 0.008965133            & leu                    & CAG\\_RagB-WT\\_–Arg   & 26                    \\\\\n",
       "\t leucag                 & CAG                    & RagB-Q99L              & –Arg                   & 0.8989782              & 0.010510943            & 0.006068496            & leu                    & CAG\\_RagB-Q99L\\_–Arg & 27                    \\\\\n",
       "\t leutag                 & TAG                    & hrGFP                  & Rich                   & 0.7761746              & 0.012697611            & 0.007330969            & leu                    & TAG\\_hrGFP\\_Rich     & 28                    \\\\\n",
       "\t leutag                 & TAG                    & RagB-WT                & Rich                   & 0.7745847              & 0.018022886            & 0.010405518            & leu                    & TAG\\_RagB-WT\\_Rich   & 29                    \\\\\n",
       "\t leutag                 & TAG                    & RagB-Q99L              & Rich                   & 0.7510980              & 0.038546227            & 0.022254675            & leu                    & TAG\\_RagB-Q99L\\_Rich & 30                    \\\\\n",
       "\t leutag                 & TAG                    & hrGFP                  & –Leu                   & 0.6625130              & 0.019202286            & 0.011086445            & leu                    & TAG\\_hrGFP\\_–Leu     & 31                    \\\\\n",
       "\t leutag                 & TAG                    & RagB-WT                & –Leu                   & 0.6420512              & 0.054355853            & 0.031382366            & leu                    & TAG\\_RagB-WT\\_–Leu   & 32                    \\\\\n",
       "\t leutag                 & TAG                    & RagB-Q99L              & –Leu                   & 0.5863049              & 0.041882957            & 0.024181136            & leu                    & TAG\\_RagB-Q99L\\_–Leu & 33                    \\\\\n",
       "\t leutag                 & TAG                    & hrGFP                  & –Arg                   & 0.7920344              & 0.031163026            & 0.017991981            & leu                    & TAG\\_hrGFP\\_–Arg     & 34                    \\\\\n",
       "\t leutag                 & TAG                    & RagB-WT                & –Arg                   & 0.7794518              & 0.020067093            & 0.011585742            & leu                    & TAG\\_RagB-WT\\_–Arg   & 35                    \\\\\n",
       "\t leutag                 & TAG                    & RagB-Q99L              & –Arg                   & 0.7684234              & 0.021250975            & 0.012269256            & leu                    & TAG\\_RagB-Q99L\\_–Arg & 36                    \\\\\n",
       "\\end{tabular}\n"
      ],
      "text/markdown": [
       "\n",
       "aatrna | trna | cell_line | samplelabel | mean_chargedfraction | stdev | sterr | aa | xlabel | sampleorder | \n",
       "|---|---|---|---|---|---|---|---|---|---|---|---|---|---|---|---|---|---|---|---|---|---|---|---|---|---|---|---|---|---|---|---|---|---|---|---|\n",
       "| leuaag             | AAG                | hrGFP              | Rich               | 0.7161863          | 0.045613941        | 0.026335221        | leu                | AAG_hrGFP_Rich     |  1                 | \n",
       "| leuaag             | AAG                | RagB-WT            | Rich               | 0.7927008          | 0.063247214        | 0.036515796        | leu                | AAG_RagB-WT_Rich   |  2                 | \n",
       "| leuaag             | AAG                | RagB-Q99L          | Rich               | 0.8071739          | 0.014500184        | 0.008371685        | leu                | AAG_RagB-Q99L_Rich |  3                 | \n",
       "| leuaag             | AAG                | hrGFP              | –Leu               | 0.5912405          | 0.045214803        | 0.026104779        | leu                | AAG_hrGFP_–Leu     |  4                 | \n",
       "| leuaag             | AAG                | RagB-WT            | –Leu               | 0.5506140          | 0.050611069        | 0.029220314        | leu                | AAG_RagB-WT_–Leu   |  5                 | \n",
       "| leuaag             | AAG                | RagB-Q99L          | –Leu               | 0.3812656          | 0.078785649        | 0.045486916        | leu                | AAG_RagB-Q99L_–Leu |  6                 | \n",
       "| leuaag             | AAG                | hrGFP              | –Arg               | 0.8229787          | 0.020244749        | 0.011688311        | leu                | AAG_hrGFP_–Arg     |  7                 | \n",
       "| leuaag             | AAG                | RagB-WT            | –Arg               | 0.8301938          | 0.038057051        | 0.021972249        | leu                | AAG_RagB-WT_–Arg   |  8                 | \n",
       "| leuaag             | AAG                | RagB-Q99L          | –Arg               | 0.8101941          | 0.024984013        | 0.014424527        | leu                | AAG_RagB-Q99L_–Arg |  9                 | \n",
       "| leucaa             | CAA                | hrGFP              | Rich               | 0.8364168          | 0.067597150        | 0.039027233        | leu                | CAA_hrGFP_Rich     | 10                 | \n",
       "| leucaa             | CAA                | RagB-WT            | Rich               | 0.8331416          | 0.050981076        | 0.029433938        | leu                | CAA_RagB-WT_Rich   | 11                 | \n",
       "| leucaa             | CAA                | RagB-Q99L          | Rich               | 0.8331326          | 0.050846735        | 0.029356376        | leu                | CAA_RagB-Q99L_Rich | 12                 | \n",
       "| leucaa             | CAA                | hrGFP              | –Leu               | 0.4288409          | 0.021968465        | 0.012683499        | leu                | CAA_hrGFP_–Leu     | 13                 | \n",
       "| leucaa             | CAA                | RagB-WT            | –Leu               | 0.3633157          | 0.061748628        | 0.035650587        | leu                | CAA_RagB-WT_–Leu   | 14                 | \n",
       "| leucaa             | CAA                | RagB-Q99L          | –Leu               | 0.2152345          | 0.005574393        | 0.003218377        | leu                | CAA_RagB-Q99L_–Leu | 15                 | \n",
       "| leucaa             | CAA                | hrGFP              | –Arg               | 0.8633304          | 0.067152655        | 0.038770603        | leu                | CAA_hrGFP_–Arg     | 16                 | \n",
       "| leucaa             | CAA                | RagB-WT            | –Arg               | 0.8565502          | 0.051437293        | 0.029697335        | leu                | CAA_RagB-WT_–Arg   | 17                 | \n",
       "| leucaa             | CAA                | RagB-Q99L          | –Arg               | 0.8923424          | 0.013886534        | 0.008017394        | leu                | CAA_RagB-Q99L_–Arg | 18                 | \n",
       "| leucag             | CAG                | hrGFP              | Rich               | 0.8750646          | 0.012096698        | 0.006984032        | leu                | CAG_hrGFP_Rich     | 19                 | \n",
       "| leucag             | CAG                | RagB-WT            | Rich               | 0.8578524          | 0.020993052        | 0.012120344        | leu                | CAG_RagB-WT_Rich   | 20                 | \n",
       "| leucag             | CAG                | RagB-Q99L          | Rich               | 0.8515303          | 0.008819306        | 0.005091829        | leu                | CAG_RagB-Q99L_Rich | 21                 | \n",
       "| leucag             | CAG                | hrGFP              | –Leu               | 0.6000745          | 0.025736103        | 0.014858746        | leu                | CAG_hrGFP_–Leu     | 22                 | \n",
       "| leucag             | CAG                | RagB-WT            | –Leu               | 0.5410135          | 0.028073711        | 0.016208365        | leu                | CAG_RagB-WT_–Leu   | 23                 | \n",
       "| leucag             | CAG                | RagB-Q99L          | –Leu               | 0.4205862          | 0.020472067        | 0.011819553        | leu                | CAG_RagB-Q99L_–Leu | 24                 | \n",
       "| leucag             | CAG                | hrGFP              | –Arg               | 0.9018605          | 0.017185761        | 0.009922204        | leu                | CAG_hrGFP_–Arg     | 25                 | \n",
       "| leucag             | CAG                | RagB-WT            | –Arg               | 0.8879467          | 0.015528065        | 0.008965133        | leu                | CAG_RagB-WT_–Arg   | 26                 | \n",
       "| leucag             | CAG                | RagB-Q99L          | –Arg               | 0.8989782          | 0.010510943        | 0.006068496        | leu                | CAG_RagB-Q99L_–Arg | 27                 | \n",
       "| leutag             | TAG                | hrGFP              | Rich               | 0.7761746          | 0.012697611        | 0.007330969        | leu                | TAG_hrGFP_Rich     | 28                 | \n",
       "| leutag             | TAG                | RagB-WT            | Rich               | 0.7745847          | 0.018022886        | 0.010405518        | leu                | TAG_RagB-WT_Rich   | 29                 | \n",
       "| leutag             | TAG                | RagB-Q99L          | Rich               | 0.7510980          | 0.038546227        | 0.022254675        | leu                | TAG_RagB-Q99L_Rich | 30                 | \n",
       "| leutag             | TAG                | hrGFP              | –Leu               | 0.6625130          | 0.019202286        | 0.011086445        | leu                | TAG_hrGFP_–Leu     | 31                 | \n",
       "| leutag             | TAG                | RagB-WT            | –Leu               | 0.6420512          | 0.054355853        | 0.031382366        | leu                | TAG_RagB-WT_–Leu   | 32                 | \n",
       "| leutag             | TAG                | RagB-Q99L          | –Leu               | 0.5863049          | 0.041882957        | 0.024181136        | leu                | TAG_RagB-Q99L_–Leu | 33                 | \n",
       "| leutag             | TAG                | hrGFP              | –Arg               | 0.7920344          | 0.031163026        | 0.017991981        | leu                | TAG_hrGFP_–Arg     | 34                 | \n",
       "| leutag             | TAG                | RagB-WT            | –Arg               | 0.7794518          | 0.020067093        | 0.011585742        | leu                | TAG_RagB-WT_–Arg   | 35                 | \n",
       "| leutag             | TAG                | RagB-Q99L          | –Arg               | 0.7684234          | 0.021250975        | 0.012269256        | leu                | TAG_RagB-Q99L_–Arg | 36                 | \n",
       "\n",
       "\n"
      ],
      "text/plain": [
       "   aatrna trna cell_line samplelabel mean_chargedfraction stdev      \n",
       "1  leuaag AAG  hrGFP     Rich        0.7161863            0.045613941\n",
       "2  leuaag AAG  RagB-WT   Rich        0.7927008            0.063247214\n",
       "3  leuaag AAG  RagB-Q99L Rich        0.8071739            0.014500184\n",
       "4  leuaag AAG  hrGFP     –Leu        0.5912405            0.045214803\n",
       "5  leuaag AAG  RagB-WT   –Leu        0.5506140            0.050611069\n",
       "6  leuaag AAG  RagB-Q99L –Leu        0.3812656            0.078785649\n",
       "7  leuaag AAG  hrGFP     –Arg        0.8229787            0.020244749\n",
       "8  leuaag AAG  RagB-WT   –Arg        0.8301938            0.038057051\n",
       "9  leuaag AAG  RagB-Q99L –Arg        0.8101941            0.024984013\n",
       "10 leucaa CAA  hrGFP     Rich        0.8364168            0.067597150\n",
       "11 leucaa CAA  RagB-WT   Rich        0.8331416            0.050981076\n",
       "12 leucaa CAA  RagB-Q99L Rich        0.8331326            0.050846735\n",
       "13 leucaa CAA  hrGFP     –Leu        0.4288409            0.021968465\n",
       "14 leucaa CAA  RagB-WT   –Leu        0.3633157            0.061748628\n",
       "15 leucaa CAA  RagB-Q99L –Leu        0.2152345            0.005574393\n",
       "16 leucaa CAA  hrGFP     –Arg        0.8633304            0.067152655\n",
       "17 leucaa CAA  RagB-WT   –Arg        0.8565502            0.051437293\n",
       "18 leucaa CAA  RagB-Q99L –Arg        0.8923424            0.013886534\n",
       "19 leucag CAG  hrGFP     Rich        0.8750646            0.012096698\n",
       "20 leucag CAG  RagB-WT   Rich        0.8578524            0.020993052\n",
       "21 leucag CAG  RagB-Q99L Rich        0.8515303            0.008819306\n",
       "22 leucag CAG  hrGFP     –Leu        0.6000745            0.025736103\n",
       "23 leucag CAG  RagB-WT   –Leu        0.5410135            0.028073711\n",
       "24 leucag CAG  RagB-Q99L –Leu        0.4205862            0.020472067\n",
       "25 leucag CAG  hrGFP     –Arg        0.9018605            0.017185761\n",
       "26 leucag CAG  RagB-WT   –Arg        0.8879467            0.015528065\n",
       "27 leucag CAG  RagB-Q99L –Arg        0.8989782            0.010510943\n",
       "28 leutag TAG  hrGFP     Rich        0.7761746            0.012697611\n",
       "29 leutag TAG  RagB-WT   Rich        0.7745847            0.018022886\n",
       "30 leutag TAG  RagB-Q99L Rich        0.7510980            0.038546227\n",
       "31 leutag TAG  hrGFP     –Leu        0.6625130            0.019202286\n",
       "32 leutag TAG  RagB-WT   –Leu        0.6420512            0.054355853\n",
       "33 leutag TAG  RagB-Q99L –Leu        0.5863049            0.041882957\n",
       "34 leutag TAG  hrGFP     –Arg        0.7920344            0.031163026\n",
       "35 leutag TAG  RagB-WT   –Arg        0.7794518            0.020067093\n",
       "36 leutag TAG  RagB-Q99L –Arg        0.7684234            0.021250975\n",
       "   sterr       aa  xlabel             sampleorder\n",
       "1  0.026335221 leu AAG_hrGFP_Rich      1         \n",
       "2  0.036515796 leu AAG_RagB-WT_Rich    2         \n",
       "3  0.008371685 leu AAG_RagB-Q99L_Rich  3         \n",
       "4  0.026104779 leu AAG_hrGFP_–Leu      4         \n",
       "5  0.029220314 leu AAG_RagB-WT_–Leu    5         \n",
       "6  0.045486916 leu AAG_RagB-Q99L_–Leu  6         \n",
       "7  0.011688311 leu AAG_hrGFP_–Arg      7         \n",
       "8  0.021972249 leu AAG_RagB-WT_–Arg    8         \n",
       "9  0.014424527 leu AAG_RagB-Q99L_–Arg  9         \n",
       "10 0.039027233 leu CAA_hrGFP_Rich     10         \n",
       "11 0.029433938 leu CAA_RagB-WT_Rich   11         \n",
       "12 0.029356376 leu CAA_RagB-Q99L_Rich 12         \n",
       "13 0.012683499 leu CAA_hrGFP_–Leu     13         \n",
       "14 0.035650587 leu CAA_RagB-WT_–Leu   14         \n",
       "15 0.003218377 leu CAA_RagB-Q99L_–Leu 15         \n",
       "16 0.038770603 leu CAA_hrGFP_–Arg     16         \n",
       "17 0.029697335 leu CAA_RagB-WT_–Arg   17         \n",
       "18 0.008017394 leu CAA_RagB-Q99L_–Arg 18         \n",
       "19 0.006984032 leu CAG_hrGFP_Rich     19         \n",
       "20 0.012120344 leu CAG_RagB-WT_Rich   20         \n",
       "21 0.005091829 leu CAG_RagB-Q99L_Rich 21         \n",
       "22 0.014858746 leu CAG_hrGFP_–Leu     22         \n",
       "23 0.016208365 leu CAG_RagB-WT_–Leu   23         \n",
       "24 0.011819553 leu CAG_RagB-Q99L_–Leu 24         \n",
       "25 0.009922204 leu CAG_hrGFP_–Arg     25         \n",
       "26 0.008965133 leu CAG_RagB-WT_–Arg   26         \n",
       "27 0.006068496 leu CAG_RagB-Q99L_–Arg 27         \n",
       "28 0.007330969 leu TAG_hrGFP_Rich     28         \n",
       "29 0.010405518 leu TAG_RagB-WT_Rich   29         \n",
       "30 0.022254675 leu TAG_RagB-Q99L_Rich 30         \n",
       "31 0.011086445 leu TAG_hrGFP_–Leu     31         \n",
       "32 0.031382366 leu TAG_RagB-WT_–Leu   32         \n",
       "33 0.024181136 leu TAG_RagB-Q99L_–Leu 33         \n",
       "34 0.017991981 leu TAG_hrGFP_–Arg     34         \n",
       "35 0.011585742 leu TAG_RagB-WT_–Arg   35         \n",
       "36 0.012269256 leu TAG_RagB-Q99L_–Arg 36         "
      ]
     },
     "metadata": {},
     "output_type": "display_data"
    }
   ],
   "source": [
    "datafiles <- '../rawdata/tRNA_charging_blots/suppfig4/20150608_harvest6_hek293t_AAVS1crisprhrGFPRagBWTRagBQ99L_3h_richleuarg/processeddata/'  %>% \n",
    "  list.files(pattern = \"leu\", full.names = T)\n",
    "samplenames <- datafiles %>% \n",
    "  stringr::str_match(\"/([^_/]+)[^/]+$\") %>% \n",
    "  magrittr::extract(,2) %>%\n",
    "  print\n",
    "data <- datafiles %>% \n",
    "  lapply(. %>% read_csv(col_types = c(col_character()))) %>% \n",
    "  magrittr::set_names(samplenames) %>% \n",
    "  bind_rows(.id = 'aatrna') %>% \n",
    "  mutate(aa = substr(aatrna, 1, 3)) %>% \n",
    "  mutate(samplelabel = stringr::str_replace(samplelabel, '-','\\u2013')) %>% \n",
    "  mutate(xlabel = paste(trna, cell_line, samplelabel, sep = \"_\")) %>% \n",
    "  mutate(sampleorder = c(1,2,3,4,5,6,7,8,9,10,11,12,13,14,15,16,17,18,19,20,21,22,23,24,25,26,27,28,29,30,31,32,33,34,35,36)) %>% \n",
    "  mutate(xlabel = forcats::fct_reorder(xlabel, sampleorder)) %>% \n",
    "  arrange(sampleorder) %>% \n",
    "  print\n",
    "\n",
    "data"
   ]
  },
  {
   "cell_type": "code",
   "execution_count": 50,
   "metadata": {},
   "outputs": [
    {
     "data": {},
     "metadata": {},
     "output_type": "display_data"
    },
    {
     "data": {
      "image/png": "[encoded data removed]",
      "text/plain": [
       "plot without title"
      ]
     },
     "metadata": {},
     "output_type": "display_data"
    }
   ],
   "source": [
    "options(repr.plot.width = 6.4, repr.plot.height = 1.75)\n",
    "\n",
    "test <- Vectorize(function(x) {\n",
    "  data %>% select(cell_line)\n",
    "})\n",
    "\n",
    "data %>%\n",
    "  ggplot(aes(x = xlabel, y = mean_chargedfraction * 100)) +\n",
    "  geom_col() + geom_errorbar(aes(ymin = (mean_chargedfraction - sterr)*100,\n",
    "                    ymax = (mean_chargedfraction + sterr)*100), \n",
    "                width = 0.2, size = 0.25) +\n",
    "  facet_wrap(~trna, ncol = 4, scales = \"free_x\") +\n",
    "  scale_x_discrete(labels = test) +\n",
    "  scale_y_continuous(breaks= scales::pretty_breaks(n=3), limits = c(0, 120)) +\n",
    "  xlab(\"\") + ylab(\"% tRNA charged\") +\n",
    "  theme(panel.spacing = unit(1, \"lines\"),\n",
    "        axis.text.x = element_text(angle = 45, hjust = 1)) +\n",
    "  annotate(\"segment\", x = .6, xend = 3.5, y = 100, yend = 100, size = 0.25) +\n",
    "  annotate(\"text\", x = 2.05, y = 110, label = \"Rich\", vjust = 0, size = 3) +\n",
    "  annotate(\"segment\", x = 3.6, xend = 6.5, y = 100, yend = 100, size = 0.25) +\n",
    "  annotate(\"text\", x = 5.05, y = 110, label = \"\\u2013Leu\", vjust = 0, size = 3) +\n",
    "  annotate(\"segment\", x = 6.6, xend = 9.5, y = 100, yend = 100, size = 0.25) +\n",
    "  annotate(\"text\", x = 8.05, y = 110, label = \"\\u2013Arg\", vjust = 0, size = 3) \n",
    "\n",
    "\n",
    "ggsave(\"../figures/suppfig4_trna_tbd_leu.pdf\", width = 6.4, height = 1.75, device = cairo_pdf)"
   ]
  }
 ],
 "metadata": {
  "kernelspec": {
   "display_name": "R",
   "language": "R",
   "name": "ir"
  },
  "language_info": {
   "codemirror_mode": "r",
   "file_extension": ".r",
   "mimetype": "text/x-r-source",
   "name": "R",
   "pygments_lexer": "r",
   "version": "3.4.0"
  },
  "toc": {
   "colors": {
    "hover_highlight": "#DAA520",
    "navigate_num": "#000000",
    "navigate_text": "#333333",
    "running_highlight": "#FF0000",
    "selected_highlight": "#FFD700",
    "sidebar_border": "#EEEEEE",
    "wrapper_background": "#FFFFFF"
   },
   "moveMenuLeft": true,
   "nav_menu": {
    "height": "12px",
    "width": "252px"
   },
   "navigate_menu": true,
   "number_sections": true,
   "sideBar": true,
   "threshold": 4,
   "toc_cell": true,
   "toc_position": {
    "height": "875px",
    "left": "0px",
    "right": "1533.47px",
    "top": "111px",
    "width": "212px"
   },
   "toc_section_display": "block",
   "toc_window_display": true,
   "widenNotebook": false
  }
 },
 "nbformat": 4,
 "nbformat_minor": 2
}
