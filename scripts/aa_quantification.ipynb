{
 "cells": [
  {
   "cell_type": "markdown",
   "metadata": {},
   "source": [
    "# Import libraries"
   ]
  },
  {
   "cell_type": "code",
   "execution_count": 65,
   "metadata": {
    "collapsed": true
   },
   "outputs": [],
   "source": [
    "library(tidyverse)\n",
    "library(Cairo)\n",
    "options(warn=-1)\n",
    "\n",
    "# color blind palette\n",
    "# http://www.cookbook-r.com/Graphs/Colors_(ggplot2)/#a-colorblind-friendly-palette\n",
    "cbPalette <- c(\"#666666\", \"#E69F00\", \"#56B4E9\", \n",
    "               \"#009E73\", \"#CC79A7\", \"#0072B2\", \"#D55E00\", \"#F0E442\")\n",
    "\n",
    "theme_set(theme_classic(base_family = \"Helvetica\", base_size = 8) +\n",
    "theme(          \n",
    "  strip.background = element_blank(),\n",
    "  strip.text.x = element_text(size = 8),\n",
    "  axis.line = element_line(size = .25),\n",
    "  axis.ticks = element_line(size = .25),\n",
    "  axis.text.x = element_text(size = 8, color = 'black'),\n",
    "  axis.text.y = element_text(size = 8, color = 'black'),\n",
    "  legend.text = element_text(size = 8)\n",
    "    \n",
    "))"
   ]
  },
  {
   "cell_type": "markdown",
   "metadata": {},
   "source": [
    "# Load aa data"
   ]
  },
  {
   "cell_type": "code",
   "execution_count": 66,
   "metadata": {},
   "outputs": [
    {
     "name": "stdout",
     "output_type": "stream",
     "text": [
      "# A tibble: 12 x 6\n",
      "           aa sample    level      sem  time sampleorder\n",
      "        <chr> <fctr>    <dbl>    <dbl> <int>       <dbl>\n",
      " 1   arginine   Rich 1.136845 0.153981     3           1\n",
      " 2   arginine   –Leu 1.833748 0.012543     3           2\n",
      " 3   arginine   –Arg 0.012781 0.000690     3           3\n",
      " 4    leucine   Rich 1.155133 0.110575     3           4\n",
      " 5    leucine   –Leu 0.000000 0.000000     3           5\n",
      " 6    leucine   –Arg 1.258871 0.011054     3           6\n",
      " 7 isoleucine   Rich 0.900898 0.086238     3           7\n",
      " 8 isoleucine   –Leu 0.989874 0.019571     3           8\n",
      " 9 isoleucine   –Arg 0.981804 0.008621     3           9\n",
      "10     serine   Rich 0.993107 0.052856     3          10\n",
      "11     serine   –Leu 1.003063 0.012879     3          11\n",
      "12     serine   –Arg 1.040921 0.022397     3          12\n"
     ]
    }
   ],
   "source": [
    "datafiles <- '../rawdata/lc_ms/suppfig1/processeddata/'  %>% \n",
    "  list.files(pattern = \"csv$\", full.names = T)\n",
    "samplenames <- datafiles %>% \n",
    "  stringr::str_match(\"/([^_/]+)[^/]+$\") %>% \n",
    "  magrittr::extract(,2)\n",
    "data <- datafiles %>% \n",
    "  lapply(. %>% read_csv(col_types = c(col_character()))) %>% \n",
    "  magrittr::set_names(samplenames) %>% \n",
    "  bind_rows(.id = 'aa') %>% \n",
    "  mutate(sample = stringr::str_replace(sample, '-','\\u2013')) %>% \n",
    "  mutate(sampleorder = c(1,2,3,7,8,9,4,5,6,10,11,12)) %>% \n",
    "  mutate(sample = forcats::fct_reorder(sample, sampleorder)) %>% \n",
    "  arrange(sampleorder) %>% \n",
    "  print"
   ]
  },
  {
   "cell_type": "markdown",
   "metadata": {},
   "source": [
    "# Plot AA levels (supp fig. 1b)"
   ]
  },
  {
   "cell_type": "code",
   "execution_count": 69,
   "metadata": {},
   "outputs": [
    {
     "data": {},
     "metadata": {},
     "output_type": "display_data"
    },
    {
     "data": {
      "image/png": "[encoded data removed]",
      "text/plain": [
       "plot without title"
      ]
     },
     "metadata": {},
     "output_type": "display_data"
    }
   ],
   "source": [
    "options(repr.plot.width = 3.45, repr.plot.height = 1.5)\n",
    "\n",
    "data %>% \n",
    "  ggplot(aes(x = sample, y = level * 100)) +\n",
    "  geom_col() +\n",
    "  geom_errorbar(aes(ymin = (level - sem)*100,\n",
    "                    ymax = (level + sem)*100), \n",
    "                width = 0.2, size = 0.25)  +\n",
    "  facet_wrap('aa', ncol = 4, scales = \"free_x\") +\n",
    "  xlab(\"\") + ylab(\"amino acid level\\n(median normalized)\") +\n",
    "  theme(panel.spacing = unit(1, \"lines\"),\n",
    "        axis.text.x = element_text(angle = 45, hjust = 1)) +\n",
    "\n",
    "ggsave(\"../figures/suppfig1b.pdf\", width = 3.45, height = 1.5, device = cairo_pdf)"
   ]
  },
  {
   "cell_type": "code",
   "execution_count": null,
   "metadata": {
    "collapsed": true
   },
   "outputs": [],
   "source": []
  }
 ],
 "metadata": {
  "kernelspec": {
   "display_name": "R",
   "language": "R",
   "name": "ir"
  },
  "language_info": {
   "codemirror_mode": "r",
   "file_extension": ".r",
   "mimetype": "text/x-r-source",
   "name": "R",
   "pygments_lexer": "r",
   "version": "3.4.0"
  },
  "toc": {
   "colors": {
    "hover_highlight": "#DAA520",
    "navigate_num": "#000000",
    "navigate_text": "#333333",
    "running_highlight": "#FF0000",
    "selected_highlight": "#FFD700",
    "sidebar_border": "#EEEEEE",
    "wrapper_background": "#FFFFFF"
   },
   "moveMenuLeft": true,
   "nav_menu": {
    "height": "12px",
    "width": "252px"
   },
   "navigate_menu": true,
   "number_sections": true,
   "sideBar": true,
   "threshold": 4,
   "toc_cell": true,
   "toc_position": {
    "height": "875px",
    "left": "0px",
    "right": "1533.47px",
    "top": "111px",
    "width": "212px"
   },
   "toc_section_display": "block",
   "toc_window_display": true,
   "widenNotebook": false
  }
 },
 "nbformat": 4,
 "nbformat_minor": 2
}
