{
 "cells": [
  {
   "cell_type": "markdown",
   "metadata": {
    "toc": "true"
   },
   "source": [
    "# Table of Contents for example analysis (Fig. 5c)\n",
    " <p><div class=\"lev1 toc-item\"><a href=\"#Import-libraries\" data-toc-modified-id=\"Import-libraries-1\"><span class=\"toc-item-num\">1&nbsp;&nbsp;</span>Import libraries</a></div><div class=\"lev1 toc-item\"><a href=\"#Load-HEK293T-WT-6-hour-data\" ><span class=\"toc-item-num\">2&nbsp;&nbsp;</span>Load HEK293T WT 6 hour data</a></div> </span><a href=\"#Plot-inset\" data-toc-modified-id=\"Plot-inset-3\"><span class=\"toc-item-num\">3&nbsp;&nbsp;</span>Plot inset</a></div>\n",
    " \n",
    "* this analysis is repeated for all polysome profiles below: Fig. 5E; Supp. Fig. 5C"
   ]
  },
  {
   "cell_type": "markdown",
   "metadata": {},
   "source": [
    "# Import libraries"
   ]
  },
  {
   "cell_type": "code",
   "execution_count": 2,
   "metadata": {},
   "outputs": [
    {
     "name": "stderr",
     "output_type": "stream",
     "text": [
      "Loading tidyverse: ggplot2\n",
      "Loading tidyverse: tibble\n",
      "Loading tidyverse: tidyr\n",
      "Loading tidyverse: readr\n",
      "Loading tidyverse: purrr\n",
      "Loading tidyverse: dplyr\n",
      "Warning message:\n",
      "“package ‘purrr’ was built under R version 3.4.1”Warning message:\n",
      "“package ‘dplyr’ was built under R version 3.4.1”Conflicts with tidy packages ---------------------------------------------------\n",
      "filter(): dplyr, stats\n",
      "lag():    dplyr, stats\n"
     ]
    }
   ],
   "source": [
    "library(tidyverse)\n",
    "library(Cairo)\n",
    "options(warn=-1)\n",
    "\n",
    "# color blind palette\n",
    "# http://www.cookbook-r.com/Graphs/Colors_(ggplot2)/#a-colorblind-friendly-palette\n",
    "cbPalette <- c(\"#666666\", \"#E69F00\", \"#56B4E9\", \n",
    "               \"#009E73\", \"#CC79A7\", \"#0072B2\", \"#D55E00\", \"#F0E442\")\n",
    "\n",
    "theme_set(theme_classic(base_family = \"Helvetica\", base_size = 8) +\n",
    "theme(          \n",
    "  strip.background = element_blank(),\n",
    "  strip.text.x = element_text(size = 8),\n",
    "  axis.line = element_line(size = .25),\n",
    "  axis.ticks = element_line(size = .25),\n",
    "  axis.text.x = element_text(size = 8, color = 'black'),\n",
    "  axis.text.y = element_text(size = 8, color = 'black'),\n",
    "  legend.text = element_text(size = 8),\n",
    "    \n",
    "))"
   ]
  },
  {
   "cell_type": "markdown",
   "metadata": {},
   "source": [
    "# Load HEK293T WT 6 hour data"
   ]
  },
  {
   "cell_type": "code",
   "execution_count": 3,
   "metadata": {},
   "outputs": [
    {
     "name": "stdout",
     "output_type": "stream",
     "text": [
      "# A tibble: 6,266 x 5\n",
      "   sample    Distance Absorbance peakdistance absorbancefactor\n",
      "   <fctr>       <dbl>      <dbl>        <dbl>            <dbl>\n",
      " 1   –Arg -0.36333333   0.044395    0.4033333                1\n",
      " 2   –Arg -0.32333333   0.044476    0.4033333                1\n",
      " 3   –Arg -0.29333333   0.044427    0.4033333                1\n",
      " 4   –Arg -0.25333333   0.044340    0.4033333                1\n",
      " 5   –Arg -0.21333333   0.044076    0.4033333                1\n",
      " 6   –Arg -0.18333333   0.044009    0.4033333                1\n",
      " 7   –Arg -0.14333333   0.043965    0.4033333                1\n",
      " 8   –Arg -0.10333333   0.043933    0.4033333                1\n",
      " 9   –Arg -0.07333333   0.043963    0.4033333                1\n",
      "10   –Arg -0.03333333   0.043896    0.4033333                1\n",
      "# ... with 6,256 more rows\n"
     ]
    }
   ],
   "source": [
    "datafiles <- '../rawdata/polysome_profiles/fig5/RPb_polysomes_hrgfpragbq99lgcn2kohct116/processeddata'  %>% \n",
    "  list.files(pattern = c(\"293t_arg.csv|293t_leu.csv|293t_rich.csv\"), full.names = T)\n",
    "samplenames <- datafiles %>% \n",
    "  stringr::str_match(\"([^_/.]+)[^/_]+$\") %>% \n",
    "  magrittr::extract(,2)\n",
    "newnames = c(\"arg\" = \"–Arg\", \"leu\" = \"–Leu\", \"rich\" = \"Rich\")\n",
    "\n",
    "data <- datafiles %>% \n",
    "      lapply(. %>% read_csv(col_types = cols_only('Distance'='n', 'Absorbance'='n'), skip=32)) %>% \n",
    "  magrittr::set_names(samplenames) %>% \n",
    "  bind_rows(.id = 'sample') %>% \n",
    "  mutate(sample = as.factor(newnames[sample])) %>% \n",
    "  mutate(sample = forcats::fct_rev(sample))\n",
    "\n",
    "peak <- data %>% \n",
    "  group_by(sample) %>% \n",
    "  # skip supernatant peak\n",
    "  filter(Distance > 20) %>% \n",
    "  # find monosome peak\n",
    "  filter(Absorbance == max(Absorbance)) %>% \n",
    "  ungroup() %>% \n",
    "  mutate(peakdistance = Distance - mean(Distance)) %>% \n",
    "  mutate(absorbancefactor = Absorbance / max(Absorbance)) %>% \n",
    "  select(sample, peakdistance, absorbancefactor)\n",
    "\n",
    "data <- data %>% \n",
    "  left_join(peak, by = \"sample\") %>% \n",
    "  # shift along x-axis\n",
    "  mutate(Distance = Distance - peakdistance) %>% \n",
    "  # normalize by max monosome peak absorbance\n",
    "  mutate(Absorbance = Absorbance / absorbancefactor) %>% \n",
    "  print"
   ]
  },
  {
   "cell_type": "code",
   "execution_count": 4,
   "metadata": {},
   "outputs": [
    {
     "data": {},
     "metadata": {},
     "output_type": "display_data"
    },
    {
     "data": {
      "image/png": "[encoded data removed]",
      "text/plain": [
       "plot without title"
      ]
     },
     "metadata": {},
     "output_type": "display_data"
    }
   ],
   "source": [
    "options(repr.plot.width = 2.75, repr.plot.height = 1.5)\n",
    "\n",
    "p  <- data %>%\n",
    "  ggplot(aes(x = Distance, y = Absorbance, color = sample)) +\n",
    "  geom_line(size=.5, alpha=1)  +\n",
    "  theme(axis.text.x = element_text(hjust = 0.5)) +\n",
    "  scale_y_continuous(breaks= scales::pretty_breaks(n=4), limits = c(0.052, 0.15)) +\n",
    "  scale_x_continuous(breaks= scales::pretty_breaks(n=3), limits = c(40,80)) +\n",
    "  scale_color_manual(values = cbPalette) +\n",
    "  xlab(\"distance (mm)\") + ylab(expression(\"A\"[260])) +\n",
    "  theme(legend.title=element_blank()) \n",
    "  \n",
    "p\n",
    "\n",
    "ggsave(\"../figures/fig5c.pdf\", width = 2.75, height = 1.5, device = cairo_pdf)"
   ]
  },
  {
   "cell_type": "markdown",
   "metadata": {},
   "source": [
    "# Plot inset"
   ]
  },
  {
   "cell_type": "code",
   "execution_count": 6,
   "metadata": {},
   "outputs": [
    {
     "data": {},
     "metadata": {},
     "output_type": "display_data"
    },
    {
     "data": {
      "image/png": "[encoded data removed]",
      "text/plain": [
       "plot without title"
      ]
     },
     "metadata": {},
     "output_type": "display_data"
    }
   ],
   "source": [
    "options(repr.plot.width = 1, repr.plot.height = 0.75)\n",
    "\n",
    "p  <- data %>%\n",
    "  ggplot(aes(x = Distance, y = Absorbance, color = sample)) +\n",
    "  geom_line(size=.25, alpha=1)  +\n",
    "  theme(axis.text.x = element_text(hjust = 0.5)) +\n",
    "  scale_y_continuous(breaks= scales::pretty_breaks(n=4), limits = c(0.052, 1.135)) +\n",
    "  scale_x_continuous(breaks= scales::pretty_breaks(n=3), limits = c(0,80)) +\n",
    "  scale_color_manual(values = cbPalette) +\n",
    "  xlab(\"distance (mm)\") + ylab(expression(\"A\"[260])) +\n",
    "  theme(legend.position = \"none\", \n",
    "        text = element_text(size = 6), \n",
    "        axis.text.x = element_text(size = 6),\n",
    "        axis.text.y = element_text(size = 6)) \n",
    "  \n",
    "p\n",
    "\n",
    "ggsave(\"../figures/fig5c_inset.pdf\", width = 1, height = .75, device = cairo_pdf)"
   ]
  },
  {
   "cell_type": "markdown",
   "metadata": {},
   "source": [
    "# repeat for HEK293T GCN2 KO 6 hour data (fig. 5e)"
   ]
  },
  {
   "cell_type": "code",
   "execution_count": 7,
   "metadata": {},
   "outputs": [
    {
     "name": "stdout",
     "output_type": "stream",
     "text": [
      "# A tibble: 6,599 x 5\n",
      "   sample  Distance Absorbance peakdistance absorbancefactor\n",
      "   <fctr>     <dbl>      <dbl>        <dbl>            <dbl>\n",
      " 1   –Arg 0.8566667 0.06356623   -0.8166667        0.7710384\n",
      " 2   –Arg 0.8966667 0.06357401   -0.8166667        0.7710384\n",
      " 3   –Arg 0.9266667 0.06336650   -0.8166667        0.7710384\n",
      " 4   –Arg 0.9666667 0.06308117   -0.8166667        0.7710384\n",
      " 5   –Arg 1.0066667 0.06295666   -0.8166667        0.7710384\n",
      " 6   –Arg 1.0366667 0.06281789   -0.8166667        0.7710384\n",
      " 7   –Arg 1.0766667 0.06283604   -0.8166667        0.7710384\n",
      " 8   –Arg 1.1166667 0.06282048   -0.8166667        0.7710384\n",
      " 9   –Arg 1.1466667 0.06281529   -0.8166667        0.7710384\n",
      "10   –Arg 1.1866667 0.06284901   -0.8166667        0.7710384\n",
      "# ... with 6,589 more rows\n"
     ]
    }
   ],
   "source": [
    "datafiles <- '../rawdata/polysome_profiles/fig5/RPb_polysomes_hrgfpragbq99lgcn2kohct116/processeddata'  %>% \n",
    "  list.files(pattern = c(\"gcn2ko_arg.csv|gcn2ko_leu.csv|gcn2ko_rich.csv\"), full.names = T)\n",
    "samplenames <- datafiles %>% \n",
    "  stringr::str_match(\"([^_/.]+)[^/_]+$\") %>% \n",
    "  magrittr::extract(,2)\n",
    "newnames = c(\"arg\" = \"–Arg\", \"leu\" = \"–Leu\", \"rich\" = \"Rich\")\n",
    "\n",
    "data <- datafiles %>% \n",
    "      lapply(. %>% read_csv(col_types = cols_only('Distance'='n', 'Absorbance'='n'), skip=32)) %>% \n",
    "  magrittr::set_names(samplenames) %>% \n",
    "  bind_rows(.id = 'sample') %>% \n",
    "  mutate(sample = as.factor(newnames[sample])) %>% \n",
    "  mutate(sample = forcats::fct_rev(sample))\n",
    "\n",
    "peak <- data %>% \n",
    "  group_by(sample) %>% \n",
    "  # skip supernatant peak\n",
    "  filter(Distance > 20) %>% \n",
    "  # find monosome peak\n",
    "  filter(Absorbance == max(Absorbance)) %>% \n",
    "  ungroup() %>% \n",
    "  mutate(peakdistance = Distance - mean(Distance)) %>% \n",
    "  mutate(absorbancefactor = Absorbance / max(Absorbance)) %>% \n",
    "  select(sample, peakdistance, absorbancefactor)\n",
    "\n",
    "data <- data %>% \n",
    "  left_join(peak, by = \"sample\") %>% \n",
    "  # shift along x-axis\n",
    "  mutate(Distance = Distance - peakdistance) %>% \n",
    "  # normalize by max monosome peak absorbance\n",
    "  mutate(Absorbance = Absorbance / absorbancefactor) %>% \n",
    "  print"
   ]
  },
  {
   "cell_type": "code",
   "execution_count": 10,
   "metadata": {},
   "outputs": [
    {
     "data": {},
     "metadata": {},
     "output_type": "display_data"
    },
    {
     "data": {
      "image/png": "[encoded data removed]",
      "text/plain": [
       "plot without title"
      ]
     },
     "metadata": {},
     "output_type": "display_data"
    }
   ],
   "source": [
    "options(repr.plot.width = 2.75, repr.plot.height = 1.5)\n",
    "\n",
    "p  <- data %>%\n",
    "  ggplot(aes(x = Distance, y = Absorbance, color = sample)) +\n",
    "  geom_line(size=.5, alpha=1)  +\n",
    "  theme(axis.text.x = element_text(hjust = 0.5)) +\n",
    "  scale_y_continuous(breaks= scales::pretty_breaks(n=4), limits = c(0.03, 0.1)) +\n",
    "  scale_x_continuous(breaks= scales::pretty_breaks(n=3), limits = c(40,80)) +\n",
    "  scale_color_manual(values = cbPalette) +\n",
    "  xlab(\"distance (mm)\") + ylab(expression(\"A\"[260])) +\n",
    "  theme(legend.title=element_blank()) \n",
    "  \n",
    "p\n",
    "\n",
    "ggsave(\"../figures/fig5e.pdf\", width = 2.75, height = 1.5, device = cairo_pdf)"
   ]
  },
  {
   "cell_type": "code",
   "execution_count": 11,
   "metadata": {},
   "outputs": [
    {
     "data": {},
     "metadata": {},
     "output_type": "display_data"
    },
    {
     "data": {
      "image/png": "[encoded data removed]",
      "text/plain": [
       "plot without title"
      ]
     },
     "metadata": {},
     "output_type": "display_data"
    }
   ],
   "source": [
    "options(repr.plot.width = 1, repr.plot.height = 0.75)\n",
    "\n",
    "p  <- data %>%\n",
    "  ggplot(aes(x = Distance, y = Absorbance, color = sample)) +\n",
    "  geom_line(size=.25, alpha=1)  +\n",
    "  theme(axis.text.x = element_text(hjust = 0.5)) +\n",
    "  scale_y_continuous(breaks= scales::pretty_breaks(n=4), limits = c(0.052, 1.135)) +\n",
    "  scale_x_continuous(breaks= scales::pretty_breaks(n=3), limits = c(0,80)) +\n",
    "  scale_color_manual(values = cbPalette) +\n",
    "  xlab(\"distance (mm)\") + ylab(expression(\"A\"[260])) +\n",
    "  theme(legend.position = \"none\", \n",
    "        text = element_text(size = 6), \n",
    "        axis.text.x = element_text(size = 6),\n",
    "        axis.text.y = element_text(size = 6)) \n",
    "  \n",
    "p\n",
    "\n",
    "ggsave(\"../figures/fig5e_inset.pdf\", width = 1, height = .75, device = cairo_pdf)"
   ]
  },
  {
   "cell_type": "markdown",
   "metadata": {},
   "source": [
    "# repeat for HEK293T +hrGFP 6 hour data (supp. fig. 5c)"
   ]
  },
  {
   "cell_type": "code",
   "execution_count": 23,
   "metadata": {},
   "outputs": [
    {
     "name": "stdout",
     "output_type": "stream",
     "text": [
      "# A tibble: 6,485 x 5\n",
      "   sample Distance Absorbance peakdistance absorbancefactor\n",
      "   <fctr>    <dbl>      <dbl>        <dbl>            <dbl>\n",
      " 1   –Arg    -0.15   0.046935         0.19                1\n",
      " 2   –Arg    -0.12   0.046717         0.19                1\n",
      " 3   –Arg    -0.08   0.046562         0.19                1\n",
      " 4   –Arg    -0.04   0.046489         0.19                1\n",
      " 5   –Arg    -0.01   0.046493         0.19                1\n",
      " 6   –Arg     0.03   0.046435         0.19                1\n",
      " 7   –Arg     0.07   0.046471         0.19                1\n",
      " 8   –Arg     0.11   0.046479         0.19                1\n",
      " 9   –Arg     0.14   0.046530         0.19                1\n",
      "10   –Arg     0.18   0.046481         0.19                1\n",
      "# ... with 6,475 more rows\n"
     ]
    }
   ],
   "source": [
    "datafiles <- '../rawdata/polysome_profiles/fig5/RPb_polysomes_hrgfpragbq99lgcn2kohct116/processeddata'  %>% \n",
    "  list.files(pattern = c(\"hrgfp_arg.csv|hrgfp_leu.csv|hrgfp_rich.csv\"), full.names = T)\n",
    "samplenames <- datafiles %>% \n",
    "  stringr::str_match(\"([^_/.]+)[^/_]+$\") %>% \n",
    "  magrittr::extract(,2)\n",
    "newnames = c(\"arg\" = \"–Arg\", \"leu\" = \"–Leu\", \"rich\" = \"Rich\")\n",
    "\n",
    "data <- datafiles %>% \n",
    "      lapply(. %>% read_csv(col_types = cols_only('Distance'='n', 'Absorbance'='n'), skip=32)) %>% \n",
    "  magrittr::set_names(samplenames) %>% \n",
    "  bind_rows(.id = 'sample') %>% \n",
    "  mutate(sample = as.factor(newnames[sample])) %>% \n",
    "  mutate(sample = forcats::fct_rev(sample))\n",
    "\n",
    "peak <- data %>% \n",
    "  group_by(sample) %>% \n",
    "  # skip supernatant peak\n",
    "  filter(Distance > 20) %>% \n",
    "  # find monosome peak\n",
    "  filter(Absorbance == max(Absorbance)) %>% \n",
    "  ungroup() %>% \n",
    "  mutate(peakdistance = Distance - mean(Distance)) %>% \n",
    "  mutate(absorbancefactor = Absorbance / max(Absorbance)) %>% \n",
    "  select(sample, peakdistance, absorbancefactor)\n",
    "\n",
    "data <- data %>% \n",
    "  left_join(peak, by = \"sample\") %>% \n",
    "  # shift along x-axis\n",
    "  mutate(Distance = Distance - peakdistance) %>% \n",
    "  # normalize by max monosome peak absorbance\n",
    "  mutate(Absorbance = Absorbance / absorbancefactor) %>% \n",
    "  print"
   ]
  },
  {
   "cell_type": "code",
   "execution_count": 24,
   "metadata": {},
   "outputs": [
    {
     "data": {},
     "metadata": {},
     "output_type": "display_data"
    },
    {
     "data": {
      "image/png": "[encoded data removed]",
      "text/plain": [
       "plot without title"
      ]
     },
     "metadata": {},
     "output_type": "display_data"
    }
   ],
   "source": [
    "options(repr.plot.width = 2.75, repr.plot.height = 1.5)\n",
    "\n",
    "p  <- data %>%\n",
    "  ggplot(aes(x = Distance, y = Absorbance, color = sample)) +\n",
    "  geom_line(size=.5, alpha=1)  +\n",
    "  theme(axis.text.x = element_text(hjust = 0.5)) +\n",
    "  scale_y_continuous(breaks= scales::pretty_breaks(n=4), limits = c(0.046, 0.25)) +\n",
    "  scale_x_continuous(breaks= scales::pretty_breaks(n=3), limits = c(40,80)) +\n",
    "  scale_color_manual(values = cbPalette) +\n",
    "  xlab(\"distance (mm)\") + ylab(expression(\"A\"[260])) +\n",
    "  theme(legend.title=element_blank()) \n",
    "  \n",
    "p\n",
    "\n",
    "ggsave(\"../figures/suppfig5c_hrgfp.pdf\", width = 2.75, height = 1.5, device = cairo_pdf)"
   ]
  },
  {
   "cell_type": "code",
   "execution_count": 25,
   "metadata": {},
   "outputs": [
    {
     "data": {},
     "metadata": {},
     "output_type": "display_data"
    },
    {
     "data": {
      "image/png": "[encoded data removed]",
      "text/plain": [
       "plot without title"
      ]
     },
     "metadata": {},
     "output_type": "display_data"
    }
   ],
   "source": [
    "options(repr.plot.width = 1, repr.plot.height = 0.75)\n",
    "\n",
    "p  <- data %>%\n",
    "  ggplot(aes(x = Distance, y = Absorbance, color = sample)) +\n",
    "  geom_line(size=.25, alpha=1)  +\n",
    "  theme(axis.text.x = element_text(hjust = 0.5)) +\n",
    "  scale_y_continuous(breaks= scales::pretty_breaks(n=4), limits = c(0.052, 1.135)) +\n",
    "  scale_x_continuous(breaks= scales::pretty_breaks(n=3), limits = c(0,80)) +\n",
    "  scale_color_manual(values = cbPalette) +\n",
    "  xlab(\"distance (mm)\") + ylab(expression(\"A\"[260])) +\n",
    "  theme(legend.position = \"none\", \n",
    "        text = element_text(size = 6), \n",
    "        axis.text.x = element_text(size = 6),\n",
    "        axis.text.y = element_text(size = 6)) \n",
    "  \n",
    "p\n",
    "\n",
    "ggsave(\"../figures/suppfig5c_hrgfp_inset.pdf\", width = 1, height = .75, device = cairo_pdf)"
   ]
  },
  {
   "cell_type": "markdown",
   "metadata": {},
   "source": [
    "# repeat for HEK293T +RagB-Q99L 6 hour data (supp. fig. 5c)"
   ]
  },
  {
   "cell_type": "code",
   "execution_count": 26,
   "metadata": {},
   "outputs": [
    {
     "name": "stdout",
     "output_type": "stream",
     "text": [
      "# A tibble: 6,533 x 5\n",
      "   sample  Distance Absorbance peakdistance absorbancefactor\n",
      "   <fctr>     <dbl>      <dbl>        <dbl>            <dbl>\n",
      " 1   –Arg 0.9933333   0.045049   -0.9533333                1\n",
      " 2   –Arg 1.0233333   0.045047   -0.9533333                1\n",
      " 3   –Arg 1.0633333   0.045014   -0.9533333                1\n",
      " 4   –Arg 1.1033333   0.044942   -0.9533333                1\n",
      " 5   –Arg 1.1433333   0.045053   -0.9533333                1\n",
      " 6   –Arg 1.1733333   0.045024   -0.9533333                1\n",
      " 7   –Arg 1.2133333   0.045002   -0.9533333                1\n",
      " 8   –Arg 1.2533333   0.044978   -0.9533333                1\n",
      " 9   –Arg 1.2833333   0.044972   -0.9533333                1\n",
      "10   –Arg 1.3233333   0.044986   -0.9533333                1\n",
      "# ... with 6,523 more rows\n"
     ]
    }
   ],
   "source": [
    "datafiles <- '../rawdata/polysome_profiles/fig5/RPb_polysomes_hrgfpragbq99lgcn2kohct116/processeddata'  %>% \n",
    "  list.files(pattern = c(\"q99l_arg.csv|q99l_leu.csv|q99l_rich.csv\"), full.names = T)\n",
    "samplenames <- datafiles %>% \n",
    "  stringr::str_match(\"([^_/.]+)[^/_]+$\") %>% \n",
    "  magrittr::extract(,2)\n",
    "newnames = c(\"arg\" = \"–Arg\", \"leu\" = \"–Leu\", \"rich\" = \"Rich\")\n",
    "\n",
    "data <- datafiles %>% \n",
    "      lapply(. %>% read_csv(col_types = cols_only('Distance'='n', 'Absorbance'='n'), skip=32)) %>% \n",
    "  magrittr::set_names(samplenames) %>% \n",
    "  bind_rows(.id = 'sample') %>% \n",
    "  mutate(sample = as.factor(newnames[sample])) %>% \n",
    "  mutate(sample = forcats::fct_rev(sample))\n",
    "\n",
    "peak <- data %>% \n",
    "  group_by(sample) %>% \n",
    "  # skip supernatant peak\n",
    "  filter(Distance > 20) %>% \n",
    "  # find monosome peak\n",
    "  filter(Absorbance == max(Absorbance)) %>% \n",
    "  ungroup() %>% \n",
    "  mutate(peakdistance = Distance - mean(Distance)) %>% \n",
    "  mutate(absorbancefactor = Absorbance / max(Absorbance)) %>% \n",
    "  select(sample, peakdistance, absorbancefactor)\n",
    "\n",
    "data <- data %>% \n",
    "  left_join(peak, by = \"sample\") %>% \n",
    "  # shift along x-axis\n",
    "  mutate(Distance = Distance - peakdistance) %>% \n",
    "  # normalize by max monosome peak absorbance\n",
    "  mutate(Absorbance = Absorbance / absorbancefactor) %>% \n",
    "  print"
   ]
  },
  {
   "cell_type": "code",
   "execution_count": 31,
   "metadata": {},
   "outputs": [
    {
     "data": {},
     "metadata": {},
     "output_type": "display_data"
    },
    {
     "data": {
      "image/png": "[encoded data removed]",
      "text/plain": [
       "plot without title"
      ]
     },
     "metadata": {},
     "output_type": "display_data"
    }
   ],
   "source": [
    "options(repr.plot.width = 2.75, repr.plot.height = 1.5)\n",
    "\n",
    "p  <- data %>%\n",
    "  ggplot(aes(x = Distance, y = Absorbance, color = sample)) +\n",
    "  geom_line(size=.5, alpha=1)  +\n",
    "  theme(axis.text.x = element_text(hjust = 0.5)) +\n",
    "  scale_y_continuous(breaks= scales::pretty_breaks(n=4), limits = c(0.046, 0.165)) +\n",
    "  scale_x_continuous(breaks= scales::pretty_breaks(n=3), limits = c(40,80)) +\n",
    "  scale_color_manual(values = cbPalette) +\n",
    "  xlab(\"distance (mm)\") + ylab(expression(\"A\"[260])) +\n",
    "  theme(legend.title=element_blank()) \n",
    "  \n",
    "p\n",
    "\n",
    "ggsave(\"../figures/suppfig5c_q99l.pdf\", width = 2.75, height = 1.5, device = cairo_pdf)"
   ]
  },
  {
   "cell_type": "code",
   "execution_count": 32,
   "metadata": {},
   "outputs": [
    {
     "data": {},
     "metadata": {},
     "output_type": "display_data"
    },
    {
     "data": {
      "image/png": "[encoded data removed]",
      "text/plain": [
       "plot without title"
      ]
     },
     "metadata": {},
     "output_type": "display_data"
    }
   ],
   "source": [
    "options(repr.plot.width = 1, repr.plot.height = 0.75)\n",
    "\n",
    "p  <- data %>%\n",
    "  ggplot(aes(x = Distance, y = Absorbance, color = sample)) +\n",
    "  geom_line(size=.25, alpha=1)  +\n",
    "  theme(axis.text.x = element_text(hjust = 0.5)) +\n",
    "  scale_y_continuous(breaks= scales::pretty_breaks(n=4), limits = c(0.052, 1.135)) +\n",
    "  scale_x_continuous(breaks= scales::pretty_breaks(n=3), limits = c(0,80)) +\n",
    "  scale_color_manual(values = cbPalette) +\n",
    "  xlab(\"distance (mm)\") + ylab(expression(\"A\"[260])) +\n",
    "  theme(legend.position = \"none\", \n",
    "        text = element_text(size = 6), \n",
    "        axis.text.x = element_text(size = 6),\n",
    "        axis.text.y = element_text(size = 6)) \n",
    "  \n",
    "p\n",
    "\n",
    "ggsave(\"../figures/suppfig5c_q99l_inset.pdf\", width = 1, height = .75, device = cairo_pdf)"
   ]
  },
  {
   "cell_type": "markdown",
   "metadata": {
    "collapsed": true
   },
   "source": [
    "# plot for polysome / monosome ratio (supp. fig. 5c)"
   ]
  },
  {
   "cell_type": "code",
   "execution_count": 22,
   "metadata": {},
   "outputs": [
    {
     "name": "stdout",
     "output_type": "stream",
     "text": [
      "# A tibble: 12 x 5\n",
      "    cellines samplelabel relative_poly_fraction sampleorder         xlabel\n",
      "       <chr>       <chr>                  <dbl>       <int>         <fctr>\n",
      " 1        WT        Rich              1.0000000           1        WT_Rich\n",
      " 2        WT        –Leu              0.7561536           2        WT_–Leu\n",
      " 3        WT        –Arg              0.8158620           3        WT_–Arg\n",
      " 4     hrGFP        Rich              1.0000000           4     hrGFP_Rich\n",
      " 5     hrGFP        –Leu              0.6658614           5     hrGFP_–Leu\n",
      " 6     hrGFP        –Arg              0.7301899           6     hrGFP_–Arg\n",
      " 7 RagB-Q99L        Rich              1.0000000           7 RagB-Q99L_Rich\n",
      " 8 RagB-Q99L        –Leu              0.8612752           8 RagB-Q99L_–Leu\n",
      " 9 RagB-Q99L        –Arg              0.8226321           9 RagB-Q99L_–Arg\n",
      "10   GCN2 KO        Rich              1.0000000          10   GCN2 KO_Rich\n",
      "11   GCN2 KO        –Leu              1.1719656          11   GCN2 KO_–Leu\n",
      "12   GCN2 KO        –Arg              1.4829831          12   GCN2 KO_–Arg\n"
     ]
    }
   ],
   "source": [
    "file <- \"../rawdata/polysome_profiles/hrgfpq99lgcn2kohct116.csv\"\n",
    "data <- read_csv(file, col_types = c(col_integer())) %>% \n",
    "  mutate(samplelabel = stringr::str_replace(samplelabel, '-','\\u2013')) %>% \n",
    "  mutate(xlabel = paste(cellines, samplelabel, sep = \"_\")) %>% \n",
    "  mutate(xlabel = forcats::fct_reorder(xlabel, sampleorder)) %>% \n",
    "  arrange(xlabel) %>% \n",
    "  print"
   ]
  },
  {
   "cell_type": "code",
   "execution_count": 44,
   "metadata": {},
   "outputs": [
    {
     "data": {},
     "metadata": {},
     "output_type": "display_data"
    },
    {
     "data": {
      "image/png": "[encoded data removed]",
      "text/plain": [
       "plot without title"
      ]
     },
     "metadata": {},
     "output_type": "display_data"
    }
   ],
   "source": [
    "options(repr.plot.width = 2.7, repr.plot.height = 1.5)\n",
    "\n",
    "test <- Vectorize(function(x) {\n",
    "  data %>% select(samplelabel)\n",
    "})\n",
    "\n",
    "p  <- data %>%\n",
    "  ggplot(aes(x = xlabel, y = relative_poly_fraction * 100)) +\n",
    "  geom_col() +\n",
    "  theme(axis.text.x = element_text(angle = 45, hjust = 1)) +\n",
    "  scale_y_continuous(breaks= scales::pretty_breaks(n=4), limits = c(0, 180)) +\n",
    "  scale_x_discrete(labels = test) +\n",
    "  xlab(\"\") + ylab(\"polysomes / monosome \\n(% of rich)\") +\n",
    "  annotate(\"segment\", x = 0.6, xend = 3.4, y = 160, yend = 160, size = 0.25) +\n",
    "  annotate(\"text\", x = 2, y = 166, label = \"WT\", vjust = 0, size = 3) +\n",
    "  annotate(\"segment\", x = 3.6, xend = 6.4, y = 160, yend = 160, size = 0.25) +\n",
    "  annotate(\"text\", x = 5, y = 166, label = \"hrGFP\", vjust = 0, size = 3) +\n",
    "  annotate(\"segment\", x = 6.6, xend = 9.4, y = 160, yend = 160, size = 0.25) +\n",
    "  annotate(\"text\", x = 8, y = 166, label = \"Q99L\", vjust = 0, size = 3) +\n",
    "  annotate(\"segment\", x = 9.6, xend = 12.4, y = 160, yend = 160, size = 0.25) +\n",
    "  annotate(\"text\", x = 11, y = 166, label = \"GCN2 KO\", vjust = 0, size = 3)  \n",
    "\n",
    "p\n",
    "\n",
    "ggsave(\"../figures/suppfig5_polymonoratio.pdf\", width = 2.7, height = 1.5, device = cairo_pdf)"
   ]
  }
 ],
 "metadata": {
  "kernelspec": {
   "display_name": "R",
   "language": "R",
   "name": "ir"
  },
  "language_info": {
   "codemirror_mode": "r",
   "file_extension": ".r",
   "mimetype": "text/x-r-source",
   "name": "R",
   "pygments_lexer": "r",
   "version": "3.4.0"
  },
  "toc": {
   "colors": {
    "hover_highlight": "#DAA520",
    "navigate_num": "#000000",
    "navigate_text": "#333333",
    "running_highlight": "#FF0000",
    "selected_highlight": "#FFD700",
    "sidebar_border": "#EEEEEE",
    "wrapper_background": "#FFFFFF"
   },
   "moveMenuLeft": true,
   "nav_menu": {
    "height": "12px",
    "width": "252px"
   },
   "navigate_menu": true,
   "number_sections": true,
   "sideBar": true,
   "threshold": 4,
   "toc_cell": true,
   "toc_position": {
    "height": "875px",
    "left": "0px",
    "right": "1533.47px",
    "top": "111px",
    "width": "212px"
   },
   "toc_section_display": "block",
   "toc_window_display": true,
   "widenNotebook": false
  }
 },
 "nbformat": 4,
 "nbformat_minor": 2
}
