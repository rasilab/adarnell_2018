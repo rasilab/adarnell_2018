{
 "cells": [
  {
   "cell_type": "markdown",
   "metadata": {},
   "source": [
    "# Plot log2 fold change in ribosome occupancy on mTORC1 and GCN2 target genes upon arginine versus leucine limitation : Heatmaps & Box-plots\n",
    " <p><div class=\"lev1 toc-item\"><a href=\"#Build-GCN2-(ATF4/CHOP)-&-mTORC1-target-gene-lists\" ><span class=\"toc-item-num\">1&nbsp;&nbsp;</span>Build GCN2 (ATF4/CHOP) & mTORC1 target gene lists</a></div><div class=\"lev1 toc-item\"><a href=\"#GCN2-signaling-heatmaps-(ATF4/CHOP-targets)\" ><span class=\"toc-item-num\">2&nbsp;&nbsp;</span>GCN2 signaling heatmaps (ATF4/CHOP targets)</a></div><div class=\"lev1 toc-item\"><a href=\"#mTORC1-signaling-heatmaps\"><span class=\"toc-item-num\">3&nbsp;&nbsp;</span>mTORC1 signaling heatmaps</a></div><div class=\"lev1 toc-item\"><a href=\"#Log-FC-Box-Plots:-mTORC1-targets\" ><span class=\"toc-item-num\">4&nbsp;&nbsp;</span>Log FC Box Plots: mTORC1 targets</a></div><div class=\"lev1 toc-item\"><a href=\"#Log-FC-Box-Plots:-ATF4/CHOP-targets\" ><span class=\"toc-item-num\">5&nbsp;&nbsp;</span>Log FC Box Plots: ATF4/CHOP targets</a></div>"
   ]
  },
  {
   "cell_type": "markdown",
   "metadata": {},
   "source": [
    "# Build GCN2 (ATF4/CHOP) & mTORC1 target gene lists"
   ]
  },
  {
   "cell_type": "markdown",
   "metadata": {},
   "source": [
    "## Import libraries"
   ]
  },
  {
   "cell_type": "code",
   "execution_count": 245,
   "metadata": {
    "collapsed": true
   },
   "outputs": [],
   "source": [
    "library(BSgenome.Hsapiens.UCSC.hg38)\n",
    "library(org.Hs.eg.db)\n",
    "library(hom.Mm.inp.db)\n",
    "library(rtracklayer)\n",
    "library(GenomicFeatures)\n",
    "library(broom)\n",
    "library(stringr)\n",
    "library(magrittr)\n",
    "library(tidyverse)\n",
    "library(readxl)\n",
    "library(forcats)\n",
    "library(ggpubr)\n",
    "\n",
    "# color blind palette\n",
    "# http://www.cookbook-r.com/Graphs/Colors_(ggplot2)/#a-colorblind-friendly-palette\n",
    "cbPalette <- c(\"#666666\", \"#E69F00\", \"#56B4E9\", \n",
    "               \"#009E73\", \"#CC79A7\", \"#0072B2\", \"#D55E00\", \"#F0E442\")\n",
    "\n",
    "theme_set(theme_classic(base_family = \"Helvetica\") +\n",
    "theme(          \n",
    "  strip.background = element_blank(),\n",
    "  axis.line = element_line(size=.5, color = \"darkgrey\")\n",
    "))\n",
    "options(warn = -1)"
   ]
  },
  {
   "cell_type": "markdown",
   "metadata": {},
   "source": [
    "## get CDS annotations"
   ]
  },
  {
   "cell_type": "code",
   "execution_count": 246,
   "metadata": {},
   "outputs": [
    {
     "name": "stdout",
     "output_type": "stream",
     "text": [
      "# A tibble: 18,660 x 3\n",
      "# Groups:   transcript_id [18,660]\n",
      "        transcript_id gene_name        protein_id\n",
      "                <chr>     <chr>             <chr>\n",
      " 1  ENST00000000233.9      ARF5 ENSP00000000233.5\n",
      " 2  ENST00000000412.7      M6PR ENSP00000000412.3\n",
      " 3 ENST00000000442.10     ESRRA ENSP00000000442.6\n",
      " 4  ENST00000001008.5     FKBP4 ENSP00000001008.4\n",
      " 5  ENST00000001146.6   CYP26B1 ENSP00000001146.2\n",
      " 6  ENST00000002125.8   NDUFAF7 ENSP00000002125.4\n",
      " 7 ENST00000002165.10     FUCA2 ENSP00000002165.5\n",
      " 8 ENST00000002501.10    DBNDD1 ENSP00000002501.6\n",
      " 9  ENST00000002596.5    HS3ST1 ENSP00000002596.5\n",
      "10  ENST00000002829.7    SEMA3F ENSP00000002829.3\n",
      "# ... with 18,650 more rows\n"
     ]
    }
   ],
   "source": [
    "genome <- BSgenome.Hsapiens.UCSC.hg38\n",
    "cdsfile <- '../sequence_annotation_files/gencode.v24.canonical_ccds_transcripts.20170315.gff3'\n",
    "\n",
    "cds <- import.gff3(cdsfile) %>% \n",
    "  as_tibble %>% \n",
    "  filter(type == 'CDS') %>% \n",
    "  group_by(transcript_id) %>% \n",
    "  slice(1) %>% \n",
    "  select(transcript_id, gene_name, protein_id) %>% \n",
    "  print"
   ]
  },
  {
   "cell_type": "markdown",
   "metadata": {},
   "source": [
    "## get all CDS for humans"
   ]
  },
  {
   "cell_type": "code",
   "execution_count": 247,
   "metadata": {},
   "outputs": [
    {
     "name": "stdout",
     "output_type": "stream",
     "text": [
      "# A tibble: 93,855 x 3\n",
      "# Groups:   transcript_id [93,855]\n",
      "        transcript_id gene_name        protein_id\n",
      "                <chr>     <chr>             <chr>\n",
      " 1  ENST00000000233.9      ARF5 ENSP00000000233.5\n",
      " 2  ENST00000000412.7      M6PR ENSP00000000412.3\n",
      " 3 ENST00000000442.10     ESRRA ENSP00000000442.6\n",
      " 4  ENST00000001008.5     FKBP4 ENSP00000001008.4\n",
      " 5  ENST00000001146.6   CYP26B1 ENSP00000001146.2\n",
      " 6  ENST00000002125.8   NDUFAF7 ENSP00000002125.4\n",
      " 7 ENST00000002165.10     FUCA2 ENSP00000002165.5\n",
      " 8 ENST00000002501.10    DBNDD1 ENSP00000002501.6\n",
      " 9  ENST00000002596.5    HS3ST1 ENSP00000002596.5\n",
      "10  ENST00000002829.7    SEMA3F ENSP00000002829.3\n",
      "# ... with 93,845 more rows\n"
     ]
    }
   ],
   "source": [
    "human_annotations <- '../sequence_annotation_files/gencode.v24.annotation.gff3'\n",
    "\n",
    "human_cds <- import.gff3(human_annotations) %>% \n",
    "  as_tibble %>% \n",
    "  filter(type == 'CDS') %>%\n",
    "  select(transcript_id, gene_name, protein_id) %>% \n",
    "  group_by(transcript_id) %>%  \n",
    "  slice(1) %>% \n",
    "  print"
   ]
  },
  {
   "cell_type": "markdown",
   "metadata": {},
   "source": [
    "## get all CDS for mouse"
   ]
  },
  {
   "cell_type": "code",
   "execution_count": 248,
   "metadata": {},
   "outputs": [
    {
     "name": "stdout",
     "output_type": "stream",
     "text": [
      "# A tibble: 57,324 x 3\n",
      "# Groups:   transcript_id [57,324]\n",
      "           transcript_id gene_name           protein_id\n",
      "                   <chr>     <chr>                <chr>\n",
      " 1  ENSMUST00000000001.4     Gnai3 ENSMUSP00000000001.4\n",
      " 2 ENSMUST00000000003.13      Pbsn ENSMUSP00000000003.7\n",
      " 3  ENSMUST00000000010.8     Hoxb9 ENSMUSP00000000010.8\n",
      " 4 ENSMUST00000000028.13     Cdc45 ENSMUSP00000000028.7\n",
      " 5 ENSMUST00000000033.11      Igf2 ENSMUSP00000000033.5\n",
      " 6  ENSMUST00000000049.5      Apoh ENSMUSP00000000049.5\n",
      " 7  ENSMUST00000000058.6      Cav2 ENSMUSP00000000058.6\n",
      " 8  ENSMUST00000000080.6      Klf6 ENSMUSP00000000080.6\n",
      " 9 ENSMUST00000000087.12     Scmh1 ENSMUSP00000000087.6\n",
      "10  ENSMUST00000000090.6     Cox5a ENSMUSP00000000090.6\n",
      "# ... with 57,314 more rows\n"
     ]
    }
   ],
   "source": [
    "mouse_annotations <- '../sequence_annotation_files/gencode.vM9.annotation.gff3.gz'\n",
    "\n",
    "mouse_cds <- import.gff3(mouse_annotations) %>% \n",
    "  as_tibble %>% \n",
    "  filter(type == 'CDS') %>%\n",
    "  select(transcript_id, gene_name, protein_id) %>% \n",
    "  group_by(transcript_id) %>%  \n",
    "  slice(1) %>% \n",
    "  print"
   ]
  },
  {
   "cell_type": "markdown",
   "metadata": {},
   "source": [
    "## read counts and fold changes for all combinations"
   ]
  },
  {
   "cell_type": "code",
   "execution_count": 249,
   "metadata": {},
   "outputs": [
    {
     "name": "stdout",
     "output_type": "stream",
     "text": [
      "# A tibble: 3,097 x 2\n",
      "        transcript_id length\n",
      "                <chr>  <int>\n",
      " 1  ENST00000229239.9   1008\n",
      " 2  ENST00000336023.9   1356\n",
      " 3  ENST00000309311.6   2577\n",
      " 4  ENST00000369159.2    393\n",
      " 5 ENST00000216281.12   2199\n",
      " 6  ENST00000468812.5    498\n",
      " 7 ENST00000309268.10   1389\n",
      " 8  ENST00000331789.9   1128\n",
      " 9  ENST00000376263.7   1395\n",
      "10  ENST00000331925.6   1128\n",
      "# ... with 3,087 more rows\n"
     ]
    }
   ],
   "source": [
    "countdata  <- read_tsv('../tables/cds.counts.20180227.tsv', col_types = c(col_character()))\n",
    "lfcdata <- read_tsv('../tables/foldchange_samplepairs_20180227_1.tsv', col_types = c(col_character()))\n",
    "\n",
    "subsetsamples <- read_tsv('../tables/samplepairs_for_deseq2.tsv', \n",
    "                          col_types = c(col_character())) %>% \n",
    "  gather(sample, samplename) %>% \n",
    "  distinct(samplename) %>% \n",
    "  pull(samplename) %>% \n",
    "  str_replace('293', 'X293')\n",
    "\n",
    "subsettx <- countdata %>% \n",
    "  # select only tx having >100 counts across all samples used for fold change\n",
    "  filter_at(vars(one_of(subsetsamples)), all_vars(. >= 100)) %>% \n",
    "  select(transcript_id, length)\n",
    "\n",
    "lfcdata  <- lfcdata %>% \n",
    "  right_join(subsettx, by = \"transcript_id\")\n",
    "\n",
    "print(subsettx)"
   ]
  },
  {
   "cell_type": "markdown",
   "metadata": {},
   "source": [
    "## read in ATF4/CHOP mouse targets from CHIPseq data, Han et al. 2013"
   ]
  },
  {
   "cell_type": "code",
   "execution_count": null,
   "metadata": {
    "collapsed": true
   },
   "outputs": [],
   "source": [
    "atf4_chop_chipseq_mouse <- read_xlsx('../db/atf4chop_han2013/NIHMS485042-supplement-Table_2.xlsx', skip = 2)"
   ]
  },
  {
   "cell_type": "code",
   "execution_count": 252,
   "metadata": {},
   "outputs": [
    {
     "data": {
      "text/html": [
       "<table>\n",
       "<thead><tr><th scope=col>Overlap</th><th scope=col>n()</th></tr></thead>\n",
       "<tbody>\n",
       "\t<tr><td>ATF4_Only</td><td>254      </td></tr>\n",
       "\t<tr><td>CHOP_Only</td><td>103      </td></tr>\n",
       "\t<tr><td>Common   </td><td>218      </td></tr>\n",
       "</tbody>\n",
       "</table>\n"
      ],
      "text/latex": [
       "\\begin{tabular}{r|ll}\n",
       " Overlap & n()\\\\\n",
       "\\hline\n",
       "\t ATF4\\_Only & 254        \\\\\n",
       "\t CHOP\\_Only & 103        \\\\\n",
       "\t Common    & 218      \\\\\n",
       "\\end{tabular}\n"
      ],
      "text/markdown": [
       "\n",
       "Overlap | n() | \n",
       "|---|---|---|\n",
       "| ATF4_Only | 254       | \n",
       "| CHOP_Only | 103       | \n",
       "| Common    | 218       | \n",
       "\n",
       "\n"
      ],
      "text/plain": [
       "  Overlap   n()\n",
       "1 ATF4_Only 254\n",
       "2 CHOP_Only 103\n",
       "3 Common    218"
      ]
     },
     "metadata": {},
     "output_type": "display_data"
    }
   ],
   "source": [
    "atf4_chop_chipseq_mouse %>% \n",
    "  group_by(Overlap) %>% \n",
    "  summarise(n())"
   ]
  },
  {
   "cell_type": "markdown",
   "metadata": {},
   "source": [
    "## match mouse Atf4/CHOP targets to human homologs to create Atf4/CHOP target list"
   ]
  },
  {
   "cell_type": "code",
   "execution_count": 253,
   "metadata": {},
   "outputs": [
    {
     "name": "stderr",
     "output_type": "stream",
     "text": [
      "Joining, by = \"protein_id\"\n"
     ]
    },
    {
     "name": "stdout",
     "output_type": "stream",
     "text": [
      "# A tibble: 367 x 1\n",
      "   gene_name\n",
      "       <chr>\n",
      " 1    SCPEP1\n",
      " 2  SERPINF1\n",
      " 3     ITGB7\n",
      " 4     COASY\n",
      " 5   ANGPTL4\n",
      " 6      GARS\n",
      " 7     WARS2\n",
      " 8     CLCN3\n",
      " 9      <NA>\n",
      "10     WISP1\n",
      "# ... with 357 more rows\n"
     ]
    }
   ],
   "source": [
    "atf4_target_mouse_proteins <- mouse_cds %>% \n",
    "  # extract all mouse genes in atf4 targets\n",
    "  filter(gene_name %in% atf4_chop_chipseq_mouse[['Symbol']]) %>% \n",
    "  # clean Ensembl protein iD for homolog search\n",
    "  mutate(protein_id = str_extract(protein_id, \"^[^\\\\.]+\")) %>% \n",
    "  # get distinct proteins\n",
    "  distinct(protein_id) %>% \n",
    "  # pick only proteins that have human homologs\n",
    "  inner_join(tibble(protein_id = mappedkeys(hom.Mm.inpHOMSA)), by = \"protein_id\")\n",
    "\n",
    "# find human homolog protein\n",
    "humanhomologs <- hom.Mm.inpHOMSA[atf4_target_mouse_proteins[['protein_id']]] %>% \n",
    "  as.list %>% unlist %>% tibble %>% \n",
    "  set_colnames(\"protein_id\")\n",
    "\n",
    "# convert humann homolog proteins in human gene symbols\n",
    "human_atf4_targets <- human_cds %>% \n",
    "  mutate(protein_id = str_extract(protein_id, \"^[^\\\\.]+\")) %>% \n",
    "  ungroup %>% \n",
    "  right_join(humanhomologs) %>% \n",
    "  select(gene_name) %>%\n",
    "  distinct(gene_name) %>% \n",
    "  # add ATF4 which is technically not a target but we want to plot\n",
    "  bind_rows(list('gene_name' = 'ATF4')) %>% \n",
    "  print"
   ]
  },
  {
   "cell_type": "markdown",
   "metadata": {},
   "source": [
    "## read in mTORC1 human targets from ribosome profiling data (downregulated upon pp242 treatment), Hsieh et. al 2012"
   ]
  },
  {
   "cell_type": "code",
   "execution_count": 257,
   "metadata": {
    "collapsed": true
   },
   "outputs": [],
   "source": [
    "pp242_rp_human <- read_xlsx(\"../db/pp242_downreg/pp242_refseqtogenename_davidoutput.xlsx\")"
   ]
  },
  {
   "cell_type": "code",
   "execution_count": 258,
   "metadata": {},
   "outputs": [
    {
     "data": {
      "text/html": [
       "<table>\n",
       "<thead><tr><th scope=col>n()</th></tr></thead>\n",
       "<tbody>\n",
       "\t<tr><td>143</td></tr>\n",
       "</tbody>\n",
       "</table>\n"
      ],
      "text/latex": [
       "\\begin{tabular}{r|l}\n",
       " n()\\\\\n",
       "\\hline\n",
       "\t 143\\\\\n",
       "\\end{tabular}\n"
      ],
      "text/markdown": [
       "\n",
       "n() | \n",
       "|---|\n",
       "| 143 | \n",
       "\n",
       "\n"
      ],
      "text/plain": [
       "  n()\n",
       "1 143"
      ]
     },
     "metadata": {},
     "output_type": "display_data"
    },
    {
     "data": {
      "text/html": [
       "<table>\n",
       "<thead><tr><th scope=col>refseq</th><th scope=col>gene_name</th><th scope=col>Species</th><th scope=col>Gene Name</th></tr></thead>\n",
       "<tbody>\n",
       "\t<tr><td>NM_001064                                               </td><td>TKT                                                     </td><td>Homo sapiens                                            </td><td>transketolase(TKT)                                      </td></tr>\n",
       "\t<tr><td>NM_033643                                               </td><td>RPL36                                                   </td><td>Homo sapiens                                            </td><td>ribosomal protein L36(RPL36)                            </td></tr>\n",
       "\t<tr><td>NM_016142                                               </td><td>HSD17B12                                                </td><td>Homo sapiens                                            </td><td>hydroxysteroid 17-beta dehydrogenase 12(HSD17B12)       </td></tr>\n",
       "\t<tr><td>NM_006013                                               </td><td>RPL10                                                   </td><td>Homo sapiens                                            </td><td>ribosomal protein L10(RPL10)                            </td></tr>\n",
       "\t<tr><td>NM_003831                                               </td><td>RIOK3                                                   </td><td>Homo sapiens                                            </td><td>RIO kinase 3(RIOK3)                                     </td></tr>\n",
       "\t<tr><td>NM_015710                                               </td><td>GLTSCR2                                                 </td><td>Homo sapiens                                            </td><td>glioma tumor suppressor candidate region gene 2(GLTSCR2)</td></tr>\n",
       "</tbody>\n",
       "</table>\n"
      ],
      "text/latex": [
       "\\begin{tabular}{r|llll}\n",
       " refseq & gene\\_name & Species & Gene Name\\\\\n",
       "\\hline\n",
       "\t NM\\_001064                                              & TKT                                                      & Homo sapiens                                             & transketolase(TKT)                                      \\\\\n",
       "\t NM\\_033643                                              & RPL36                                                    & Homo sapiens                                             & ribosomal protein L36(RPL36)                            \\\\\n",
       "\t NM\\_016142                                              & HSD17B12                                                 & Homo sapiens                                             & hydroxysteroid 17-beta dehydrogenase 12(HSD17B12)       \\\\\n",
       "\t NM\\_006013                                              & RPL10                                                    & Homo sapiens                                             & ribosomal protein L10(RPL10)                            \\\\\n",
       "\t NM\\_003831                                              & RIOK3                                                    & Homo sapiens                                             & RIO kinase 3(RIOK3)                                     \\\\\n",
       "\t NM\\_015710                                              & GLTSCR2                                                  & Homo sapiens                                             & glioma tumor suppressor candidate region gene 2(GLTSCR2)\\\\\n",
       "\\end{tabular}\n"
      ],
      "text/markdown": [
       "\n",
       "refseq | gene_name | Species | Gene Name | \n",
       "|---|---|---|---|---|---|\n",
       "| NM_001064                                                | TKT                                                      | Homo sapiens                                             | transketolase(TKT)                                       | \n",
       "| NM_033643                                                | RPL36                                                    | Homo sapiens                                             | ribosomal protein L36(RPL36)                             | \n",
       "| NM_016142                                                | HSD17B12                                                 | Homo sapiens                                             | hydroxysteroid 17-beta dehydrogenase 12(HSD17B12)        | \n",
       "| NM_006013                                                | RPL10                                                    | Homo sapiens                                             | ribosomal protein L10(RPL10)                             | \n",
       "| NM_003831                                                | RIOK3                                                    | Homo sapiens                                             | RIO kinase 3(RIOK3)                                      | \n",
       "| NM_015710                                                | GLTSCR2                                                  | Homo sapiens                                             | glioma tumor suppressor candidate region gene 2(GLTSCR2) | \n",
       "\n",
       "\n"
      ],
      "text/plain": [
       "  refseq    gene_name Species     \n",
       "1 NM_001064 TKT       Homo sapiens\n",
       "2 NM_033643 RPL36     Homo sapiens\n",
       "3 NM_016142 HSD17B12  Homo sapiens\n",
       "4 NM_006013 RPL10     Homo sapiens\n",
       "5 NM_003831 RIOK3     Homo sapiens\n",
       "6 NM_015710 GLTSCR2   Homo sapiens\n",
       "  Gene Name                                               \n",
       "1 transketolase(TKT)                                      \n",
       "2 ribosomal protein L36(RPL36)                            \n",
       "3 hydroxysteroid 17-beta dehydrogenase 12(HSD17B12)       \n",
       "4 ribosomal protein L10(RPL10)                            \n",
       "5 RIO kinase 3(RIOK3)                                     \n",
       "6 glioma tumor suppressor candidate region gene 2(GLTSCR2)"
      ]
     },
     "metadata": {},
     "output_type": "display_data"
    }
   ],
   "source": [
    "pp242_rp_human %>% \n",
    "  summarise(n())\n",
    "head(pp242_rp_human)"
   ]
  },
  {
   "cell_type": "code",
   "execution_count": null,
   "metadata": {
    "collapsed": true
   },
   "outputs": [],
   "source": [
    "targetlist <- pp242_rp_human[['gene_name']]\n",
    "targetlist\n",
    "length(targetlist)"
   ]
  },
  {
   "cell_type": "markdown",
   "metadata": {},
   "source": [
    "## match human mTORC1 targets to human CDS list to create mTORC1 target list"
   ]
  },
  {
   "cell_type": "code",
   "execution_count": 260,
   "metadata": {},
   "outputs": [
    {
     "name": "stdout",
     "output_type": "stream",
     "text": [
      "# A tibble: 141 x 1\n",
      "   gene_name\n",
      "       <chr>\n",
      " 1     RPS20\n",
      " 2    BOD1L1\n",
      " 3     RPL18\n",
      " 4      RPS5\n",
      " 5      RPL6\n",
      " 6      RPL3\n",
      " 7      ST13\n",
      " 8    EEF1A2\n",
      " 9      AHCY\n",
      "10      AGO2\n",
      "# ... with 131 more rows\n"
     ]
    }
   ],
   "source": [
    "mtorc1_target_human_proteins <- human_cds %>% \n",
    "  filter(gene_name %in% targetlist) %>% \n",
    "  ungroup %>%\n",
    "  select(gene_name) %>%\n",
    "  distinct(gene_name) %>% \n",
    "  print"
   ]
  },
  {
   "cell_type": "markdown",
   "metadata": {},
   "source": [
    "# GCN2 signaling heatmaps (ATF4/CHOP targets)"
   ]
  },
  {
   "cell_type": "markdown",
   "metadata": {},
   "source": [
    "## GCN2 signaling response in HEK293T, HCT116, HeLa at 3 hours (fig. 3d)"
   ]
  },
  {
   "cell_type": "markdown",
   "metadata": {},
   "source": [
    "### Read in fold-changes for three cell types, WT, arg / leu starvation"
   ]
  },
  {
   "cell_type": "code",
   "execution_count": 261,
   "metadata": {
    "collapsed": true
   },
   "outputs": [],
   "source": [
    "countdata  <- read_tsv('../tables/cds.counts.20180227.tsv', col_types = c(col_character()))\n",
    "lfcdata <- read_tsv('../tables/foldchange_samplepairs_20180227_1.tsv', col_types = c(col_character()))\n",
    "\n",
    "\n",
    "# these are fold changes that are considered for heatmap\n",
    "subset <- c('hct116_arg_3h.vs.hct116_rich_3h',\n",
    "            'hct116_leu_3h.vs.hct116_rich_3h',\n",
    "            'hela_arg_mono_3h.vs.hela_rich_mono_3h',\n",
    "            'hela_leu_mono_3h.vs.hela_rich_mono_3h',\n",
    "            'X293t_rpC_arg_3h.vs.X293t_rpC_rich_3h',\n",
    "            'X293t_rpC_leu_3h.vs.X293t_rpC_rich_3h'\n",
    "           )\n",
    "\n",
    "# extra sample names from the sample pairs above\n",
    "subsetsamples <- subset %>% \n",
    "  str_split(\".vs.\") %>% \n",
    "  unlist %>% \n",
    "  unique\n",
    "\n",
    "subsettx <- countdata %>% \n",
    "  # select only tx having >100 counts across all samples used for fold change\n",
    "  filter_at(vars(one_of(subsetsamples)), all_vars(. >= 100)) %>% \n",
    "  select(transcript_id)\n",
    "\n",
    "lfcdata  <- lfcdata %>% \n",
    "  select(one_of(subset), transcript_id) %>% \n",
    "  right_join(subsettx, by = \"transcript_id\")\n",
    "\n",
    "#print(lfcdata)"
   ]
  },
  {
   "cell_type": "markdown",
   "metadata": {},
   "source": [
    "### Subset genes that are upregulated across all cell types and conditions"
   ]
  },
  {
   "cell_type": "code",
   "execution_count": 262,
   "metadata": {
    "collapsed": true
   },
   "outputs": [],
   "source": [
    "subsettx <- lfcdata %>%\n",
    "  # select only genes that are upregulated in 3 cell types and 2 starved conditions\n",
    "  filter_if(is.numeric, all_vars(. >= 0)) %>% \n",
    "  select(transcript_id)\n",
    "\n",
    "subsetlfcdata <- lfcdata %>% \n",
    "  select(one_of(subset), transcript_id) %>% \n",
    "  right_join(subsettx, by = \"transcript_id\") %>% \n",
    "  left_join(cds, by = \"transcript_id\") %>% \n",
    "  select(gene_name, everything()) %>% \n",
    "  rename_all(funs(str_replace(., \"X293t_rpC\", \"X293t\"))) %>% \n",
    "  rename_if(is.numeric, funs(str_replace(., \"^([^_]+_[^_]+).+\", \"\\\\1\"))) %>% \n",
    "  select(-transcript_id) #%>% \n",
    "  #print"
   ]
  },
  {
   "cell_type": "markdown",
   "metadata": {},
   "source": [
    "### Plot heat-map of fold-change for ATF4/CHOP targets that are up-regulated across all celltypes and conditions in our dataset"
   ]
  },
  {
   "cell_type": "code",
   "execution_count": 263,
   "metadata": {
    "collapsed": true
   },
   "outputs": [],
   "source": [
    "heatmapdata <- subsetlfcdata %>% \n",
    "  inner_join(human_atf4_targets, by = \"gene_name\") %>% \n",
    "  mutate(sum.lfc = rowSums(select_if(., is.numeric))) %>% \n",
    "  arrange(desc(sum.lfc)) #%>% \n",
    "  #print"
   ]
  },
  {
   "cell_type": "code",
   "execution_count": 264,
   "metadata": {},
   "outputs": [
    {
     "data": {},
     "metadata": {},
     "output_type": "display_data"
    },
    {
     "data": {
      "image/png": "[encoded data removed]",
      "text/plain": [
       "plot without title"
      ]
     },
     "metadata": {},
     "output_type": "display_data"
    }
   ],
   "source": [
    "options(repr.plot.width = 3, repr.plot.height = 3)\n",
    "\n",
    "samplenames  <- c(\n",
    "    'hct116_arg' = 'HCT116, –Arg',\n",
    "    'hct116_leu' = 'HCT116, –Leu',\n",
    "    'hela_arg' = 'HeLa, –Arg',\n",
    "    'hela_leu' = 'HeLa, –Leu',\n",
    "    'X293t_arg' = '293T, –Arg',\n",
    "    'X293t_leu' = '293T, –Leu'\n",
    ")\n",
    "\n",
    "\n",
    "heatmapdata %>% \n",
    "  mutate(gene_name = forcats::fct_reorder(gene_name, sum.lfc, .desc = F)) %>% #sum.lfc can be changed to X293t_arg or a different sample to change how the map is ordered\n",
    "  select(-protein_id, -sum.lfc) %>% \n",
    "  gather(condition, lfc, -gene_name) %>% \n",
    "  mutate(condition = samplenames[condition]) %>% \n",
    "  ggplot(aes(condition, gene_name)) +\n",
    "  geom_raster(aes(fill = lfc), color = 'white') +\n",
    "  scale_fill_gradient(low = 'white', high = 'blue',name=(expression(paste(\"log\"[2], \" f.c.\")))) +\n",
    "  scale_x_discrete(expand = c(0,0)) +\n",
    "  theme_minimal(base_family='Helvetica',base_size=10) +\n",
    "  theme(axis.text.x = element_text(angle = 45, hjust = 1),\n",
    "        axis.text.y = element_blank(),panel.grid = element_blank(), panel.border = element_rect(colour = \"black\", fill=NA, size=0.5*.588),legend.title.align =0) +\n",
    "  ylab(\"ATF4 / CHOP targets\") +\n",
    "  xlab(\"Cell line / Treatment\")\n",
    "\n",
    "axis.ticks = element_blank()\n",
    "#ggsave('../figures/atf4_targets_upinall_all3celllines3h_heatmap.svg', width = 3, height = 3, units = 'in')"
   ]
  },
  {
   "cell_type": "markdown",
   "metadata": {},
   "source": [
    "### Find the number of genes that are more up-regulated during Arg versus Leu limitation"
   ]
  },
  {
   "cell_type": "code",
   "execution_count": 265,
   "metadata": {},
   "outputs": [
    {
     "name": "stdout",
     "output_type": "stream",
     "text": [
      "Total of 40 Atf4 target genes are down-regulated across all three cell lines and during both Leu and Arg starvation.\n",
      "\n",
      "Following number of ATF4 targets are more up-regulated during Arg starvation than Leu starvation:\n",
      "\n"
     ]
    },
    {
     "data": {
      "text/html": [
       "<table>\n",
       "<thead><tr><th scope=col>cellline</th><th scope=col>n</th></tr></thead>\n",
       "<tbody>\n",
       "\t<tr><td>hct116</td><td>35    </td></tr>\n",
       "\t<tr><td>hela  </td><td>40    </td></tr>\n",
       "\t<tr><td>X293t </td><td>26    </td></tr>\n",
       "</tbody>\n",
       "</table>\n"
      ],
      "text/latex": [
       "\\begin{tabular}{r|ll}\n",
       " cellline & n\\\\\n",
       "\\hline\n",
       "\t hct116 & 35    \\\\\n",
       "\t hela   & 40    \\\\\n",
       "\t X293t  & 26    \\\\\n",
       "\\end{tabular}\n"
      ],
      "text/markdown": [
       "\n",
       "cellline | n | \n",
       "|---|---|---|\n",
       "| hct116 | 35     | \n",
       "| hela   | 40     | \n",
       "| X293t  | 26     | \n",
       "\n",
       "\n"
      ],
      "text/plain": [
       "  cellline n \n",
       "1 hct116   35\n",
       "2 hela     40\n",
       "3 X293t    26"
      ]
     },
     "metadata": {},
     "output_type": "display_data"
    }
   ],
   "source": [
    "cat(paste(\"Total of\", nrow(heatmapdata), \"Atf4 target genes are down-regulated across all three cell lines and during both Leu and Arg starvation.\\n\\n\"))\n",
    "\n",
    "cat(\"Following number of ATF4 targets are more up-regulated during Arg starvation than Leu starvation:\\n\\n\")\n",
    "\n",
    "heatmapdata %>% \n",
    "  select(-protein_id, -sum.lfc) %>% \n",
    "  gather(condition, lfc, -gene_name) %>% \n",
    "  separate(condition, c(\"cellline\", \"treatment\"), \"_\") %>% \n",
    "  spread(treatment, lfc) %>% \n",
    "  mutate(diff = arg - leu) %>% \n",
    "  filter(diff > 0) %>% \n",
    "  group_by(cellline) %>%\n",
    "  summarise(n = n())"
   ]
  },
  {
   "cell_type": "markdown",
   "metadata": {},
   "source": [
    "## repeat analysis for time course of GCN2 signaling response in HEK293T cells : 3 hours versus 6 hours (supp. fig. 3d)"
   ]
  },
  {
   "cell_type": "code",
   "execution_count": 266,
   "metadata": {},
   "outputs": [
    {
     "name": "stdout",
     "output_type": "stream",
     "text": [
      "# A tibble: 6,344 x 5\n",
      "   X293t_rpC_arg_3h.vs.X293t_rpC_rich_3h X293t_rpC_leu_3h.vs.X293t_rpC_rich_3h\n",
      "                                   <dbl>                                 <dbl>\n",
      " 1                                -0.191                                 0.012\n",
      " 2                                -0.073                                -0.003\n",
      " 3                                -0.131                                -0.705\n",
      " 4                                 0.343                                -1.074\n",
      " 5                                 0.076                                 0.569\n",
      " 6                                -0.202                                 0.309\n",
      " 7                                -0.342                                -0.883\n",
      " 8                                -0.004                                -0.355\n",
      " 9                                 0.454                                 0.485\n",
      "10                                -0.081                                -0.740\n",
      "# ... with 6,334 more rows, and 3 more variables:\n",
      "#   X293t_arg_6h.vs.X293t_rich_6h <dbl>, X293t_leu_6h.vs.X293t_rich_6h <dbl>,\n",
      "#   transcript_id <chr>\n"
     ]
    }
   ],
   "source": [
    "countdata  <- read_tsv('../tables/cds.counts.20180227.tsv', col_types = c(col_character()))\n",
    "lfcdata <- read_tsv('../tables/foldchange_samplepairs_20180227_1.tsv', col_types = c(col_character()))\n",
    "\n",
    "\n",
    "# these are fold changes that are considered for heatmap\n",
    "subset <- c('X293t_rpC_arg_3h.vs.X293t_rpC_rich_3h',\n",
    "            'X293t_rpC_leu_3h.vs.X293t_rpC_rich_3h',\n",
    "            'X293t_arg_6h.vs.X293t_rich_6h',\n",
    "            'X293t_leu_6h.vs.X293t_rich_6h'\n",
    "           )\n",
    "\n",
    "# extra sample names from the sample pairs above\n",
    "subsetsamples <- subset %>% \n",
    "  str_split(\".vs.\") %>% \n",
    "  unlist %>% \n",
    "  unique\n",
    "\n",
    "subsettx <- countdata %>% \n",
    "  # select only tx having >100 counts across all samples used for fold change\n",
    "  filter_at(vars(one_of(subsetsamples)), all_vars(. >= 100)) %>% \n",
    "  select(transcript_id)\n",
    "\n",
    "lfcdata  <- lfcdata %>% \n",
    "  select(one_of(subset), transcript_id) %>% \n",
    "  right_join(subsettx, by = \"transcript_id\")\n",
    "\n",
    "print(lfcdata)"
   ]
  },
  {
   "cell_type": "code",
   "execution_count": 267,
   "metadata": {
    "collapsed": true
   },
   "outputs": [],
   "source": [
    "subsettx <- lfcdata %>%\n",
    "  # select only genes that are upregulated in 3 cell types and 2 starved conditions\n",
    "  filter_if(is.numeric, all_vars(. >= 0)) %>% \n",
    "  select(transcript_id)\n",
    "\n",
    "subsetlfcdata <- lfcdata %>% \n",
    "  select(one_of(subset), transcript_id) %>% \n",
    "  right_join(subsettx, by = \"transcript_id\") %>% \n",
    "  left_join(cds, by = \"transcript_id\") %>% \n",
    "  select(gene_name, everything()) %>% \n",
    "  select(-transcript_id) #%>%\n",
    "  #print"
   ]
  },
  {
   "cell_type": "code",
   "execution_count": 268,
   "metadata": {
    "collapsed": true
   },
   "outputs": [],
   "source": [
    "heatmapdata <- subsetlfcdata %>% \n",
    "  inner_join(human_atf4_targets, by = \"gene_name\") %>% \n",
    "  mutate(sum.lfc = rowSums(select_if(., is.numeric))) %>% \n",
    "  arrange(desc(sum.lfc))"
   ]
  },
  {
   "cell_type": "code",
   "execution_count": 269,
   "metadata": {},
   "outputs": [
    {
     "data": {},
     "metadata": {},
     "output_type": "display_data"
    },
    {
     "data": {
      "image/png": "[encoded data removed]",
      "text/plain": [
       "plot without title"
      ]
     },
     "metadata": {},
     "output_type": "display_data"
    }
   ],
   "source": [
    "options(repr.plot.width = 2.5, repr.plot.height = 3)\n",
    "\n",
    "samplenames  <- c('X293t_rpC_arg_3h.vs.X293t_rpC_rich_3h' = '3h, –Arg',\n",
    "            'X293t_rpC_leu_3h.vs.X293t_rpC_rich_3h' = '3h, –Leu',\n",
    "    'X293t_arg_6h.vs.X293t_rich_6h' = '6h, –Arg',\n",
    "    'X293t_leu_6h.vs.X293t_rich_6h' = '6h, –Leu')\n",
    "\n",
    "\n",
    "heatmapdata %>% \n",
    "  mutate(gene_name = forcats::fct_reorder(gene_name, sum.lfc, .desc = F)) %>% \n",
    "  select(-protein_id, -sum.lfc) %>% \n",
    "  gather(condition, lfc, -gene_name) %>% \n",
    "  mutate(condition = samplenames[condition]) %>% \n",
    "  ggplot(aes(condition, gene_name)) +\n",
    "  geom_raster(aes(fill = lfc), color = 'white') +\n",
    "  scale_fill_gradient(low = 'white', high = 'blue',name=(expression(paste(\"log\"[2], \" \",\"f.c.\")))) +\n",
    "  scale_x_discrete(expand = c(0,0)) +\n",
    "  theme_minimal(base_family='Helvetica',base_size=10) +\n",
    "  theme(axis.text.x = element_text(angle = 45, hjust = 1),\n",
    "        axis.text.y = element_blank(),panel.grid = element_blank(), panel.border = element_rect(colour = \"black\", fill=NA, size=.5*.588),legend.title.align =0) +\n",
    "  ylab(\"ATF4 / CHOP targets\") +\n",
    "  xlab(\"293T, Time / Treatment\")\n",
    "\n",
    "axis.ticks = element_blank()\n",
    "#ggsave('../figures/atf4_targets_upinall_293t_allwt_heatmap.svg', width = 2.5, height = 3, units = 'in')"
   ]
  },
  {
   "cell_type": "code",
   "execution_count": 276,
   "metadata": {},
   "outputs": [
    {
     "name": "stdout",
     "output_type": "stream",
     "text": [
      "Total of 73 Atf4 target genes are down-regulated across all three cell lines and during both Leu and Arg starvation.\n",
      "\n",
      "Following number of ATF4 targets are more up-regulated during Arg starvation than Leu starvation:\n",
      "\n",
      "# A tibble: 292 x 5\n",
      "   gene_name cellline treatment        time   lfc\n",
      " *     <chr>    <chr>     <chr>       <chr> <dbl>\n",
      " 1   SLC7A11    X293t       arg 3h.vs.X293t 2.362\n",
      " 2      STC2    X293t       arg 3h.vs.X293t 2.549\n",
      " 3     DDIT4    X293t       arg 3h.vs.X293t 3.059\n",
      " 4       CTH    X293t       arg 3h.vs.X293t 2.220\n",
      " 5      ATF4    X293t       arg 3h.vs.X293t 1.860\n",
      " 6     SESN2    X293t       arg 3h.vs.X293t 2.047\n",
      " 7      ATF3    X293t       arg 3h.vs.X293t 2.375\n",
      " 8      ASNS    X293t       arg 3h.vs.X293t 1.936\n",
      " 9      PCK2    X293t       arg 3h.vs.X293t 1.608\n",
      "10   TSC22D3    X293t       arg 3h.vs.X293t 1.827\n",
      "# ... with 282 more rows\n"
     ]
    },
    {
     "data": {
      "text/html": [
       "<table>\n",
       "<thead><tr><th scope=col>time</th><th scope=col>n</th></tr></thead>\n",
       "<tbody>\n",
       "\t<tr><td>3h.vs.X293t</td><td>43         </td></tr>\n",
       "\t<tr><td>6h.vs.X293t</td><td>47         </td></tr>\n",
       "</tbody>\n",
       "</table>\n"
      ],
      "text/latex": [
       "\\begin{tabular}{r|ll}\n",
       " time & n\\\\\n",
       "\\hline\n",
       "\t 3h.vs.X293t & 43         \\\\\n",
       "\t 6h.vs.X293t & 47         \\\\\n",
       "\\end{tabular}\n"
      ],
      "text/markdown": [
       "\n",
       "time | n | \n",
       "|---|---|\n",
       "| 3h.vs.X293t | 43          | \n",
       "| 6h.vs.X293t | 47          | \n",
       "\n",
       "\n"
      ],
      "text/plain": [
       "  time        n \n",
       "1 3h.vs.X293t 43\n",
       "2 6h.vs.X293t 47"
      ]
     },
     "metadata": {},
     "output_type": "display_data"
    }
   ],
   "source": [
    "cat(paste(\"Total of\", nrow(heatmapdata), \"Atf4 target genes are down-regulated across all three cell lines and during both Leu and Arg starvation.\\n\\n\"))\n",
    "\n",
    "cat(\"Following number of ATF4 targets are more up-regulated during Arg starvation than Leu starvation:\\n\\n\")\n",
    "celllinenames = c('X293t_rpC_arg_3h.vs.X293t_rpC_rich_3h' = 'X293t_arg_3h.vs.X293t_rich_3h', 'X293t_rpC_leu_3h.vs.X293t_rpC_rich_3h' = 'X293t_leu_3h.vs.X293t_rich_3h', 'X293t_arg_6h.vs.X293t_rich_6h' = \n",
    "                 'X293t_arg_6h.vs.X293t_rich_6h', 'X293t_leu_6h.vs.X293t_rich_6h' = 'X293t_leu_6h.vs.X293t_rich_6h')\n",
    "heatmapdata %>% \n",
    "  select(-protein_id, -sum.lfc) %>% \n",
    "  gather(condition, lfc, -gene_name) %>% mutate(condition = celllinenames[condition]) %>%\n",
    "  separate(condition, c(\"cellline\", \"treatment\", 'time'), \"_\") %>% \n",
    "  spread(treatment, lfc) %>% \n",
    "  mutate(diff = arg - leu) %>% \n",
    "  filter(diff > 0) %>% \n",
    "  group_by(time) %>%\n",
    "  summarise(n = n())"
   ]
  },
  {
   "cell_type": "markdown",
   "metadata": {},
   "source": [
    "# mTORC1 signaling heatmaps"
   ]
  },
  {
   "cell_type": "markdown",
   "metadata": {},
   "source": [
    "## mTORC1 signaling response in HEK293T, HCT116, HeLa at 3 hours (fig. 3c)"
   ]
  },
  {
   "cell_type": "code",
   "execution_count": 277,
   "metadata": {
    "collapsed": true
   },
   "outputs": [],
   "source": [
    "countdata  <- read_tsv('../tables/cds.counts.20180227.tsv', col_types = c(col_character()))\n",
    "lfcdata <- read_tsv('../tables/foldchange_samplepairs_20180227_1.tsv', col_types = c(col_character()))\n",
    "\n",
    "\n",
    "# these are fold changes that are considered for heatmap\n",
    "subset <- c('hct116_arg_3h.vs.hct116_rich_3h',\n",
    "            'hct116_leu_3h.vs.hct116_rich_3h',\n",
    "            'hela_arg_mono_3h.vs.hela_rich_mono_3h',\n",
    "            'hela_leu_mono_3h.vs.hela_rich_mono_3h',\n",
    "            'X293t_rpC_arg_3h.vs.X293t_rpC_rich_3h',\n",
    "            'X293t_rpC_leu_3h.vs.X293t_rpC_rich_3h'\n",
    "           )\n",
    "\n",
    "# extra sample names from the sample pairs above\n",
    "subsetsamples <- subset %>% \n",
    "  str_split(\".vs.\") %>% \n",
    "  unlist %>% \n",
    "  unique\n",
    "\n",
    "subsettx <- countdata %>% \n",
    "  # select only tx having >100 counts across all samples used for fold change\n",
    "  filter_at(vars(one_of(subsetsamples)), all_vars(. >= 100)) %>% \n",
    "  select(transcript_id)\n",
    "\n",
    "lfcdata  <- lfcdata %>% \n",
    "  select(one_of(subset), transcript_id) %>% \n",
    "  right_join(subsettx, by = \"transcript_id\")"
   ]
  },
  {
   "cell_type": "code",
   "execution_count": 278,
   "metadata": {
    "collapsed": true
   },
   "outputs": [],
   "source": [
    "subsettx <- lfcdata %>%\n",
    "  # select only genes that are downregulated in 3 cell types and 2 starved conditions\n",
    "  filter_if(is.numeric, all_vars(. <= 0)) %>% \n",
    "  select(transcript_id)\n",
    "\n",
    "subsetlfcdata <- lfcdata %>% \n",
    "  select(one_of(subset), transcript_id) %>% \n",
    "  right_join(subsettx, by = \"transcript_id\") %>% \n",
    "  left_join(cds, by = \"transcript_id\") %>% \n",
    "  select(gene_name, everything()) %>% \n",
    "  rename_all(funs(str_replace(., \"X293t_rpC\", \"X293t\"))) %>% \n",
    "  rename_if(is.numeric, funs(str_replace(., \"^([^_]+_[^_]+).+\", \"\\\\1\"))) %>% \n",
    "  select(-transcript_id) "
   ]
  },
  {
   "cell_type": "code",
   "execution_count": 279,
   "metadata": {
    "collapsed": true
   },
   "outputs": [],
   "source": [
    "heatmapdata <- subsetlfcdata %>% \n",
    "  inner_join(mtorc1_target_human_proteins, by = \"gene_name\") %>% \n",
    "  mutate(sum.lfc = rowSums(select_if(., is.numeric))) %>% \n",
    "  arrange(desc(sum.lfc)) "
   ]
  },
  {
   "cell_type": "code",
   "execution_count": 280,
   "metadata": {},
   "outputs": [
    {
     "data": {},
     "metadata": {},
     "output_type": "display_data"
    },
    {
     "data": {
      "image/png": "[encoded data removed]",
      "text/plain": [
       "plot without title"
      ]
     },
     "metadata": {},
     "output_type": "display_data"
    }
   ],
   "source": [
    "options(repr.plot.width = 3, repr.plot.height = 3)\n",
    "\n",
    "samplenames  <- c(\n",
    "    'hct116_arg' = 'HCT116, –Arg',\n",
    "    'hct116_leu' = 'HCT116, –Leu',\n",
    "    'hela_arg' = 'HeLa, –Arg',\n",
    "    'hela_leu' = 'HeLa, –Leu',\n",
    "    'X293t_arg' = '293T, –Arg',\n",
    "    'X293t_leu' = '293T, –Leu'\n",
    ")\n",
    "\n",
    "\n",
    "heatmapdata %>% \n",
    "  mutate(gene_name = forcats::fct_reorder(gene_name, sum.lfc, .desc = T)) %>% \n",
    "  select(-protein_id, -sum.lfc) %>% \n",
    "  gather(condition, lfc, -gene_name) %>% \n",
    "  mutate(condition = samplenames[condition]) %>% \n",
    "  ggplot(aes(condition, gene_name)) +\n",
    "  geom_raster(aes(fill = lfc), color = 'white') +\n",
    "  scale_fill_gradient(low = 'red1', high = 'white',name=(expression(paste(\"log\"[2], \" f.c.\")))) +\n",
    "  scale_x_discrete(expand = c(0,0)) +\n",
    "  theme_minimal(base_family='Helvetica',base_size=10) +\n",
    "  theme(axis.text.x = element_text(angle = 45, hjust = 1),\n",
    "        axis.text.y = element_blank(),panel.grid = element_blank(), panel.border = element_rect(colour = \"black\", fill=NA, size=0.5*.588),legend.title.align =0) +\n",
    "  ylab(\"mTORC1 targets\") +\n",
    "  xlab(\"Cell line / Treatment\")\n",
    "\n",
    "axis.ticks = element_blank()\n",
    "#ggsave('../figures/mtorc1_hsiehtargets_downinall_all3celllines3h_heatmap.svg', width = 3, height = 3, units = 'in')"
   ]
  },
  {
   "cell_type": "code",
   "execution_count": 281,
   "metadata": {},
   "outputs": [
    {
     "name": "stdout",
     "output_type": "stream",
     "text": [
      "Total of 63 mTORC1 target genes are down-regulated across all three cell lines and during both Leu and Arg starvation.\n",
      "\n",
      "Following number of ATF4 targets are more up-regulated during Arg starvation than Leu starvation:\n",
      "\n"
     ]
    },
    {
     "data": {
      "text/html": [
       "<table>\n",
       "<thead><tr><th scope=col>cellline</th><th scope=col>n</th></tr></thead>\n",
       "<tbody>\n",
       "\t<tr><td>hct116</td><td>14    </td></tr>\n",
       "\t<tr><td>hela  </td><td>45    </td></tr>\n",
       "\t<tr><td>X293t </td><td>46    </td></tr>\n",
       "</tbody>\n",
       "</table>\n"
      ],
      "text/latex": [
       "\\begin{tabular}{r|ll}\n",
       " cellline & n\\\\\n",
       "\\hline\n",
       "\t hct116 & 14    \\\\\n",
       "\t hela   & 45    \\\\\n",
       "\t X293t  & 46    \\\\\n",
       "\\end{tabular}\n"
      ],
      "text/markdown": [
       "\n",
       "cellline | n | \n",
       "|---|---|---|\n",
       "| hct116 | 14     | \n",
       "| hela   | 45     | \n",
       "| X293t  | 46     | \n",
       "\n",
       "\n"
      ],
      "text/plain": [
       "  cellline n \n",
       "1 hct116   14\n",
       "2 hela     45\n",
       "3 X293t    46"
      ]
     },
     "metadata": {},
     "output_type": "display_data"
    }
   ],
   "source": [
    "cat(paste(\"Total of\", nrow(heatmapdata), \"mTORC1 target genes are down-regulated across all three cell lines and during both Leu and Arg starvation.\\n\\n\"))\n",
    "\n",
    "cat(\"Following number of ATF4 targets are more up-regulated during Arg starvation than Leu starvation:\\n\\n\")\n",
    "\n",
    "heatmapdata %>% \n",
    "  select(-protein_id, -sum.lfc) %>% \n",
    "  gather(condition, lfc, -gene_name) %>% \n",
    "  separate(condition, c(\"cellline\", \"treatment\"), \"_\") %>% \n",
    "  spread(treatment, lfc) %>% \n",
    "  mutate(diff = arg - leu) %>% \n",
    "  filter(diff > 0) %>% \n",
    "  group_by(cellline) %>%\n",
    "  summarise(n = n())"
   ]
  },
  {
   "cell_type": "markdown",
   "metadata": {},
   "source": [
    "## repeat analysis for time course of mTORC1 signaling response in HEK293T cells : 3 hours versus 6 hours (supp. fig. 3c)"
   ]
  },
  {
   "cell_type": "code",
   "execution_count": 282,
   "metadata": {
    "collapsed": true
   },
   "outputs": [],
   "source": [
    "countdata  <- read_tsv('../tables/cds.counts.20180227.tsv', col_types = c(col_character()))\n",
    "lfcdata <- read_tsv('../tables/foldchange_samplepairs_20180227_1.tsv', col_types = c(col_character()))\n",
    "\n",
    "\n",
    "# these are fold changes that are considered for heatmap\n",
    "subset <- c('X293t_rpC_arg_3h.vs.X293t_rpC_rich_3h',\n",
    "            'X293t_rpC_leu_3h.vs.X293t_rpC_rich_3h',\n",
    "            'X293t_arg_6h.vs.X293t_rich_6h',\n",
    "            'X293t_leu_6h.vs.X293t_rich_6h'\n",
    "           )\n",
    "\n",
    "# extra sample names from the sample pairs above\n",
    "subsetsamples <- subset %>% \n",
    "  str_split(\".vs.\") %>% \n",
    "  unlist %>% \n",
    "  unique\n",
    "\n",
    "subsettx <- countdata %>% \n",
    "  # select only tx having >100 counts across all samples used for fold change\n",
    "  filter_at(vars(one_of(subsetsamples)), all_vars(. >= 100)) %>% \n",
    "  select(transcript_id)\n",
    "\n",
    "lfcdata  <- lfcdata %>% \n",
    "  select(one_of(subset), transcript_id) %>% \n",
    "  right_join(subsettx, by = \"transcript_id\")"
   ]
  },
  {
   "cell_type": "code",
   "execution_count": 283,
   "metadata": {
    "collapsed": true
   },
   "outputs": [],
   "source": [
    "subsettx <- lfcdata %>%\n",
    "  # select only genes that are downregulated in 3 cell types and 2 starved conditions\n",
    "  filter_if(is.numeric, all_vars(. <= 0)) %>% \n",
    "  select(transcript_id)\n",
    "\n",
    "subsetlfcdata <- lfcdata %>% \n",
    "  select(one_of(subset), transcript_id) %>% \n",
    "  right_join(subsettx, by = \"transcript_id\") %>% \n",
    "  left_join(cds, by = \"transcript_id\") %>% \n",
    "  select(gene_name, everything()) %>% \n",
    "  select(-transcript_id)"
   ]
  },
  {
   "cell_type": "code",
   "execution_count": 284,
   "metadata": {
    "collapsed": true
   },
   "outputs": [],
   "source": [
    "heatmapdata <- subsetlfcdata %>% \n",
    "  inner_join(mtorc1_target_human_proteins, by = \"gene_name\") %>% \n",
    "  mutate(sum.lfc = rowSums(select_if(., is.numeric))) %>% \n",
    "  arrange(desc(sum.lfc))"
   ]
  },
  {
   "cell_type": "code",
   "execution_count": 285,
   "metadata": {},
   "outputs": [
    {
     "data": {},
     "metadata": {},
     "output_type": "display_data"
    },
    {
     "data": {
      "image/png": "[encoded data removed]",
      "text/plain": [
       "plot without title"
      ]
     },
     "metadata": {},
     "output_type": "display_data"
    }
   ],
   "source": [
    "options(repr.plot.width = 2.5, repr.plot.height = 3)\n",
    "\n",
    "samplenames  <- c('X293t_rpC_arg_3h.vs.X293t_rpC_rich_3h' = '3h, –Arg',\n",
    "                'X293t_rpC_leu_3h.vs.X293t_rpC_rich_3h'= '3h, –Leu',\n",
    "                'X293t_arg_6h.vs.X293t_rich_6h' = '6h, –Arg',\n",
    "                'X293t_leu_6h.vs.X293t_rich_6h' = '6h, –Leu')\n",
    "\n",
    "\n",
    "heatmapdata %>% \n",
    "  mutate(gene_name = forcats::fct_reorder(gene_name, sum.lfc, .desc = T)) %>% \n",
    "  select(-protein_id, -sum.lfc) %>% \n",
    "  gather(condition, lfc, -gene_name) %>% \n",
    "  mutate(condition = samplenames[condition]) %>% \n",
    "  ggplot(aes(condition, gene_name)) +\n",
    "  geom_raster(aes(fill = lfc), color = 'white') +\n",
    "  scale_fill_gradient(low = 'red1', high = 'white',name=(expression(paste(\"log\"[2], \" \",\"f.c.\")))) +\n",
    "  scale_x_discrete(expand = c(0,0)) +\n",
    "  theme_minimal(base_family='Helvetica',base_size=10) +\n",
    "  theme(axis.text.x = element_text(angle = 45, hjust = 1),\n",
    "        axis.text.y = element_blank(),panel.grid = element_blank(), panel.border = element_rect(colour = \"black\", fill=NA, size=0.5*.588),legend.title.align =0) +\n",
    "  ylab(\"mTORC1 targets\") +\n",
    "  xlab(\"293T, Time / Treatment\")\n",
    "\n",
    "axis.ticks = element_blank()\n",
    "#ggsave('../figures/mtorc1_targets_downinall_293t_wtall_heatmap.svg', width = 2.5, height = 3, units = 'in')"
   ]
  },
  {
   "cell_type": "code",
   "execution_count": 286,
   "metadata": {},
   "outputs": [
    {
     "name": "stdout",
     "output_type": "stream",
     "text": [
      "Total of 87 Atf4 target genes are down-regulated across all three cell lines and during both Leu and Arg starvation.\n",
      "\n",
      "Following number of mTOR targets are more up-regulated during Arg starvation than Leu starvation:\n",
      "\n"
     ]
    },
    {
     "data": {
      "text/html": [
       "<table>\n",
       "<thead><tr><th scope=col>time</th><th scope=col>n</th></tr></thead>\n",
       "<tbody>\n",
       "\t<tr><td>3h.vs.X293t</td><td>67         </td></tr>\n",
       "\t<tr><td>6h.vs.X293t</td><td>77         </td></tr>\n",
       "</tbody>\n",
       "</table>\n"
      ],
      "text/latex": [
       "\\begin{tabular}{r|ll}\n",
       " time & n\\\\\n",
       "\\hline\n",
       "\t 3h.vs.X293t & 67         \\\\\n",
       "\t 6h.vs.X293t & 77         \\\\\n",
       "\\end{tabular}\n"
      ],
      "text/markdown": [
       "\n",
       "time | n | \n",
       "|---|---|\n",
       "| 3h.vs.X293t | 67          | \n",
       "| 6h.vs.X293t | 77          | \n",
       "\n",
       "\n"
      ],
      "text/plain": [
       "  time        n \n",
       "1 3h.vs.X293t 67\n",
       "2 6h.vs.X293t 77"
      ]
     },
     "metadata": {},
     "output_type": "display_data"
    }
   ],
   "source": [
    "cat(paste(\"Total of\", nrow(heatmapdata), \"Atf4 target genes are down-regulated across all three cell lines and during both Leu and Arg starvation.\\n\\n\"))\n",
    "\n",
    "cat(\"Following number of mTOR targets are more up-regulated during Arg starvation than Leu starvation:\\n\\n\")\n",
    "celllinenames = c('X293t_rpC_arg_3h.vs.X293t_rpC_rich_3h' = 'X293t_arg_3h.vs.X293t_rich_3h', 'X293t_rpC_leu_3h.vs.X293t_rpC_rich_3h' = 'X293t_leu_3h.vs.X293t_rich_3h', 'X293t_arg_6h.vs.X293t_rich_6h' = \n",
    "                 'X293t_arg_6h.vs.X293t_rich_6h', 'X293t_leu_6h.vs.X293t_rich_6h' = 'X293t_leu_6h.vs.X293t_rich_6h')\n",
    "heatmapdata %>% \n",
    "  select(-protein_id, -sum.lfc) %>% \n",
    "  gather(condition, lfc, -gene_name) %>% mutate(condition = celllinenames[condition]) %>%\n",
    "  separate(condition, c(\"cellline\", \"treatment\", 'time'), \"_\") %>% \n",
    "  spread(treatment, lfc) %>% \n",
    "  mutate(diff = arg - leu) %>% \n",
    "  filter(diff > 0) %>% \n",
    "  group_by(time) %>%\n",
    "  summarise(n = n())"
   ]
  },
  {
   "cell_type": "markdown",
   "metadata": {},
   "source": [
    "# Log FC Box Plots: mTORC1 targets"
   ]
  },
  {
   "cell_type": "markdown",
   "metadata": {},
   "source": [
    "## plot difference in log fc for each mTORC1 target gene in -Arg versus -Leu, HEK293T vs HCT116 vs HeLa (supp. fig. 3g, left panel; accompanies fig. 3c/e)"
   ]
  },
  {
   "cell_type": "code",
   "execution_count": 208,
   "metadata": {
    "collapsed": true
   },
   "outputs": [],
   "source": [
    "countdata  <- read_tsv('../tables/cds.counts.20180227.tsv', col_types = c(col_character()))\n",
    "lfcdata <- read_tsv('../tables/foldchange_samplepairs_20180227_1.tsv', col_types = c(col_character()))\n",
    "\n",
    "\n",
    "# these are fold changes that are considered for plotting\n",
    "subset <- c('hct116_arg_3h.vs.hct116_rich_3h',\n",
    "            'hct116_leu_3h.vs.hct116_rich_3h',\n",
    "            'hela_arg_mono_3h.vs.hela_rich_mono_3h',\n",
    "            'hela_leu_mono_3h.vs.hela_rich_mono_3h',\n",
    "            'X293t_rpC_arg_3h.vs.X293t_rpC_rich_3h',\n",
    "            'X293t_rpC_leu_3h.vs.X293t_rpC_rich_3h'\n",
    "           )\n",
    "\n",
    "# extra sample names from the sample pairs above\n",
    "subsetsamples <- subset %>% \n",
    "  str_split(\".vs.\") %>% \n",
    "  unlist %>% \n",
    "  unique\n",
    "\n",
    "subsettx <- countdata %>% \n",
    "  # select only tx having >100 counts across all samples used for fold change\n",
    "  filter_at(vars(one_of(subsetsamples)), all_vars(. >= 100)) %>% \n",
    "  select(transcript_id)\n",
    "\n",
    "lfcdata  <- lfcdata %>% \n",
    "  select(one_of(subset), transcript_id) %>% \n",
    "  right_join(subsettx, by = \"transcript_id\")\n",
    "\n",
    "subsettx <- lfcdata %>%\n",
    "  # select only genes that are downregulated in 3 cell types and 2 starved conditions\n",
    "  filter_if(is.numeric, all_vars(. <= 0)) %>% \n",
    "  select(transcript_id)\n",
    "\n",
    "subsetlfcdata <- lfcdata %>% \n",
    "  select(one_of(subset), transcript_id) %>% \n",
    "  right_join(subsettx, by = \"transcript_id\") %>% \n",
    "  left_join(cds, by = \"transcript_id\") %>% \n",
    "  select(gene_name, everything()) %>% \n",
    "  rename_all(funs(str_replace(., \"X293t_rpC\", \"X293t\"))) %>% \n",
    "  rename_if(is.numeric, funs(str_replace(., \"^([^_]+_[^_]+).+\", \"\\\\1\"))) %>% \n",
    "  select(-transcript_id)\n",
    "\n",
    "# calculate the diff in log fc for each target, -Arg - -Leu\n",
    "plotdata <- subsetlfcdata %>% \n",
    "  inner_join(mtorc1_target_human_proteins, by = \"gene_name\") %>% \n",
    "  mutate(sum.lfc = rowSums(select_if(., is.numeric))) %>% \n",
    "  arrange(desc(sum.lfc)) %>% \n",
    "  mutate(diff_hct116 = hct116_arg - hct116_leu)  %>%\n",
    "  mutate(diff_hela = hela_arg - hela_leu) %>%\n",
    "  mutate(diff_293t = X293t_arg - X293t_leu)"
   ]
  },
  {
   "cell_type": "code",
   "execution_count": 216,
   "metadata": {},
   "outputs": [
    {
     "data": {},
     "metadata": {},
     "output_type": "display_data"
    },
    {
     "data": {
      "text/plain": [
       "\n",
       "\tWilcoxon signed rank test with continuity correction\n",
       "\n",
       "data:  plotdata$diff_hela\n",
       "V = 1535, p-value = 0.0003128\n",
       "alternative hypothesis: true location is not equal to 0\n"
      ]
     },
     "metadata": {},
     "output_type": "display_data"
    },
    {
     "data": {
      "text/plain": [
       "\n",
       "\tWilcoxon signed rank test with continuity correction\n",
       "\n",
       "data:  plotdata$diff_hct116\n",
       "V = 335.5, p-value = 4.212e-06\n",
       "alternative hypothesis: true location is not equal to 0\n"
      ]
     },
     "metadata": {},
     "output_type": "display_data"
    },
    {
     "data": {
      "text/plain": [
       "\n",
       "\tWilcoxon signed rank test with continuity correction\n",
       "\n",
       "data:  plotdata$diff_293t\n",
       "V = 1648.5, p-value = 1.178e-05\n",
       "alternative hypothesis: true location is not equal to 0\n"
      ]
     },
     "metadata": {},
     "output_type": "display_data"
    },
    {
     "data": {
      "image/png": "[encoded data removed]",
      "text/plain": [
       "plot without title"
      ]
     },
     "metadata": {},
     "output_type": "display_data"
    }
   ],
   "source": [
    "options(repr.plot.width = 2, repr.plot.height = 3)\n",
    "\n",
    "samplenames  <- c(\n",
    "    'diff_hct116' = 'HCT116',\n",
    "    'diff_hela' = 'HeLa',\n",
    "    'diff_293t' = '293T'\n",
    ")\n",
    "\n",
    "plotdata %>% \n",
    "  select(gene_name, diff_hct116, diff_hela, diff_293t) %>% \n",
    "  gather(condition, lfc, -gene_name) %>% \n",
    "  mutate(condition = samplenames[condition]) %>% \n",
    "  mutate(condition = forcats::fct_rev(condition)) %>%\n",
    "  ggpubr::ggboxplot(x = 'condition',\n",
    "                    y = 'lfc',\n",
    "                    color = 'black', size = 0.5,\n",
    "                    legend = \"none\",\n",
    "                    order = c('293T','HCT116','HeLa')) + \n",
    "  theme_minimal(base_family='Helvetica',base_size=10) +\n",
    "  theme(axis.text.x = element_text(angle = 45, hjust = 1, size = 8), \n",
    "        axis.text.y = element_text(size = 8),\n",
    "        plot.title = element_text(hjust =0.5, size=10)) +\n",
    "  ylab(expression(paste('Difference in', \" log\"[2], ' f.c. (Arg – Leu)'))) +\n",
    "  xlab(\"Cell line\") +\n",
    "  labs(title = 'mTORC1 targets') +\n",
    "  theme(legend.position=\"none\") \n",
    "\n",
    "#perform Wilcoxon signed rank test for statistical signficance\n",
    "wilcox.test(plotdata$diff_293t, mu = 0, alternative = \"two.sided\")\n",
    "wilcox.test(plotdata$diff_hct116, mu = 0, alternative = \"two.sided\")\n",
    "wilcox.test(plotdata$diff_hela, mu = 0, alternative = \"two.sided\")\n",
    "\n",
    "\n",
    "#ggsave('../figures/jitter_difflfc_mtortargets_threshlt0_all3celllines3h.svg', width = 2, height = 3, units = 'in')"
   ]
  },
  {
   "cell_type": "markdown",
   "metadata": {},
   "source": [
    "## plot absolute log fc values for each mTORC1 target gene in -Arg versus -Leu, HEK293T vs HCT116 vs HeLa (fig. 3e, accompanies fig. 3c)"
   ]
  },
  {
   "cell_type": "code",
   "execution_count": 214,
   "metadata": {
    "collapsed": true
   },
   "outputs": [],
   "source": [
    "countdata  <- read_tsv('../tables/cds.counts.20180227.tsv', col_types = c(col_character()))\n",
    "lfcdata <- read_tsv('../tables/foldchange_samplepairs_20180227_1.tsv', col_types = c(col_character()))\n",
    "\n",
    "\n",
    "# these are fold changes that are considered for plotting\n",
    "subset <- c('hct116_arg_3h.vs.hct116_rich_3h',\n",
    "            'hct116_leu_3h.vs.hct116_rich_3h',\n",
    "            'hela_arg_mono_3h.vs.hela_rich_mono_3h',\n",
    "            'hela_leu_mono_3h.vs.hela_rich_mono_3h',\n",
    "            'X293t_rpC_arg_3h.vs.X293t_rpC_rich_3h',\n",
    "            'X293t_rpC_leu_3h.vs.X293t_rpC_rich_3h',\n",
    "            '293t_arg_6h.vs.293t_rich_6h',\n",
    "            '293t_leu_6h.vs.293t_rich_6h'\n",
    "           )\n",
    "\n",
    "# extra sample names from the sample pairs above\n",
    "subsetsamples <- subset %>% \n",
    "  str_split(\".vs.\") %>% \n",
    "  unlist %>% \n",
    "  unique\n",
    "\n",
    "subsettx <- countdata %>% \n",
    "  # select only tx having >100 counts across all samples used for fold change\n",
    "  filter_at(vars(one_of(subsetsamples)), all_vars(. >= 100)) %>% \n",
    "  select(transcript_id)\n",
    "\n",
    "lfcdata  <- lfcdata %>% \n",
    "  select(one_of(subset), transcript_id) %>% \n",
    "  right_join(subsettx, by = \"transcript_id\")\n",
    "\n",
    "subsettx <- lfcdata %>%\n",
    "  # select only genes that are downregulated in 3 cell types and 2 starved conditions\n",
    "  filter_if(is.numeric, all_vars(. <= 0)) %>% \n",
    "  select(transcript_id)\n",
    "\n",
    "subsetlfcdata <- lfcdata %>% \n",
    "  select(one_of(subset), transcript_id) %>% \n",
    "  right_join(subsettx, by = \"transcript_id\") %>% \n",
    "  left_join(cds, by = \"transcript_id\") %>% \n",
    "  select(gene_name, everything()) %>% \n",
    "  rename_all(funs(str_replace(., \"X293t_rpC\", \"X293t\"))) %>% \n",
    "  rename_if(is.numeric, funs(str_replace(., \"^([^_]+_[^_]+).+\", \"\\\\1\"))) %>% \n",
    "  select(-transcript_id)\n",
    "\n",
    "# calculate the diff in log fc for each target, -Arg - -Leu\n",
    "plotdata <- subsetlfcdata %>% \n",
    "  inner_join(mtorc1_target_human_proteins, by = \"gene_name\") %>% \n",
    "  mutate(sum.lfc = rowSums(select_if(., is.numeric))) %>% \n",
    "  arrange(desc(sum.lfc)) %>% \n",
    "  mutate(diff_hct116 = hct116_arg - hct116_leu)  %>%\n",
    "  mutate(diff_hela = hela_arg - hela_leu) %>%\n",
    "  mutate(diff_293t = X293t_arg - X293t_leu)\n",
    "\n",
    "mean(plotdata[['diff_293t']])\n",
    "mean(plotdata[['diff_hct116']])\n",
    "mean(plotdata[['diff_hela']])"
   ]
  },
  {
   "cell_type": "code",
   "execution_count": 215,
   "metadata": {
    "scrolled": true
   },
   "outputs": [
    {
     "data": {},
     "metadata": {},
     "output_type": "display_data"
    },
    {
     "data": {
      "text/plain": [
       "\n",
       "\tWilcoxon signed rank test with continuity correction\n",
       "\n",
       "data:  plotdata$diff_hela\n",
       "V = 1535, p-value = 0.0003128\n",
       "alternative hypothesis: true location is not equal to 0\n"
      ]
     },
     "metadata": {},
     "output_type": "display_data"
    },
    {
     "data": {
      "text/plain": [
       "\n",
       "\tWilcoxon signed rank test with continuity correction\n",
       "\n",
       "data:  plotdata$diff_hct116\n",
       "V = 335.5, p-value = 4.212e-06\n",
       "alternative hypothesis: true location is not equal to 0\n"
      ]
     },
     "metadata": {},
     "output_type": "display_data"
    },
    {
     "data": {
      "text/plain": [
       "\n",
       "\tWilcoxon signed rank test with continuity correction\n",
       "\n",
       "data:  plotdata$diff_293t\n",
       "V = 1648.5, p-value = 1.178e-05\n",
       "alternative hypothesis: true location is not equal to 0\n"
      ]
     },
     "metadata": {},
     "output_type": "display_data"
    },
    {
     "data": {
      "image/png": "[encoded data removed]",
      "text/plain": [
       "plot without title"
      ]
     },
     "metadata": {},
     "output_type": "display_data"
    }
   ],
   "source": [
    "options(repr.plot.width = 2.5, repr.plot.height = 3)\n",
    "\n",
    "samplenames  <- c(\n",
    "    'hct116_arg' = 'HCT116, –Arg',\n",
    "    'hct116_leu' = 'HCT116, –Leu',\n",
    "    'hela_arg' = 'HeLa, –Arg',\n",
    "    'hela_leu' = 'HeLa, –Leu',\n",
    "    'X293t_arg' = '293T, –Arg',\n",
    "    'X293t_leu' = '293T, –Leu'\n",
    ")\n",
    "\n",
    "\n",
    "plotdata %>% \n",
    "  select(-protein_id, -sum.lfc, -diff_hct116, -diff_hela, -diff_293t) %>% \n",
    "  gather(condition, lfc, -gene_name) %>% \n",
    "  mutate(condition = samplenames[condition]) %>% \n",
    "  ggpubr::ggboxplot(x = 'condition',\n",
    "                    y = 'lfc',\n",
    "                    color = 'black', \n",
    "                    size = 0.5, \n",
    "                    order = c('293T, –Arg','293T, –Leu','HCT116, –Arg','HCT116, –Leu','HeLa, –Arg','HeLa, –Leu'),\n",
    "                    legend = \"none\") +\n",
    "  theme_minimal(base_family='Helvetica',base_size=10) +\n",
    "  theme(axis.text.x = element_text(angle = 45, hjust = 1, size = 8), \n",
    "        axis.text.y = element_text(size = 8),\n",
    "        plot.title = element_text(hjust =0.5, size=10)) +\n",
    "  ylab(expression(paste(\"log\"[2], ' f.c. ribosome density'))) +\n",
    "  xlab(\"Cell line / treatment\") +\n",
    "  labs(title = 'mTORC1 targets') +\n",
    "  theme(legend.position=\"none\") +\n",
    "  annotate(\"text\", x = 5.5, y = .25, label = '<10e-03', size=3) +\n",
    "  annotate(\"text\", x = 3.5, y = .25, label = '<10e-05', size=3) +\n",
    "  annotate(\"text\", x = 1.5, y = .25, label = '<10e-04', size =3) +\n",
    "  annotate(\"segment\", x = 4.75, xend = 6.25, y = .11, yend = .11, size = 0.25) +\n",
    "  annotate(\"segment\", x = 2.75, xend = 4.25, y = .11, yend = .11, size = 0.25) +\n",
    "  annotate(\"segment\", x = 0.75, xend = 2.25, y = .11, yend = .11, size = 0.25) +\n",
    "  annotate(\"segment\", x = 0.75, xend = 0.75, y = .11, yend = .06, size = 0.25) +\n",
    "  annotate(\"segment\", x = 2.25, xend = 2.25, y = .11, yend = .06, size = 0.25) +\n",
    "  annotate(\"segment\", x = 2.75, xend = 2.75, y = .11, yend = .06, size = 0.25) +\n",
    "  annotate(\"segment\", x = 4.25, xend = 4.25, y = .11, yend = .06, size = 0.25) +\n",
    "  annotate(\"segment\", x = 4.75, xend = 4.75, y = .11, yend = .06, size = 0.25) +\n",
    "  annotate(\"segment\", x = 6.25, xend = 6.25, y = .11, yend = .06, size = 0.25) \n",
    "\n",
    "#perform Wilcoxon signed rank test for statistical signficance\n",
    "wilcox.test(plotdata$diff_293t, mu = 0, alternative = \"two.sided\")\n",
    "wilcox.test(plotdata$diff_hct116, mu = 0, alternative = \"two.sided\")\n",
    "wilcox.test(plotdata$diff_hela, mu = 0, alternative = \"two.sided\")\n",
    "\n",
    "#ggsave('../figures/jitter_mtorc1targets_threshlt0_all3celllines3h.svg', width = 2.5, height = 3, units = 'in')"
   ]
  },
  {
   "cell_type": "markdown",
   "metadata": {},
   "source": [
    "## plot absolute log fc values for each mTORC1 target gene in -Arg versus -Leu, 3 hours vs 6 hours (supp. fig. 3e, accompanies supp. fig. 3c)"
   ]
  },
  {
   "cell_type": "code",
   "execution_count": 241,
   "metadata": {
    "collapsed": true
   },
   "outputs": [],
   "source": [
    "countdata  <- read_tsv('../tables/cds.counts.20180227.tsv', col_types = c(col_character()))\n",
    "lfcdata <- read_tsv('../tables/foldchange_samplepairs_20180227_1.tsv', col_types = c(col_character()))\n",
    "\n",
    "\n",
    "# these are fold changes that are considered for plotting\n",
    "subset <- c('X293t_rpC_arg_3h.vs.X293t_rpC_rich_3h',\n",
    "            'X293t_rpC_leu_3h.vs.X293t_rpC_rich_3h',\n",
    "            'X293t_arg_6h.vs.X293t_rich_6h',\n",
    "            'X293t_leu_6h.vs.X293t_rich_6h'\n",
    "           )\n",
    "\n",
    "# extra sample names from the sample pairs above\n",
    "subsetsamples <- subset %>% \n",
    "  str_split(\".vs.\") %>% \n",
    "  unlist %>% \n",
    "  unique\n",
    "\n",
    "subsettx <- countdata %>% \n",
    "  # select only tx having >100 counts across all samples used for fold change\n",
    "  filter_at(vars(one_of(subsetsamples)), all_vars(. >= 100)) %>% \n",
    "  select(transcript_id)\n",
    "\n",
    "lfcdata  <- lfcdata %>% \n",
    "  select(one_of(subset), transcript_id) %>% \n",
    "  right_join(subsettx, by = \"transcript_id\")\n",
    "\n",
    "subsettx <- lfcdata %>%\n",
    "  # select only genes that are downregulated in 3 cell types and 2 starved conditions\n",
    "  filter_if(is.numeric, all_vars(. <= 0)) %>% \n",
    "  select(transcript_id)\n",
    "\n",
    "subsetlfcdata <- lfcdata %>% \n",
    "  select(one_of(subset), transcript_id) %>% \n",
    "  right_join(subsettx, by = \"transcript_id\") %>% \n",
    "  left_join(cds, by = \"transcript_id\") %>% \n",
    "  select(gene_name, everything()) %>% \n",
    "  select(-transcript_id)\n",
    "\n",
    "# calculate the diff in log fc for each target, -Arg - -Leu\n",
    "plotdata <- subsetlfcdata %>% \n",
    "  inner_join(mtorc1_target_human_proteins, by = \"gene_name\") %>% \n",
    "  mutate(sum.lfc = rowSums(select_if(., is.numeric))) %>% \n",
    "  arrange(desc(sum.lfc)) %>% \n",
    "  mutate(diff_3hWT = X293t_rpC_arg_3h.vs.X293t_rpC_rich_3h - X293t_rpC_leu_3h.vs.X293t_rpC_rich_3h)  %>%\n",
    "  mutate(diff_6hWT = X293t_arg_6h.vs.X293t_rich_6h - X293t_leu_6h.vs.X293t_rich_6h)\n",
    "\n",
    "mean(plotdata[['diff_3hWT']])\n",
    "mean(plotdata[['diff_6hWT']])"
   ]
  },
  {
   "cell_type": "code",
   "execution_count": 242,
   "metadata": {},
   "outputs": [
    {
     "data": {},
     "metadata": {},
     "output_type": "display_data"
    },
    {
     "data": {
      "text/plain": [
       "\n",
       "\tWilcoxon signed rank test with continuity correction\n",
       "\n",
       "data:  plotdata$diff_3hWT\n",
       "V = 3274, p-value = 8.717e-09\n",
       "alternative hypothesis: true location is not equal to 0\n"
      ]
     },
     "metadata": {},
     "output_type": "display_data"
    },
    {
     "data": {
      "text/plain": [
       "\n",
       "\tWilcoxon signed rank test with continuity correction\n",
       "\n",
       "data:  plotdata$diff_6hWT\n",
       "V = 3594, p-value = 1.175e-12\n",
       "alternative hypothesis: true location is not equal to 0\n"
      ]
     },
     "metadata": {},
     "output_type": "display_data"
    },
    {
     "data": {
      "image/png": "[encoded data removed]",
      "text/plain": [
       "plot without title"
      ]
     },
     "metadata": {},
     "output_type": "display_data"
    }
   ],
   "source": [
    "options(repr.plot.width = 2., repr.plot.height = 3)\n",
    "\n",
    "samplenames  <- c('X293t_rpC_arg_3h.vs.X293t_rpC_rich_3h' = '3h, –Arg',\n",
    "            'X293t_rpC_leu_3h.vs.X293t_rpC_rich_3h' = '3h, –Leu',\n",
    "            'X293t_arg_6h.vs.X293t_rich_6h' = '6h, –Arg',\n",
    "            'X293t_leu_6h.vs.X293t_rich_6h' = '6h, –Leu'\n",
    ")\n",
    "\n",
    "\n",
    "plotdata %>% \n",
    "  select(-protein_id, -sum.lfc, -diff_3hWT, -diff_6hWT) %>% \n",
    "  gather(condition, lfc, -gene_name) %>% \n",
    "  mutate(condition = samplenames[condition]) %>% \n",
    "  ggpubr::ggboxplot(x = 'condition',\n",
    "                    y = 'lfc',\n",
    "                    color = 'black', \n",
    "                    size = 0.5, \n",
    "                    legend = \"none\") +\n",
    "  theme_minimal(base_family='Helvetica',base_size=10) +\n",
    "  theme(axis.text.x = element_text(angle = 45, hjust = 1, size = 8), \n",
    "        axis.text.y = element_text(size = 8),\n",
    "        plot.title = element_text(hjust =0.5, size=10)) +\n",
    "  ylab(expression(paste(\"log\"[2], ' f.c. ribosome density'))) +\n",
    "  xlab(\"293T, time / treatment\") +\n",
    "  labs(title = 'mTORC1 targets') +\n",
    "  theme(legend.position=\"none\") +\n",
    "  annotate(\"text\", x = 3.5, y = .25, label = '<10e-11', size=3) +\n",
    "  annotate(\"text\", x = 1.5, y = .25, label = '<10e-08', size =3) +\n",
    "  annotate(\"segment\", x = 2.75, xend = 4.25, y = .12, yend = .12, size = 0.25) +\n",
    "  annotate(\"segment\", x = 0.75, xend = 2.25, y = .12, yend = .12, size = 0.25) +\n",
    "  annotate(\"segment\", x = 0.75, xend = 0.75, y = .12, yend = .07, size = 0.25) +\n",
    "  annotate(\"segment\", x = 2.25, xend = 2.25, y = .12, yend = .07, size = 0.25) +\n",
    "  annotate(\"segment\", x = 2.75, xend = 2.75, y = .12, yend = .07, size = 0.25) +\n",
    "  annotate(\"segment\", x = 4.25, xend = 4.25, y = .12, yend = .07, size = 0.25)\n",
    "\n",
    "#perform Wilcoxon signed rank test for statistical signficance\n",
    "wilcox.test(plotdata$diff_3hWT, mu = 0, alternative = \"two.sided\")\n",
    "wilcox.test(plotdata$diff_6hWT, mu = 0, alternative = \"two.sided\")\n",
    "\n",
    "#ggsave('../figures/jitter_mtorc1targets_gt0_293ttc.svg', width = 2, height = 3, units = 'in')"
   ]
  },
  {
   "cell_type": "markdown",
   "metadata": {},
   "source": [
    "# Log FC Box Plots: ATF4/CHOP targets"
   ]
  },
  {
   "cell_type": "markdown",
   "metadata": {},
   "source": [
    "## plot difference in log fc for each ATF4/CHOP target gene in -Arg versus -Leu, HEK293T vs HCT116 vs HeLa (supp. fig. 3g, right panel; accompanies fig. 3d/f)"
   ]
  },
  {
   "cell_type": "code",
   "execution_count": 218,
   "metadata": {
    "collapsed": true
   },
   "outputs": [],
   "source": [
    "countdata  <- read_tsv('../tables/cds.counts.20180227.tsv', col_types = c(col_character()))\n",
    "lfcdata <- read_tsv('../tables/foldchange_samplepairs_20180227_1.tsv', col_types = c(col_character()))\n",
    "\n",
    "\n",
    "# these are fold changes that are considered for plotting\n",
    "subset <- c('hct116_arg_3h.vs.hct116_rich_3h',\n",
    "            'hct116_leu_3h.vs.hct116_rich_3h',\n",
    "            'hela_arg_mono_3h.vs.hela_rich_mono_3h',\n",
    "            'hela_leu_mono_3h.vs.hela_rich_mono_3h',\n",
    "            'X293t_rpC_arg_3h.vs.X293t_rpC_rich_3h',\n",
    "            'X293t_rpC_leu_3h.vs.X293t_rpC_rich_3h'\n",
    "           )\n",
    "\n",
    "# extra sample names from the sample pairs above\n",
    "subsetsamples <- subset %>% \n",
    "  str_split(\".vs.\") %>% \n",
    "  unlist %>% \n",
    "  unique\n",
    "\n",
    "subsettx <- countdata %>% \n",
    "  # select only tx having >100 counts across all samples used for fold change\n",
    "  filter_at(vars(one_of(subsetsamples)), all_vars(. >= 100)) %>% \n",
    "  select(transcript_id)\n",
    "\n",
    "lfcdata  <- lfcdata %>% \n",
    "  select(one_of(subset), transcript_id) %>% \n",
    "  right_join(subsettx, by = \"transcript_id\")\n",
    "\n",
    "subsettx <- lfcdata %>%\n",
    "  # select only genes that are upregulated in 3 cell types and 2 starved conditions\n",
    "  filter_if(is.numeric, all_vars(. >= 0)) %>% \n",
    "  select(transcript_id)\n",
    "\n",
    "subsetlfcdata <- lfcdata %>% \n",
    "  select(one_of(subset), transcript_id) %>% \n",
    "  right_join(subsettx, by = \"transcript_id\") %>% \n",
    "  left_join(cds, by = \"transcript_id\") %>% \n",
    "  select(gene_name, everything()) %>% \n",
    "  rename_all(funs(str_replace(., \"X293t_rpC\", \"X293t\"))) %>% \n",
    "  rename_if(is.numeric, funs(str_replace(., \"^([^_]+_[^_]+).+\", \"\\\\1\"))) %>% \n",
    "  select(-transcript_id) \n",
    "\n",
    "# calculate the diff in log fc for each target, -Arg - -Leu\n",
    "plotdata <- subsetlfcdata %>% \n",
    "  inner_join(human_atf4_targets, by = \"gene_name\") %>% \n",
    "  mutate(sum.lfc = rowSums(select_if(., is.numeric))) %>% \n",
    "  arrange(desc(sum.lfc)) %>% \n",
    "  mutate(diff_hct116 = hct116_arg - hct116_leu)  %>%\n",
    "  mutate(diff_hela = hela_arg - hela_leu) %>%\n",
    "  mutate(diff_293t = X293t_arg - X293t_leu)"
   ]
  },
  {
   "cell_type": "code",
   "execution_count": 220,
   "metadata": {},
   "outputs": [
    {
     "data": {},
     "metadata": {},
     "output_type": "display_data"
    },
    {
     "data": {
      "text/plain": [
       "\n",
       "\tWilcoxon signed rank test\n",
       "\n",
       "data:  plotdata$diff_hela\n",
       "V = 820, p-value = 1.819e-12\n",
       "alternative hypothesis: true location is not equal to 0\n"
      ]
     },
     "metadata": {},
     "output_type": "display_data"
    },
    {
     "data": {
      "text/plain": [
       "\n",
       "\tWilcoxon signed rank test with continuity correction\n",
       "\n",
       "data:  plotdata$diff_hct116\n",
       "V = 742, p-value = 9.334e-07\n",
       "alternative hypothesis: true location is not equal to 0\n"
      ]
     },
     "metadata": {},
     "output_type": "display_data"
    },
    {
     "data": {
      "text/plain": [
       "\n",
       "\tWilcoxon signed rank test\n",
       "\n",
       "data:  plotdata$diff_293t\n",
       "V = 484, p-value = 0.3269\n",
       "alternative hypothesis: true location is not equal to 0\n"
      ]
     },
     "metadata": {},
     "output_type": "display_data"
    },
    {
     "data": {
      "image/png": "[encoded data removed]",
      "text/plain": [
       "plot without title"
      ]
     },
     "metadata": {},
     "output_type": "display_data"
    }
   ],
   "source": [
    "options(repr.plot.width = 2, repr.plot.height = 4)\n",
    "\n",
    "samplenames  <- c(\n",
    "    'diff_hct116' = 'HCT116',\n",
    "    'diff_hela' = 'HeLa',\n",
    "    'diff_293t' = '293T'\n",
    ")\n",
    "\n",
    "\n",
    "plotdata %>% \n",
    "  select(gene_name, diff_hct116, diff_hela, diff_293t) %>% \n",
    "  gather(condition, lfc, -gene_name) %>% \n",
    "  mutate(condition = samplenames[condition]) %>% \n",
    "  mutate(condition = forcats::fct_rev(condition)) %>%\n",
    "  ggpubr::ggboxplot(x = 'condition',\n",
    "                    y = 'lfc',\n",
    "                    color = 'black', size = 0.5,\n",
    "                    legend = \"none\",\n",
    "                    order = c('293T','HCT116','HeLa')) + \n",
    "  theme_minimal(base_family='Helvetica',base_size=10) +\n",
    "  theme(axis.text.x = element_text(angle = 45, hjust = 1, size = 8), \n",
    "        axis.text.y = element_text(size = 8),\n",
    "        plot.title = element_text(hjust =0.5, size=10)) +\n",
    "  ylab(expression(paste('Difference in', \" log\"[2], ' f.c. (Arg – Leu)'))) +\n",
    "  xlab(\"Cell line\") +\n",
    "  labs(title = 'ATF4 / CHOP targets') +\n",
    "  theme(legend.position=\"none\")\n",
    "\n",
    "#perform Wilcoxon signed rank test for statistical signficance\n",
    "wilcox.test(plotdata$diff_293t, mu = 0, alternative = \"two.sided\")\n",
    "wilcox.test(plotdata$diff_hct116, mu = 0, alternative = \"two.sided\")\n",
    "wilcox.test(plotdata$diff_hela, mu = 0, alternative = \"two.sided\")\n",
    "\n",
    "#ggsave('../figures/jitter_difflfc_gcn2targets_threshgt0_all3celllines3h.svg', width = 2, height = 3, units = 'in')"
   ]
  },
  {
   "cell_type": "markdown",
   "metadata": {},
   "source": [
    "## plot absolute log fc values for each ATF4/CHOP target gene in -Arg versus -Leu, HEK293T vs HCT116 vs HeLa (fig. 3f, accompanies fig. 3d)"
   ]
  },
  {
   "cell_type": "code",
   "execution_count": 201,
   "metadata": {
    "collapsed": true
   },
   "outputs": [],
   "source": [
    "countdata  <- read_tsv('../tables/cds.counts.20180227.tsv', col_types = c(col_character()))\n",
    "lfcdata <- read_tsv('../tables/foldchange_samplepairs_20180227_1.tsv', col_types = c(col_character()))\n",
    "\n",
    "\n",
    "# these are fold changes that are considered for plotting\n",
    "subset <- c('hct116_arg_3h.vs.hct116_rich_3h',\n",
    "            'hct116_leu_3h.vs.hct116_rich_3h',\n",
    "            'hela_arg_mono_3h.vs.hela_rich_mono_3h',\n",
    "            'hela_leu_mono_3h.vs.hela_rich_mono_3h',\n",
    "            'X293t_rpC_arg_3h.vs.X293t_rpC_rich_3h',\n",
    "            'X293t_rpC_leu_3h.vs.X293t_rpC_rich_3h'\n",
    "           )\n",
    "\n",
    "# extra sample names from the sample pairs above\n",
    "subsetsamples <- subset %>% \n",
    "  str_split(\".vs.\") %>% \n",
    "  unlist %>% \n",
    "  unique\n",
    "\n",
    "subsettx <- countdata %>% \n",
    "  # select only tx having >100 counts across all samples used for fold change\n",
    "  filter_at(vars(one_of(subsetsamples)), all_vars(. >= 100)) %>% \n",
    "  select(transcript_id)\n",
    "\n",
    "lfcdata  <- lfcdata %>% \n",
    "  select(one_of(subset), transcript_id) %>% \n",
    "  right_join(subsettx, by = \"transcript_id\")\n",
    "\n",
    "subsettx <- lfcdata %>%\n",
    "  #select only genes that are downregulated in 3 cell types and 2 starved conditions\n",
    "  filter_if(is.numeric, all_vars(. >= 0)) %>% \n",
    "  select(transcript_id)\n",
    "\n",
    "subsetlfcdata <- lfcdata %>% \n",
    "  select(one_of(subset), transcript_id) %>% \n",
    "  right_join(subsettx, by = \"transcript_id\") %>% \n",
    "  left_join(cds, by = \"transcript_id\") %>% \n",
    "  select(gene_name, everything()) %>% \n",
    "  rename_all(funs(str_replace(., \"X293t_rpC\", \"X293t\"))) %>% \n",
    "  rename_if(is.numeric, funs(str_replace(., \"^([^_]+_[^_]+).+\", \"\\\\1\"))) %>% \n",
    "  select(-transcript_id)\n",
    "\n",
    "# calculate the diff in log fc for each target, -Arg - -Leu\n",
    "plotdata <- subsetlfcdata %>% \n",
    "  inner_join(human_atf4_targets, by = \"gene_name\") %>% \n",
    "  mutate(sum.lfc = rowSums(select_if(., is.numeric))) %>% \n",
    "  mutate(average.lfc = rowMeans(select_if(., is.numeric))) %>% \n",
    "  arrange(desc(sum.lfc)) %>% \n",
    "  mutate(diff_hct116 = hct116_arg - hct116_leu)  %>%\n",
    "  mutate(diff_hela = hela_arg - hela_leu) %>%\n",
    "  mutate(diff_293t = X293t_arg - X293t_leu)\n",
    "\n",
    "mean(plotdata[['diff_293t']])\n",
    "mean(plotdata[['diff_hct116']])\n",
    "mean(plotdata[['diff_hela']])"
   ]
  },
  {
   "cell_type": "code",
   "execution_count": 206,
   "metadata": {},
   "outputs": [
    {
     "name": "stdout",
     "output_type": "stream",
     "text": [
      "\n",
      "\tWilcoxon signed rank test\n",
      "\n",
      "data:  plotdata$diff_hela\n",
      "V = 820, p-value = 1.819e-12\n",
      "alternative hypothesis: true location is not equal to 0\n",
      "\n",
      "\n",
      "\tWilcoxon signed rank test with continuity correction\n",
      "\n",
      "data:  plotdata$diff_hct116\n",
      "V = 742, p-value = 9.334e-07\n",
      "alternative hypothesis: true location is not equal to 0\n",
      "\n",
      "\n",
      "\tWilcoxon signed rank test\n",
      "\n",
      "data:  plotdata$diff_293t\n",
      "V = 484, p-value = 0.3269\n",
      "alternative hypothesis: true location is not equal to 0\n",
      "\n"
     ]
    },
    {
     "data": {},
     "metadata": {},
     "output_type": "display_data"
    },
    {
     "data": {
      "image/png": "[encoded data removed]",
      "text/plain": [
       "plot without title"
      ]
     },
     "metadata": {},
     "output_type": "display_data"
    }
   ],
   "source": [
    "options(repr.plot.width = 2.5, repr.plot.height = 3)\n",
    "\n",
    "samplenames  <- c(\n",
    "    'hct116_arg' = 'HCT116, –Arg',\n",
    "    'hct116_leu' = 'HCT116, –Leu',\n",
    "    'hela_arg' = 'HeLa, –Arg',\n",
    "    'hela_leu' = 'HeLa, –Leu',\n",
    "    'X293t_arg' = '293T, –Arg',\n",
    "    'X293t_leu' = '293T, –Leu',\n",
    "    'diff_293t' = '293T, Arg – Leu',\n",
    "    'diff_hct116' = 'HCT116, Arg – Leu',\n",
    "    'diff_hela' = 'HeLa, Arg – Leu'\n",
    ")\n",
    "\n",
    "#perform Wilcoxon signed rank test for statistical signficance\n",
    "hela.p <- wilcox.test(plotdata$diff_hela, mu = 0, alternative = \"two.sided\") %>% print\n",
    "hct116.p <- wilcox.test(plotdata$diff_hct116, mu = 0, alternative = \"two.sided\") %>% print\n",
    "x293t.p <- wilcox.test(plotdata$diff_293t, mu = 0, alternative = \"two.sided\") %>% print\n",
    "\n",
    "\n",
    "plotdata %>% \n",
    "  select(-protein_id, -sum.lfc, -average.lfc, -diff_hela, -diff_hct116, -diff_293t) %>% \n",
    "  gather(condition, lfc, -gene_name) %>% \n",
    "  mutate(condition = samplenames[condition]) %>% \n",
    "  ggpubr::ggboxplot(x = 'condition',\n",
    "                    y = 'lfc',\n",
    "                    color = 'black', \n",
    "                    size = 0.5, \n",
    "                    order = c('293T, –Arg','293T, –Leu','293T, Arg – Leu','HCT116, –Arg','HCT116, –Leu','HCT116, Arg – Leu','HeLa, –Arg','HeLa, –Leu','HeLa, Arg – Leu'),\n",
    "                    legend = \"none\") +\n",
    "  theme_minimal(base_family='Helvetica',base_size=10) +\n",
    "  theme(axis.text.x = element_text(angle = 45, hjust = 1, size = 8), \n",
    "        axis.text.y = element_text(size = 8),\n",
    "        plot.title = element_text(hjust =0.5, size=10)) +\n",
    "  ylab(expression(paste(\"log\"[2], ' f.c. ribosome density'))) +\n",
    "  xlab(\"Cell line / treatment\") +\n",
    "  labs(title = 'ATF4 / CHOP targets') +\n",
    "  theme(legend.position=\"none\") +\n",
    "  annotate(\"text\", x = 5.5, y = 3.9, label = '<10e-11', size=3) +\n",
    "  annotate(\"text\", x = 3.5, y = 3.9, label = '<10e-06', size=3) +\n",
    "  annotate(\"text\", x = 1.5, y = 3.9, label = '>0.05', size=3) +\n",
    "  annotate(\"segment\", x = 4.75, xend = 6.25, y = 3.77, yend = 3.77, size = 0.25) +\n",
    "  annotate(\"segment\", x = 2.75, xend = 4.25, y = 3.77, yend = 3.77, size = 0.25) +\n",
    "  annotate(\"segment\", x = 0.75, xend = 2.25, y = 3.77, yend = 3.77, size = 0.25) +\n",
    "  annotate(\"segment\", x = 0.75, xend = 0.75, y = 3.77, yend = 3.72, size = 0.25) +\n",
    "  annotate(\"segment\", x = 2.25, xend = 2.25, y = 3.77, yend = 3.72, size = 0.25) +\n",
    "  annotate(\"segment\", x = 2.75, xend = 2.75, y = 3.77, yend = 3.72, size = 0.25) +\n",
    "  annotate(\"segment\", x = 4.25, xend = 4.25, y = 3.77, yend = 3.72, size = 0.25) +\n",
    "  annotate(\"segment\", x = 4.75, xend = 4.75, y = 3.77, yend = 3.72, size = 0.25) +\n",
    "  annotate(\"segment\", x = 6.25, xend = 6.25, y = 3.77, yend = 3.72, size = 0.25) \n",
    "\n",
    "#ggsave('../figures/jitter_gcn2targets_threshavggt1_all3celllines3h.svg', width = 2.5, height = 3, units = 'in')"
   ]
  },
  {
   "cell_type": "markdown",
   "metadata": {},
   "source": [
    "## plot absolute log fc values for each ATF4/CHOP target gene in -Arg versus -Leu, 3 hours vs 6 hours (supp. fig. 3f, accompanies supp. fig. 3d)"
   ]
  },
  {
   "cell_type": "code",
   "execution_count": 243,
   "metadata": {
    "collapsed": true
   },
   "outputs": [],
   "source": [
    "countdata  <- read_tsv('../tables/cds.counts.20180227.tsv', col_types = c(col_character()))\n",
    "lfcdata <- read_tsv('../tables/foldchange_samplepairs_20180227_1.tsv', col_types = c(col_character()))\n",
    "\n",
    "\n",
    "# these are fold changes that are considered for plotting\n",
    "subset <- c('X293t_rpC_arg_3h.vs.X293t_rpC_rich_3h',\n",
    "            'X293t_rpC_leu_3h.vs.X293t_rpC_rich_3h',\n",
    "            'X293t_arg_6h.vs.X293t_rich_6h',\n",
    "            'X293t_leu_6h.vs.X293t_rich_6h'\n",
    "           )\n",
    "\n",
    "# extra sample names from the sample pairs above\n",
    "subsetsamples <- subset %>% \n",
    "  str_split(\".vs.\") %>% \n",
    "  unlist %>% \n",
    "  unique\n",
    "\n",
    "subsettx <- countdata %>% \n",
    "  # select only tx having >100 counts across all samples used for fold change\n",
    "  filter_at(vars(one_of(subsetsamples)), all_vars(. >= 100)) %>% \n",
    "  select(transcript_id)\n",
    "\n",
    "lfcdata  <- lfcdata %>% \n",
    "  select(one_of(subset), transcript_id) %>% \n",
    "  right_join(subsettx, by = \"transcript_id\")\n",
    "\n",
    "subsettx <- lfcdata %>%\n",
    "  # select only genes that are downregulated in 3 cell types and 2 starved conditions\n",
    "  filter_if(is.numeric, all_vars(. >= 0)) %>% \n",
    "  select(transcript_id)\n",
    "\n",
    "subsetlfcdata <- lfcdata %>% \n",
    "  select(one_of(subset), transcript_id) %>% \n",
    "  right_join(subsettx, by = \"transcript_id\") %>% \n",
    "  left_join(cds, by = \"transcript_id\") %>% \n",
    "  select(gene_name, everything()) %>% \n",
    "  select(-transcript_id)\n",
    "\n",
    "# calculate the diff in log fc for each target, -Arg - -Leu\n",
    "plotdata <- subsetlfcdata %>% \n",
    "  inner_join(human_atf4_targets, by = \"gene_name\") %>% \n",
    "  mutate(sum.lfc = rowSums(select_if(., is.numeric))) %>% \n",
    "  arrange(desc(sum.lfc)) %>% \n",
    "  mutate(diff_3hWT = X293t_rpC_arg_3h.vs.X293t_rpC_rich_3h - X293t_rpC_leu_3h.vs.X293t_rpC_rich_3h)  %>%\n",
    "  mutate(diff_6hWT = X293t_arg_6h.vs.X293t_rich_6h - X293t_leu_6h.vs.X293t_rich_6h)\n",
    "\n",
    "mean(plotdata[['diff_3hWT']])\n",
    "mean(plotdata[['diff_6hWT']])"
   ]
  },
  {
   "cell_type": "code",
   "execution_count": 244,
   "metadata": {},
   "outputs": [
    {
     "data": {},
     "metadata": {},
     "output_type": "display_data"
    },
    {
     "data": {
      "text/plain": [
       "\n",
       "\tWilcoxon signed rank test with continuity correction\n",
       "\n",
       "data:  plotdata$diff_3hWT\n",
       "V = 1584.5, p-value = 0.1993\n",
       "alternative hypothesis: true location is not equal to 0\n"
      ]
     },
     "metadata": {},
     "output_type": "display_data"
    },
    {
     "data": {
      "text/plain": [
       "\n",
       "\tWilcoxon signed rank test with continuity correction\n",
       "\n",
       "data:  plotdata$diff_6hWT\n",
       "V = 1978, p-value = 0.0005669\n",
       "alternative hypothesis: true location is not equal to 0\n"
      ]
     },
     "metadata": {},
     "output_type": "display_data"
    },
    {
     "data": {
      "image/png": "[encoded data removed]",
      "text/plain": [
       "plot without title"
      ]
     },
     "metadata": {},
     "output_type": "display_data"
    }
   ],
   "source": [
    "options(repr.plot.width = 2., repr.plot.height = 3)\n",
    "\n",
    "samplenames  <- c('X293t_rpC_arg_3h.vs.X293t_rpC_rich_3h' = '3h, –Arg',\n",
    "            'X293t_rpC_leu_3h.vs.X293t_rpC_rich_3h' = '3h, –Leu',\n",
    "            'X293t_arg_6h.vs.X293t_rich_6h' = '6h, –Arg',\n",
    "            'X293t_leu_6h.vs.X293t_rich_6h' = '6h, –Leu'\n",
    ")\n",
    "\n",
    "\n",
    "plotdata %>% \n",
    "  select(-protein_id, -sum.lfc, -diff_3hWT, -diff_6hWT) %>% \n",
    "  gather(condition, lfc, -gene_name) %>% \n",
    "  mutate(condition = samplenames[condition]) %>% \n",
    "  ggpubr::ggboxplot(x = 'condition',\n",
    "                    y = 'lfc',\n",
    "                    color = 'black', \n",
    "                    size = 0.5, \n",
    "                    legend = \"none\") +\n",
    "  theme_minimal(base_family='Helvetica',base_size=10) +\n",
    "  theme(axis.text.x = element_text(angle = 45, hjust = 1, size = 8), \n",
    "        axis.text.y = element_text(size = 8),\n",
    "        plot.title = element_text(hjust =0.5, size=10)) +\n",
    "  ylab(expression(paste(\"log\"[2], ' f.c. ribosome density'))) +\n",
    "  xlab(\"293T, time / treatment\") +\n",
    "  labs(title = 'ATF4 / CHOP targets') +\n",
    "  theme(legend.position=\"none\") +\n",
    "  annotate(\"text\", x = 3.5, y = 3.3, label = '<10e-3', size=3) +\n",
    "  annotate(\"text\", x = 1.5, y = 3.3, label = '>0.05', size =3) +\n",
    "  annotate(\"segment\", x = 2.75, xend = 4.25, y = 3.2, yend = 3.2, size = 0.25) +\n",
    "  annotate(\"segment\", x = 0.75, xend = 2.25, y = 3.2, yend = 3.2, size = 0.25) +\n",
    "  annotate(\"segment\", x = 0.75, xend = 0.75, y = 3.2, yend = 3.15, size = 0.25) +\n",
    "  annotate(\"segment\", x = 2.25, xend = 2.25, y = 3.2, yend = 3.15, size = 0.25) +\n",
    "  annotate(\"segment\", x = 2.75, xend = 2.75, y = 3.2, yend = 3.15, size = 0.25) +\n",
    "  annotate(\"segment\", x = 4.25, xend = 4.25, y = 3.2, yend = 3.15, size = 0.25)\n",
    "\n",
    "#perform Wilcoxon signed rank test for statistical signficance\n",
    "wilcox.test(plotdata$diff_3hWT, mu = 0, alternative = \"two.sided\")\n",
    "wilcox.test(plotdata$diff_6hWT, mu = 0, alternative = \"two.sided\")\n",
    "\n",
    "\n",
    "#ggsave('../figures/jitter_gcn2targets_gt0_293ttc.svg', width = 2, height = 3, units = 'in')"
   ]
  }
 ],
 "metadata": {
  "kernelspec": {
   "display_name": "R",
   "language": "R",
   "name": "ir"
  },
  "language_info": {
   "codemirror_mode": "r",
   "file_extension": ".r",
   "mimetype": "text/x-r-source",
   "name": "R",
   "pygments_lexer": "r",
   "version": "3.4.0"
  }
 },
 "nbformat": 4,
 "nbformat_minor": 2
}
