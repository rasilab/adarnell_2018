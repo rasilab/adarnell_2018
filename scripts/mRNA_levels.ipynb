{
 "cells": [
  {
   "cell_type": "markdown",
   "metadata": {
    "toc": "true"
   },
   "source": [
    "# Table of Contents for example analysis (Supp. Fig. 6D)\n",
    " <p><div class=\"lev1 toc-item\"><a href=\"#Import-libraries\" data-toc-modified-id=\"Import-libraries-1\"><span class=\"toc-item-num\">1&nbsp;&nbsp;</span>Import libraries</a></div><div class=\"lev1 toc-item\"><a href=\"#Load-mRNA-level-data:-HEK293T-Arg-codon-variants-YFP-CGC-+TMP-vs.-YFP-CGG-+TMP,-CRISPR-reporter-@-AAVS1\"><span class=\"toc-item-num\">2&nbsp;&nbsp;</span>Load mRNA level data: HEK293T Arg codon variants YFP-CGC +TMP vs. YFP-CGG +TMP, CRISPR reporter @ AAVS1</a></div><div class=\"lev1 toc-item\"><a href=\"#Plot-data\" data-toc-modified-id=\"Plot-data-2\"><span class=\"toc-item-num\">3&nbsp;&nbsp;</span>Plot data</a></div>\n",
    " \n",
    "* this analysis is repeated for all other mRNA level measurements below : Supp. Fig. 6D,E"
   ]
  },
  {
   "cell_type": "markdown",
   "metadata": {},
   "source": [
    "# Import libraries"
   ]
  },
  {
   "cell_type": "code",
   "execution_count": 1,
   "metadata": {},
   "outputs": [
    {
     "name": "stderr",
     "output_type": "stream",
     "text": [
      "Loading tidyverse: ggplot2\n",
      "Loading tidyverse: tibble\n",
      "Loading tidyverse: tidyr\n",
      "Loading tidyverse: readr\n",
      "Loading tidyverse: purrr\n",
      "Loading tidyverse: dplyr\n",
      "Warning message:\n",
      "“package ‘purrr’ was built under R version 3.4.1”Warning message:\n",
      "“package ‘dplyr’ was built under R version 3.4.1”Conflicts with tidy packages ---------------------------------------------------\n",
      "filter(): dplyr, stats\n",
      "lag():    dplyr, stats\n"
     ]
    }
   ],
   "source": [
    "library(tidyverse)\n",
    "library(Cairo)\n",
    "options(warn=-1)\n",
    "\n",
    "# color blind palette\n",
    "# http://www.cookbook-r.com/Graphs/Colors_(ggplot2)/#a-colorblind-friendly-palette\n",
    "cbPalette <- c(\"#666666\", \"#E69F00\", \"#56B4E9\", \n",
    "               \"#009E73\", \"#CC79A7\", \"#0072B2\", \"#D55E00\", \"#F0E442\")\n",
    "\n",
    "theme_set(theme_classic(base_family = \"Helvetica\", base_size = 8) +\n",
    "theme(          \n",
    "  strip.background = element_blank(),\n",
    "  strip.text.x = element_text(size = 8),\n",
    "  axis.line = element_line(size = .25),\n",
    "  axis.ticks = element_line(size = .25),\n",
    "  axis.text.x = element_text(size = 8, color = 'black'),\n",
    "  axis.text.y = element_text(size = 8, color = 'black'),\n",
    "  legend.text = element_text(size = 8),\n",
    "    \n",
    "))"
   ]
  },
  {
   "cell_type": "markdown",
   "metadata": {},
   "source": [
    "# Load mRNA level data: HEK293T Arg codon variants YFP-CGC +TMP vs. YFP-CGG +TMP, CRISPR reporter @ AAVS1"
   ]
  },
  {
   "cell_type": "code",
   "execution_count": 39,
   "metadata": {},
   "outputs": [
    {
     "name": "stdout",
     "output_type": "stream",
     "text": [
      "# A tibble: 6 x 12\n",
      "  tmp_10uM samplelabel mean_normalizedRNAlevel      stdev      sterr reporter\n",
      "     <chr>       <chr>                   <dbl>      <dbl>      <dbl>    <chr>\n",
      "1     plus        Rich               1.0000000 0.23475554 0.13553617       WT\n",
      "2     plus        –Leu               0.8853695 0.16729977 0.09659057       WT\n",
      "3     plus        –Arg               0.5128679 0.08336005 0.04812795       WT\n",
      "4     plus        Rich               0.4908208 0.15631543 0.09024876      CGG\n",
      "5     plus        –Leu               0.4370057 0.13864330 0.08004575      CGG\n",
      "6     plus        –Arg               0.2881402 0.07971481 0.04602336      CGG\n",
      "# ... with 6 more variables: time <int>, sampleorder <int>,\n",
      "#   normalizedtorich_withinreporter <dbl>, stdev_normalized <dbl>,\n",
      "#   sterr_normalized <dbl>, xlabel <chr>\n"
     ]
    }
   ],
   "source": [
    "file <- \"../rawdata/rt_qpcr/suppfig6//mRNAlevelpsr_yfpWTvsCGG_crispraavs1293t_24h_richleuarg_plusminustmp/processeddata//20160627_yfpwtcgg_crispraavs1_hek293t_24h_3reps_richleuarg.csv\"\n",
    "data <- read_csv(file, col_types = c(col_integer())) %>% \n",
    "  mutate(samplelabel = stringr::str_replace(samplelabel, '-','\\u2013')) %>% \n",
    "  mutate(xlabel = paste(reporter, samplelabel, sep = \"_\")) %>% \n",
    "  arrange(sampleorder) %>% \n",
    "  print"
   ]
  },
  {
   "cell_type": "markdown",
   "metadata": {},
   "source": [
    "# Plot data"
   ]
  },
  {
   "cell_type": "code",
   "execution_count": 40,
   "metadata": {},
   "outputs": [
    {
     "data": {},
     "metadata": {},
     "output_type": "display_data"
    },
    {
     "data": {
      "image/png": "[encoded data removed]",
      "text/plain": [
       "plot without title"
      ]
     },
     "metadata": {},
     "output_type": "display_data"
    }
   ],
   "source": [
    "options(repr.plot.width = 1.7, repr.plot.height = 1.5)\n",
    "\n",
    "\n",
    "test <- Vectorize(function(x) {\n",
    "  data %>% select(samplelabel)\n",
    "})\n",
    "\n",
    "p  <- data %>% \n",
    "  ggplot(aes(x = forcats::fct_rev(xlabel), y = mean_normalizedRNAlevel * 100)) +\n",
    "  geom_col() +\n",
    "  geom_errorbar(aes(ymin = (mean_normalizedRNAlevel - sterr)*100,\n",
    "                    ymax = (mean_normalizedRNAlevel + sterr)*100), \n",
    "                width = 0.2, size = 0.25)  +\n",
    "  theme(axis.text.x = element_text(angle = 45, hjust = 1), plot.title = element_text(hjust = 0.5, size=8)) +\n",
    "  scale_y_continuous(breaks= scales::pretty_breaks(n=3), limits = c(0, 160)) +\n",
    "  scale_x_discrete(labels = test) +\n",
    "  xlab(\"\") + ylab(\"mRNA level\\n(% of CGC, Rich +TMP)\") + ggtitle(\"+TMP\")+\n",
    "  annotate(\"segment\", x = 0.6, xend = 3.4, y = 144, yend = 144, size = 0.25) +\n",
    "  annotate(\"text\", x = 2, y = 149, label = \"CGC\", vjust = 0, size = 3) +\n",
    "  annotate(\"segment\", x = 3.6, xend = 6.4, y = 144, yend = 144, size = 0.25) +\n",
    "  annotate(\"text\", x = 5, y = 149, label = \"CGG\", vjust = 0, size = 3) \n",
    "\n",
    "p\n",
    "\n",
    "ggsave(\"../figures/suppfig6c_1.pdf\", width = 1.7, height = 1.5, device = cairo_pdf)"
   ]
  },
  {
   "cell_type": "code",
   "execution_count": 29,
   "metadata": {},
   "outputs": [
    {
     "data": {},
     "metadata": {},
     "output_type": "display_data"
    },
    {
     "data": {
      "image/png": "[encoded data removed]",
      "text/plain": [
       "plot without title"
      ]
     },
     "metadata": {},
     "output_type": "display_data"
    }
   ],
   "source": [
    "options(repr.plot.width = 1.7, repr.plot.height = 1.5)\n",
    "\n",
    "\n",
    "test <- Vectorize(function(x) {\n",
    "  data %>% select(samplelabel)\n",
    "})\n",
    "\n",
    "p  <- data %>% \n",
    "  ggplot(aes(x = forcats::fct_rev(xlabel), y = normalizedtorich_withinreporter * 100)) +\n",
    "  geom_col() +\n",
    "  geom_errorbar(aes(ymin = (normalizedtorich_withinreporter - sterr_normalized)*100,\n",
    "                    ymax = (normalizedtorich_withinreporter + sterr_normalized)*100), \n",
    "                width = 0.2, size = 0.25)  +\n",
    "  theme(axis.text.x = element_text(angle = 45, hjust = 1), plot.title = element_text(hjust = 0.5, size=8)) +\n",
    "  scale_y_continuous(breaks= scales::pretty_breaks(n=3), limits = c(0, 160)) +\n",
    "  scale_x_discrete(labels = test) +\n",
    "  xlab(\"\") + ylab(\"mRNA level\\n(% of Rich)\") + ggtitle(\"+TMP\")+\n",
    "  annotate(\"segment\", x = 0.6, xend = 3.4, y = 144, yend = 144, size = 0.25) +\n",
    "  annotate(\"text\", x = 2, y = 149, label = \"CGC\", vjust = 0, size = 3) +\n",
    "  annotate(\"segment\", x = 3.6, xend = 6.4, y = 144, yend = 144, size = 0.25) +\n",
    "  annotate(\"text\", x = 5, y = 149, label = \"CGG\", vjust = 0, size = 3) \n",
    "\n",
    "p\n",
    "\n",
    "ggsave(\"../figures/suppfig6c_3.pdf\", width = 1.7, height = 1.5, device = cairo_pdf)"
   ]
  },
  {
   "cell_type": "markdown",
   "metadata": {},
   "source": [
    "# repeat for HEK293T Arg codon variants YFP-CGC –TMP vs. YFP-CGG –TMP, CRISPR reporter @ AAVS1 (supp. fig. 6d, second/fourth panels)"
   ]
  },
  {
   "cell_type": "code",
   "execution_count": 36,
   "metadata": {},
   "outputs": [
    {
     "name": "stdout",
     "output_type": "stream",
     "text": [
      "# A tibble: 6 x 12\n",
      "  tmp_10uM samplelabel mean_normalizedRNAlevel      stdev      sterr reporter\n",
      "     <chr>       <chr>                   <dbl>      <dbl>      <dbl>    <chr>\n",
      "1    minus        Rich               0.7714454 0.19394981 0.11197697       WT\n",
      "2    minus        –Leu               0.8810511 0.26052854 0.15041622       WT\n",
      "3    minus        –Arg               0.4544490 0.07951072 0.04590554       WT\n",
      "4    minus        Rich               0.5582555 0.14153795 0.08171697      CGG\n",
      "5    minus        –Leu               0.4933928 0.09744308 0.05625879      CGG\n",
      "6    minus        –Arg               0.2615689 0.07780827 0.04492263      CGG\n",
      "# ... with 6 more variables: time <int>, sampleorder <int>,\n",
      "#   normalizedtorich_withinreporter <dbl>, stdev_normalized <dbl>,\n",
      "#   sterr_normalized <dbl>, xlabel <chr>\n"
     ]
    }
   ],
   "source": [
    "file <- \"../rawdata/rt_qpcr/suppfig6//mRNAlevelpsr_yfpWTvsCGG_crispraavs1293t_24h_richleuarg_plusminustmp/processeddata/20160627_yfpwtcgg_crispraavs1_hek293t_24h_3reps_richleuarg_minustmp.csv\"\n",
    "data <- read_csv(file, col_types = c(col_integer())) %>% \n",
    "  mutate(samplelabel = stringr::str_replace(samplelabel, '-','\\u2013')) %>% \n",
    "  mutate(xlabel = paste(reporter, samplelabel, sep = \"_\")) %>% \n",
    "  arrange(sampleorder) %>% \n",
    "  print"
   ]
  },
  {
   "cell_type": "code",
   "execution_count": 38,
   "metadata": {},
   "outputs": [
    {
     "data": {},
     "metadata": {},
     "output_type": "display_data"
    },
    {
     "data": {
      "image/png": "[encoded data removed]",
      "text/plain": [
       "plot without title"
      ]
     },
     "metadata": {},
     "output_type": "display_data"
    }
   ],
   "source": [
    "options(repr.plot.width = 1.7, repr.plot.height = 1.5)\n",
    "\n",
    "\n",
    "test <- Vectorize(function(x) {\n",
    "  data %>% select(samplelabel)\n",
    "})\n",
    "\n",
    "p  <- data %>% \n",
    "  ggplot(aes(x = forcats::fct_rev(xlabel), y = mean_normalizedRNAlevel * 100)) +\n",
    "  geom_col() +\n",
    "  geom_errorbar(aes(ymin = (mean_normalizedRNAlevel - sterr)*100,\n",
    "                    ymax = (mean_normalizedRNAlevel + sterr)*100), \n",
    "                width = 0.2, size = 0.25)  +\n",
    "  theme(axis.text.x = element_text(angle = 45, hjust = 1), plot.title = element_text(hjust = 0.5, size=8)) +\n",
    "  scale_y_continuous(breaks= scales::pretty_breaks(n=3), limits = c(0, 160)) +\n",
    "  scale_x_discrete(labels = test) +\n",
    "  xlab(\"\") + ylab(\"mRNA level\\n(% of CGC, Rich +TMP)\") + ggtitle(\"–TMP\")+\n",
    "  annotate(\"segment\", x = 0.6, xend = 3.4, y = 144, yend = 144, size = 0.25) +\n",
    "  annotate(\"text\", x = 2, y = 149, label = \"CGC\", vjust = 0, size = 3) +\n",
    "  annotate(\"segment\", x = 3.6, xend = 6.4, y = 144, yend = 144, size = 0.25) +\n",
    "  annotate(\"text\", x = 5, y = 149, label = \"CGG\", vjust = 0, size = 3) \n",
    "\n",
    "p\n",
    "\n",
    "ggsave(\"../figures/suppfig6c_2.pdf\", width = 1.7, height = 1.5, device = cairo_pdf)"
   ]
  },
  {
   "cell_type": "code",
   "execution_count": 27,
   "metadata": {},
   "outputs": [
    {
     "data": {},
     "metadata": {},
     "output_type": "display_data"
    },
    {
     "data": {
      "image/png": "[encoded data removed]",
      "text/plain": [
       "plot without title"
      ]
     },
     "metadata": {},
     "output_type": "display_data"
    }
   ],
   "source": [
    "options(repr.plot.width = 1.7, repr.plot.height = 1.5)\n",
    "\n",
    "\n",
    "test <- Vectorize(function(x) {\n",
    "  data %>% select(samplelabel)\n",
    "})\n",
    "\n",
    "p  <- data %>% \n",
    "  ggplot(aes(x = forcats::fct_rev(xlabel), y = normalizedtorich_withinreporter * 100)) +\n",
    "  geom_col() +\n",
    "  geom_errorbar(aes(ymin = (normalizedtorich_withinreporter - sterr_normalized)*100,\n",
    "                    ymax = (normalizedtorich_withinreporter + sterr_normalized)*100), \n",
    "                width = 0.2, size = 0.25)  +\n",
    "  theme(axis.text.x = element_text(angle = 45, hjust = 1), plot.title = element_text(hjust = 0.5, size=8)) +\n",
    "  scale_y_continuous(breaks= scales::pretty_breaks(n=3), limits = c(0, 160)) +\n",
    "  scale_x_discrete(labels = test) +\n",
    "  xlab(\"\") + ylab(\"mRNA level\\n(% of Rich)\") + ggtitle(\"–TMP\")+\n",
    "  annotate(\"segment\", x = 0.6, xend = 3.4, y = 144, yend = 144, size = 0.25) +\n",
    "  annotate(\"text\", x = 2, y = 149, label = \"CGC\", vjust = 0, size = 3) +\n",
    "  annotate(\"segment\", x = 3.6, xend = 6.4, y = 144, yend = 144, size = 0.25) +\n",
    "  annotate(\"text\", x = 5, y = 149, label = \"CGG\", vjust = 0, size = 3) \n",
    "\n",
    "p\n",
    "\n",
    "ggsave(\"../figures/suppfig6c_5.pdf\", width = 1.7, height = 1.5, device = cairo_pdf)"
   ]
  },
  {
   "cell_type": "markdown",
   "metadata": {},
   "source": [
    "# repeat for HEK293T Arg codon variants  ratio YFP-CGG/YFP-CGC, CRISPR reporter @ AAVS1 (supp. fig. 6d, last panel)"
   ]
  },
  {
   "cell_type": "code",
   "execution_count": 30,
   "metadata": {},
   "outputs": [
    {
     "name": "stdout",
     "output_type": "stream",
     "text": [
      "# A tibble: 6 x 8\n",
      "  tmp_10uM samplelabel ratio_cggovercgc     stdev     sterr  time sampleorder\n",
      "     <chr>       <chr>            <dbl>     <dbl>     <dbl> <int>       <int>\n",
      "1     plus        Rich        0.4908208 0.1941928 0.1121172    24           1\n",
      "2     plus        –Leu        0.4935856 0.1822650 0.1052308    24           2\n",
      "3     plus        –Arg        0.5618216 0.1802695 0.1040787    24           3\n",
      "4    minus        Rich        0.7236488 0.2583822 0.1491770    24           4\n",
      "5    minus        –Leu        0.5600048 0.1991321 0.1149690    24           5\n",
      "6    minus        –Arg        0.5755736 0.1986340 0.1146814    24           6\n",
      "# ... with 1 more variables: xlabel <chr>\n"
     ]
    }
   ],
   "source": [
    "file <- \"../rawdata/rt_qpcr/suppfig6//mRNAlevelpsr_yfpWTvsCGG_crispraavs1293t_24h_richleuarg_plusminustmp/processeddata//yfpwtcgg_RATIO_crispraavs1_hek293t_24h_3reps_richleuarg.csv\"\n",
    "data <- read_csv(file, col_types = c(col_integer())) %>% \n",
    "  mutate(samplelabel = stringr::str_replace(samplelabel, '-','\\u2013')) %>% \n",
    "  mutate(xlabel = paste(tmp_10uM, samplelabel, sep = \"_\")) %>% \n",
    "  arrange(sampleorder) %>% \n",
    "  print"
   ]
  },
  {
   "cell_type": "code",
   "execution_count": 32,
   "metadata": {},
   "outputs": [
    {
     "data": {},
     "metadata": {},
     "output_type": "display_data"
    },
    {
     "data": {
      "image/png": "[encoded data removed]",
      "text/plain": [
       "plot without title"
      ]
     },
     "metadata": {},
     "output_type": "display_data"
    }
   ],
   "source": [
    "options(repr.plot.width = 1.7, repr.plot.height = 1.5)\n",
    "\n",
    "\n",
    "test <- Vectorize(function(x) {\n",
    "  data %>% select(samplelabel)\n",
    "})\n",
    "\n",
    "p  <- data %>% \n",
    "  ggplot(aes(x = forcats::fct_rev(xlabel), y = ratio_cggovercgc)) +\n",
    "  geom_col() +\n",
    "  geom_errorbar(aes(ymin = (ratio_cggovercgc - sterr),\n",
    "                    ymax = (ratio_cggovercgc + sterr)), \n",
    "                width = 0.2, size = 0.25)  +\n",
    "  theme(axis.text.x = element_text(angle = 45, hjust = 1), plot.title = element_text(hjust = 0.5, size=8)) +\n",
    "  scale_y_continuous(breaks= scales::pretty_breaks(n=3), limits = c(0, 1.6)) +\n",
    "  scale_x_discrete(labels = test) +\n",
    "  xlab(\"\") + ylab(\"ratio of mRNA levels\\n(CGG/CGC)\") + ggtitle(\" \")+\n",
    "  annotate(\"segment\", x = 0.6, xend = 3.4, y = 1.440, yend = 1.440, size = 0.25) +\n",
    "  annotate(\"text\", x = 2, y = 1.49, label = \"+TMP\", vjust = 0, size = 3) +\n",
    "  annotate(\"segment\", x = 3.6, xend = 6.4, y = 1.440, yend = 1.440, size = 0.25) +\n",
    "  annotate(\"text\", x = 5, y = 1.49, label = \"–TMP\", vjust = 0, size = 3) \n",
    "\n",
    "p\n",
    "\n",
    "ggsave(\"../figures/suppfig6c_6.pdf\", width = 1.7, height = 1.5, device = cairo_pdf)"
   ]
  },
  {
   "cell_type": "markdown",
   "metadata": {
    "collapsed": true
   },
   "source": [
    "# repeat for HEK293T & GCN2 KO premature termination reporter codon variants uug8, cua8 (supp. fig. 6e)"
   ]
  },
  {
   "cell_type": "code",
   "execution_count": 57,
   "metadata": {},
   "outputs": [
    {
     "name": "stdout",
     "output_type": "stream",
     "text": [
      "[1] \"cta8\" \"ttg8\"\n",
      "# A tibble: 12 x 15\n",
      "   celline reporter samplelabel relativenormalizedexpressionlevel_prepause\n",
      "     <chr>    <chr>       <chr>                                      <dbl>\n",
      " 1      WT     CTA8        Rich                                  1.0000000\n",
      " 2      WT     CTA8        –Leu                                  2.3275455\n",
      " 3      WT     CTA8        –Arg                                  1.3432147\n",
      " 4 GCN2 KO     CTA8        Rich                                  1.0350830\n",
      " 5 GCN2 KO     CTA8        –Leu                                  4.9146028\n",
      " 6 GCN2 KO     CTA8        –Arg                                  2.7036970\n",
      " 7      WT     TTG8        Rich                                  0.8733204\n",
      " 8      WT     TTG8        –Leu                                  3.4052888\n",
      " 9      WT     TTG8        –Arg                                  1.1909499\n",
      "10 GCN2 KO     TTG8        Rich                                  1.2116388\n",
      "11 GCN2 KO     TTG8        –Leu                                  8.2650260\n",
      "12 GCN2 KO     TTG8        –Arg                                  2.7620095\n",
      "# ... with 11 more variables:\n",
      "#   relativenormalizedexpressionlevel_spanpause <dbl>,\n",
      "#   relativenormalizedexpressionlevel_postpause <dbl>, stdev_prepause <dbl>,\n",
      "#   stdev_spanpause <dbl>, stdev_postpause <dbl>, sem_prepause <dbl>,\n",
      "#   sem_spanpause <dbl>, sem_postpause <dbl>, time <int>, sampleorder <dbl>,\n",
      "#   xlabel <fctr>\n"
     ]
    }
   ],
   "source": [
    "datafiles <- '../rawdata/rt_qpcr/suppfig6/mRNAlevelptr_cua8uug8_wtgcn2kO_48h_richleuarg_minustmp/processeddata/'  %>% \n",
    "  list.files(pattern = \"csv$\", full.names = T)\n",
    "samplenames <- datafiles %>% \n",
    "  stringr::str_match(\"/([^_/]+)[^/]+$\") %>% \n",
    "  magrittr::extract(,2) %>%\n",
    "  print\n",
    "data <- datafiles %>% \n",
    "  lapply(. %>% read_csv(col_types = c(col_character()))) %>% \n",
    "  magrittr::set_names(samplenames) %>% \n",
    "  bind_rows() %>% \n",
    "  mutate(samplelabel = stringr::str_replace(samplelabel, '-','\\u2013')) %>% \n",
    "  mutate(xlabel = paste(celline, samplelabel, sep = \"_\")) %>% \n",
    "  mutate(sampleorder = c(1,2,3,4,5,6,7,8,9,10,11,12)) %>% \n",
    "  mutate(xlabel = forcats::fct_reorder(xlabel, sampleorder)) %>% \n",
    "  arrange(sampleorder) %>% \n",
    "  print"
   ]
  },
  {
   "cell_type": "code",
   "execution_count": 74,
   "metadata": {},
   "outputs": [
    {
     "data": {},
     "metadata": {},
     "output_type": "display_data"
    },
    {
     "data": {
      "image/png": "[encoded data removed]",
      "text/plain": [
       "plot without title"
      ]
     },
     "metadata": {},
     "output_type": "display_data"
    }
   ],
   "source": [
    "options(repr.plot.width = 3.1, repr.plot.height = 1.7)\n",
    "\n",
    "test <- Vectorize(function(x) {\n",
    "  data %>% select(samplelabel)\n",
    "})\n",
    "\n",
    "data %>% mutate(reporter = stringr::str_replace(reporter, \"TTG\", \"UUG\")) %>% mutate(reporter = stringr::str_replace(reporter, \"CTA\", \"CUA\")) %>%\n",
    "  ggplot(aes(x = xlabel, y = relativenormalizedexpressionlevel_spanpause * 100)) +\n",
    "  geom_col() +\n",
    "  geom_errorbar(aes(ymin = (relativenormalizedexpressionlevel_spanpause - sem_spanpause)*100,\n",
    "                    ymax = (relativenormalizedexpressionlevel_spanpause + sem_spanpause)*100), \n",
    "                width = 0.2, size = 0.25)  +\n",
    "  facet_wrap(~reporter, ncol = 2, scales = \"free_x\") +\n",
    "  scale_x_discrete(labels = test) +\n",
    "  scale_y_continuous(breaks= scales::pretty_breaks(n=3), limits = c(0, 1400)) +\n",
    "  xlab(\"\") + ylab(\"mRNA level\\n(% of CUA8, Rich)\") +\n",
    "  theme(panel.spacing = unit(1, \"lines\"),\n",
    "        axis.text.x = element_text(angle = 45, hjust = 1)) +\n",
    "  annotate(\"segment\", x = 0.6, xend = 3.4, y = 1200, yend = 1200, size = 0.25) +\n",
    "  annotate(\"text\", x = 2, y = 1250, label = \"WT\", vjust = 0, size = 3) +\n",
    "  annotate(\"segment\", x = 3.6, xend = 6.4, y = 1200, yend = 1200, size = 0.25) +\n",
    "  annotate(\"text\", x = 5, y = 1250, label = \"GCN2 KO\", vjust = 0, size = 3) \n",
    "\n",
    "\n",
    "ggsave(\"../figures/suppfig6d.pdf\", width = 3.1, height = 1.7, device = cairo_pdf)"
   ]
  }
 ],
 "metadata": {
  "kernelspec": {
   "display_name": "R",
   "language": "R",
   "name": "ir"
  },
  "language_info": {
   "codemirror_mode": "r",
   "file_extension": ".r",
   "mimetype": "text/x-r-source",
   "name": "R",
   "pygments_lexer": "r",
   "version": "3.4.0"
  },
  "toc": {
   "colors": {
    "hover_highlight": "#DAA520",
    "navigate_num": "#000000",
    "navigate_text": "#333333",
    "running_highlight": "#FF0000",
    "selected_highlight": "#FFD700",
    "sidebar_border": "#EEEEEE",
    "wrapper_background": "#FFFFFF"
   },
   "moveMenuLeft": true,
   "nav_menu": {
    "height": "12px",
    "width": "252px"
   },
   "navigate_menu": true,
   "number_sections": true,
   "sideBar": true,
   "threshold": 4,
   "toc_cell": true,
   "toc_position": {
    "height": "875px",
    "left": "0px",
    "right": "1533.47px",
    "top": "111px",
    "width": "212px"
   },
   "toc_section_display": "block",
   "toc_window_display": true,
   "widenNotebook": false
  }
 },
 "nbformat": 4,
 "nbformat_minor": 2
}
