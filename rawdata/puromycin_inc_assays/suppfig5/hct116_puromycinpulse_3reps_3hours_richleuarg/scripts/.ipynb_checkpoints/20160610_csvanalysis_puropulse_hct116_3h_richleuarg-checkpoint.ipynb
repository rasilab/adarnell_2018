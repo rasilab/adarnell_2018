{
 "cells": [
  {
   "cell_type": "code",
   "execution_count": null,
   "metadata": {},
   "outputs": [],
   "source": [
    "%matplotlib inline\n",
    "# globals\n",
    "import matplotlib as mpl\n",
    "from matplotlib.ticker import MaxNLocator\n",
    "import os\n",
    "import re\n",
    "import pandas as pd\n",
    "import numpy as np\n",
    "import matplotlib.pyplot as plt\n",
    "from mpl_toolkits.axes_grid.inset_locator import inset_axes\n",
    "import seaborn as sns\n",
    "sns.set_style('ticks')\n",
    "sns.set_context('paper')"
   ]
  },
  {
   "cell_type": "code",
   "execution_count": null,
   "metadata": {
    "collapsed": true
   },
   "outputs": [],
   "source": [
    "# matplotlib default customizations\n",
    "mpl.rcParams['lines.linewidth'] = 1\n",
    "mpl.rcParams['pdf.fonttype'] = 42\n",
    "mpl.rcParams['svg.fonttype'] = 'none'\n",
    "mpl.rcParams['axes.prop_cycle'] = mpl.cycler(color = ['blue','green','red',\n",
    "                                           'cyan','magenta','orange','olive',\n",
    "                                          'yellow', 'palegreen','black',])\n",
    "mpl.rcParams['axes.labelsize'] = 8\n",
    "mpl.rcParams['axes.titlesize'] = 8\n",
    "mpl.rcParams['lines.markersize'] = 4\n",
    "mpl.rcParams['figure.subplot.hspace'] = 0.5\n",
    "mpl.rcParams['figure.subplot.wspace'] = 0.5\n",
    "mpl.rcParams['font.size'] = 8\n",
    "mpl.rcParams['font.sans-serif'] = 'Arial'\n",
    "mpl.rcParams['xtick.labelsize'] = 8\n",
    "mpl.rcParams['ytick.labelsize'] = 8\n",
    "mpl.rcParams['legend.fontsize'] = 8\n",
    "mpl.rcParams['xtick.direction'] = 'out'\n",
    "mpl.rcParams['ytick.direction'] = 'out'"
   ]
  },
  {
   "cell_type": "code",
   "execution_count": 2,
   "metadata": {},
   "outputs": [
    {
     "name": "stdout",
     "output_type": "stream",
     "text": [
      "  samplelabel  mean_relativepuroincorporation     stdev     sterr\n",
      "0        Rich                        1.000000       NaN       NaN\n",
      "1        -Leu                        0.666230  0.089052  0.051414\n",
      "2        -Arg                        0.491667  0.112864  0.065162\n"
     ]
    }
   ],
   "source": [
    "data = pd.read_csv('../processeddata/20160405_hct116_puroincorporation_3reps_richleuarg.csv')\n",
    "print data"
   ]
  },
  {
   "cell_type": "code",
   "execution_count": 5,
   "metadata": {},
   "outputs": [
    {
     "data": {
      "image/png": "[encoded data removed]",
      "text/plain": [
       "<matplotlib.figure.Figure at 0x7fd330dbafd0>"
      ]
     },
     "metadata": {},
     "output_type": "display_data"
    }
   ],
   "source": [
    "# ignore torin data for this plot\n",
    "data = data[data['samplelabel'] != 'Rich + Torin1']\n",
    "\n",
    "fig = plt.figure()\n",
    "ax = fig.add_subplot(111)\n",
    "\n",
    "sampleOrder = np.array(range(len(data)))\n",
    "xlocations = np.array(range(len(data)))\n",
    "ax.bar(xlocations, data['mean_relativepuroincorporation'][sampleOrder], align='center', color = 'lightgrey' )\n",
    "ax.errorbar(xlocations, data['mean_relativepuroincorporation'][sampleOrder], \n",
    "            data['sterr'][sampleOrder], linestyle='None', color = 'black' )\n",
    "\n",
    "spineOffset = {'left': 4, 'bottom': 0}   \n",
    "[ spine.set_position(('outward',spineOffset[loc])) \n",
    "     if loc in ['left','bottom'] else spine.set_color('none') \n",
    "     for loc, spine in ax.spines.items() ]         \n",
    "ax.xaxis.set( ticks_position = 'bottom')\n",
    "ax.yaxis.set( ticks_position = 'left')\n",
    "ax.yaxis.set( major_locator = MaxNLocator(2) )\n",
    "\n",
    "#ax.set_xlabel('Samples')\n",
    "ax.set_xticks(xlocations)\n",
    "ax.set_xticklabels(data['samplelabel'], rotation=45, ha='center')\n",
    "\n",
    "ax.set_ylabel( 'Puromycin\\nIncorporation')\n",
    "\n",
    "fig.set_size_inches([0.4,0.5])\n",
    "fig.savefig('../figures/20160610_hct116_3repspuromycinincorporation_3hours_richleuarg.svg')"
   ]
  }
 ],
 "metadata": {
  "kernelspec": {
   "display_name": "PAPER",
   "language": "python",
   "name": "paper"
  },
  "language_info": {
   "codemirror_mode": {
    "name": "ipython",
    "version": 2
   },
   "file_extension": ".py",
   "mimetype": "text/x-python",
   "name": "python",
   "nbconvert_exporter": "python",
   "pygments_lexer": "ipython2",
   "version": "2.7.6"
  }
 },
 "nbformat": 4,
 "nbformat_minor": 1
}
