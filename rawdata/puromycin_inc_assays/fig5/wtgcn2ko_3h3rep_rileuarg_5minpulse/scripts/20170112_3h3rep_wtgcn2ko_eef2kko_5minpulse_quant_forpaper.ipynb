{
 "cells": [
  {
   "cell_type": "code",
   "execution_count": 1,
   "metadata": {
    "collapsed": true
   },
   "outputs": [],
   "source": [
    "%matplotlib inline\n",
    "# globals\n",
    "import matplotlib as mpl\n",
    "from matplotlib.ticker import MaxNLocator\n",
    "import os\n",
    "import re\n",
    "import pandas as pd\n",
    "import numpy as np\n",
    "import matplotlib.pyplot as plt\n",
    "from mpl_toolkits.axes_grid.inset_locator import inset_axes\n",
    "import seaborn as sns\n",
    "sns.set_style('ticks')\n",
    "sns.set_context('paper')"
   ]
  },
  {
   "cell_type": "code",
   "execution_count": 2,
   "metadata": {
    "collapsed": true
   },
   "outputs": [],
   "source": [
    "# matplotlib default customizations\n",
    "mpl.rcParams['lines.linewidth'] = 1\n",
    "mpl.rcParams['pdf.fonttype'] = 42\n",
    "mpl.rcParams['svg.fonttype'] = 'none'\n",
    "mpl.rcParams['axes.prop_cycle'] = mpl.cycler(color = ['blue','green','red',\n",
    "                                           'cyan','magenta','orange','olive',\n",
    "                                          'yellow', 'palegreen','black',])\n",
    "mpl.rcParams['axes.labelsize'] = 8\n",
    "mpl.rcParams['axes.titlesize'] = 8\n",
    "mpl.rcParams['lines.markersize'] = 4\n",
    "mpl.rcParams['figure.subplot.hspace'] = 0.5\n",
    "mpl.rcParams['figure.subplot.wspace'] = 0.5\n",
    "mpl.rcParams['font.size'] = 8\n",
    "mpl.rcParams['font.sans-serif'] = 'Arial'\n",
    "mpl.rcParams['xtick.labelsize'] = 8\n",
    "mpl.rcParams['ytick.labelsize'] = 8\n",
    "mpl.rcParams['legend.fontsize'] = 8\n",
    "mpl.rcParams['xtick.direction'] = 'out'\n",
    "mpl.rcParams['ytick.direction'] = 'out'"
   ]
  },
  {
   "cell_type": "code",
   "execution_count": 4,
   "metadata": {},
   "outputs": [
    {
     "name": "stdout",
     "output_type": "stream",
     "text": [
      "   pulselength_min  time_h cellines samplelabel  relative_puroincorporation  \\\n",
      "0                5       3  293T WT        Rich                    1.000000   \n",
      "1                5       3  293T WT        -Leu                    0.657221   \n",
      "2                5       3  293T WT        -Arg                    0.480140   \n",
      "3                5       3  GCN2 KO        Rich                    1.000000   \n",
      "4                5       3  GCN2 KO        -Leu                    1.065919   \n",
      "5                5       3  GCN2 KO        -Arg                    0.761807   \n",
      "\n",
      "      stdev       sem  \n",
      "0  0.111472  0.064358  \n",
      "1  0.061465  0.035487  \n",
      "2  0.056179  0.032435  \n",
      "3  0.019247  0.011112  \n",
      "4  0.042756  0.024685  \n",
      "5  0.017801  0.010278  \n"
     ]
    }
   ],
   "source": [
    "data = pd.read_csv('../processeddata/wtgcn2KO.csv')\n",
    "print data"
   ]
  },
  {
   "cell_type": "code",
   "execution_count": 25,
   "metadata": {},
   "outputs": [
    {
     "data": {
      "image/png": "[encoded data removed]",
      "text/plain": [
       "<matplotlib.figure.Figure at 0x106b2c890>"
      ]
     },
     "metadata": {},
     "output_type": "display_data"
    }
   ],
   "source": [
    "fig = plt.figure()\n",
    "ax = fig.add_subplot(111)\n",
    "\n",
    "sampleOrder = [0,1,2,3,4,5,]\n",
    "xlocations = [0,1,2,4,5,6]\n",
    "ax.bar(xlocations, data['relative_puroincorporation'][sampleOrder], align='center', facecolor = 'grey',edgecolor='black',linewidth=1 )\n",
    "ax.errorbar(xlocations, data['relative_puroincorporation'][sampleOrder], \n",
    "            data['sem'][sampleOrder], linestyle='None', color = 'black', elinewidth=0.5, capsize=2, capthick=0.5 )\n",
    "\n",
    "spineOffset = {'left': 4, 'bottom': 0}   \n",
    "[ spine.set_position(('outward',spineOffset[loc])) \n",
    "     if loc in ['left','bottom'] else spine.set_color('none') \n",
    "     for loc, spine in ax.spines.items() ]         \n",
    "ax.xaxis.set( ticks_position = 'bottom')\n",
    "ax.yaxis.set( ticks_position = 'left')\n",
    "ax.yaxis.set( major_locator = MaxNLocator(5) )\n",
    "\n",
    "ax.set_xticks(xlocations)\n",
    "xticklabels= data['samplelabel'][sampleOrder].apply(lambda x: x.replace('-',u'– ')).apply(lambda x: x.replace('Rich ',''))\n",
    "ax.set_xticklabels(xticklabels, rotation=45, ha='right')\n",
    "\n",
    "ax.set_ylabel( 'Puromycin\\nIncorporation')\n",
    "\n",
    "fig.set_size_inches([1.5,.75])\n",
    "\n",
    "fig.savefig('../figures/wtgcn2korichleuarg_forpaper.pdf',bbox_inches='tight')\n",
    "fig.savefig('../figures/wtgcn2korichleuarg_forpaper.svg')"
   ]
  },
  {
   "cell_type": "code",
   "execution_count": null,
   "metadata": {
    "collapsed": true
   },
   "outputs": [],
   "source": []
  }
 ],
 "metadata": {
  "kernelspec": {
   "display_name": "Python 2",
   "language": "python",
   "name": "python2"
  },
  "language_info": {
   "codemirror_mode": {
    "name": "ipython",
    "version": 2
   },
   "file_extension": ".py",
   "mimetype": "text/x-python",
   "name": "python",
   "nbconvert_exporter": "python",
   "pygments_lexer": "ipython2",
   "version": "2.7.10"
  }
 },
 "nbformat": 4,
 "nbformat_minor": 1
}
