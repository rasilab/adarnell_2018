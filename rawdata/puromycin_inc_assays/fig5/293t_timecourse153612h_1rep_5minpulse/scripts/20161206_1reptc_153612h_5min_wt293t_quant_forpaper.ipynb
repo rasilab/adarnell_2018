{
 "cells": [
  {
   "cell_type": "code",
   "execution_count": 1,
   "metadata": {
    "collapsed": true
   },
   "outputs": [],
   "source": [
    "%matplotlib inline\n",
    "# globals\n",
    "import matplotlib as mpl\n",
    "from matplotlib.ticker import MaxNLocator\n",
    "import os\n",
    "import re\n",
    "import pandas as pd\n",
    "import numpy as np\n",
    "import matplotlib.pyplot as plt\n",
    "from mpl_toolkits.axes_grid.inset_locator import inset_axes\n",
    "import seaborn as sns\n",
    "sns.set_style('ticks')\n",
    "sns.set_context('paper')"
   ]
  },
  {
   "cell_type": "code",
   "execution_count": 2,
   "metadata": {
    "collapsed": true
   },
   "outputs": [],
   "source": [
    "# matplotlib default customizations\n",
    "mpl.rcParams['lines.linewidth'] = 1\n",
    "mpl.rcParams['pdf.fonttype'] = 42\n",
    "mpl.rcParams['svg.fonttype'] = 'none'\n",
    "mpl.rcParams['axes.prop_cycle'] = mpl.cycler(color = [\n",
    "                                            'cyan','magenta','orange','olive',\n",
    "                                          'yellow', 'palegreen','black',])\n",
    "mpl.rcParams['axes.labelsize'] = 8\n",
    "mpl.rcParams['axes.titlesize'] = 8\n",
    "mpl.rcParams['lines.markersize'] = 4\n",
    "mpl.rcParams['figure.subplot.hspace'] = 0.5\n",
    "mpl.rcParams['figure.subplot.wspace'] = 0.5\n",
    "mpl.rcParams['font.size'] = 8\n",
    "mpl.rcParams['font.sans-serif'] = 'Arial'\n",
    "mpl.rcParams['xtick.labelsize'] = 8\n",
    "mpl.rcParams['ytick.labelsize'] = 8\n",
    "mpl.rcParams['legend.fontsize'] = 8\n",
    "mpl.rcParams['xtick.direction'] = 'out'\n",
    "mpl.rcParams['ytick.direction'] = 'out'"
   ]
  },
  {
   "cell_type": "code",
   "execution_count": 3,
   "metadata": {},
   "outputs": [
    {
     "name": "stdout",
     "output_type": "stream",
     "text": [
      "    pulselength_min  time_hours cellline samplelabel  \\\n",
      "0                 5         1.5  293T WT        Rich   \n",
      "1                 5         3.0  293T WT        Rich   \n",
      "2                 5         6.0  293T WT        Rich   \n",
      "3                 5        12.0  293T WT        Rich   \n",
      "4                 5         1.5  293T WT        -Leu   \n",
      "5                 5         3.0  293T WT        -Leu   \n",
      "6                 5         6.0  293T WT        -Leu   \n",
      "7                 5        12.0  293T WT        -Leu   \n",
      "8                 5         1.5  293T WT        -Arg   \n",
      "9                 5         3.0  293T WT        -Arg   \n",
      "10                5         6.0  293T WT        -Arg   \n",
      "11                5        12.0  293T WT        -Arg   \n",
      "\n",
      "    relative_puroincorporation  \n",
      "0                     1.000000  \n",
      "1                     1.000000  \n",
      "2                     1.000000  \n",
      "3                     1.000000  \n",
      "4                     0.794204  \n",
      "5                     0.581749  \n",
      "6                     0.447567  \n",
      "7                     0.489610  \n",
      "8                     0.545658  \n",
      "9                     0.408195  \n",
      "10                    0.279563  \n",
      "11                    0.283848  \n"
     ]
    }
   ],
   "source": [
    "data = pd.read_csv('../processeddata/20161207_purovergapdh_quant.csv')\n",
    "print data"
   ]
  },
  {
   "cell_type": "code",
   "execution_count": 19,
   "metadata": {},
   "outputs": [
    {
     "data": {
      "image/png": "[encoded data removed]",
      "text/plain": [
       "<matplotlib.figure.Figure at 0x1080ecad0>"
      ]
     },
     "metadata": {},
     "output_type": "display_data"
    }
   ],
   "source": [
    "from matplotlib.legend_handler import HandlerLine2D\n",
    "cellline = ['293T']\n",
    "conditions = ['-Leu','-Arg']\n",
    "times = ['1.5','3','6','12']\n",
    "sampleOrder = np.array([0,1,2,3])\n",
    "xlocations =np.array([0,1,2,3])\n",
    "\n",
    "fig = plt.figure()\n",
    "\n",
    "\n",
    "    \n",
    "ax = fig.add_subplot(1,1,1)\n",
    "\n",
    "\n",
    "\n",
    "for condition in conditions:\n",
    "    subset = data['samplelabel'].apply(\n",
    "        lambda label: label.find(condition) != -1)\n",
    "    subsetdata = data[subset]\n",
    "    x = xlocations\n",
    "    y = subsetdata['relative_puroincorporation']\n",
    "    ax.plot(x, y, marker = 'o', markersize=2, linewidth=1, label = condition.replace('-',u'– '))\n",
    "    \n",
    "        \n",
    "spineOffset = {'left': 5, 'bottom': 0}   \n",
    "[ spine.set_position(('outward',spineOffset[loc])) \n",
    "    if loc in ['left','bottom'] else spine.set_color('none') \n",
    "    for loc, spine in ax.spines.items() ]         \n",
    "ax.xaxis.set( ticks_position = 'bottom')\n",
    "ax.yaxis.set( ticks_position = 'left')\n",
    "ax.xaxis.set(ticks = x, ticklabels = times)\n",
    "ax.set_xlim(-0.1,max(x) + 0.1)\n",
    "ax.set_ylim(bottom = 0, top = 1)\n",
    "ax.yaxis.set( major_locator = MaxNLocator(5) )\n",
    "ax.set_xlabel('Hours of Starvation')\n",
    "\n",
    "ax.set_ylabel('Puromycin\\nIncorporation')\n",
    "\n",
    "ax.legend(handler_map={ax: HandlerLine2D(numpoints=2)},loc = 2, bbox_to_anchor = (.9,1.2),framealpha=0)\n",
    "    \n",
    "fig.set_size_inches([.95,.75])\n",
    "fig.subplots_adjust(wspace = 0.75)\n",
    "fig.savefig('../figures/20171206_293ttc5minpulse_1reprichleuarg_linegraph_forpaper.svg')\n",
    "#fig.savefig('../figures/.pdf',bbox_inches='tight')\n"
   ]
  },
  {
   "cell_type": "code",
   "execution_count": null,
   "metadata": {
    "collapsed": true
   },
   "outputs": [],
   "source": []
  }
 ],
 "metadata": {
  "kernelspec": {
   "display_name": "PAPER",
   "language": "python",
   "name": "paper"
  },
  "language_info": {
   "codemirror_mode": {
    "name": "ipython",
    "version": 2
   },
   "file_extension": ".py",
   "mimetype": "text/x-python",
   "name": "python",
   "nbconvert_exporter": "python",
   "pygments_lexer": "ipython2",
   "version": "2.7.10"
  }
 },
 "nbformat": 4,
 "nbformat_minor": 1
}
