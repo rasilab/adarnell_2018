{
 "cells": [
  {
   "cell_type": "code",
   "execution_count": 3,
   "metadata": {
    "collapsed": true
   },
   "outputs": [],
   "source": [
    "%matplotlib inline\n",
    "# globals\n",
    "import matplotlib as mpl\n",
    "from matplotlib.ticker import MaxNLocator\n",
    "import os\n",
    "import re\n",
    "import pandas as pd\n",
    "import numpy as np\n",
    "import matplotlib.pyplot as plt\n",
    "from mpl_toolkits.axes_grid.inset_locator import inset_axes\n",
    "import seaborn as sns\n",
    "sns.set_style('ticks')\n",
    "sns.set_context('paper')"
   ]
  },
  {
   "cell_type": "code",
   "execution_count": 4,
   "metadata": {
    "collapsed": true
   },
   "outputs": [],
   "source": [
    "# matplotlib default customizations\n",
    "mpl.rcParams['lines.linewidth'] = 1\n",
    "mpl.rcParams['pdf.fonttype'] = 42\n",
    "mpl.rcParams['svg.fonttype'] = 'none'\n",
    "mpl.rcParams['axes.prop_cycle'] = mpl.cycler(color = ['blue','green','red',\n",
    "                                           'cyan','magenta','orange','olive',\n",
    "                                          'yellow', 'palegreen','black',])\n",
    "mpl.rcParams['axes.labelsize'] = 8\n",
    "mpl.rcParams['axes.titlesize'] = 8\n",
    "mpl.rcParams['lines.markersize'] = 4\n",
    "mpl.rcParams['figure.subplot.hspace'] = 0.5\n",
    "mpl.rcParams['figure.subplot.wspace'] = 0.5\n",
    "mpl.rcParams['font.size'] = 8\n",
    "mpl.rcParams['font.sans-serif'] = 'Arial'\n",
    "mpl.rcParams['xtick.labelsize'] = 8\n",
    "mpl.rcParams['ytick.labelsize'] = 8\n",
    "mpl.rcParams['legend.fontsize'] = 8\n",
    "mpl.rcParams['xtick.direction'] = 'out'\n",
    "mpl.rcParams['ytick.direction'] = 'out'"
   ]
  },
  {
   "cell_type": "code",
   "execution_count": 37,
   "metadata": {},
   "outputs": [
    {
     "name": "stdout",
     "output_type": "stream",
     "text": [
      "   time samplelabel  mean_relativephosindex     stdev     sterr  \\\n",
      "0     0        Rich                1.000000  0.202757  0.117062   \n",
      "1     3        -Leu                0.246515  0.074082  0.042771   \n",
      "2     3        -Arg                0.590203  0.229206  0.132332   \n",
      "3     6        -Leu                0.185013  0.087844  0.050717   \n",
      "4     6        -Arg                0.570917  0.210811  0.121712   \n",
      "5    12        -Leu                0.212625  0.069328  0.040026   \n",
      "6    12        -Arg                0.699197  0.126731  0.073168   \n",
      "\n",
      "   mean_percent_relativephosindex  mean_percent_relativephosindex_sterr  \n",
      "0                      100.000000                             11.706179  \n",
      "1                       24.651477                              4.277137  \n",
      "2                       59.020252                             13.233188  \n",
      "3                       18.501312                              5.071692  \n",
      "4                       57.091685                             12.171161  \n",
      "5                       21.262530                              4.002631  \n",
      "6                       69.919665                              7.316831  \n"
     ]
    }
   ],
   "source": [
    "data = pd.read_csv('../processeddata/20140625_3repsrelatives6kphosindex_richleuarg_3612h.csv')\n",
    "\n",
    "data['mean_percent_relativephosindex'] = data['mean_relativephosindex']*100\n",
    "data['mean_percent_relativephosindex_sterr'] = data['sterr']*100\n",
    "print data"
   ]
  },
  {
   "cell_type": "code",
   "execution_count": 39,
   "metadata": {},
   "outputs": [
    {
     "data": {
      "image/png": "[encoded data removed]",
      "text/plain": [
       "<matplotlib.figure.Figure at 0x10de3ab10>"
      ]
     },
     "metadata": {},
     "output_type": "display_data"
    }
   ],
   "source": [
    "fig = plt.figure()\n",
    "ax = fig.add_subplot(111)\n",
    "\n",
    "sampleOrder = np.array([0,1,2,3,4,5,6])\n",
    "\n",
    "xlocations = np.array([0,1,2,3,4,5,6])\n",
    "\n",
    "ax.bar(xlocations, data['mean_percent_relativephosindex'][sampleOrder], align='center', facecolor = 'grey',edgecolor='black',linewidth=1 )\n",
    "ax.errorbar(xlocations, data['mean_percent_relativephosindex'][sampleOrder], \n",
    "            data['mean_percent_relativephosindex_sterr'][sampleOrder], linestyle='None', color = 'black',elinewidth=0.5, capsize=2, capthick=0.5 )\n",
    "\n",
    "spineOffset = {'left': 5, 'bottom': 0}    \n",
    "[ spine.set_position(('outward',spineOffset[loc])) if loc in ['left','bottom'] \n",
    "     else spine.set_color('none') for loc, spine in ax.spines.items() ]         \n",
    "ax.xaxis.set( ticks_position = 'bottom')\n",
    "ax.yaxis.set( ticks_position = 'left')\n",
    "ax.yaxis.set( major_locator = MaxNLocator(5) )\n",
    "\n",
    "\n",
    "ax.set_xticks(xlocations)\n",
    "xticklabels= data['samplelabel'][sampleOrder].apply(lambda x: x.replace('-',u'– '))\n",
    "ax.set_xticklabels(xticklabels, rotation=45, ha='right')\n",
    "\n",
    "ax.set_ylabel('P~S6K\\n(% of max)')\n",
    "\n",
    "fig.set_size_inches([1.5,.75])\n",
    "fig.savefig('../figures/20140625_3repsrelatives6kphosindex_richleuarg_3612h_forpaper.svg')"
   ]
  },
  {
   "cell_type": "code",
   "execution_count": 41,
   "metadata": {},
   "outputs": [
    {
     "name": "stdout",
     "output_type": "stream",
     "text": [
      "   time samplelabel  mean_relativephosindex     stdev     sterr  \\\n",
      "0     0        Rich                1.000000  0.585041  0.337773   \n",
      "1     3        -Leu                6.223040  3.365224  1.942913   \n",
      "2     3        -Arg                6.735751  3.391123  1.957866   \n",
      "3     6        -Leu                6.379132  3.110868  1.796061   \n",
      "4     6        -Arg                6.956371  3.347605  1.932741   \n",
      "5    12        -Leu                7.162439  3.555226  2.052611   \n",
      "6    12        -Arg                8.658814  4.911883  2.835877   \n",
      "\n",
      "   mean_percent_relativephosindex  mean_percent_relativephosindex_sterr  \n",
      "0                      100.000000                             33.777336  \n",
      "1                      622.303963                            194.291315  \n",
      "2                      673.575061                            195.786592  \n",
      "3                      637.913225                            179.606061  \n",
      "4                      695.637065                            193.274064  \n",
      "5                      716.243928                            205.261089  \n",
      "6                      865.881366                            283.587723  \n"
     ]
    }
   ],
   "source": [
    "data = pd.read_csv('../../20140625_hek293t_eif2aphosphotimecourse_3612hours_richleuarg/processeddata/20140626_3repsrelativeeif2aphosindex_richleuarg_3612h.csv')\n",
    "\n",
    "data['mean_percent_relativephosindex'] = data['mean_relativephosindex']*100\n",
    "data['mean_percent_relativephosindex_sterr'] = data['sterr']*100\n",
    "print data"
   ]
  },
  {
   "cell_type": "code",
   "execution_count": 42,
   "metadata": {},
   "outputs": [
    {
     "data": {
      "image/png": "[encoded data removed]",
      "text/plain": [
       "<matplotlib.figure.Figure at 0x10de943d0>"
      ]
     },
     "metadata": {},
     "output_type": "display_data"
    }
   ],
   "source": [
    "fig = plt.figure()\n",
    "ax = fig.add_subplot(111)\n",
    "\n",
    "sampleOrder = np.array([0,1,2,3,4,5,6])\n",
    "\n",
    "xlocations = np.array([0,1,2,3,4,5,6])\n",
    "\n",
    "ax.bar(xlocations, data['mean_percent_relativephosindex'][sampleOrder], align='center', facecolor = 'grey',edgecolor='black',linewidth=1 )\n",
    "ax.errorbar(xlocations, data['mean_percent_relativephosindex'][sampleOrder], \n",
    "            data['mean_percent_relativephosindex_sterr'][sampleOrder], linestyle='None', color = 'black',elinewidth=0.5, capsize=2, capthick=0.5 )\n",
    "\n",
    "spineOffset = {'left': 5, 'bottom': 0}    \n",
    "[ spine.set_position(('outward',spineOffset[loc])) if loc in ['left','bottom'] \n",
    "     else spine.set_color('none') for loc, spine in ax.spines.items() ]         \n",
    "ax.xaxis.set( ticks_position = 'bottom')\n",
    "ax.yaxis.set( ticks_position = 'left')\n",
    "ax.yaxis.set( major_locator = MaxNLocator(5) )\n",
    "\n",
    "\n",
    "ax.set_xticks(xlocations)\n",
    "xticklabels= data['samplelabel'][sampleOrder].apply(lambda x: x.replace('-',u'– '))\n",
    "ax.set_xticklabels(xticklabels, rotation=45, ha='right')\n",
    "\n",
    "ax.set_ylabel('P~eIF2a\\n(% of max)')\n",
    "\n",
    "fig.set_size_inches([1.5,.75])\n",
    "fig.savefig('../../20140625_hek293t_eif2aphosphotimecourse_3612hours_richleuarg/figures/20140625_3repsrelativeseif2aphosindex_richleuarg_3612h_forpaper.svg')"
   ]
  },
  {
   "cell_type": "code",
   "execution_count": 45,
   "metadata": {},
   "outputs": [
    {
     "name": "stdout",
     "output_type": "stream",
     "text": [
      "   time        cellline samplelabel  mean_relativephosindex     stdev  \\\n",
      "0     3           hrGFP        Rich                1.281718  0.866787   \n",
      "1     3           hrGFP        -Leu                0.181627  0.165612   \n",
      "2     3           hrGFP        -Arg                0.425191  0.256527   \n",
      "3     3    Flag-RagB-WT        Rich                1.012565  0.451498   \n",
      "4     3    Flag-RagB-WT        -Leu                0.522309  0.248658   \n",
      "5     3    Flag-RagB-WT        -Arg                0.679369  0.288118   \n",
      "6     3  Flag-RagB-Q99L        Rich                1.000000  0.583262   \n",
      "7     3  Flag-RagB-Q99L        -Leu                0.821233  0.495239   \n",
      "8     3  Flag-RagB-Q99L        -Arg                0.883905  0.580986   \n",
      "\n",
      "      sterr  mean_percent_relativephosindex  \\\n",
      "0  0.500440                      128.171835   \n",
      "1  0.095616                       18.162668   \n",
      "2  0.148106                       42.519137   \n",
      "3  0.260672                      101.256504   \n",
      "4  0.143563                       52.230879   \n",
      "5  0.166345                       67.936911   \n",
      "6  0.336747                      100.000000   \n",
      "7  0.285926                       82.123306   \n",
      "8  0.335432                       88.390507   \n",
      "\n",
      "   mean_percent_relativephosindex_sterr  \n",
      "0                             50.043966  \n",
      "1                              9.561614  \n",
      "2                             14.810574  \n",
      "3                             26.067236  \n",
      "4                             14.356297  \n",
      "5                             16.634523  \n",
      "6                             33.674664  \n",
      "7                             28.592618  \n",
      "8                             33.543219  \n"
     ]
    }
   ],
   "source": [
    "data = pd.read_csv('../../20150425_hek293t_aavs1crispr_hrgfpflagragbwtflagragbq99l_s6k_richleuarg_3hours/processeddata/20160425_csv_s6kph_293tcrispraavs1_hrgfpragbwtq99l_rilr_3h_3rep.csv')\n",
    "data['mean_percent_relativephosindex'] = data['mean_relativephosindex']*100\n",
    "data['mean_percent_relativephosindex_sterr'] = data['sterr']*100\n",
    "print data"
   ]
  },
  {
   "cell_type": "code",
   "execution_count": 56,
   "metadata": {},
   "outputs": [
    {
     "data": {
      "image/png": "[encoded data removed]",
      "text/plain": [
       "<matplotlib.figure.Figure at 0x10dbc6250>"
      ]
     },
     "metadata": {},
     "output_type": "display_data"
    }
   ],
   "source": [
    "fig = plt.figure()\n",
    "ax = fig.add_subplot(111)\n",
    "\n",
    "sampleOrder = np.array([0,1,2,3,4,5,6,7,8])\n",
    "\n",
    "xlocations = np.array([0,1,2,3,4,5,6,7,8])\n",
    "\n",
    "ax.bar(xlocations, data['mean_percent_relativephosindex'][sampleOrder], align='center', facecolor = 'grey',edgecolor='black',linewidth=1 )\n",
    "ax.errorbar(xlocations, data['mean_percent_relativephosindex'][sampleOrder], \n",
    "            data['mean_percent_relativephosindex_sterr'][sampleOrder], linestyle='None', color = 'black',elinewidth=0.5, capsize=2, capthick=0.5 )\n",
    "\n",
    "spineOffset = {'left': 5, 'bottom': 0}    \n",
    "[ spine.set_position(('outward',spineOffset[loc])) if loc in ['left','bottom'] \n",
    "     else spine.set_color('none') for loc, spine in ax.spines.items() ]         \n",
    "ax.xaxis.set( ticks_position = 'bottom')\n",
    "ax.yaxis.set( ticks_position = 'left')\n",
    "ax.yaxis.set( major_locator = MaxNLocator(6) )\n",
    "\n",
    "\n",
    "ax.set_xticks(xlocations)\n",
    "xticklabels= data['samplelabel'][sampleOrder].apply(lambda x: x.replace('-',u'– '))\n",
    "ax.set_xticklabels(xticklabels, rotation=45, ha='right')\n",
    "\n",
    "ax.set_ylabel('P~S6K\\n(% of max)')\n",
    "\n",
    "fig.set_size_inches([2.7,1])\n",
    "fig.savefig('../../20150425_hek293t_aavs1crispr_hrgfpflagragbwtflagragbq99l_s6k_richleuarg_3hours/figures/20150425_3reps6kph_richleuarg_3h_bartobandw_forpaper.svg')"
   ]
  },
  {
   "cell_type": "code",
   "execution_count": 57,
   "metadata": {},
   "outputs": [
    {
     "data": {
      "image/png": "[encoded data removed]",
      "text/plain": [
       "<matplotlib.figure.Figure at 0x10dd7c110>"
      ]
     },
     "metadata": {},
     "output_type": "display_data"
    }
   ],
   "source": [
    "fig = plt.figure()\n",
    "ax = fig.add_subplot(111)\n",
    "\n",
    "sampleOrder = np.array([0,1,2,3,4,5,6,7,8])\n",
    "\n",
    "xlocations = np.array([0,1,2,3,4,5,6,7,8])\n",
    "\n",
    "ax.bar(xlocations, data['mean_percent_relativephosindex'][sampleOrder], align='center', facecolor = 'grey',edgecolor='black',linewidth=1 )\n",
    "ax.errorbar(xlocations, data['mean_percent_relativephosindex'][sampleOrder], \n",
    "            data['mean_percent_relativephosindex_sterr'][sampleOrder], linestyle='None', color = 'black',elinewidth=0.5, capsize=2, capthick=0.5 )\n",
    "\n",
    "spineOffset = {'left': 5, 'bottom': 0}    \n",
    "[ spine.set_position(('outward',spineOffset[loc])) if loc in ['left','bottom'] \n",
    "     else spine.set_color('none') for loc, spine in ax.spines.items() ]         \n",
    "ax.xaxis.set( ticks_position = 'bottom')\n",
    "ax.yaxis.set( ticks_position = 'left')\n",
    "ax.yaxis.set( major_locator = MaxNLocator(6) )\n",
    "\n",
    "\n",
    "ax.set_xticks(xlocations)\n",
    "xticklabels= data['samplelabel'][sampleOrder].apply(lambda x: x.replace('-',u'– '))\n",
    "ax.set_xticklabels(xticklabels, rotation=45, ha='right')\n",
    "\n",
    "ax.set_ylabel('P~S6K\\n(% of max)')\n",
    "\n",
    "fig.set_size_inches([1.9,1])\n",
    "fig.savefig('../../20150425_hek293t_aavs1crispr_hrgfpflagragbwtflagragbq99l_s6k_richleuarg_3hours/figures/20150425_3reps6kph_richleuarg_3h_barnormal_forpaper.svg')"
   ]
  },
  {
   "cell_type": "code",
   "execution_count": 59,
   "metadata": {},
   "outputs": [
    {
     "name": "stdout",
     "output_type": "stream",
     "text": [
      "   time cellline samplelabel  mean_relativephosindex     stdev     sterr  \\\n",
      "0     3     293T        Rich                1.000000  0.385528  0.157391   \n",
      "1     3     293T        -Leu                0.167937  0.065965  0.026930   \n",
      "2     3     293T        -Arg                0.308467  0.107050  0.043703   \n",
      "3     3  GCN2 KO        Rich                1.457420  0.137350  0.079299   \n",
      "4     3  GCN2 KO        -Leu                1.126422  0.221039  0.127617   \n",
      "5     3  GCN2 KO        -Arg                1.833538  0.142885  0.082495   \n",
      "\n",
      "   mean_percent_relativephosindex  mean_percent_relativephosindex_sterr  \n",
      "0                      100.000000                             15.739121  \n",
      "1                       16.793695                              2.692998  \n",
      "2                       30.846704                              4.370311  \n",
      "3                      145.741985                              7.929891  \n",
      "4                      112.642167                             12.761716  \n",
      "5                      183.353785                              8.249473  \n"
     ]
    }
   ],
   "source": [
    "data = pd.read_csv('../../../20160103_gcn2_eef2K_KO_celllinevalidation/20161214_gcn2KO_3h_richleuarg_peIF2alpha_pS6K/processeddata/20161214_gcn2KO_ps6k_quant2_3biorepsaveraged.csv')\n",
    "data['mean_percent_relativephosindex'] = data['mean_relativephosindex']*100\n",
    "data['mean_percent_relativephosindex_sterr'] = data['sterr']*100\n",
    "print data"
   ]
  },
  {
   "cell_type": "code",
   "execution_count": 60,
   "metadata": {},
   "outputs": [
    {
     "data": {
      "image/png": "[encoded data removed]",
      "text/plain": [
       "<matplotlib.figure.Figure at 0x10da256d0>"
      ]
     },
     "metadata": {},
     "output_type": "display_data"
    }
   ],
   "source": [
    "fig = plt.figure()\n",
    "ax = fig.add_subplot(111)\n",
    "\n",
    "sampleOrder = np.array([0,1,2,3,4,5])\n",
    "\n",
    "xlocations = np.array([0,1,2,3,4,5])\n",
    "\n",
    "ax.bar(xlocations, data['mean_percent_relativephosindex'][sampleOrder], align='center', facecolor = 'grey',edgecolor='black',linewidth=1 )\n",
    "ax.errorbar(xlocations, data['mean_percent_relativephosindex'][sampleOrder], \n",
    "            data['mean_percent_relativephosindex_sterr'][sampleOrder], linestyle='None', color = 'black',elinewidth=0.5, capsize=2, capthick=0.5 )\n",
    "\n",
    "spineOffset = {'left': 5, 'bottom': 0}    \n",
    "[ spine.set_position(('outward',spineOffset[loc])) if loc in ['left','bottom'] \n",
    "     else spine.set_color('none') for loc, spine in ax.spines.items() ]         \n",
    "ax.xaxis.set( ticks_position = 'bottom')\n",
    "ax.yaxis.set( ticks_position = 'left')\n",
    "ax.yaxis.set( major_locator = MaxNLocator(5) )\n",
    "\n",
    "\n",
    "ax.set_xticks(xlocations)\n",
    "xticklabels= data['samplelabel'][sampleOrder].apply(lambda x: x.replace('-',u'– '))\n",
    "ax.set_xticklabels(xticklabels, rotation=45, ha='right')\n",
    "\n",
    "ax.set_ylabel('P~S6K\\n(% of max)')\n",
    "\n",
    "fig.set_size_inches([1.29,.75])\n",
    "fig.savefig('../../../20160103_gcn2_eef2K_KO_celllinevalidation/20161214_gcn2KO_3h_richleuarg_peIF2alpha_pS6K/figures/20160103_3repss6kphosindex_richleuarg_wtgcn23bioreps_3h_forpaper.svg')"
   ]
  },
  {
   "cell_type": "code",
   "execution_count": 61,
   "metadata": {},
   "outputs": [
    {
     "name": "stdout",
     "output_type": "stream",
     "text": [
      "   time cellline samplelabel  mean_relativephosindex     stdev     sterr  \\\n",
      "0     3     293T        Rich                0.137635  0.052180  0.030126   \n",
      "1     3     293T        -Leu                1.000000  0.236600  0.136601   \n",
      "2     3     293T        -Arg                0.856575  0.170344  0.098348   \n",
      "3     3  GCN2 KO        Rich                0.139311  0.082763  0.047783   \n",
      "4     3  GCN2 KO        -Leu                0.181121  0.126737  0.073172   \n",
      "5     3  GCN2 KO        -Arg                0.144025  0.059624  0.034424   \n",
      "\n",
      "   mean_percent_relativephosindex  mean_percent_relativephosindex_sterr  \n",
      "0                       13.763532                              3.012624  \n",
      "1                      100.000000                             13.660085  \n",
      "2                       85.657544                              9.834822  \n",
      "3                       13.931106                              4.778336  \n",
      "4                       18.112144                              7.317192  \n",
      "5                       14.402488                              3.442384  \n"
     ]
    }
   ],
   "source": [
    "data = pd.read_csv('../../../20160103_gcn2_eef2K_KO_celllinevalidation/20161214_gcn2KO_3h_richleuarg_peIF2alpha_pS6K/processeddata/20161214_gcn2KO_peif2a_quant2_3biorepsaveraged.csv')\n",
    "data['mean_percent_relativephosindex'] = data['mean_relativephosindex']*100\n",
    "data['mean_percent_relativephosindex_sterr'] = data['sterr']*100\n",
    "print data"
   ]
  },
  {
   "cell_type": "code",
   "execution_count": 62,
   "metadata": {},
   "outputs": [
    {
     "data": {
      "image/png": "[encoded data removed]",
      "text/plain": [
       "<matplotlib.figure.Figure at 0x10da25550>"
      ]
     },
     "metadata": {},
     "output_type": "display_data"
    }
   ],
   "source": [
    "fig = plt.figure()\n",
    "ax = fig.add_subplot(111)\n",
    "\n",
    "sampleOrder = np.array([0,1,2,3,4,5])\n",
    "\n",
    "xlocations = np.array([0,1,2,3,4,5])\n",
    "\n",
    "ax.bar(xlocations, data['mean_percent_relativephosindex'][sampleOrder], align='center', facecolor = 'grey',edgecolor='black',linewidth=1 )\n",
    "ax.errorbar(xlocations, data['mean_percent_relativephosindex'][sampleOrder], \n",
    "            data['mean_percent_relativephosindex_sterr'][sampleOrder], linestyle='None', color = 'black',elinewidth=0.5, capsize=2, capthick=0.5 )\n",
    "\n",
    "spineOffset = {'left': 5, 'bottom': 0}    \n",
    "[ spine.set_position(('outward',spineOffset[loc])) if loc in ['left','bottom'] \n",
    "     else spine.set_color('none') for loc, spine in ax.spines.items() ]         \n",
    "ax.xaxis.set( ticks_position = 'bottom')\n",
    "ax.yaxis.set( ticks_position = 'left')\n",
    "ax.yaxis.set( major_locator = MaxNLocator(5) )\n",
    "\n",
    "\n",
    "ax.set_xticks(xlocations)\n",
    "xticklabels= data['samplelabel'][sampleOrder].apply(lambda x: x.replace('-',u'– '))\n",
    "ax.set_xticklabels(xticklabels, rotation=45, ha='right')\n",
    "\n",
    "ax.set_ylabel('P~eIF2a\\n(% of max)')\n",
    "\n",
    "fig.set_size_inches([1.29,.75])\n",
    "fig.savefig('../../../20160103_gcn2_eef2K_KO_celllinevalidation/20161214_gcn2KO_3h_richleuarg_peIF2alpha_pS6K/figures/20160103_3repseif2aphosindex_richleuarg_wtgcn23bioreps_3h_forpaper.svg')"
   ]
  },
  {
   "cell_type": "code",
   "execution_count": null,
   "metadata": {
    "collapsed": true
   },
   "outputs": [],
   "source": []
  }
 ],
 "metadata": {
  "kernelspec": {
   "display_name": "Python 2",
   "language": "python",
   "name": "python2"
  },
  "language_info": {
   "codemirror_mode": {
    "name": "ipython",
    "version": 2
   },
   "file_extension": ".py",
   "mimetype": "text/x-python",
   "name": "python",
   "nbconvert_exporter": "python",
   "pygments_lexer": "ipython2",
   "version": "2.7.10"
  }
 },
 "nbformat": 4,
 "nbformat_minor": 1
}
