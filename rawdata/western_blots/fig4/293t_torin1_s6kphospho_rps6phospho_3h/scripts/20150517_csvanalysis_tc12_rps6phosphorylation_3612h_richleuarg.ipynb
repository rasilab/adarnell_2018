{
 "cells": [
  {
   "cell_type": "code",
   "execution_count": 12,
   "metadata": {
    "collapsed": false
   },
   "outputs": [
    {
     "name": "stdout",
     "output_type": "stream",
     "text": [
      "Populating the interactive namespace from numpy and matplotlib\n"
     ]
    }
   ],
   "source": [
    "%pylab inline\n",
    "import matplotlib.pyplot as plt\n",
    "import pandas\n",
    "import numpy\n",
    "from IPython.core.display import HTML\n",
    "from matplotlib.ticker import MaxNLocator, LogLocator, AutoMinorLocator # custom tick locators for plots\n",
    "\n",
    "# matplotlib default customizations\n",
    "import matplotlib as mpl\n",
    "mpl.rcParams['lines.linewidth'] = 1\n",
    "mpl.rcParams['axes.prop_cycle'] = mpl.cycler(color = ['blue','green','red',\n",
    "                                           'cyan','magenta','yellow','olive',\n",
    "                                          'orange', 'palegreen','black',])\n",
    "mpl.rcParams['axes.labelsize'] = 8\n",
    "mpl.rcParams['axes.titlesize'] = 8\n",
    "mpl.rcParams['figure.subplot.hspace'] = 0.5\n",
    "mpl.rcParams['figure.subplot.wspace'] = 0.5\n",
    "mpl.rcParams['font.size'] = 8\n",
    "mpl.rcParams['font.sans-serif'] = 'Arial'\n",
    "mpl.rcParams['xtick.labelsize'] = 8\n",
    "mpl.rcParams['ytick.labelsize'] = 8\n",
    "mpl.rcParams['legend.fontsize'] = 8\n",
    "mpl.rcParams['xtick.direction'] = 'out'\n",
    "mpl.rcParams['ytick.direction'] = 'out'\n",
    "mpl.rcParams['pdf.compression'] = 0\n",
    "mpl.rcParams['pdf.fonttype'] = 42"
   ]
  },
  {
   "cell_type": "code",
   "execution_count": 13,
   "metadata": {
    "collapsed": false
   },
   "outputs": [
    {
     "name": "stdout",
     "output_type": "stream",
     "text": [
      "     samplelabel  mean_relativephosindex     stdev     sterr\n",
      "0           Rich                1.000000  0.237338  0.137027\n",
      "1           -Leu                0.046630  0.017423  0.010059\n",
      "2           -Arg                0.217899  0.041914  0.024199\n",
      "3  Rich + Torin1                0.000585  0.000550  0.000318\n",
      "4  -Leu + Torin1                0.001405  0.000512  0.000296\n",
      "5  -Arg + Torin1                0.000925  0.000263  0.000152\n"
     ]
    }
   ],
   "source": [
    "data = pandas.read_csv('../processeddata/20150517_293t_tc12_prps6_plusminustorin1_3hours_richleuarg.csv')\n",
    "print data"
   ]
  },
  {
   "cell_type": "code",
   "execution_count": 14,
   "metadata": {
    "collapsed": false
   },
   "outputs": [
    {
     "data": {
      "image/png": "[encoded data removed]",
      "text/plain": [
       "<matplotlib.figure.Figure at 0x10738a0d0>"
      ]
     },
     "metadata": {},
     "output_type": "display_data"
    }
   ],
   "source": [
    "fig = plt.figure()\n",
    "ax = fig.add_subplot(111)\n",
    "matplotlib.rcParams['savefig.dpi'] = 144\n",
    "\n",
    "sampleOrder = numpy.array([0,1,2,3,4,5])\n",
    "\n",
    "xlocations = numpy.array([0,1,2,3,4,5])\n",
    "\n",
    "ax.bar(xlocations, data['mean_relativephosindex'][sampleOrder], align='edge', color = 'grey' )\n",
    "ax.errorbar(xlocations+0.4, data['mean_relativephosindex'][sampleOrder], \n",
    "            data['sterr'][sampleOrder], linestyle='None', color = 'black' )\n",
    "\n",
    "spineOffset = {'left': 5, 'bottom': 0}    \n",
    "[ spine.set_position(('outward',spineOffset[loc])) if loc in ['left','bottom'] \n",
    "     else spine.set_color('none') for loc, spine in ax.spines.items() ]         \n",
    "ax.xaxis.set( ticks_position = 'bottom')\n",
    "ax.yaxis.set( ticks_position = 'left')\n",
    "ax.yaxis.set( major_locator = MaxNLocator(5) )\n",
    "\n",
    "#ax.set_xlabel('Samples')\n",
    "ax.set_xticks(xlocations+0.4)\n",
    "ax.set_xticklabels(data['samplelabel'][sampleOrder], rotation=45, ha='right')\n",
    "\n",
    "ax.set_ylabel( 'Relative RPS6 Phosphorylation')\n",
    "\n",
    "fig.set_size_inches([0.25*len(xlocations),1.5])\n",
    "fig.savefig('../figures/20150514_tc12_rps6_plusminustorin1_3hours_richleuarg.svg')\n",
    "fig.savefig('../figures/20150514_tc12_rps6_plusminustorin1_3hours_richleuarg.png',bbox_inches='tight')\n",
    "fig.savefig('../figures/20150514_tc12_rps6_plusminustorin1_3hours_richleuarg.pdf',bbox_inches='tight',pad_inches=0.1)"
   ]
  },
  {
   "cell_type": "code",
   "execution_count": null,
   "metadata": {
    "collapsed": true
   },
   "outputs": [],
   "source": []
  }
 ],
 "metadata": {
  "kernelspec": {
   "display_name": "Python 2",
   "language": "python",
   "name": "python2"
  },
  "language_info": {
   "codemirror_mode": {
    "name": "ipython",
    "version": 2
   },
   "file_extension": ".py",
   "mimetype": "text/x-python",
   "name": "python",
   "nbconvert_exporter": "python",
   "pygments_lexer": "ipython2",
   "version": "2.7.12"
  }
 },
 "nbformat": 4,
 "nbformat_minor": 0
}
