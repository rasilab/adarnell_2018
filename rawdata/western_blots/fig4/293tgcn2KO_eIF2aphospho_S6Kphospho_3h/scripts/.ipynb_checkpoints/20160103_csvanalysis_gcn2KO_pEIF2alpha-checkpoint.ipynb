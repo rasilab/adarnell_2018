{
 "cells": [
  {
   "cell_type": "code",
   "execution_count": null,
   "metadata": {
    "collapsed": false
   },
   "outputs": [
    {
     "name": "stderr",
     "output_type": "stream",
     "text": [
      "/Users/aliciadarnell/anaconda2/envs/py27/lib/python2.7/site-packages/matplotlib/font_manager.py:273: UserWarning: Matplotlib is building the font cache using fc-list. This may take a moment.\n",
      "  warnings.warn('Matplotlib is building the font cache using fc-list. This may take a moment.')\n"
     ]
    }
   ],
   "source": [
    "%matplotlib inline\n",
    "import pandas as pd\n",
    "import numpy as np\n",
    "import matplotlib.pyplot as plt\n",
    "import os\n",
    "from matplotlib.ticker import MaxNLocator# custom tick locators for plots\n",
    "\n",
    "# matplotlib default customizations\n",
    "import matplotlib as mpl\n",
    "mpl.rcParams['lines.linewidth'] = 0.5\n",
    "mpl.rcParams['axes.prop_cycle'] = mpl.cycler(color = ['blue','green','red',\n",
    "                                           'cyan','magenta','orange','olive',\n",
    "                                          'yellow', 'palegreen','black',])\n",
    "mpl.rcParams['axes.labelsize'] = 8\n",
    "mpl.rcParams['axes.titlesize'] = 8\n",
    "mpl.rcParams['lines.markersize'] = 6\n",
    "mpl.rcParams['figure.subplot.hspace'] = 0.5\n",
    "mpl.rcParams['figure.subplot.wspace'] = 0.5\n",
    "mpl.rcParams['font.size'] = 8\n",
    "mpl.rcParams['font.sans-serif'] = 'Arial'\n",
    "mpl.rcParams['xtick.labelsize'] = 6\n",
    "mpl.rcParams['ytick.labelsize'] = 6\n",
    "mpl.rcParams['legend.fontsize'] = 8\n",
    "mpl.rcParams['xtick.direction'] = 'out'\n",
    "mpl.rcParams['ytick.direction'] = 'out'"
   ]
  },
  {
   "cell_type": "code",
   "execution_count": 5,
   "metadata": {
    "collapsed": false
   },
   "outputs": [
    {
     "name": "stdout",
     "output_type": "stream",
     "text": [
      "   samplelabel  mean_relativephosindex     stdev     sterr\n",
      "0         Rich                1.000000  0.202757  0.117062\n",
      "1   – Leu 3 hr                0.246515  0.074082  0.042771\n",
      "2   – Arg 3 hr                0.590203  0.229206  0.132332\n",
      "3   – Leu 6 hr                0.185013  0.087844  0.050717\n",
      "4   – Arg 6 hr                0.570917  0.210811  0.121712\n",
      "5  – Leu 12 hr                0.212625  0.069328  0.040026\n",
      "6  – Arg 12 hr                0.699197  0.126731  0.073168\n"
     ]
    }
   ],
   "source": [
    "data = pd.read_csv('../processeddata/')\n",
    "data['samplelabel'] = data['samplelabel'].apply(lambda x: x.replace('-',u'– '))\n",
    "print data"
   ]
  },
  {
   "cell_type": "code",
   "execution_count": 11,
   "metadata": {
    "collapsed": false
   },
   "outputs": [
    {
     "data": {
      "image/png": "[encoded data removed]",
      "text/plain": [
       "<matplotlib.figure.Figure at 0x7fd7b2537490>"
      ]
     },
     "metadata": {},
     "output_type": "display_data"
    }
   ],
   "source": [
    "fig = plt.figure()\n",
    "ax = fig.add_subplot(111)\n",
    "\n",
    "sampleOrder = np.array([0,1,2,3,4,5,6])\n",
    "\n",
    "xlocations = np.array([0,1,2,3,4,5,6])\n",
    "\n",
    "ax.bar(xlocations, data['mean_relativephosindex'][sampleOrder]*100, align='center', color = 'lightgrey' )\n",
    "ax.errorbar(xlocations, data['mean_relativephosindex'][sampleOrder]*100, \n",
    "            data['sterr'][sampleOrder]*100, linestyle='None', color = 'black' )\n",
    "\n",
    "spineOffset = {'left': 5, 'bottom': 0}    \n",
    "[ spine.set_position(('outward',spineOffset[loc])) if loc in ['left','bottom'] \n",
    "     else spine.set_color('none') for loc, spine in ax.spines.items() ]         \n",
    "ax.xaxis.set( ticks_position = 'bottom')\n",
    "ax.yaxis.set( ticks_position = 'left')\n",
    "ax.yaxis.set( major_locator = MaxNLocator(3) )\n",
    "\n",
    "#ax.set_xlabel('Samples')\n",
    "ax.set_xticks(xlocations)\n",
    "ax.set_xticklabels(data['samplelabel'][sampleOrder], rotation=45, ha='right')\n",
    "\n",
    "ax.set_ylabel('P~S6K\\n(% of max)')\n",
    "\n",
    "fig.set_size_inches([1.2,0.5])\n",
    "fig.savefig('../figures/20140625_3repsrelatives6kphosindex_richleuarg_3612h.svg')"
   ]
  }
 ],
 "metadata": {
  "kernelspec": {
   "display_name": "Python 2",
   "language": "python",
   "name": "python2"
  },
  "language_info": {
   "codemirror_mode": {
    "name": "ipython",
    "version": 2
   },
   "file_extension": ".py",
   "mimetype": "text/x-python",
   "name": "python",
   "nbconvert_exporter": "python",
   "pygments_lexer": "ipython2",
   "version": "2.7.12"
  }
 },
 "nbformat": 4,
 "nbformat_minor": 0
}
