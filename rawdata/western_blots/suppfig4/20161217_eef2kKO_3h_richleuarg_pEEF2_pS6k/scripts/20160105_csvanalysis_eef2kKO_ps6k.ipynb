{
 "cells": [
  {
   "cell_type": "code",
   "execution_count": 3,
   "metadata": {
    "collapsed": false
   },
   "outputs": [],
   "source": [
    "%matplotlib inline\n",
    "import pandas as pd\n",
    "import numpy as np\n",
    "import matplotlib.pyplot as plt\n",
    "import os\n",
    "from matplotlib.ticker import MaxNLocator# custom tick locators for plots\n",
    "\n",
    "# matplotlib default customizations\n",
    "import matplotlib as mpl\n",
    "mpl.rcParams['lines.linewidth'] = 0.5\n",
    "mpl.rcParams['axes.prop_cycle'] = mpl.cycler(color = ['blue','green','red',\n",
    "                                           'cyan','magenta','orange','olive',\n",
    "                                          'yellow', 'palegreen','black',])\n",
    "mpl.rcParams['axes.labelsize'] = 8\n",
    "mpl.rcParams['axes.titlesize'] = 8\n",
    "mpl.rcParams['lines.markersize'] = 6\n",
    "mpl.rcParams['figure.subplot.hspace'] = 0.5\n",
    "mpl.rcParams['figure.subplot.wspace'] = 0.5\n",
    "mpl.rcParams['font.size'] = 8\n",
    "mpl.rcParams['font.sans-serif'] = 'Arial'\n",
    "mpl.rcParams['xtick.labelsize'] = 6\n",
    "mpl.rcParams['ytick.labelsize'] = 6\n",
    "mpl.rcParams['legend.fontsize'] = 8\n",
    "mpl.rcParams['xtick.direction'] = 'out'\n",
    "mpl.rcParams['ytick.direction'] = 'out'"
   ]
  },
  {
   "cell_type": "code",
   "execution_count": 4,
   "metadata": {
    "collapsed": false
   },
   "outputs": [
    {
     "name": "stdout",
     "output_type": "stream",
     "text": [
      "         samplelabel  mean_relativephosindex     stdev     sterr\n",
      "0               Rich                1.000000  0.385528  0.157391\n",
      "1              – Leu                0.167937  0.065965  0.026930\n",
      "2              – Arg                0.308467  0.107050  0.043703\n",
      "3    EEF2K KO 1 Rich                0.758016       NaN       NaN\n",
      "4   EEF2K KO 1 – Leu                0.069471       NaN       NaN\n",
      "5   EEF2K KO 1 – Arg                0.179811       NaN       NaN\n",
      "6    EEF2K KO 2 Rich                0.869190       NaN       NaN\n",
      "7   EEF2K KO 2 – Leu                0.113107       NaN       NaN\n",
      "8   EEF2K KO 2 – Arg                0.183803       NaN       NaN\n",
      "9    EEF2K KO 3 Rich                0.653960       NaN       NaN\n",
      "10  EEF2K KO 3 – Leu                0.056548       NaN       NaN\n",
      "11  EEF2K KO 3 – Arg                0.148779       NaN       NaN\n"
     ]
    }
   ],
   "source": [
    "data = pd.read_csv('../processeddata/20161220_eef2k2KO_ps6k_quant1.csv')\n",
    "data['samplelabel'] = data['samplelabel'].apply(lambda x: x.replace('-',u'– '))\n",
    "print data"
   ]
  },
  {
   "cell_type": "code",
   "execution_count": 6,
   "metadata": {
    "collapsed": false
   },
   "outputs": [
    {
     "data": {
      "image/png": "[encoded data removed]",
      "text/plain": [
       "<matplotlib.figure.Figure at 0x107235f90>"
      ]
     },
     "metadata": {},
     "output_type": "display_data"
    }
   ],
   "source": [
    "fig = plt.figure()\n",
    "ax = fig.add_subplot(111)\n",
    "\n",
    "sampleOrder = np.array([0,1,2,3,4,5,6,7,8,9,10,11])\n",
    "\n",
    "xlocations = np.array([0,1,2,3,4,5,6,7,8,9,10,11])\n",
    "\n",
    "ax.bar(xlocations, data['mean_relativephosindex'][sampleOrder]*100, align='center', color = 'lightgrey' )\n",
    "ax.errorbar(xlocations, data['mean_relativephosindex'][sampleOrder]*100, \n",
    "            data['sterr'][sampleOrder]*100, linestyle='None', color = 'black' )\n",
    "\n",
    "spineOffset = {'left': 5, 'bottom': 0}    \n",
    "[ spine.set_position(('outward',spineOffset[loc])) if loc in ['left','bottom'] \n",
    "     else spine.set_color('none') for loc, spine in ax.spines.items() ]         \n",
    "ax.xaxis.set( ticks_position = 'bottom')\n",
    "ax.yaxis.set( ticks_position = 'left')\n",
    "ax.yaxis.set( major_locator = MaxNLocator(3) )\n",
    "\n",
    "#ax.set_xlabel('Samples')\n",
    "ax.set_xticks(xlocations)\n",
    "ax.set_xticklabels(data['samplelabel'][sampleOrder], rotation=45, ha='right')\n",
    "\n",
    "ax.set_ylabel('P~S6K\\n(% of max)')\n",
    "\n",
    "fig.set_size_inches([2.4,0.5])\n",
    "fig.savefig('../figures/20160106_eef2k2KO_cols145_ps6k.svg')"
   ]
  },
  {
   "cell_type": "markdown",
   "metadata": {},
   "source": [
    "#### Same data, averaging together the 3 biological replicates ####"
   ]
  },
  {
   "cell_type": "code",
   "execution_count": 8,
   "metadata": {
    "collapsed": false
   },
   "outputs": [
    {
     "name": "stdout",
     "output_type": "stream",
     "text": [
      "      samplelabel  mean_relativephosindex     stdev     sterr\n",
      "0            Rich                1.000000  0.385528  0.157391\n",
      "1           – Leu                0.167937  0.065965  0.026930\n",
      "2           – Arg                0.308467  0.107050  0.043703\n",
      "3   EEF2K KO Rich                0.760389  0.107635  0.062143\n",
      "4  EEF2K KO – Leu                0.079709  0.029637  0.017111\n",
      "5  EEF2K KO – Arg                0.170798  0.019173  0.011070\n"
     ]
    }
   ],
   "source": [
    "data = pd.read_csv('../processeddata/20161220_eef2kKO_ps6k_quant2_3biorepsaveraged.csv')\n",
    "data['samplelabel'] = data['samplelabel'].apply(lambda x: x.replace('-',u'– '))\n",
    "print data"
   ]
  },
  {
   "cell_type": "code",
   "execution_count": 10,
   "metadata": {
    "collapsed": false
   },
   "outputs": [
    {
     "data": {
      "image/png": "[encoded data removed]",
      "text/plain": [
       "<matplotlib.figure.Figure at 0x10726b250>"
      ]
     },
     "metadata": {},
     "output_type": "display_data"
    }
   ],
   "source": [
    "fig = plt.figure()\n",
    "ax = fig.add_subplot(111)\n",
    "\n",
    "sampleOrder = np.array([0,1,2,3,4,5])\n",
    "\n",
    "xlocations = np.array([0,1,2,3,4,5])\n",
    "\n",
    "ax.bar(xlocations, data['mean_relativephosindex'][sampleOrder]*100, align='center', color = 'lightgrey' )\n",
    "ax.errorbar(xlocations, data['mean_relativephosindex'][sampleOrder]*100, \n",
    "            data['sterr'][sampleOrder]*100, linestyle='None', color = 'black' )\n",
    "\n",
    "spineOffset = {'left': 5, 'bottom': 0}    \n",
    "[ spine.set_position(('outward',spineOffset[loc])) if loc in ['left','bottom'] \n",
    "     else spine.set_color('none') for loc, spine in ax.spines.items() ]         \n",
    "ax.xaxis.set( ticks_position = 'bottom')\n",
    "ax.yaxis.set( ticks_position = 'left')\n",
    "ax.yaxis.set( major_locator = MaxNLocator(3) )\n",
    "\n",
    "#ax.set_xlabel('Samples')\n",
    "ax.set_xticks(xlocations)\n",
    "ax.set_xticklabels(data['samplelabel'][sampleOrder], rotation=45, ha='right')\n",
    "\n",
    "ax.set_ylabel('P~S6K\\n(% of max)')\n",
    "\n",
    "fig.set_size_inches([2,0.5])\n",
    "fig.savefig('../figures/20160106_eef2k2KO_3biorepsAVERAGED_ps6k.svg')"
   ]
  },
  {
   "cell_type": "code",
   "execution_count": null,
   "metadata": {
    "collapsed": true
   },
   "outputs": [],
   "source": []
  }
 ],
 "metadata": {
  "kernelspec": {
   "display_name": "Python 2",
   "language": "python",
   "name": "python2"
  },
  "language_info": {
   "codemirror_mode": {
    "name": "ipython",
    "version": 2
   },
   "file_extension": ".py",
   "mimetype": "text/x-python",
   "name": "python",
   "nbconvert_exporter": "python",
   "pygments_lexer": "ipython2",
   "version": "2.7.12"
  }
 },
 "nbformat": 4,
 "nbformat_minor": 0
}
