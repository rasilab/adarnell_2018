{
 "cells": [
  {
   "cell_type": "code",
   "execution_count": 1,
   "metadata": {
    "collapsed": true
   },
   "outputs": [],
   "source": [
    "%matplotlib inline\n",
    "# globals\n",
    "import matplotlib as mpl\n",
    "from matplotlib.ticker import MaxNLocator\n",
    "import os\n",
    "import re\n",
    "import pandas as pd\n",
    "import numpy as np\n",
    "import matplotlib.pyplot as plt\n",
    "from mpl_toolkits.axes_grid.inset_locator import inset_axes\n",
    "#set_fonts(mpl, 'paper')\n",
    "import seaborn as sns\n",
    "sns.set_style('ticks')\n",
    "sns.set_context('paper')"
   ]
  },
  {
   "cell_type": "code",
   "execution_count": 2,
   "metadata": {
    "collapsed": true
   },
   "outputs": [],
   "source": [
    "mpl.rcParams['lines.linewidth'] = 1\n",
    "mpl.rcParams['pdf.fonttype'] = 42\n",
    "mpl.rcParams['svg.fonttype'] = 'none'\n",
    "mpl.rcParams['axes.prop_cycle'] = mpl.cycler(color = [\"#CC79A7\", \"#E69F00\", \"#D55E00\",\n",
    "               \"#0072B2\", \"#56B4E9\", \"#009E73\"])\n",
    "mpl.rcParams['axes.labelsize'] = 8\n",
    "mpl.rcParams['axes.titlesize'] = 8\n",
    "mpl.rcParams['lines.markersize'] = 4\n",
    "mpl.rcParams['figure.subplot.hspace'] = 0.5\n",
    "mpl.rcParams['figure.subplot.wspace'] = 0.5\n",
    "mpl.rcParams['font.size'] = 8\n",
    "mpl.rcParams['font.sans-serif'] = 'Arial'\n",
    "mpl.rcParams['xtick.labelsize'] = 8\n",
    "mpl.rcParams['ytick.labelsize'] = 8\n",
    "mpl.rcParams['legend.fontsize'] = 8\n",
    "mpl.rcParams['xtick.direction'] = 'out'\n",
    "mpl.rcParams['ytick.direction'] = 'out'"
   ]
  },
  {
   "cell_type": "code",
   "execution_count": 3,
   "metadata": {},
   "outputs": [
    {
     "data": {
      "image/png": "[encoded data removed]",
      "text/plain": [
       "<matplotlib.figure.Figure at 0x10d2c7a50>"
      ]
     },
     "metadata": {},
     "output_type": "display_data"
    }
   ],
   "source": [
    "csvfiles = filter(lambda x: x.endswith('csv'), os.listdir('../processeddata/'))\n",
    "\n",
    "fig = plt.figure()\n",
    "\n",
    "axcount = 0\n",
    "for File in sorted(csvfiles):\n",
    "    \n",
    "    data = pd.read_csv('../processeddata/' + File)\n",
    "    trna = File.split('_')[0]\n",
    "    aa = trna[:3].capitalize()\n",
    "    anticodon = trna[3:].upper()\n",
    "    if anticodon in ['TAA','TRNAS']:\n",
    "        continue\n",
    "    axcount += 1\n",
    "    if axcount == 4:\n",
    "        axcount +=1\n",
    "    ax = fig.add_subplot(2,4,axcount)\n",
    "    #mpl.rcParams['savefig.dpi'] = 144\n",
    "\n",
    "    sampleOrder = np.array([0,1,2])\n",
    "\n",
    "    xlocations = np.array([0,1,2])\n",
    "\n",
    "    ax.bar(xlocations, data['mean_chargedfraction'][sampleOrder], align='center', facecolor = 'grey',edgecolor='black',linewidth=1 )\n",
    "    ax.errorbar(xlocations, data['mean_chargedfraction'][sampleOrder], \n",
    "                data['stderr'][sampleOrder], linestyle='None', color = 'black', elinewidth=0.5, capsize=2, capthick=0.5 )\n",
    "\n",
    "    spineOffset = {'left': 5, 'bottom': 0}    \n",
    "    [ spine.set_position(('outward',spineOffset[loc])) if loc in ['left','bottom'] \n",
    "         else spine.set_color('none') for loc, spine in ax.spines.items() ]         \n",
    "    ax.xaxis.set( ticks_position = 'bottom')\n",
    "    ax.yaxis.set( ticks_position = 'left')\n",
    "    ax.yaxis.set( major_locator = MaxNLocator(5) )\n",
    "\n",
    "    ax.set_xlabel(aa + '$_{' + anticodon + '}$')\n",
    "    ax.set_xticks(xlocations)\n",
    "    xticklabels=data['samplelabel'][sampleOrder].replace('-Leu',u'– Leu').replace('-Arg',u'– Arg')\n",
    "    ax.set_xticklabels(xticklabels, rotation=45, ha='center')\n",
    "    ax.set_ylim(0,1)\n",
    "    if axcount in [1,5]:\n",
    "        ax.set_ylabel( 'Charged tRNA\\nFraction')\n",
    "    else:\n",
    "        [ spine.set_color('none') for loc, spine in ax.spines.items() if loc in ['left'] ]\n",
    "        ax.yaxis.set( ticks = [])\n",
    "    ax.xaxis.set( ticks_position = 'bottom')\n",
    "#sns.despine()    \n",
    "fig.set_size_inches([3,2.5])\n",
    "fig.subplots_adjust(wspace = 0.25, hspace = 1.5)\n",
    "#fig.savefig('../figures/unperturbed_alltrnas_v1.svg')\n",
    "#fig.savefig('../figures/unperturbed_alltrnas_v1.pdf',bbox_inches='tight',pad_inches=0.1)\n"
   ]
  },
  {
   "cell_type": "code",
   "execution_count": 6,
   "metadata": {},
   "outputs": [
    {
     "data": {
      "text/plain": [
       "['argacg_unperturbedmtor_summary.csv',\n",
       " 'argccg_unperturbedmtor_summary.csv',\n",
       " 'argtcg_unperturbedmtor_summary.csv',\n",
       " 'leuaag_unperturbedmtor_summary.csv',\n",
       " 'leucaa_unperturbedmtor_summary.csv',\n",
       " 'leucag_unperturbedmtor_summary.csv',\n",
       " 'leutaa_unperturbedmtor_summary.csv',\n",
       " 'leutag_unperturbedmtor_summary.csv']"
      ]
     },
     "execution_count": 6,
     "metadata": {},
     "output_type": "execute_result"
    }
   ],
   "source": [
    "csvfiles = filter(lambda x: x.endswith('csv'), os.listdir('../processeddata/'))\n",
    "csvfiles"
   ]
  },
  {
   "cell_type": "code",
   "execution_count": 21,
   "metadata": {},
   "outputs": [
    {
     "data": {
      "text/html": [
       "<div>\n",
       "<table border=\"1\" class=\"dataframe\">\n",
       "  <thead>\n",
       "    <tr style=\"text-align: right;\">\n",
       "      <th></th>\n",
       "      <th>trna</th>\n",
       "      <th>samplelabel</th>\n",
       "      <th>mean_chargedfraction</th>\n",
       "      <th>stdev</th>\n",
       "      <th>stderr</th>\n",
       "    </tr>\n",
       "  </thead>\n",
       "  <tbody>\n",
       "    <tr>\n",
       "      <th>0</th>\n",
       "      <td>TCG</td>\n",
       "      <td>Rich</td>\n",
       "      <td>0.819995</td>\n",
       "      <td>0.017575</td>\n",
       "      <td>0.010147</td>\n",
       "    </tr>\n",
       "    <tr>\n",
       "      <th>1</th>\n",
       "      <td>TCG</td>\n",
       "      <td>-Leu</td>\n",
       "      <td>0.776921</td>\n",
       "      <td>0.058456</td>\n",
       "      <td>0.033749</td>\n",
       "    </tr>\n",
       "    <tr>\n",
       "      <th>2</th>\n",
       "      <td>TCG</td>\n",
       "      <td>-Arg</td>\n",
       "      <td>0.469410</td>\n",
       "      <td>0.107647</td>\n",
       "      <td>0.062150</td>\n",
       "    </tr>\n",
       "  </tbody>\n",
       "</table>\n",
       "</div>"
      ],
      "text/plain": [
       "  trna samplelabel  mean_chargedfraction     stdev    stderr\n",
       "0  TCG        Rich              0.819995  0.017575  0.010147\n",
       "1  TCG        -Leu              0.776921  0.058456  0.033749\n",
       "2  TCG        -Arg              0.469410  0.107647  0.062150"
      ]
     },
     "execution_count": 21,
     "metadata": {},
     "output_type": "execute_result"
    }
   ],
   "source": [
    "data = pd.read_csv('../processeddata/' + 'argtcg_unperturbedmtor_summary.csv')\n",
    "data"
   ]
  },
  {
   "cell_type": "code",
   "execution_count": null,
   "metadata": {
    "collapsed": true
   },
   "outputs": [],
   "source": []
  }
 ],
 "metadata": {
  "kernelspec": {
   "display_name": "Python 2",
   "language": "python",
   "name": "python2"
  },
  "language_info": {
   "codemirror_mode": {
    "name": "ipython",
    "version": 2
   },
   "file_extension": ".py",
   "mimetype": "text/x-python",
   "name": "python",
   "nbconvert_exporter": "python",
   "pygments_lexer": "ipython2",
   "version": "2.7.10"
  }
 },
 "nbformat": 4,
 "nbformat_minor": 1
}
