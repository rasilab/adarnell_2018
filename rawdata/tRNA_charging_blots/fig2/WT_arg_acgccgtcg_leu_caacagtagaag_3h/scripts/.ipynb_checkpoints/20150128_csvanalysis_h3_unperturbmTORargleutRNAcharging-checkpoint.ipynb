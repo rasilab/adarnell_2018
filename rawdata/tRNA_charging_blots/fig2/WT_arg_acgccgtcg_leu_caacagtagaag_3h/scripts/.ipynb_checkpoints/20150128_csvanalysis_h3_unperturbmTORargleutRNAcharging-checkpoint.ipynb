{
 "cells": [
  {
   "cell_type": "code",
   "execution_count": 46,
   "metadata": {
    "collapsed": false
   },
   "outputs": [],
   "source": [
    "%matplotlib inline\n",
    "import matplotlib.pyplot as plt\n",
    "import pandas as pd\n",
    "import numpy as np\n",
    "import os\n",
    "from matplotlib.ticker import MaxNLocator, LogLocator, AutoMinorLocator # custom tick locators for plots\n",
    "\n",
    "# matplotlib default customizations\n",
    "import matplotlib as mpl\n",
    "mpl.rcParams['lines.linewidth'] = 2\n",
    "mpl.rcParams['axes.prop_cycle'] = mpl.cycler(color = ['blue','green','red',\n",
    "                                           'cyan','magenta','orange','olive',\n",
    "                                          'yellow', 'palegreen','black',])\n",
    "mpl.rcParams['axes.labelsize'] = 8\n",
    "mpl.rcParams['axes.titlesize'] = 8\n",
    "mpl.rcParams['lines.markersize'] = 6\n",
    "mpl.rcParams['figure.subplot.hspace'] = 0.5\n",
    "mpl.rcParams['figure.subplot.wspace'] = 0.5\n",
    "mpl.rcParams['font.size'] = 8\n",
    "mpl.rcParams['font.sans-serif'] = 'Arial'\n",
    "mpl.rcParams['xtick.labelsize'] = 6\n",
    "mpl.rcParams['ytick.labelsize'] = 6\n",
    "mpl.rcParams['legend.fontsize'] = 6\n",
    "mpl.rcParams['xtick.direction'] = 'out'\n",
    "mpl.rcParams['ytick.direction'] = 'out'"
   ]
  },
  {
   "cell_type": "code",
   "execution_count": 48,
   "metadata": {
    "collapsed": false
   },
   "outputs": [
    {
     "data": {
      "image/png": "[encoded data removed]",
      "text/plain": [
       "<matplotlib.figure.Figure at 0x7fc2f1e3dad0>"
      ]
     },
     "metadata": {},
     "output_type": "display_data"
    }
   ],
   "source": [
    "csvfiles = filter(lambda x: x.endswith('csv'), os.listdir('../processeddata/'))\n",
    "\n",
    "fig = plt.figure()\n",
    "\n",
    "axcount = 1\n",
    "for File in sorted(csvfiles):\n",
    "    data = pd.read_csv('../processeddata/' + File)\n",
    "    trna = File.split('_')[0]\n",
    "    aa = trna[:3].capitalize()\n",
    "    anticodon = trna[3:].upper()\n",
    "    if anticodon in ['TCG','TAA','TRNAS']:\n",
    "        continue\n",
    "    axcount += 1\n",
    "    if axcount == 4:\n",
    "        axcount += 1\n",
    "    ax = fig.add_subplot(2,4,axcount)\n",
    "    #mpl.rcParams['savefig.dpi'] = 144\n",
    "\n",
    "    sampleOrder = np.array([0,1,2])\n",
    "\n",
    "    xlocations = np.array([0,1,2])\n",
    "\n",
    "    ax.bar(xlocations, data['mean_chargedfraction'][sampleOrder], align='center', color = 'darkgrey' )\n",
    "    ax.errorbar(xlocations, data['mean_chargedfraction'][sampleOrder], \n",
    "                data['stderr'][sampleOrder], linestyle='None', color = 'black' )\n",
    "\n",
    "    spineOffset = {'left': 5, 'bottom': 0}    \n",
    "    [ spine.set_position(('outward',spineOffset[loc])) if loc in ['left','bottom'] \n",
    "         else spine.set_color('none') for loc, spine in ax.spines.items() ]         \n",
    "    ax.xaxis.set( ticks_position = 'bottom')\n",
    "    ax.yaxis.set( ticks_position = 'left')\n",
    "    ax.yaxis.set( major_locator = MaxNLocator(5) )\n",
    "\n",
    "    ax.set_xlabel(aa + '$_{' + anticodon + '}$')\n",
    "    ax.set_xticks(xlocations)\n",
    "    ax.set_xticklabels(data['samplelabel'][sampleOrder], rotation=45, ha='center')\n",
    "    ax.set_ylim(0,1)\n",
    "    if axcount in [2,5]:\n",
    "        ax.set_ylabel( 'Charged tRNA\\nFraction')\n",
    "    else:\n",
    "        [ spine.set_color('none') for loc, spine in ax.spines.items() if loc in ['left'] ]\n",
    "        ax.yaxis.set( ticks = [])\n",
    "    ax.xaxis.set( ticks_position = 'bottom')\n",
    "    \n",
    "fig.set_size_inches([3,2])\n",
    "fig.subplots_adjust(wspace = 0.5, hspace = 1)\n",
    "fig.savefig('../figures/unperturbed_alltrnas.svg')\n",
    "#fig.savefig('../figures/unperturbed_ArgACG.png',bbox_inches='tight')\n",
    "#fig.savefig('../figures/unperturbed_ArgACG.pdf',bbox_inches='tight',pad_inches=0.1)"
   ]
  }
 ],
 "metadata": {
  "kernelspec": {
   "display_name": "Python 2",
   "language": "python",
   "name": "python2"
  },
  "language_info": {
   "codemirror_mode": {
    "name": "ipython",
    "version": 2
   },
   "file_extension": ".py",
   "mimetype": "text/x-python",
   "name": "python",
   "nbconvert_exporter": "python",
   "pygments_lexer": "ipython2",
   "version": "2.7.12"
  }
 },
 "nbformat": 4,
 "nbformat_minor": 0
}
