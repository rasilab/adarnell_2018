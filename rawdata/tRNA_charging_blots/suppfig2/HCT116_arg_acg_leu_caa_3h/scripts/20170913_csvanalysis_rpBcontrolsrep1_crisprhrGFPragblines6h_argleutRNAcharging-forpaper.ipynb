{
 "cells": [
  {
   "cell_type": "code",
   "execution_count": 1,
   "metadata": {
    "collapsed": true
   },
   "outputs": [],
   "source": [
    "%matplotlib inline\n",
    "# globals\n",
    "import matplotlib as mpl\n",
    "from matplotlib.ticker import MaxNLocator\n",
    "import os\n",
    "import re\n",
    "import pandas as pd\n",
    "import numpy as np\n",
    "import matplotlib.pyplot as plt\n",
    "from mpl_toolkits.axes_grid.inset_locator import inset_axes\n",
    "#set_fonts(mpl, 'paper')\n",
    "import seaborn as sns\n",
    "sns.set_style('ticks')\n",
    "sns.set_context('paper')"
   ]
  },
  {
   "cell_type": "code",
   "execution_count": 2,
   "metadata": {
    "collapsed": true
   },
   "outputs": [],
   "source": [
    "mpl.rcParams['lines.linewidth'] = 1\n",
    "mpl.rcParams['pdf.fonttype'] = 42\n",
    "mpl.rcParams['svg.fonttype'] = 'none'\n",
    "mpl.rcParams['axes.prop_cycle'] = mpl.cycler(color = [\"#CC79A7\", \"#E69F00\", \"#D55E00\",\n",
    "               \"#0072B2\", \"#56B4E9\", \"#009E73\"])\n",
    "mpl.rcParams['axes.labelsize'] = 8\n",
    "mpl.rcParams['axes.titlesize'] = 8\n",
    "mpl.rcParams['lines.markersize'] = 4\n",
    "mpl.rcParams['figure.subplot.hspace'] = 0.5\n",
    "mpl.rcParams['figure.subplot.wspace'] = 0.5\n",
    "mpl.rcParams['font.size'] = 8\n",
    "mpl.rcParams['font.sans-serif'] = 'Arial'\n",
    "mpl.rcParams['xtick.labelsize'] = 8\n",
    "mpl.rcParams['ytick.labelsize'] = 8\n",
    "mpl.rcParams['legend.fontsize'] = 8\n",
    "mpl.rcParams['xtick.direction'] = 'out'\n",
    "mpl.rcParams['ytick.direction'] = 'out'"
   ]
  },
  {
   "cell_type": "code",
   "execution_count": 19,
   "metadata": {},
   "outputs": [
    {
     "data": {
      "image/png": "[encoded data removed]",
      "text/plain": [
       "<matplotlib.figure.Figure at 0x10d72f190>"
      ]
     },
     "metadata": {},
     "output_type": "display_data"
    }
   ],
   "source": [
    "csvfiles = filter(lambda x: x.endswith('csv'), os.listdir('../processeddata/'))\n",
    "\n",
    "fig = plt.figure()\n",
    "\n",
    "axcount = 0\n",
    "for File in sorted(csvfiles):\n",
    "    \n",
    "    data = pd.read_csv('../processeddata/' + File)\n",
    "    trna = File.split('_')[0]\n",
    "    aa = trna[:3].capitalize()\n",
    "    anticodon = trna[3:].upper()\n",
    "    if anticodon in ['TAA','TRNAS']:\n",
    "        continue\n",
    "    axcount += 1\n",
    "    #if axcount == 4:\n",
    "        #axcount +=1\n",
    "    ax = fig.add_subplot(1,2,axcount)\n",
    "    #mpl.rcParams['savefig.dpi'] = 144\n",
    "\n",
    "    sampleOrder = np.array([0,1,2,3,4,5,6,7,8,9,10,11])\n",
    "\n",
    "    xlocations = np.array([0,1,2,3,4,5,6,7,8,9,10,11])\n",
    "\n",
    "    ax.bar(xlocations, data['mean_chargedfraction'][sampleOrder], align='center', facecolor = 'grey',edgecolor='black',linewidth=1 )\n",
    "    ax.errorbar(xlocations, data['mean_chargedfraction'][sampleOrder], \n",
    "                data['sterr'][sampleOrder], linestyle='None', color = 'black', elinewidth=0.5, capsize=2, capthick=0.5 )\n",
    "\n",
    "    spineOffset = {'left': 5, 'bottom': 0}    \n",
    "    [ spine.set_position(('outward',spineOffset[loc])) if loc in ['left','bottom'] \n",
    "         else spine.set_color('none') for loc, spine in ax.spines.items() ]         \n",
    "    ax.xaxis.set( ticks_position = 'bottom')\n",
    "    ax.yaxis.set( ticks_position = 'left')\n",
    "    ax.yaxis.set( major_locator = MaxNLocator(5) )\n",
    "\n",
    "    ax.set_xlabel(aa + '$_{' + anticodon + '}$')\n",
    "    ax.set_xticks(xlocations)\n",
    "    xticklabels=data['cell_line'][sampleOrder].replace('Flag-RagB-WT', 'RagB-WT').replace('Flag-RagB-Q99L','RagB-Q99L')\n",
    "    ax.set_xticklabels(xticklabels, rotation=45, ha='right')\n",
    "    ax.set_ylim(0,1)\n",
    "    if axcount in [1,2]:\n",
    "        ax.set_ylabel( 'Charged tRNA\\nFraction')\n",
    "    else:\n",
    "        [ spine.set_color('none') for loc, spine in ax.spines.items() if loc in ['left'] ]\n",
    "        ax.yaxis.set( ticks = [])\n",
    "    ax.xaxis.set( ticks_position = 'bottom')\n",
    "#sns.despine()    \n",
    "fig.set_size_inches([6.18,.75])\n",
    "fig.subplots_adjust(wspace = 0.4, hspace = 1.75)\n",
    "fig.savefig('../figures/rpBprep1controlplates_wthrgfpragbq99lgcn2ko_6h_1rep_argacgleucaa_forpaper.svg')\n",
    "fig.savefig('../figures/rpBprep1controlplates_wthrgfpragbq99lgcn2ko_6h_1rep_argacgleucaa_forpaper.pdf',bbox_inches='tight',pad_inches=0.1)\n",
    "\n"
   ]
  },
  {
   "cell_type": "code",
   "execution_count": 14,
   "metadata": {},
   "outputs": [
    {
     "data": {
      "image/png": "[encoded data removed]",
      "text/plain": [
       "<matplotlib.figure.Figure at 0x10ae7aad0>"
      ]
     },
     "metadata": {},
     "output_type": "display_data"
    }
   ],
   "source": [
    "csvfiles = filter(lambda x: x.endswith('3h.csv'), os.listdir('../processeddata/'))\n",
    "\n",
    "fig = plt.figure()\n",
    "\n",
    "axcount = 0\n",
    "for File in sorted(csvfiles):\n",
    "    \n",
    "    data = pd.read_csv('../processeddata/' + File)\n",
    "    trna = File.split('_')[0]\n",
    "    aa = trna[:3].capitalize()\n",
    "    anticodon = trna[3:].upper()\n",
    "    if anticodon in ['TAA','TRNAS']:\n",
    "        continue\n",
    "    axcount += 1\n",
    "    #if axcount == 4:\n",
    "        #axcount +=1\n",
    "    ax = fig.add_subplot(1,2,axcount)\n",
    "    #mpl.rcParams['savefig.dpi'] = 144\n",
    "\n",
    "    sampleOrder = np.array([0,1,2])\n",
    "\n",
    "    xlocations = np.array([0,1,2])\n",
    "\n",
    "    ax.bar(xlocations, data['mean_chargedfraction'][sampleOrder], align='center', facecolor = 'grey',edgecolor='black',linewidth=1 )\n",
    "    #ax.errorbar(xlocations, data['mean_chargedfraction'][sampleOrder], \n",
    "                #data['sterr'][sampleOrder], linestyle='None', color = 'black', elinewidth=0.5, capsize=2, capthick=0.5 )\n",
    "\n",
    "    spineOffset = {'left': 5, 'bottom': 0}    \n",
    "    [ spine.set_position(('outward',spineOffset[loc])) if loc in ['left','bottom'] \n",
    "         else spine.set_color('none') for loc, spine in ax.spines.items() ]         \n",
    "    ax.xaxis.set( ticks_position = 'bottom')\n",
    "    ax.yaxis.set( ticks_position = 'left')\n",
    "    ax.yaxis.set( major_locator = MaxNLocator(5) )\n",
    "\n",
    "    ax.set_xlabel(aa + '$_{' + anticodon + '}$')\n",
    "    ax.set_xticks(xlocations)\n",
    "    xticklabels=data['samplelabel'][sampleOrder]\n",
    "    ax.set_xticklabels(xticklabels, rotation=45, ha='center')\n",
    "    ax.set_ylim(0,1)\n",
    "    if axcount in [1]:\n",
    "        ax.set_ylabel( 'Charged tRNA\\nFraction')\n",
    "    else:\n",
    "        [ spine.set_color('none') for loc, spine in ax.spines.items() if loc in ['left'] ]\n",
    "        ax.yaxis.set( ticks = [])\n",
    "    ax.xaxis.set( ticks_position = 'bottom')\n",
    "#sns.despine()    \n",
    "fig.set_size_inches([1.6,.75])\n",
    "fig.subplots_adjust(wspace = 0.6, hspace = .5)\n",
    "fig.savefig('../figures/hct116_3h_forpaper.svg')\n",
    "fig.savefig('../figures/hct116_3h_forpaper.pdf',bbox_inches='tight',pad_inches=0.1)\n",
    "\n",
    "\n"
   ]
  },
  {
   "cell_type": "code",
   "execution_count": null,
   "metadata": {
    "collapsed": true
   },
   "outputs": [],
   "source": []
  }
 ],
 "metadata": {
  "kernelspec": {
   "display_name": "Python 2",
   "language": "python",
   "name": "python2"
  },
  "language_info": {
   "codemirror_mode": {
    "name": "ipython",
    "version": 2
   },
   "file_extension": ".py",
   "mimetype": "text/x-python",
   "name": "python",
   "nbconvert_exporter": "python",
   "pygments_lexer": "ipython2",
   "version": "2.7.10"
  }
 },
 "nbformat": 4,
 "nbformat_minor": 1
}
